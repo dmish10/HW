{
  "nbformat": 4,
  "nbformat_minor": 0,
  "metadata": {
    "colab": {
      "provenance": [],
      "authorship_tag": "ABX9TyN+YWf/qquN8pN1UP8rRlik",
      "include_colab_link": true
    },
    "kernelspec": {
      "name": "python3",
      "display_name": "Python 3"
    },
    "language_info": {
      "name": "python"
    }
  },
  "cells": [
    {
      "cell_type": "markdown",
      "metadata": {
        "id": "view-in-github",
        "colab_type": "text"
      },
      "source": [
        "<a href=\"https://colab.research.google.com/github/dmish10/Scaler_Homework/blob/master/Tuples_%26_Sets.ipynb\" target=\"_parent\"><img src=\"https://colab.research.google.com/assets/colab-badge.svg\" alt=\"Open In Colab\"/></a>"
      ]
    },
    {
      "cell_type": "code",
      "execution_count": null,
      "metadata": {
        "id": "GBDhC5qh6UvH"
      },
      "outputs": [],
      "source": [
        "a=(1,2,3,4,5,6,7,8,9,10)"
      ]
    },
    {
      "cell_type": "code",
      "source": [
        "type(a)"
      ],
      "metadata": {
        "colab": {
          "base_uri": "https://localhost:8080/"
        },
        "id": "2Coho7nZGYxA",
        "outputId": "6503eadf-f13d-40eb-8714-79df5f34873d"
      },
      "execution_count": null,
      "outputs": [
        {
          "output_type": "execute_result",
          "data": {
            "text/plain": [
              "tuple"
            ]
          },
          "metadata": {},
          "execution_count": 2
        }
      ]
    },
    {
      "cell_type": "code",
      "source": [
        "a[6] #o based indexing"
      ],
      "metadata": {
        "colab": {
          "base_uri": "https://localhost:8080/"
        },
        "id": "yylX2yNfGdCq",
        "outputId": "c7a1f61f-8fb2-4e6b-e559-35962d476d21"
      },
      "execution_count": null,
      "outputs": [
        {
          "output_type": "execute_result",
          "data": {
            "text/plain": [
              "7"
            ]
          },
          "metadata": {},
          "execution_count": 3
        }
      ]
    },
    {
      "cell_type": "code",
      "source": [
        "a[2:9]   #list slicing"
      ],
      "metadata": {
        "colab": {
          "base_uri": "https://localhost:8080/"
        },
        "id": "z5zOMVpLGqB_",
        "outputId": "c058f6ce-7160-490a-c879-749a458e7639"
      },
      "execution_count": null,
      "outputs": [
        {
          "output_type": "execute_result",
          "data": {
            "text/plain": [
              "(3, 4, 5, 6, 7, 8, 9)"
            ]
          },
          "metadata": {},
          "execution_count": 4
        }
      ]
    },
    {
      "cell_type": "code",
      "source": [
        "a[-2] #negative slicing"
      ],
      "metadata": {
        "colab": {
          "base_uri": "https://localhost:8080/"
        },
        "id": "79WXfMWxGsOI",
        "outputId": "cdc316cc-9c22-4eed-8394-b04aa4190210"
      },
      "execution_count": null,
      "outputs": [
        {
          "output_type": "execute_result",
          "data": {
            "text/plain": [
              "9"
            ]
          },
          "metadata": {},
          "execution_count": 6
        }
      ]
    },
    {
      "cell_type": "code",
      "source": [
        "for i in a:\n",
        "  if i< len(a):\n",
        "    print(i, end=\",\")\n",
        "  else:\n",
        "    print(i, end=\"\")"
      ],
      "metadata": {
        "colab": {
          "base_uri": "https://localhost:8080/"
        },
        "id": "NtENM76lG5Bt",
        "outputId": "93911320-6415-4e64-f418-b9288c46485d"
      },
      "execution_count": null,
      "outputs": [
        {
          "output_type": "stream",
          "name": "stdout",
          "text": [
            "1,2,3,4,5,6,7,8,9,10"
          ]
        }
      ]
    },
    {
      "cell_type": "code",
      "source": [
        "a =() #empty tuple"
      ],
      "metadata": {
        "id": "6OBk0V13HHjV"
      },
      "execution_count": null,
      "outputs": []
    },
    {
      "cell_type": "code",
      "source": [
        "a= (45)  #if a single integer value stored in a tuple then the paranthesis would be considered as an opearator and the type return 'int' as type.\n",
        "#This tuple will be treated as a mathemetical expression\n",
        "type(a)"
      ],
      "metadata": {
        "colab": {
          "base_uri": "https://localhost:8080/"
        },
        "id": "v05QBhUVHtfl",
        "outputId": "76e92077-fb7d-441b-8079-fd263dc97acb"
      },
      "execution_count": null,
      "outputs": [
        {
          "output_type": "execute_result",
          "data": {
            "text/plain": [
              "int"
            ]
          },
          "metadata": {},
          "execution_count": 15
        }
      ]
    },
    {
      "cell_type": "code",
      "source": [
        "# a list can be converted to a tuple, so typecasting between a list and tuple is allowed.\n",
        "c=[1,2,3,4,5]\n",
        "d=tuple(c)\n",
        "d"
      ],
      "metadata": {
        "colab": {
          "base_uri": "https://localhost:8080/"
        },
        "id": "Aewh1Ne_H2vM",
        "outputId": "79482df1-cd6a-45fa-9f7a-11bfa76fa489"
      },
      "execution_count": null,
      "outputs": [
        {
          "output_type": "execute_result",
          "data": {
            "text/plain": [
              "(1, 2, 3, 4, 5)"
            ]
          },
          "metadata": {},
          "execution_count": 19
        }
      ]
    },
    {
      "cell_type": "code",
      "source": [
        "l= list(d)\n",
        "l\n",
        "type(l)"
      ],
      "metadata": {
        "colab": {
          "base_uri": "https://localhost:8080/"
        },
        "id": "VPEAy837Iil4",
        "outputId": "c0626187-da4a-46a0-c7f0-add914ec4438"
      },
      "execution_count": null,
      "outputs": [
        {
          "output_type": "execute_result",
          "data": {
            "text/plain": [
              "list"
            ]
          },
          "metadata": {},
          "execution_count": 23
        }
      ]
    },
    {
      "cell_type": "code",
      "source": [
        "l1=(1,2,3) # tuple support concatenation without changing the original structure of the individual tuples\n",
        "l2=(4,5,6)\n",
        "l3=l1+l2"
      ],
      "metadata": {
        "id": "gyd0fO4tOPV8"
      },
      "execution_count": null,
      "outputs": []
    },
    {
      "cell_type": "code",
      "source": [
        "l3"
      ],
      "metadata": {
        "colab": {
          "base_uri": "https://localhost:8080/"
        },
        "id": "6Fz0pxZ4RKg9",
        "outputId": "da11d8a4-94b8-42fa-b838-9053e10355d4"
      },
      "execution_count": null,
      "outputs": [
        {
          "output_type": "execute_result",
          "data": {
            "text/plain": [
              "(1, 2, 3, 4, 5, 6)"
            ]
          },
          "metadata": {},
          "execution_count": 27
        }
      ]
    },
    {
      "cell_type": "code",
      "source": [
        "\"\"\"Question 1-\n",
        "what will be the output of - (4) + (1,2,3)\"\"\""
      ],
      "metadata": {
        "colab": {
          "base_uri": "https://localhost:8080/",
          "height": 35
        },
        "id": "yVCGb6XWRLzY",
        "outputId": "cbc175d1-b2dd-4fa7-8850-9763d3f61c26"
      },
      "execution_count": null,
      "outputs": [
        {
          "output_type": "execute_result",
          "data": {
            "text/plain": [
              "'Question 1-\\nwhat will be the output of - (4) + (1,2,3)'"
            ],
            "application/vnd.google.colaboratory.intrinsic+json": {
              "type": "string"
            }
          },
          "metadata": {},
          "execution_count": 28
        }
      ]
    },
    {
      "cell_type": "code",
      "source": [
        "L= (4) + (1,2,3). # will throw an error since 4 is of integer type and can't be added to a tuple so add a comma after 4 to convert it in tuple"
      ],
      "metadata": {
        "colab": {
          "base_uri": "https://localhost:8080/",
          "height": 184
        },
        "id": "SpJMPE8XRzQC",
        "outputId": "25366e9e-f2d9-409b-ecc8-66b2f3c24801"
      },
      "execution_count": null,
      "outputs": [
        {
          "output_type": "error",
          "ename": "TypeError",
          "evalue": "ignored",
          "traceback": [
            "\u001b[0;31m---------------------------------------------------------------------------\u001b[0m",
            "\u001b[0;31mTypeError\u001b[0m                                 Traceback (most recent call last)",
            "\u001b[0;32m<ipython-input-29-476745c16757>\u001b[0m in \u001b[0;36m<module>\u001b[0;34m\u001b[0m\n\u001b[0;32m----> 1\u001b[0;31m \u001b[0mL\u001b[0m\u001b[0;34m=\u001b[0m \u001b[0;34m(\u001b[0m\u001b[0;36m4\u001b[0m\u001b[0;34m)\u001b[0m \u001b[0;34m+\u001b[0m \u001b[0;34m(\u001b[0m\u001b[0;36m1\u001b[0m\u001b[0;34m,\u001b[0m\u001b[0;36m2\u001b[0m\u001b[0;34m,\u001b[0m\u001b[0;36m3\u001b[0m\u001b[0;34m)\u001b[0m\u001b[0;34m\u001b[0m\u001b[0;34m\u001b[0m\u001b[0m\n\u001b[0m\u001b[1;32m      2\u001b[0m \u001b[0mL\u001b[0m\u001b[0;34m\u001b[0m\u001b[0;34m\u001b[0m\u001b[0m\n",
            "\u001b[0;31mTypeError\u001b[0m: unsupported operand type(s) for +: 'int' and 'tuple'"
          ]
        }
      ]
    },
    {
      "cell_type": "code",
      "source": [
        "L= (4,) + (1,2,3)\n",
        "L"
      ],
      "metadata": {
        "colab": {
          "base_uri": "https://localhost:8080/"
        },
        "id": "In5BgH3gR1Mm",
        "outputId": "0d2d2983-d151-4452-c655-e526e114d22d"
      },
      "execution_count": null,
      "outputs": [
        {
          "output_type": "execute_result",
          "data": {
            "text/plain": [
              "(4, 1, 2, 3)"
            ]
          },
          "metadata": {},
          "execution_count": 31
        }
      ]
    },
    {
      "cell_type": "code",
      "source": [
        "\"\"\" Question 2 - what will be the output of  f= (\"random\")\"\"\"\n",
        "#similarly , f= (\"random\") will return the type as string and when we add the comma next to the string, it becomes a tuple.\n",
        "f= (\"random\")\n",
        "type(f)"
      ],
      "metadata": {
        "colab": {
          "base_uri": "https://localhost:8080/"
        },
        "id": "pQV6VGFwSWh_",
        "outputId": "2a9be4f2-413f-4d51-9046-bfc25e590cf0"
      },
      "execution_count": null,
      "outputs": [
        {
          "output_type": "execute_result",
          "data": {
            "text/plain": [
              "str"
            ]
          },
          "metadata": {},
          "execution_count": 39
        }
      ]
    },
    {
      "cell_type": "code",
      "source": [
        "f= (\"random\",)\n",
        "type(f)"
      ],
      "metadata": {
        "colab": {
          "base_uri": "https://localhost:8080/"
        },
        "id": "Y8vG8F1jUWOu",
        "outputId": "d776440e-62ef-42ea-c076-27307e29d3fd"
      },
      "execution_count": null,
      "outputs": [
        {
          "output_type": "execute_result",
          "data": {
            "text/plain": [
              "tuple"
            ]
          },
          "metadata": {},
          "execution_count": 37
        }
      ]
    },
    {
      "cell_type": "code",
      "source": [
        "string_name = \"abc\"\n",
        "a=''\n",
        "# # Iterate over index\n",
        "# for element in range(0, len(string_name)):\n",
        "#     print(string_name[element])\n",
        "\n",
        "for element in string_name:\n",
        "    print(element, end=' ')\n",
        "# print(\"\\n\")\n"
      ],
      "metadata": {
        "colab": {
          "base_uri": "https://localhost:8080/"
        },
        "id": "V6l0SqMhVYV4",
        "outputId": "e0a48d7a-6bb5-42a9-d500-7835aa86ea32"
      },
      "execution_count": null,
      "outputs": [
        {
          "output_type": "stream",
          "name": "stdout",
          "text": [
            "a b c "
          ]
        }
      ]
    },
    {
      "cell_type": "code",
      "source": [
        "'''Question 3 --  Given an input string, write a code to generate a list of all its characters.\n",
        "INPUT- 'abc' \n",
        "OUTPUT - ['a','b','c'] '''"
      ],
      "metadata": {
        "colab": {
          "base_uri": "https://localhost:8080/",
          "height": 35
        },
        "id": "DunbnOfsZson",
        "outputId": "f79d025f-f983-4d96-f628-525207116fd3"
      },
      "execution_count": null,
      "outputs": [
        {
          "output_type": "execute_result",
          "data": {
            "text/plain": [
              "\"Question 3 --  Given an input string, write a code to generate a list of all its characters.\\nINPUT- 'abc' \\nOUTPUT - ['a','b','c'] \""
            ],
            "application/vnd.google.colaboratory.intrinsic+json": {
              "type": "string"
            }
          },
          "metadata": {},
          "execution_count": 54
        }
      ]
    },
    {
      "cell_type": "code",
      "source": [
        "def convert_to_list(string_name):\n",
        "  result =[]\n",
        "  for i in string_name:\n",
        "    result.append(i)\n",
        "  return result\n",
        "convert_to_list(string_name)"
      ],
      "metadata": {
        "colab": {
          "base_uri": "https://localhost:8080/"
        },
        "id": "11UCdjU_VxER",
        "outputId": "f49f1055-b0d9-438a-8f25-019ce149339f"
      },
      "execution_count": null,
      "outputs": [
        {
          "output_type": "execute_result",
          "data": {
            "text/plain": [
              "['a', 'b', 'c']"
            ]
          },
          "metadata": {},
          "execution_count": 53
        }
      ]
    },
    {
      "cell_type": "code",
      "source": [
        "#alternate way to do the above conversion is simply convert tuple to list. typecast it.\n",
        "string_name= \"Diva\"\n",
        "list(string_name)"
      ],
      "metadata": {
        "colab": {
          "base_uri": "https://localhost:8080/"
        },
        "id": "LKkopwqQZjVN",
        "outputId": "85fc26e2-d9ff-4e6a-d2fb-c1cb66647165"
      },
      "execution_count": null,
      "outputs": [
        {
          "output_type": "execute_result",
          "data": {
            "text/plain": [
              "['D', 'i', 'v', 'a']"
            ]
          },
          "metadata": {},
          "execution_count": 57
        }
      ]
    },
    {
      "cell_type": "code",
      "source": [
        "#above idea works in type casting the string as tuple as well\n",
        "string_name= \"Dee\"\n",
        "tuple(string_name)"
      ],
      "metadata": {
        "colab": {
          "base_uri": "https://localhost:8080/"
        },
        "id": "qTLJ37IUaQSk",
        "outputId": "d92fe746-e7a0-4d9c-98ee-cd01cc553db4"
      },
      "execution_count": null,
      "outputs": [
        {
          "output_type": "execute_result",
          "data": {
            "text/plain": [
              "('D', 'e', 'e')"
            ]
          },
          "metadata": {},
          "execution_count": 58
        }
      ]
    },
    {
      "cell_type": "code",
      "source": [
        "#but if the above tuple is stored in someplace and converted or type casted back to string, it won't work. the reverse is not possible here.\n",
        "string_name= \"Scaler\"\n",
        "b=tuple(string_name)\n",
        "str(b) #tuple can't revrse typecasted to string. It simply converts the entire tuple into a string\n"
      ],
      "metadata": {
        "colab": {
          "base_uri": "https://localhost:8080/",
          "height": 35
        },
        "id": "DrwYuu17bpNg",
        "outputId": "9c8e3462-3141-4b93-b426-fdb006329405"
      },
      "execution_count": null,
      "outputs": [
        {
          "output_type": "execute_result",
          "data": {
            "text/plain": [
              "\"('S', 'c', 'a', 'l', 'e', 'r')\""
            ],
            "application/vnd.google.colaboratory.intrinsic+json": {
              "type": "string"
            }
          },
          "metadata": {},
          "execution_count": 60
        }
      ]
    },
    {
      "cell_type": "code",
      "source": [
        "#PACKING AND UNPACKING\n"
      ],
      "metadata": {
        "id": "Nq6oXliNcWWZ"
      },
      "execution_count": null,
      "outputs": []
    },
    {
      "cell_type": "code",
      "source": [
        "a=(1,2,3)"
      ],
      "metadata": {
        "id": "lcxXU4n8cuNq"
      },
      "execution_count": null,
      "outputs": []
    },
    {
      "cell_type": "code",
      "source": [
        "x,y,z =a"
      ],
      "metadata": {
        "id": "7WAzFS4Kc05r"
      },
      "execution_count": null,
      "outputs": []
    },
    {
      "cell_type": "code",
      "source": [
        "x"
      ],
      "metadata": {
        "colab": {
          "base_uri": "https://localhost:8080/"
        },
        "id": "xuLg_PVgc3SJ",
        "outputId": "cfb374f3-35e1-4cf4-9667-bc33d981348e"
      },
      "execution_count": null,
      "outputs": [
        {
          "output_type": "execute_result",
          "data": {
            "text/plain": [
              "1"
            ]
          },
          "metadata": {},
          "execution_count": 64
        }
      ]
    },
    {
      "cell_type": "code",
      "source": [
        "y"
      ],
      "metadata": {
        "colab": {
          "base_uri": "https://localhost:8080/"
        },
        "id": "91ISWYrXc5Ml",
        "outputId": "2ec0d922-7bcb-4130-d9c0-63812dcaa7b7"
      },
      "execution_count": null,
      "outputs": [
        {
          "output_type": "execute_result",
          "data": {
            "text/plain": [
              "2"
            ]
          },
          "metadata": {},
          "execution_count": 65
        }
      ]
    },
    {
      "cell_type": "code",
      "source": [
        "z"
      ],
      "metadata": {
        "colab": {
          "base_uri": "https://localhost:8080/"
        },
        "id": "pVgEeExsc6BX",
        "outputId": "4633ffbd-41be-4c41-beed-71c4503fac56"
      },
      "execution_count": null,
      "outputs": [
        {
          "output_type": "execute_result",
          "data": {
            "text/plain": [
              "3"
            ]
          },
          "metadata": {},
          "execution_count": 66
        }
      ]
    },
    {
      "cell_type": "code",
      "source": [
        "# similar to positional argument, value gets assigned to each variable. This is called Unpacking"
      ],
      "metadata": {
        "id": "8U3br7Ddc6wq"
      },
      "execution_count": null,
      "outputs": []
    },
    {
      "cell_type": "code",
      "source": [
        "w,x,y,z = 1,2,3,4 #equal variable for each value with one on one mapping/assignment essential for unpacking"
      ],
      "metadata": {
        "id": "C6tSZPQfdb56"
      },
      "execution_count": null,
      "outputs": []
    },
    {
      "cell_type": "code",
      "source": [
        "w"
      ],
      "metadata": {
        "colab": {
          "base_uri": "https://localhost:8080/"
        },
        "id": "K6MGaghNdfBv",
        "outputId": "f4214290-2790-4f0a-d298-3628ea687248"
      },
      "execution_count": null,
      "outputs": [
        {
          "output_type": "execute_result",
          "data": {
            "text/plain": [
              "1"
            ]
          },
          "metadata": {},
          "execution_count": 69
        }
      ]
    },
    {
      "cell_type": "code",
      "source": [
        "z"
      ],
      "metadata": {
        "colab": {
          "base_uri": "https://localhost:8080/"
        },
        "id": "oZ423OP2dg17",
        "outputId": "4976ad0f-0160-49d8-fea7-62611c756623"
      },
      "execution_count": null,
      "outputs": [
        {
          "output_type": "execute_result",
          "data": {
            "text/plain": [
              "4"
            ]
          },
          "metadata": {},
          "execution_count": 70
        }
      ]
    },
    {
      "cell_type": "code",
      "source": [
        "a , b = (\"random\", \"strings\") # out here  (\"random\", \"strings\") is a tuple but after unpacking and variable assignment,\n",
        "# the datatype for individual variable changes to string "
      ],
      "metadata": {
        "id": "4YeslR4-dhh5"
      },
      "execution_count": null,
      "outputs": []
    },
    {
      "cell_type": "code",
      "source": [
        "type(a)"
      ],
      "metadata": {
        "colab": {
          "base_uri": "https://localhost:8080/"
        },
        "id": "nl1-IwxFePc7",
        "outputId": "2e08004b-5ca6-4aa3-c059-711c89a60cf2"
      },
      "execution_count": null,
      "outputs": [
        {
          "output_type": "execute_result",
          "data": {
            "text/plain": [
              "str"
            ]
          },
          "metadata": {},
          "execution_count": 73
        }
      ]
    },
    {
      "cell_type": "code",
      "source": [
        "type(b)"
      ],
      "metadata": {
        "colab": {
          "base_uri": "https://localhost:8080/"
        },
        "id": "pCSBvXpqeRum",
        "outputId": "e463f68c-83de-45a4-b892-cf3c580ec77b"
      },
      "execution_count": null,
      "outputs": [
        {
          "output_type": "execute_result",
          "data": {
            "text/plain": [
              "str"
            ]
          },
          "metadata": {},
          "execution_count": 74
        }
      ]
    },
    {
      "cell_type": "code",
      "source": [
        "def packing():\n",
        "  return 100, 200, 300 #return multiple values from a function "
      ],
      "metadata": {
        "id": "HMxxsclneTne"
      },
      "execution_count": null,
      "outputs": []
    },
    {
      "cell_type": "code",
      "source": [
        "c=packing() # here's where we packed the values into a tuple; python returns the values in the form of tuples\n",
        "c "
      ],
      "metadata": {
        "colab": {
          "base_uri": "https://localhost:8080/"
        },
        "id": "1ibUNne6gnHq",
        "outputId": "f2a147a2-e6eb-41dc-b9ef-c755871dfa68"
      },
      "execution_count": null,
      "outputs": [
        {
          "output_type": "execute_result",
          "data": {
            "text/plain": [
              "(100, 200, 300)"
            ]
          },
          "metadata": {},
          "execution_count": 83
        }
      ]
    },
    {
      "cell_type": "code",
      "source": [
        "# we can do packing and unpacking together using below method\n",
        "\n",
        "x, y, z= packing()"
      ],
      "metadata": {
        "id": "M5I7xoA3gsWO"
      },
      "execution_count": null,
      "outputs": []
    },
    {
      "cell_type": "code",
      "source": [
        "x"
      ],
      "metadata": {
        "colab": {
          "base_uri": "https://localhost:8080/"
        },
        "id": "ernzaTagg71t",
        "outputId": "8f48743e-96ca-4670-ec30-48ed908994c7"
      },
      "execution_count": null,
      "outputs": [
        {
          "output_type": "execute_result",
          "data": {
            "text/plain": [
              "100"
            ]
          },
          "metadata": {},
          "execution_count": 79
        }
      ]
    },
    {
      "cell_type": "code",
      "source": [
        "y"
      ],
      "metadata": {
        "colab": {
          "base_uri": "https://localhost:8080/"
        },
        "id": "CVtZir-9g9FE",
        "outputId": "2be2d371-1c47-470b-e00e-c782d0348ba5"
      },
      "execution_count": null,
      "outputs": [
        {
          "output_type": "execute_result",
          "data": {
            "text/plain": [
              "200"
            ]
          },
          "metadata": {},
          "execution_count": 80
        }
      ]
    },
    {
      "cell_type": "code",
      "source": [
        "z"
      ],
      "metadata": {
        "colab": {
          "base_uri": "https://localhost:8080/"
        },
        "id": "SwUTw6w2g91T",
        "outputId": "2e40e987-bbd5-443a-b6dc-1357f582c12e"
      },
      "execution_count": null,
      "outputs": [
        {
          "output_type": "execute_result",
          "data": {
            "text/plain": [
              "300"
            ]
          },
          "metadata": {},
          "execution_count": 81
        }
      ]
    },
    {
      "cell_type": "code",
      "source": [
        "# here's a list of tuples\n",
        "\n",
        "a =[(1,\"bipin\"),(2,\"goku\"),(3,\"shivi\")]"
      ],
      "metadata": {
        "id": "MfP2Xgiag-m7"
      },
      "execution_count": null,
      "outputs": []
    },
    {
      "cell_type": "code",
      "source": [
        "for i in a:\n",
        "  print(i, end=\" , \")"
      ],
      "metadata": {
        "colab": {
          "base_uri": "https://localhost:8080/"
        },
        "id": "myir_du5ihs6",
        "outputId": "9dd09781-5396-4764-a102-81dc81af0ba5"
      },
      "execution_count": null,
      "outputs": [
        {
          "output_type": "stream",
          "name": "stdout",
          "text": [
            "(1, 'bipin') , (2, 'goku') , (3, 'shivi') , "
          ]
        }
      ]
    },
    {
      "cell_type": "code",
      "source": [
        "#unpacking every iterated element that also happens to be a tuple here\n",
        "for roll_no, name in a:\n",
        "  print(f\"My roll number is {roll_no} and name is {name}\")"
      ],
      "metadata": {
        "colab": {
          "base_uri": "https://localhost:8080/"
        },
        "id": "31FRg0xQjET5",
        "outputId": "fe5ba15d-c352-47b4-86bc-24f95f1fb15a"
      },
      "execution_count": null,
      "outputs": [
        {
          "output_type": "stream",
          "name": "stdout",
          "text": [
            "My roll number is 1 and name is bipin\n",
            "My roll number is 2 and name is goku\n",
            "My roll number is 3 and name is shivi\n"
          ]
        }
      ]
    },
    {
      "cell_type": "code",
      "source": [
        "#unpacking every iterated element that also happens to be a tuple using index\n",
        "for i in a:\n",
        "  print(f\"My roll number is {i[0]} and name is {i[1]}\")"
      ],
      "metadata": {
        "colab": {
          "base_uri": "https://localhost:8080/"
        },
        "id": "HBkM-xnYjx1A",
        "outputId": "fb3d5ee6-60dd-49ad-eeff-464ea5866440"
      },
      "execution_count": null,
      "outputs": [
        {
          "output_type": "stream",
          "name": "stdout",
          "text": [
            "My roll number is 1 and name is bipin\n",
            "My roll number is 2 and name is goku\n",
            "My roll number is 3 and name is shivi\n"
          ]
        }
      ]
    },
    {
      "cell_type": "code",
      "source": [
        "'''Question 4- Write a code to swap two variable values using a third variable'''"
      ],
      "metadata": {
        "colab": {
          "base_uri": "https://localhost:8080/",
          "height": 35
        },
        "id": "g_vJAc9tkuEG",
        "outputId": "6747eb8d-8279-4e74-889d-0b1fca3c79c7"
      },
      "execution_count": null,
      "outputs": [
        {
          "output_type": "execute_result",
          "data": {
            "text/plain": [
              "'Question 4- Write a code to swap two variable values using a third variable'"
            ],
            "application/vnd.google.colaboratory.intrinsic+json": {
              "type": "string"
            }
          },
          "metadata": {},
          "execution_count": 98
        }
      ]
    },
    {
      "cell_type": "code",
      "source": [
        "a= 5\n",
        "b=4"
      ],
      "metadata": {
        "id": "Sr1osLzywlY-"
      },
      "execution_count": null,
      "outputs": []
    },
    {
      "cell_type": "code",
      "source": [
        "temp=a\n",
        "a=b\n",
        "b=temp"
      ],
      "metadata": {
        "id": "PWxSGr-Sw0CX"
      },
      "execution_count": null,
      "outputs": []
    },
    {
      "cell_type": "code",
      "source": [
        "a"
      ],
      "metadata": {
        "colab": {
          "base_uri": "https://localhost:8080/"
        },
        "id": "ExFHmk9rxFsk",
        "outputId": "87d42b32-802e-4c4b-c0bf-373bc89d93e6"
      },
      "execution_count": null,
      "outputs": [
        {
          "output_type": "execute_result",
          "data": {
            "text/plain": [
              "4"
            ]
          },
          "metadata": {},
          "execution_count": 126
        }
      ]
    },
    {
      "cell_type": "code",
      "source": [
        "b"
      ],
      "metadata": {
        "colab": {
          "base_uri": "https://localhost:8080/"
        },
        "id": "RaWXA2ghxG-y",
        "outputId": "1b8ff79e-4f9c-4b71-fee8-d4ffafba5585"
      },
      "execution_count": null,
      "outputs": [
        {
          "output_type": "execute_result",
          "data": {
            "text/plain": [
              "5"
            ]
          },
          "metadata": {},
          "execution_count": 127
        }
      ]
    },
    {
      "cell_type": "code",
      "source": [
        "#mathemetical way of solving above question without using the third variable\n",
        "b=a+b\n",
        "a= b-a\n",
        "b= b-a\n"
      ],
      "metadata": {
        "id": "C4xW3pYrx1bh"
      },
      "execution_count": null,
      "outputs": []
    },
    {
      "cell_type": "code",
      "source": [
        "a"
      ],
      "metadata": {
        "colab": {
          "base_uri": "https://localhost:8080/"
        },
        "id": "9QCoHlGozk2A",
        "outputId": "7addc382-7233-4260-8be4-5cdcc8495905"
      },
      "execution_count": null,
      "outputs": [
        {
          "output_type": "execute_result",
          "data": {
            "text/plain": [
              "5"
            ]
          },
          "metadata": {},
          "execution_count": 129
        }
      ]
    },
    {
      "cell_type": "code",
      "source": [
        "b"
      ],
      "metadata": {
        "colab": {
          "base_uri": "https://localhost:8080/"
        },
        "id": "jFbsoHf9zo7r",
        "outputId": "d789fc0e-034d-496b-cea3-f77cf9aa8cb6"
      },
      "execution_count": null,
      "outputs": [
        {
          "output_type": "execute_result",
          "data": {
            "text/plain": [
              "4"
            ]
          },
          "metadata": {},
          "execution_count": 130
        }
      ]
    },
    {
      "cell_type": "code",
      "source": [
        "#python way of solving or swapping values in varaibles without third variable is shared below\n",
        "\n",
        "a, b = b, a"
      ],
      "metadata": {
        "id": "IlcC3Gbezp1L"
      },
      "execution_count": null,
      "outputs": []
    },
    {
      "cell_type": "code",
      "source": [
        "a"
      ],
      "metadata": {
        "colab": {
          "base_uri": "https://localhost:8080/"
        },
        "id": "_TjnnmGM0mJW",
        "outputId": "a211f918-77b7-44d0-f6a3-0ddb7899bf04"
      },
      "execution_count": null,
      "outputs": [
        {
          "output_type": "execute_result",
          "data": {
            "text/plain": [
              "4"
            ]
          },
          "metadata": {},
          "execution_count": 132
        }
      ]
    },
    {
      "cell_type": "code",
      "source": [
        "b"
      ],
      "metadata": {
        "colab": {
          "base_uri": "https://localhost:8080/"
        },
        "id": "TlUQiV910nkk",
        "outputId": "6a97b040-cc1a-4dc9-f606-2b11e13f4101"
      },
      "execution_count": null,
      "outputs": [
        {
          "output_type": "execute_result",
          "data": {
            "text/plain": [
              "5"
            ]
          },
          "metadata": {},
          "execution_count": 133
        }
      ]
    },
    {
      "cell_type": "code",
      "source": [
        "'''Question 5 - what will be the output of the following-\n",
        " a=1,2,3,4,5 '''"
      ],
      "metadata": {
        "colab": {
          "base_uri": "https://localhost:8080/",
          "height": 35
        },
        "id": "ZHk0SdvX0oQF",
        "outputId": "11d601ae-2402-4f52-bbd3-bbf14f1e163a"
      },
      "execution_count": null,
      "outputs": [
        {
          "output_type": "execute_result",
          "data": {
            "text/plain": [
              "'Question 5 - what will be the output of the following-\\n a=1,2,3,4,5 '"
            ],
            "application/vnd.google.colaboratory.intrinsic+json": {
              "type": "string"
            }
          },
          "metadata": {},
          "execution_count": 135
        }
      ]
    },
    {
      "cell_type": "code",
      "source": [
        "a= 1,2,3,4,5"
      ],
      "metadata": {
        "id": "opCcF6om0-Qz"
      },
      "execution_count": null,
      "outputs": []
    },
    {
      "cell_type": "code",
      "source": [
        "a # packing happens into a tuple if input is given as above so paraanthesis is not even required while packing elements in python"
      ],
      "metadata": {
        "colab": {
          "base_uri": "https://localhost:8080/"
        },
        "id": "cUznpJg51Fkq",
        "outputId": "e7ddd6e1-2c09-4828-f795-bb8150354542"
      },
      "execution_count": null,
      "outputs": [
        {
          "output_type": "execute_result",
          "data": {
            "text/plain": [
              "(1, 2, 3, 4, 5)"
            ]
          },
          "metadata": {},
          "execution_count": 138
        }
      ]
    },
    {
      "cell_type": "code",
      "source": [
        "#tuples are heterogenous\n",
        "a=(\"str\", 76.54, 1,2,True)\n",
        "a"
      ],
      "metadata": {
        "colab": {
          "base_uri": "https://localhost:8080/"
        },
        "id": "A5yujJme1GOJ",
        "outputId": "df7d05eb-4c42-4f63-a384-d71edde559ff"
      },
      "execution_count": null,
      "outputs": [
        {
          "output_type": "execute_result",
          "data": {
            "text/plain": [
              "('str', 76.54, 1, 2, True)"
            ]
          },
          "metadata": {},
          "execution_count": 141
        }
      ]
    },
    {
      "cell_type": "code",
      "source": [
        "                                 # SETS - is a collection of unqiue/distinct elements"
      ],
      "metadata": {
        "id": "5fqA1tO_11vP"
      },
      "execution_count": null,
      "outputs": []
    },
    {
      "cell_type": "code",
      "source": [
        "a={1,2,2,4,2,4,6,4,22,13}"
      ],
      "metadata": {
        "id": "bmTA4gx431nd"
      },
      "execution_count": null,
      "outputs": []
    },
    {
      "cell_type": "code",
      "source": [
        "a # only stores the distinct elements in a set but not necessarily in a sorted manner since the sorting is not consistent in all versions of python"
      ],
      "metadata": {
        "colab": {
          "base_uri": "https://localhost:8080/"
        },
        "id": "FaU2e3Ye36Iv",
        "outputId": "1433893c-ade7-4766-cd93-c3b5c7ef5362"
      },
      "execution_count": null,
      "outputs": [
        {
          "output_type": "execute_result",
          "data": {
            "text/plain": [
              "{1, 2, 4, 6, 13, 22}"
            ]
          },
          "metadata": {},
          "execution_count": 149
        }
      ]
    },
    {
      "cell_type": "code",
      "source": [
        "# Indexing is not avaiable in the python set. set object is not subscriptable. indexing not allowed in tuples and sets as both have no deifned order"
      ],
      "metadata": {
        "id": "LXmrLmgQ38gr"
      },
      "execution_count": null,
      "outputs": []
    },
    {
      "cell_type": "code",
      "source": [
        "#an empty set like below would always have a dictionary as type\n",
        "a={}\n",
        "type(a)"
      ],
      "metadata": {
        "colab": {
          "base_uri": "https://localhost:8080/"
        },
        "id": "bJXF1BbvBDES",
        "outputId": "f99035ed-7b34-4857-a2be-5b2ea97930fa"
      },
      "execution_count": null,
      "outputs": [
        {
          "output_type": "execute_result",
          "data": {
            "text/plain": [
              "dict"
            ]
          },
          "metadata": {},
          "execution_count": 152
        }
      ]
    },
    {
      "cell_type": "code",
      "source": [
        "a= set() #this is how one creates empty set in python\n",
        "type(a)"
      ],
      "metadata": {
        "colab": {
          "base_uri": "https://localhost:8080/"
        },
        "id": "fqa6imDkBL2R",
        "outputId": "05a5591b-a11f-49c0-ca37-2f31b504d34c"
      },
      "execution_count": null,
      "outputs": [
        {
          "output_type": "execute_result",
          "data": {
            "text/plain": [
              "set"
            ]
          },
          "metadata": {},
          "execution_count": 154
        }
      ]
    },
    {
      "cell_type": "code",
      "source": [
        "a={1,2,3}"
      ],
      "metadata": {
        "id": "wwwPVCh1BdPY"
      },
      "execution_count": null,
      "outputs": []
    },
    {
      "cell_type": "code",
      "source": [
        "a.add(6)\n",
        "a"
      ],
      "metadata": {
        "colab": {
          "base_uri": "https://localhost:8080/"
        },
        "id": "0ocQ35ReCe9S",
        "outputId": "49ac6ec6-943f-4ea0-86b0-285cc6c8715f"
      },
      "execution_count": null,
      "outputs": [
        {
          "output_type": "execute_result",
          "data": {
            "text/plain": [
              "{1, 2, 3, 6}"
            ]
          },
          "metadata": {},
          "execution_count": 158
        }
      ]
    },
    {
      "cell_type": "code",
      "source": [
        "a.remove(3)\n",
        "a"
      ],
      "metadata": {
        "colab": {
          "base_uri": "https://localhost:8080/"
        },
        "id": "T1d4qJ3NDhXK",
        "outputId": "afd0d1ea-f006-45d5-f3a8-c5ee9de93a6d"
      },
      "execution_count": null,
      "outputs": [
        {
          "output_type": "execute_result",
          "data": {
            "text/plain": [
              "{1, 2, 6}"
            ]
          },
          "metadata": {},
          "execution_count": 159
        }
      ]
    },
    {
      "cell_type": "code",
      "source": [
        "a.add(1) #this will not change the set as it can't add duplicate values to the set\n",
        "a"
      ],
      "metadata": {
        "colab": {
          "base_uri": "https://localhost:8080/"
        },
        "id": "CTWfS5PGDkPN",
        "outputId": "bf078b7c-27fa-46e8-f7c6-7d4c1a60d81a"
      },
      "execution_count": null,
      "outputs": [
        {
          "output_type": "execute_result",
          "data": {
            "text/plain": [
              "{1, 2, 6}"
            ]
          },
          "metadata": {},
          "execution_count": 161
        }
      ]
    },
    {
      "cell_type": "code",
      "source": [
        "a.update([1,2,3,4,5,6]) #we can add multiple elements to the set using lists, tuples via update method  \n",
        "a"
      ],
      "metadata": {
        "colab": {
          "base_uri": "https://localhost:8080/"
        },
        "id": "DK41lVD9EIIg",
        "outputId": "26cc2579-7c8a-45d9-b178-3bfe2ba0599e"
      },
      "execution_count": null,
      "outputs": [
        {
          "output_type": "execute_result",
          "data": {
            "text/plain": [
              "{1, 2, 3, 4, 5, 6}"
            ]
          },
          "metadata": {},
          "execution_count": 163
        }
      ]
    },
    {
      "cell_type": "code",
      "source": [
        "'''Question6- take a string as input and print the number of unique characters present in that string'''"
      ],
      "metadata": {
        "colab": {
          "base_uri": "https://localhost:8080/",
          "height": 35
        },
        "id": "vV1ZuwMOFMv-",
        "outputId": "05eef78f-3474-4927-d0a8-f8da4a45cfad"
      },
      "execution_count": null,
      "outputs": [
        {
          "output_type": "execute_result",
          "data": {
            "text/plain": [
              "'Question6- take a string as input and print the number of unique characters present in that string'"
            ],
            "application/vnd.google.colaboratory.intrinsic+json": {
              "type": "string"
            }
          },
          "metadata": {},
          "execution_count": 164
        }
      ]
    },
    {
      "cell_type": "code",
      "source": [
        "a=\"aabbcdefeg\"\n",
        "a=set(a)\n",
        "n=len(a)\n",
        "n"
      ],
      "metadata": {
        "colab": {
          "base_uri": "https://localhost:8080/"
        },
        "id": "SHJFol24Fa3c",
        "outputId": "e24ef594-e90f-4cc5-e9ec-4132968b200e"
      },
      "execution_count": null,
      "outputs": [
        {
          "output_type": "execute_result",
          "data": {
            "text/plain": [
              "7"
            ]
          },
          "metadata": {},
          "execution_count": 171
        }
      ]
    },
    {
      "cell_type": "code",
      "source": [
        "a=\"this is a raondom string!\"\n",
        "len(set(a))"
      ],
      "metadata": {
        "colab": {
          "base_uri": "https://localhost:8080/"
        },
        "id": "7vyQi8T3FiFh",
        "outputId": "569a293b-96e9-4462-aee6-1f12cf23c2be"
      },
      "execution_count": null,
      "outputs": [
        {
          "output_type": "execute_result",
          "data": {
            "text/plain": [
              "13"
            ]
          },
          "metadata": {},
          "execution_count": 173
        }
      ]
    },
    {
      "cell_type": "code",
      "source": [
        "a = \"123344555566789\"\n"
      ],
      "metadata": {
        "id": "RaI53uFWHDG_"
      },
      "execution_count": null,
      "outputs": []
    },
    {
      "cell_type": "code",
      "source": [
        "set(a)"
      ],
      "metadata": {
        "colab": {
          "base_uri": "https://localhost:8080/"
        },
        "id": "R1uG2QsIK5jo",
        "outputId": "9a887ad0-6e6a-4f32-f238-baeab732caa2"
      },
      "execution_count": null,
      "outputs": [
        {
          "output_type": "execute_result",
          "data": {
            "text/plain": [
              "{'1', '2', '3', '4', '5', '6', '7', '8', '9'}"
            ]
          },
          "metadata": {},
          "execution_count": 195
        }
      ]
    },
    {
      "cell_type": "code",
      "source": [
        "len(set(a))"
      ],
      "metadata": {
        "colab": {
          "base_uri": "https://localhost:8080/"
        },
        "id": "-H_wjXIqK8y_",
        "outputId": "5d7cf096-c04b-4325-c874-69c196c6e3e9"
      },
      "execution_count": null,
      "outputs": [
        {
          "output_type": "execute_result",
          "data": {
            "text/plain": [
              "9"
            ]
          },
          "metadata": {},
          "execution_count": 196
        }
      ]
    },
    {
      "cell_type": "code",
      "source": [
        "# SET OPERATIONS\n"
      ],
      "metadata": {
        "id": "yEB1QbL7Gh1M"
      },
      "execution_count": null,
      "outputs": []
    },
    {
      "cell_type": "code",
      "source": [
        "s1= {1,2,4,5,6}\n",
        "s2= {2,3,4}\n"
      ],
      "metadata": {
        "id": "SPXEr-FsG8kF"
      },
      "execution_count": null,
      "outputs": []
    },
    {
      "cell_type": "code",
      "source": [
        "s1.intersection(s2)"
      ],
      "metadata": {
        "colab": {
          "base_uri": "https://localhost:8080/"
        },
        "id": "3Z-XiCY9JIFH",
        "outputId": "2f825de4-7ccf-486a-e258-02f8dadc02e8"
      },
      "execution_count": null,
      "outputs": [
        {
          "output_type": "execute_result",
          "data": {
            "text/plain": [
              "{2, 4}"
            ]
          },
          "metadata": {},
          "execution_count": 183
        }
      ]
    },
    {
      "cell_type": "code",
      "source": [
        "s1 & s2"
      ],
      "metadata": {
        "colab": {
          "base_uri": "https://localhost:8080/"
        },
        "id": "B7_-5uXUJLiN",
        "outputId": "e9828d2a-e80d-4f6b-b9c6-5ef85f005f02"
      },
      "execution_count": null,
      "outputs": [
        {
          "output_type": "execute_result",
          "data": {
            "text/plain": [
              "{2, 4}"
            ]
          },
          "metadata": {},
          "execution_count": 184
        }
      ]
    },
    {
      "cell_type": "code",
      "source": [
        "# both above are used to represent intersection between s1 and s2"
      ],
      "metadata": {
        "id": "UxeF2S4jJOr7"
      },
      "execution_count": null,
      "outputs": []
    },
    {
      "cell_type": "code",
      "source": [
        "s1.union(s2)"
      ],
      "metadata": {
        "colab": {
          "base_uri": "https://localhost:8080/"
        },
        "id": "et8ytZH1JWwe",
        "outputId": "6eb3a77c-4c16-432b-fabb-528856eed09e"
      },
      "execution_count": null,
      "outputs": [
        {
          "output_type": "execute_result",
          "data": {
            "text/plain": [
              "{1, 2, 3, 4, 5, 6}"
            ]
          },
          "metadata": {},
          "execution_count": 186
        }
      ]
    },
    {
      "cell_type": "code",
      "source": [
        "s1|s2"
      ],
      "metadata": {
        "colab": {
          "base_uri": "https://localhost:8080/"
        },
        "id": "CRvBSz3AJazr",
        "outputId": "b3a0d296-364f-4a06-9f03-2676e41d2b03"
      },
      "execution_count": null,
      "outputs": [
        {
          "output_type": "execute_result",
          "data": {
            "text/plain": [
              "{1, 2, 3, 4, 5, 6}"
            ]
          },
          "metadata": {},
          "execution_count": 187
        }
      ]
    },
    {
      "cell_type": "code",
      "source": [
        "#both above are used to represent union"
      ],
      "metadata": {
        "id": "IU0_qHQEJdZ0"
      },
      "execution_count": null,
      "outputs": []
    },
    {
      "cell_type": "code",
      "source": [
        "s1.difference(s2)"
      ],
      "metadata": {
        "colab": {
          "base_uri": "https://localhost:8080/"
        },
        "id": "6mkG0efDJlqz",
        "outputId": "bb9168c5-22c8-46e7-f7f4-70bb326df4b0"
      },
      "execution_count": null,
      "outputs": [
        {
          "output_type": "execute_result",
          "data": {
            "text/plain": [
              "{1, 5, 6}"
            ]
          },
          "metadata": {},
          "execution_count": 189
        }
      ]
    },
    {
      "cell_type": "code",
      "source": [
        "s1-s2"
      ],
      "metadata": {
        "colab": {
          "base_uri": "https://localhost:8080/"
        },
        "id": "KR9yNKhUJoHr",
        "outputId": "b9cce952-16d5-415e-96be-2233f7f623b5"
      },
      "execution_count": null,
      "outputs": [
        {
          "output_type": "execute_result",
          "data": {
            "text/plain": [
              "{1, 5, 6}"
            ]
          },
          "metadata": {},
          "execution_count": 190
        }
      ]
    },
    {
      "cell_type": "code",
      "source": [
        "#this is used for set difference that is, s1-s2"
      ],
      "metadata": {
        "id": "4kL_jK-mJr08"
      },
      "execution_count": null,
      "outputs": []
    },
    {
      "cell_type": "code",
      "source": [
        "s1.symmetric_difference(s2)"
      ],
      "metadata": {
        "colab": {
          "base_uri": "https://localhost:8080/"
        },
        "id": "qWc-ng0uJz0f",
        "outputId": "d7c5c1e4-8dda-4de1-bd2c-04ac6f33271d"
      },
      "execution_count": null,
      "outputs": [
        {
          "output_type": "execute_result",
          "data": {
            "text/plain": [
              "{1, 3, 5, 6}"
            ]
          },
          "metadata": {},
          "execution_count": 192
        }
      ]
    },
    {
      "cell_type": "code",
      "source": [
        "s1 ^ s2"
      ],
      "metadata": {
        "colab": {
          "base_uri": "https://localhost:8080/"
        },
        "id": "rSSNRqC2J57x",
        "outputId": "2f3a513a-d5e1-4730-ed5d-2e5abbcbc811"
      },
      "execution_count": null,
      "outputs": [
        {
          "output_type": "execute_result",
          "data": {
            "text/plain": [
              "{1, 3, 5, 6}"
            ]
          },
          "metadata": {},
          "execution_count": 193
        }
      ]
    },
    {
      "cell_type": "code",
      "source": [
        "#both above - symmetric difference and power operator are used for symmetric difference."
      ],
      "metadata": {
        "id": "4DzjU-ioKAjQ"
      },
      "execution_count": null,
      "outputs": []
    },
    {
      "cell_type": "code",
      "source": [
        "#practice assignment questions"
      ],
      "metadata": {
        "id": "xAeViChcXKlC"
      },
      "execution_count": null,
      "outputs": []
    },
    {
      "cell_type": "code",
      "source": [
        "# Write a function to search for a given element elem in the tuple tup and return its index. Return -1 if elem is not present in tup.\n",
        "''' input:elem-indicates the element in the tuple,tup-indicates the tupleoutput:Return the index of the element.'''\n",
        "def get_index(tup, elem):\n",
        "  for i in range(len(tup)):\n",
        "    if tup[i]==elem:\n",
        "      return i\n",
        "  else:\n",
        "    return -1\n",
        "get_index((10, 20, 30, 40, 50), 30)"
      ],
      "metadata": {
        "colab": {
          "base_uri": "https://localhost:8080/"
        },
        "id": "DGAPEiNPXN2S",
        "outputId": "e659ddcc-5546-4fec-884d-8458cbff0382"
      },
      "execution_count": null,
      "outputs": [
        {
          "output_type": "execute_result",
          "data": {
            "text/plain": [
              "2"
            ]
          },
          "metadata": {},
          "execution_count": 200
        }
      ]
    },
    {
      "cell_type": "code",
      "source": [
        "#Write a program to divide a given tuple into two tuples that contain even and odd indexed elements of the original tuple.\n",
        "# Print both these tuples in the given output format.\n",
        "#Print two tuples one for odd indexed elements and another for even indexed elements in the following format:\n",
        "# Odd: (....)\n",
        "# Even: (....)\n",
        "def odd_even_split_tuple(tup):\n",
        "    ''' input:tup-indicates the tuple\n",
        "         output:print two tuples one for even indexed and odd indexed in the given output format'''\n",
        "    even=tuple()\n",
        "    odd=tuple()\n",
        "    n=len(tup)\n",
        "    for i in range(n):\n",
        "      if (i+1)%2==0:\n",
        "        even+=(tup[i],) \n",
        "      else:\n",
        "        odd+=(tup[i],)\n",
        "    print(f\"odd:{odd}\")\n",
        "    print(f\"even:{even}\")\n",
        "odd_even_split_tuple((10, 8, 5, 2, 10, 15, 10, 8, 5, 8, 8, 2))"
      ],
      "metadata": {
        "colab": {
          "base_uri": "https://localhost:8080/"
        },
        "id": "CfXQanojXoJ1",
        "outputId": "1f45a437-88d2-4c90-811b-179b48e5a6e1"
      },
      "execution_count": null,
      "outputs": [
        {
          "output_type": "stream",
          "name": "stdout",
          "text": [
            "odd:(10, 5, 10, 10, 5, 8)\n",
            "even:(8, 2, 15, 8, 8, 2)\n"
          ]
        }
      ]
    },
    {
      "cell_type": "code",
      "source": [
        "elements = (10, 20, 30, 40, 50, 60, 70, 80)\n",
        "print(elements[2:5], elements[:4], elements[3:100])"
      ],
      "metadata": {
        "colab": {
          "base_uri": "https://localhost:8080/"
        },
        "id": "m2NA1hwIbjg5",
        "outputId": "9cdb3a1f-95f7-4e5e-d57c-619d5a40e034"
      },
      "execution_count": null,
      "outputs": [
        {
          "output_type": "stream",
          "name": "stdout",
          "text": [
            "(30, 40, 50) (10, 20, 30, 40) (40, 50, 60, 70, 80)\n"
          ]
        }
      ]
    },
    {
      "cell_type": "code",
      "source": [
        "name_lst = [\"Vijay\", \"Vickey\"]\n",
        "tup = (\"Item_1\", 0.5, name_lst)\n",
        "name_lst.append(\"Vishal\")\n",
        "print(tup)"
      ],
      "metadata": {
        "colab": {
          "base_uri": "https://localhost:8080/"
        },
        "id": "7zVnEs50jdYK",
        "outputId": "a791ec0c-1d4e-489e-b171-dc7fc67a5486"
      },
      "execution_count": null,
      "outputs": [
        {
          "output_type": "stream",
          "name": "stdout",
          "text": [
            "('Item_1', 0.5, ['Vijay', 'Vickey', 'Vishal'])\n"
          ]
        }
      ]
    },
    {
      "cell_type": "code",
      "source": [
        "# Write a function to print out the frequency of all the unique elements present in a given tuple\n",
        "\n",
        "def unique_count(tup):\n",
        "    ''' input:tup-indicates the tuple\n",
        "         output:Print the unique elements and their frequency'''\n",
        "    \n",
        "    index=0\n",
        "    for element in tup:\n",
        "        if tup.index(element)== index:\n",
        "            print(f\"{element} : {tup.count(element)}\")\n",
        "        index+=1"
      ],
      "metadata": {
        "id": "pcO0KvjHkHgg"
      },
      "execution_count": null,
      "outputs": []
    },
    {
      "cell_type": "code",
      "source": [
        "unique_count((10, 8, 5, 2, 10, 15, 10, 8, 5, 8, 8, 2))"
      ],
      "metadata": {
        "colab": {
          "base_uri": "https://localhost:8080/"
        },
        "id": "C265BgxinHa9",
        "outputId": "51bfdb86-fa2d-4a89-c84e-7eed920d2db8"
      },
      "execution_count": null,
      "outputs": [
        {
          "output_type": "stream",
          "name": "stdout",
          "text": [
            "10 : 3\n",
            "8 : 4\n",
            "5 : 2\n",
            "2 : 2\n",
            "15 : 1\n"
          ]
        }
      ]
    },
    {
      "cell_type": "code",
      "source": [
        "#+ is not a valid operation in sets, hence it throws an error.\n",
        "set1 = {1, 2, 4}\n",
        "set2 = {4, 5, 6}\n",
        "print(len(set1 + set2))"
      ],
      "metadata": {
        "colab": {
          "base_uri": "https://localhost:8080/",
          "height": 218
        },
        "id": "5lEn1xkNnMXe",
        "outputId": "f9de2d3b-3098-4ac1-92a7-5b8b436ccb83"
      },
      "execution_count": null,
      "outputs": [
        {
          "output_type": "error",
          "ename": "TypeError",
          "evalue": "ignored",
          "traceback": [
            "\u001b[0;31m---------------------------------------------------------------------------\u001b[0m",
            "\u001b[0;31mTypeError\u001b[0m                                 Traceback (most recent call last)",
            "\u001b[0;32m<ipython-input-246-178426826d07>\u001b[0m in \u001b[0;36m<module>\u001b[0;34m\u001b[0m\n\u001b[1;32m      1\u001b[0m \u001b[0mset1\u001b[0m \u001b[0;34m=\u001b[0m \u001b[0;34m{\u001b[0m\u001b[0;36m1\u001b[0m\u001b[0;34m,\u001b[0m \u001b[0;36m2\u001b[0m\u001b[0;34m,\u001b[0m \u001b[0;36m4\u001b[0m\u001b[0;34m}\u001b[0m\u001b[0;34m\u001b[0m\u001b[0;34m\u001b[0m\u001b[0m\n\u001b[1;32m      2\u001b[0m \u001b[0mset2\u001b[0m \u001b[0;34m=\u001b[0m \u001b[0;34m{\u001b[0m\u001b[0;36m4\u001b[0m\u001b[0;34m,\u001b[0m \u001b[0;36m5\u001b[0m\u001b[0;34m,\u001b[0m \u001b[0;36m6\u001b[0m\u001b[0;34m}\u001b[0m\u001b[0;34m\u001b[0m\u001b[0;34m\u001b[0m\u001b[0m\n\u001b[0;32m----> 3\u001b[0;31m \u001b[0mset3\u001b[0m\u001b[0;34m=\u001b[0m \u001b[0mset1\u001b[0m \u001b[0;34m+\u001b[0m \u001b[0mset2\u001b[0m\u001b[0;34m\u001b[0m\u001b[0;34m\u001b[0m\u001b[0m\n\u001b[0m\u001b[1;32m      4\u001b[0m \u001b[0mprint\u001b[0m\u001b[0;34m(\u001b[0m\u001b[0mlen\u001b[0m\u001b[0;34m(\u001b[0m\u001b[0mset3\u001b[0m\u001b[0;34m)\u001b[0m\u001b[0;34m)\u001b[0m\u001b[0;34m\u001b[0m\u001b[0;34m\u001b[0m\u001b[0m\n",
            "\u001b[0;31mTypeError\u001b[0m: unsupported operand type(s) for +: 'set' and 'set'"
          ]
        }
      ]
    },
    {
      "cell_type": "code",
      "source": [
        "sets = {3, 4, 5} \n",
        "sets.update([1, 2, 3])\n",
        "sets"
      ],
      "metadata": {
        "colab": {
          "base_uri": "https://localhost:8080/"
        },
        "id": "JY8kOnO2qO3f",
        "outputId": "4b9f0b37-9036-4355-b3e5-61807e7df58a"
      },
      "execution_count": null,
      "outputs": [
        {
          "output_type": "execute_result",
          "data": {
            "text/plain": [
              "{1, 2, 3, 4, 5}"
            ]
          },
          "metadata": {},
          "execution_count": 247
        }
      ]
    },
    {
      "cell_type": "code",
      "source": [
        "sets1 = {3, 4, 5} \n",
        "sets1 = sets1.union({1, 2, 3})\n",
        "sets1"
      ],
      "metadata": {
        "colab": {
          "base_uri": "https://localhost:8080/"
        },
        "id": "2mWEo0qDrB2-",
        "outputId": "edc46453-386d-49a4-bb2a-91c2c3392ce9"
      },
      "execution_count": null,
      "outputs": [
        {
          "output_type": "execute_result",
          "data": {
            "text/plain": [
              "{1, 2, 3, 4, 5}"
            ]
          },
          "metadata": {},
          "execution_count": 251
        }
      ]
    },
    {
      "cell_type": "code",
      "source": [
        " s =set(['Scaler', 'Academy', 'is', 'Awesome'])\n"
      ],
      "metadata": {
        "id": "c7rBfbwPrKVr"
      },
      "execution_count": null,
      "outputs": []
    },
    {
      "cell_type": "code",
      "source": [
        "def set_operation(sent1,sent2):\n",
        "  sent1 = set(sent1.split(\" \"))\n",
        "  print(sent1)\n",
        "  n1=len(sent1)\n",
        "  sent2 = set(sent2.split(\" \"))\n",
        "  print(sent2)\n",
        "  n2=len(sent2)\n",
        "  return n1+n2\n",
        "\n",
        "    \n",
        "  \n",
        "set_operation(\"in data analysis we use data and process it further to create better interpreted data\",\"more and more data will be passively collected\")"
      ],
      "metadata": {
        "colab": {
          "base_uri": "https://localhost:8080/"
        },
        "id": "tEZauF5Or0i_",
        "outputId": "f1990a0d-b83b-44e9-ee1b-b48df74d7922"
      },
      "execution_count": null,
      "outputs": [
        {
          "output_type": "stream",
          "name": "stdout",
          "text": [
            "{'further', 'interpreted', 'it', 'analysis', 'better', 'data', 'use', 'process', 'to', 'create', 'in', 'we', 'and'}\n",
            "{'more', 'data', 'be', 'passively', 'collected', 'and', 'will'}\n"
          ]
        },
        {
          "output_type": "execute_result",
          "data": {
            "text/plain": [
              "20"
            ]
          },
          "metadata": {},
          "execution_count": 282
        }
      ]
    },
    {
      "cell_type": "code",
      "source": [],
      "metadata": {
        "id": "IMJVLstassez"
      },
      "execution_count": null,
      "outputs": []
    }
  ]
}