{
  "nbformat": 4,
  "nbformat_minor": 0,
  "metadata": {
    "colab": {
      "provenance": [],
      "authorship_tag": "ABX9TyMsbrYmDsK/IjniO1it2p1e",
      "include_colab_link": true
    },
    "kernelspec": {
      "name": "python3",
      "display_name": "Python 3"
    },
    "language_info": {
      "name": "python"
    }
  },
  "cells": [
    {
      "cell_type": "markdown",
      "metadata": {
        "id": "view-in-github",
        "colab_type": "text"
      },
      "source": [
        "<a href=\"https://colab.research.google.com/github/dmish10/Scaler_Homework/blob/master/Strings.ipynb\" target=\"_parent\"><img src=\"https://colab.research.google.com/assets/colab-badge.svg\" alt=\"Open In Colab\"/></a>"
      ]
    },
    {
      "cell_type": "code",
      "execution_count": null,
      "metadata": {
        "id": "Vu3-gwDt3yRW"
      },
      "outputs": [],
      "source": [
        "# all single, double, triple quoted values are strings. triple quotes are docstrings"
      ]
    },
    {
      "cell_type": "code",
      "source": [
        "z= \"\\\"ab\\\"\" # escape characters"
      ],
      "metadata": {
        "id": "hY5JuZgm4FfO"
      },
      "execution_count": null,
      "outputs": []
    },
    {
      "cell_type": "code",
      "source": [
        "print(z)"
      ],
      "metadata": {
        "colab": {
          "base_uri": "https://localhost:8080/"
        },
        "id": "WvRDTY_K4XLi",
        "outputId": "2ec9fb2a-f64e-460c-9312-0d04b120c864"
      },
      "execution_count": null,
      "outputs": [
        {
          "output_type": "stream",
          "name": "stdout",
          "text": [
            "\"ab\"\n"
          ]
        }
      ]
    },
    {
      "cell_type": "code",
      "source": [
        "'a'>\"A\" #the comparison happens on the basis on ASCII values"
      ],
      "metadata": {
        "colab": {
          "base_uri": "https://localhost:8080/"
        },
        "id": "2o_QozWp4YLY",
        "outputId": "e1bf0387-6529-40e4-96db-886a07694600"
      },
      "execution_count": null,
      "outputs": [
        {
          "output_type": "execute_result",
          "data": {
            "text/plain": [
              "True"
            ]
          },
          "metadata": {},
          "execution_count": 5
        }
      ]
    },
    {
      "cell_type": "code",
      "source": [
        "\"random\" +'random2'"
      ],
      "metadata": {
        "colab": {
          "base_uri": "https://localhost:8080/",
          "height": 35
        },
        "id": "1PjMkR694bQw",
        "outputId": "badb3646-d5ed-43eb-8ae3-065452206fbe"
      },
      "execution_count": null,
      "outputs": [
        {
          "output_type": "execute_result",
          "data": {
            "text/plain": [
              "'randomrandom2'"
            ],
            "application/vnd.google.colaboratory.intrinsic+json": {
              "type": "string"
            }
          },
          "metadata": {},
          "execution_count": 6
        }
      ]
    },
    {
      "cell_type": "code",
      "source": [
        "'a'*3*2"
      ],
      "metadata": {
        "colab": {
          "base_uri": "https://localhost:8080/",
          "height": 35
        },
        "id": "Hn_79Lop4qlN",
        "outputId": "d0f8e87a-98ce-465f-d5d0-fd83b207fba4"
      },
      "execution_count": null,
      "outputs": [
        {
          "output_type": "execute_result",
          "data": {
            "text/plain": [
              "'aaaaaa'"
            ],
            "application/vnd.google.colaboratory.intrinsic+json": {
              "type": "string"
            }
          },
          "metadata": {},
          "execution_count": 7
        }
      ]
    },
    {
      "cell_type": "code",
      "source": [
        "'abracadabra'>'chabracadabra'"
      ],
      "metadata": {
        "colab": {
          "base_uri": "https://localhost:8080/"
        },
        "id": "E0u_vufa4v3A",
        "outputId": "e5ec9bbf-1783-4b9d-b4f2-f80e169a198c"
      },
      "execution_count": null,
      "outputs": [
        {
          "output_type": "execute_result",
          "data": {
            "text/plain": [
              "False"
            ]
          },
          "metadata": {},
          "execution_count": 8
        }
      ]
    },
    {
      "cell_type": "code",
      "source": [
        "'abc' >'ab'"
      ],
      "metadata": {
        "colab": {
          "base_uri": "https://localhost:8080/"
        },
        "id": "H39D42OH431d",
        "outputId": "5caa8d93-7183-4273-8e68-e62a1e685f44"
      },
      "execution_count": null,
      "outputs": [
        {
          "output_type": "execute_result",
          "data": {
            "text/plain": [
              "True"
            ]
          },
          "metadata": {},
          "execution_count": 9
        }
      ]
    },
    {
      "cell_type": "code",
      "source": [
        "'abc'>'cba' #lexicographical comparison"
      ],
      "metadata": {
        "colab": {
          "base_uri": "https://localhost:8080/"
        },
        "id": "Yqcuz54747Iv",
        "outputId": "d3d29dbf-7160-4686-919b-cd895a3b4072"
      },
      "execution_count": null,
      "outputs": [
        {
          "output_type": "execute_result",
          "data": {
            "text/plain": [
              "False"
            ]
          },
          "metadata": {},
          "execution_count": 10
        }
      ]
    },
    {
      "cell_type": "code",
      "source": [
        "'zebra'> 'debracula' #for different strings, comparison is based on lexicography - any char/string that appear late in the dictionary"
      ],
      "metadata": {
        "colab": {
          "base_uri": "https://localhost:8080/"
        },
        "id": "ydrA4mpG5AXO",
        "outputId": "415401cd-7c73-4460-aecd-a07c333e0eec"
      },
      "execution_count": null,
      "outputs": [
        {
          "output_type": "execute_result",
          "data": {
            "text/plain": [
              "True"
            ]
          },
          "metadata": {},
          "execution_count": 11
        }
      ]
    },
    {
      "cell_type": "code",
      "source": [
        "'zebra' > 'Zebra' # for same string with different cases( upper-lower), comparison happens on the basis of ASCII values- python is case sensitive"
      ],
      "metadata": {
        "colab": {
          "base_uri": "https://localhost:8080/"
        },
        "id": "H8Zu2MIZ5SmP",
        "outputId": "6ce3dc45-720b-4f92-876d-60b83aab9930"
      },
      "execution_count": null,
      "outputs": [
        {
          "output_type": "execute_result",
          "data": {
            "text/plain": [
              "True"
            ]
          },
          "metadata": {},
          "execution_count": 13
        }
      ]
    },
    {
      "cell_type": "code",
      "source": [
        "length= 5\n",
        "breadth= 10\n",
        "area= length*breadth"
      ],
      "metadata": {
        "id": "zLHSyTkC5eUN"
      },
      "execution_count": null,
      "outputs": []
    },
    {
      "cell_type": "code",
      "source": [
        "def calc_area1(l,b):\n",
        "  a= l * b\n",
        "  print(\"length=\",l,\"breadth=\",b,\"area=\",a) \n",
        "  \n",
        "calc_area1(5,10)"
      ],
      "metadata": {
        "colab": {
          "base_uri": "https://localhost:8080/"
        },
        "id": "cCY2iLr56xxo",
        "outputId": "e7ce4b72-18e3-47dd-f714-67d92d2c5ab2"
      },
      "execution_count": null,
      "outputs": [
        {
          "output_type": "stream",
          "name": "stdout",
          "text": [
            "length= 5 breadth= 10 area= 50\n"
          ]
        }
      ]
    },
    {
      "cell_type": "code",
      "source": [
        "def calc_area2(l,b):\n",
        "  a= l * b\n",
        "  print(\"length={},breadth={},area={}\".format(l,b,a)) #curly braces are placeholders using method format\n",
        "  \n",
        "calc_area2(5,10)"
      ],
      "metadata": {
        "colab": {
          "base_uri": "https://localhost:8080/"
        },
        "id": "RzB60qXE7Rla",
        "outputId": "df444e1e-27c3-4f19-d7cc-f59ada0c1580"
      },
      "execution_count": null,
      "outputs": [
        {
          "output_type": "stream",
          "name": "stdout",
          "text": [
            "length=5,breadth=10,area=50\n"
          ]
        }
      ]
    },
    {
      "cell_type": "code",
      "source": [
        "def calc_area3(l,b):\n",
        "  a= l * b\n",
        "  print(\"length={2},breadth={1},area={0}\".format(a,b,l)) #curly braces are placeholders using method format with specified indices\n",
        "  \n",
        "calc_area3(5,10)"
      ],
      "metadata": {
        "colab": {
          "base_uri": "https://localhost:8080/"
        },
        "id": "nhYRCZkC70G-",
        "outputId": "7ee36e02-9051-4ec6-f04e-a5d7cc1e59ac"
      },
      "execution_count": null,
      "outputs": [
        {
          "output_type": "stream",
          "name": "stdout",
          "text": [
            "length=5,breadth=10,area=50\n"
          ]
        }
      ]
    },
    {
      "cell_type": "code",
      "source": [
        "def calc_area4(l,b):\n",
        "  a= l * b\n",
        "  print(f\"length = {l},breadth = {b},area = {a}\") \n",
        "calc_area4(5,10)"
      ],
      "metadata": {
        "colab": {
          "base_uri": "https://localhost:8080/"
        },
        "id": "IbkMbX6x8Zh5",
        "outputId": "abe03d26-7551-4b69-8b81-d3c5beca22a3"
      },
      "execution_count": null,
      "outputs": [
        {
          "output_type": "stream",
          "name": "stdout",
          "text": [
            "length = 5,breadth = 10,area = 50\n"
          ]
        }
      ]
    },
    {
      "cell_type": "code",
      "source": [
        "s1=  \"string1\"\n",
        "s2=  \"string2\"\n",
        "a = f\"{s1},{s2}\"\n",
        "a"
      ],
      "metadata": {
        "colab": {
          "base_uri": "https://localhost:8080/",
          "height": 35
        },
        "id": "OpX-pWoi83br",
        "outputId": "f15779f0-949a-487f-9304-ef6789c6b894"
      },
      "execution_count": null,
      "outputs": [
        {
          "output_type": "execute_result",
          "data": {
            "text/plain": [
              "'string1,string2'"
            ],
            "application/vnd.google.colaboratory.intrinsic+json": {
              "type": "string"
            }
          },
          "metadata": {},
          "execution_count": 26
        }
      ]
    },
    {
      "cell_type": "code",
      "source": [
        "#to check ASCII value of char \n",
        "\n",
        "ord(\"a\")"
      ],
      "metadata": {
        "colab": {
          "base_uri": "https://localhost:8080/"
        },
        "id": "dxo5V2Q39n8m",
        "outputId": "4619eecf-68a9-4785-bcf4-bb3701d8aa41"
      },
      "execution_count": null,
      "outputs": [
        {
          "output_type": "execute_result",
          "data": {
            "text/plain": [
              "97"
            ]
          },
          "metadata": {},
          "execution_count": 28
        }
      ]
    },
    {
      "cell_type": "code",
      "source": [
        "ord(\"🐍\") #UTF8 value for emoji - UTF 8 is the superset of ASCII that has all ASCII codes and other emoji codes"
      ],
      "metadata": {
        "colab": {
          "base_uri": "https://localhost:8080/"
        },
        "id": "ZATjmwDKBzka",
        "outputId": "9db6affd-074d-4ea4-b8d0-18e1be75d8e9"
      },
      "execution_count": null,
      "outputs": [
        {
          "output_type": "execute_result",
          "data": {
            "text/plain": [
              "128013"
            ]
          },
          "metadata": {},
          "execution_count": 30
        }
      ]
    },
    {
      "cell_type": "code",
      "source": [
        "chr(128516)"
      ],
      "metadata": {
        "colab": {
          "base_uri": "https://localhost:8080/",
          "height": 35
        },
        "id": "8BEafKJ7CYmc",
        "outputId": "b3a53537-25d1-40f4-d293-4701973fd6fa"
      },
      "execution_count": null,
      "outputs": [
        {
          "output_type": "execute_result",
          "data": {
            "text/plain": [
              "'😄'"
            ],
            "application/vnd.google.colaboratory.intrinsic+json": {
              "type": "string"
            }
          },
          "metadata": {},
          "execution_count": 31
        }
      ]
    },
    {
      "cell_type": "code",
      "source": [
        "ord(\"\\n\")"
      ],
      "metadata": {
        "colab": {
          "base_uri": "https://localhost:8080/"
        },
        "id": "vwFkXV18DVh5",
        "outputId": "372d5558-41ab-4cd8-b5e6-838e8d4c785b"
      },
      "execution_count": null,
      "outputs": [
        {
          "output_type": "execute_result",
          "data": {
            "text/plain": [
              "10"
            ]
          },
          "metadata": {},
          "execution_count": 32
        }
      ]
    },
    {
      "cell_type": "code",
      "source": [
        "chr(97)"
      ],
      "metadata": {
        "colab": {
          "base_uri": "https://localhost:8080/",
          "height": 35
        },
        "id": "cS4Wp1YxDYyD",
        "outputId": "b18bd0e3-132c-4a32-8379-ee5e156dced5"
      },
      "execution_count": null,
      "outputs": [
        {
          "output_type": "execute_result",
          "data": {
            "text/plain": [
              "'a'"
            ],
            "application/vnd.google.colaboratory.intrinsic+json": {
              "type": "string"
            }
          },
          "metadata": {},
          "execution_count": 35
        }
      ]
    },
    {
      "cell_type": "code",
      "source": [
        "chr(56) #from integer,get the correcpoding character"
      ],
      "metadata": {
        "colab": {
          "base_uri": "https://localhost:8080/",
          "height": 35
        },
        "id": "WVKpnV2YDiO4",
        "outputId": "21258380-4a3e-4015-a40e-0e8d8dfe551f"
      },
      "execution_count": null,
      "outputs": [
        {
          "output_type": "execute_result",
          "data": {
            "text/plain": [
              "'8'"
            ],
            "application/vnd.google.colaboratory.intrinsic+json": {
              "type": "string"
            }
          },
          "metadata": {},
          "execution_count": 37
        }
      ]
    },
    {
      "cell_type": "code",
      "source": [
        "\"\"\" Question 1-\n",
        "1. take a string as input from the user\n",
        "2. print the string character by character in new line\n",
        "Input = \"VIRAT\"\n",
        "Output = \n",
        "V\n",
        "I \n",
        "R\n",
        "A\n",
        "T\"\"\""
      ],
      "metadata": {
        "colab": {
          "base_uri": "https://localhost:8080/",
          "height": 53
        },
        "id": "dP8oNE4BDsHM",
        "outputId": "801a123f-6fff-41a2-c1f4-56599844627c"
      },
      "execution_count": null,
      "outputs": [
        {
          "output_type": "execute_result",
          "data": {
            "text/plain": [
              "' Question 1-\\n1. take a string as input from the user\\n2. print the string character by character in new line\\nInput = \"VIRAT\"\\nOutput = \\nV\\nI \\nR\\nA\\nT'"
            ],
            "application/vnd.google.colaboratory.intrinsic+json": {
              "type": "string"
            }
          },
          "metadata": {},
          "execution_count": 40
        }
      ]
    },
    {
      "cell_type": "code",
      "source": [
        "A= input()\n",
        "for i in A:\n",
        "  print(i)"
      ],
      "metadata": {
        "colab": {
          "base_uri": "https://localhost:8080/"
        },
        "id": "KO_SZ1LjEYdR",
        "outputId": "b7e8430b-4531-442e-8ac2-ec8c7809a155"
      },
      "execution_count": null,
      "outputs": [
        {
          "output_type": "stream",
          "name": "stdout",
          "text": [
            "VIRAT\n",
            "V\n",
            "I\n",
            "R\n",
            "A\n",
            "T\n"
          ]
        }
      ]
    },
    {
      "cell_type": "code",
      "source": [
        "\"\"\" Question 2-\n",
        "1. take a string as input from the user\n",
        "2. print the following - first character and last character\"\"\""
      ],
      "metadata": {
        "colab": {
          "base_uri": "https://localhost:8080/",
          "height": 35
        },
        "id": "QUEpqUeFE0CT",
        "outputId": "4ca9a5fb-1f6d-4d04-8aec-7980529ff6c8"
      },
      "execution_count": null,
      "outputs": [
        {
          "output_type": "execute_result",
          "data": {
            "text/plain": [
              "' Question 1-\\n1. take a string as input from the user\\n2. print the following - first character and last character'"
            ],
            "application/vnd.google.colaboratory.intrinsic+json": {
              "type": "string"
            }
          },
          "metadata": {},
          "execution_count": 44
        }
      ]
    },
    {
      "cell_type": "code",
      "source": [
        "\n",
        "print(f\"first character is {A[0]}, last character is {A[len(A)-1]}\")"
      ],
      "metadata": {
        "colab": {
          "base_uri": "https://localhost:8080/"
        },
        "id": "pc4LNRy8FajQ",
        "outputId": "ca9e5009-9c39-4757-d9de-a3da2c21f9ea"
      },
      "execution_count": null,
      "outputs": [
        {
          "output_type": "stream",
          "name": "stdout",
          "text": [
            "first character is V, last character is T\n"
          ]
        }
      ]
    },
    {
      "cell_type": "code",
      "source": [
        "\"\"\" Question 3-\n",
        "1. take a string as input from the user\n",
        "2. Reverse that string\"\"\""
      ],
      "metadata": {
        "colab": {
          "base_uri": "https://localhost:8080/",
          "height": 35
        },
        "id": "ZRRVtpDBFn8a",
        "outputId": "dc90cd7a-2ab7-4950-8867-cc0c75ad220b"
      },
      "execution_count": null,
      "outputs": [
        {
          "output_type": "execute_result",
          "data": {
            "text/plain": [
              "' Question 3-\\n1. take a string as input from the user\\n2. Reverse that string'"
            ],
            "application/vnd.google.colaboratory.intrinsic+json": {
              "type": "string"
            }
          },
          "metadata": {},
          "execution_count": 49
        }
      ]
    },
    {
      "cell_type": "code",
      "source": [
        "B=A[::-1]\n",
        "print(B)\n",
        "for i in B:\n",
        "  print(i)\n",
        "\n",
        " "
      ],
      "metadata": {
        "colab": {
          "base_uri": "https://localhost:8080/"
        },
        "id": "ECjNvcNMGFCo",
        "outputId": "c500a82c-0877-42e7-bc74-c2dca8125ca8"
      },
      "execution_count": null,
      "outputs": [
        {
          "output_type": "stream",
          "name": "stdout",
          "text": [
            "TARIV\n",
            "T\n",
            "A\n",
            "R\n",
            "I\n",
            "V\n"
          ]
        }
      ]
    },
    {
      "cell_type": "code",
      "source": [
        "\"\"\" Question 4-\n",
        "1. take a string as input from the user\n",
        "2. check if the string is a palindrome\n",
        "create a function that returns \"palindrom\" if true else \"not a palindrome\" \"\"\""
      ],
      "metadata": {
        "colab": {
          "base_uri": "https://localhost:8080/",
          "height": 53
        },
        "id": "Pje6FcaqGKoN",
        "outputId": "ae1350eb-330e-4428-feb1-0c67a2dff152"
      },
      "execution_count": null,
      "outputs": [
        {
          "output_type": "execute_result",
          "data": {
            "text/plain": [
              "' Question 4-\\n1. take a string as input from the user\\n2. check if the string is a palindrome\\ncreate a function that returns \"palindrom\" if true else \"not a palindrome\" '"
            ],
            "application/vnd.google.colaboratory.intrinsic+json": {
              "type": "string"
            }
          },
          "metadata": {},
          "execution_count": 63
        }
      ]
    },
    {
      "cell_type": "code",
      "source": [
        "C=input()\n",
        "def pali(C):\n",
        "  C=C.lower()\n",
        "  D= C[::-1]\n",
        "  if C==D:\n",
        "    return 'palindrome'\n",
        "  else:\n",
        "    return \"not\"\n"
      ],
      "metadata": {
        "colab": {
          "base_uri": "https://localhost:8080/"
        },
        "id": "Q27sxGujH2Vo",
        "outputId": "258c15fe-b217-45bb-a266-90ccc4cf6ff5"
      },
      "execution_count": null,
      "outputs": [
        {
          "name": "stdout",
          "output_type": "stream",
          "text": [
            "nmn\n"
          ]
        }
      ]
    },
    {
      "cell_type": "code",
      "source": [
        "pali(\"NAmaN\")"
      ],
      "metadata": {
        "colab": {
          "base_uri": "https://localhost:8080/",
          "height": 35
        },
        "id": "SrwLw9JGIle2",
        "outputId": "6e997b40-ed1c-4ee9-f187-165dc053d76d"
      },
      "execution_count": null,
      "outputs": [
        {
          "output_type": "execute_result",
          "data": {
            "text/plain": [
              "'palindrome'"
            ],
            "application/vnd.google.colaboratory.intrinsic+json": {
              "type": "string"
            }
          },
          "metadata": {},
          "execution_count": 75
        }
      ]
    },
    {
      "cell_type": "code",
      "source": [
        "\"\"\" Question 5-\n",
        "1. take a string as input from the user\n",
        "2. print the number of uppercase characters in that string (alphabets)\n",
        "INPUT = This is Random senetence.\n",
        "Output =2\"\"\""
      ],
      "metadata": {
        "colab": {
          "base_uri": "https://localhost:8080/",
          "height": 53
        },
        "id": "FmnVZcB4JtLh",
        "outputId": "23248568-49e5-4ddf-f73e-35e282374af0"
      },
      "execution_count": null,
      "outputs": [
        {
          "output_type": "execute_result",
          "data": {
            "text/plain": [
              "' Question 5-\\n1. take a string as input from the user\\n2. print the number of uppercase characters in that string (alphabets)\\nINPUT = this is Random senetence.\\nOutput =2'"
            ],
            "application/vnd.google.colaboratory.intrinsic+json": {
              "type": "string"
            }
          },
          "metadata": {},
          "execution_count": 76
        }
      ]
    },
    {
      "cell_type": "code",
      "source": [
        "def count_uppercase(I):\n",
        "  count=0\n",
        "  for i in I:\n",
        "    if ord(i)>= 65 and  ord(i)<=90:\n",
        "    # if i == i.upper():\n",
        "      count+=1\n",
        "  return count\n",
        "\n"
      ],
      "metadata": {
        "id": "mevVs59KKVmC"
      },
      "execution_count": null,
      "outputs": []
    },
    {
      "cell_type": "code",
      "source": [
        "I= \"This is Random Sentence\"\n",
        "count_uppercase(I)"
      ],
      "metadata": {
        "colab": {
          "base_uri": "https://localhost:8080/"
        },
        "id": "q7Utcmn8Lr8j",
        "outputId": "5bfdcab1-0acd-4607-f197-232228a59a90"
      },
      "execution_count": null,
      "outputs": [
        {
          "output_type": "execute_result",
          "data": {
            "text/plain": [
              "3"
            ]
          },
          "metadata": {},
          "execution_count": 102
        }
      ]
    },
    {
      "cell_type": "code",
      "source": [
        "def count_uppercase_easy(F):\n",
        "  count=0\n",
        "  for i in F:\n",
        "    # if ord(i)>= 65 and  ord(i)<=90:\n",
        "    if i.isupper():\n",
        "      count+=1\n",
        "  return count\n",
        "F= \"This is Random Sentence\"\n",
        "count_uppercase_easy(F)"
      ],
      "metadata": {
        "colab": {
          "base_uri": "https://localhost:8080/"
        },
        "id": "debTBv24OGeO",
        "outputId": "149ff368-8a65-441d-f338-bee9352ef5c6"
      },
      "execution_count": null,
      "outputs": [
        {
          "output_type": "execute_result",
          "data": {
            "text/plain": [
              "3"
            ]
          },
          "metadata": {},
          "execution_count": 100
        }
      ]
    },
    {
      "cell_type": "code",
      "source": [
        "\"\"\" Question 6-\n",
        "1. take a string as input from the user\n",
        "2. generate a string from char values of the integer\n",
        "input= [65,97,68]\n",
        "output= 'Aad' \n",
        "\n",
        "explaination -\n",
        "'A'--> 65\n",
        "'a'-->97\n",
        "'d'--> 68\n",
        "\"\"\""
      ],
      "metadata": {
        "colab": {
          "base_uri": "https://localhost:8080/",
          "height": 53
        },
        "id": "neuYsa1SO68t",
        "outputId": "b885a334-8d08-42db-9f27-18d041af559b"
      },
      "execution_count": null,
      "outputs": [
        {
          "output_type": "execute_result",
          "data": {
            "text/plain": [
              "\" Question 6-\\n1. take a string as input from the user\\n2. generate a string from char values of the integer\\ninput= [65,97,68]\\noutput= 'Aad' \\n\\nexplaination -\\n'A'--> 65\\n'a'-->97\\n'd'--> 68\\n\""
            ],
            "application/vnd.google.colaboratory.intrinsic+json": {
              "type": "string"
            }
          },
          "metadata": {},
          "execution_count": 103
        }
      ]
    },
    {
      "cell_type": "code",
      "source": [
        "A= [65,97,68]\n",
        "\n",
        "def generate_string(A):\n",
        "  s=\"\"\n",
        "  for i in A:\n",
        "    s+=chr(i) # + is used to append in strings\n",
        "  return s\n",
        "\n",
        "generate_string(A)"
      ],
      "metadata": {
        "colab": {
          "base_uri": "https://localhost:8080/",
          "height": 35
        },
        "id": "rK9QqN8wWue5",
        "outputId": "68c2249f-547b-4f20-ea7b-171c15c9bdd7"
      },
      "execution_count": null,
      "outputs": [
        {
          "output_type": "execute_result",
          "data": {
            "text/plain": [
              "'AaD'"
            ],
            "application/vnd.google.colaboratory.intrinsic+json": {
              "type": "string"
            }
          },
          "metadata": {},
          "execution_count": 114
        }
      ]
    },
    {
      "cell_type": "code",
      "source": [
        "A= [65,97,68,128516, 122342, 55, 120,110,10,80,56]\n",
        "def generate_string(A):\n",
        "  s=\"\"\n",
        "  for i in A:\n",
        "    s+=chr(i) # + is used to append in strings\n",
        "  return s\n",
        "\n",
        "generate_string(A)"
      ],
      "metadata": {
        "colab": {
          "base_uri": "https://localhost:8080/",
          "height": 35
        },
        "id": "CQ4HVrasXmwN",
        "outputId": "f257f335-ac70-49df-dbfc-45ddc7de9e70"
      },
      "execution_count": null,
      "outputs": [
        {
          "output_type": "execute_result",
          "data": {
            "text/plain": [
              "'AaD😄\\U0001dde67xn\\nP8'"
            ],
            "application/vnd.google.colaboratory.intrinsic+json": {
              "type": "string"
            }
          },
          "metadata": {},
          "execution_count": 125
        }
      ]
    },
    {
      "cell_type": "code",
      "source": [
        "type(generate_string(A))"
      ],
      "metadata": {
        "colab": {
          "base_uri": "https://localhost:8080/"
        },
        "id": "nI_ErVP-ZzrY",
        "outputId": "5fbb17ce-d948-4cbf-a6d4-fdda3d8335a5"
      },
      "execution_count": null,
      "outputs": [
        {
          "output_type": "execute_result",
          "data": {
            "text/plain": [
              "str"
            ]
          },
          "metadata": {},
          "execution_count": 118
        }
      ]
    },
    {
      "cell_type": "code",
      "source": [
        "def v_c(A):\n",
        "  A=A.lower()\n",
        "  s=[]\n",
        "  vowel=0\n",
        "  const=0\n",
        "  for i in A:\n",
        "    if i=='a' or i=='e' or i=='i' or i=='o' or i=='u':\n",
        "      vowel+=1\n",
        "    elif i!='a' or i!='e' or i!='i' or i!='o' or i!='u':\n",
        "      const+=1\n",
        "  s= [vowel] +[const]\n",
        "  return s\n",
        "A='interviewbit'\n",
        "v_c(A)"
      ],
      "metadata": {
        "colab": {
          "base_uri": "https://localhost:8080/"
        },
        "id": "4mSoabceZ-RV",
        "outputId": "8eb766c7-7982-46c0-aff5-1c32ded00087"
      },
      "execution_count": null,
      "outputs": [
        {
          "output_type": "execute_result",
          "data": {
            "text/plain": [
              "[5, 7]"
            ]
          },
          "metadata": {},
          "execution_count": 127
        }
      ]
    },
    {
      "cell_type": "code",
      "source": [
        "#SPLIT - method to break /split a string into multiple elements identifying delimiters"
      ],
      "metadata": {
        "id": "9qgPqdmt567e"
      },
      "execution_count": null,
      "outputs": []
    },
    {
      "cell_type": "code",
      "source": [
        "A= \"This is a string of worlds!\"\n",
        "B= \"this+is+so+random\""
      ],
      "metadata": {
        "id": "9x5nZH6ZfNIQ"
      },
      "execution_count": null,
      "outputs": []
    },
    {
      "cell_type": "code",
      "source": [
        "A.split(\" \")"
      ],
      "metadata": {
        "colab": {
          "base_uri": "https://localhost:8080/"
        },
        "id": "STCc8jiuxP-J",
        "outputId": "3c8cdb96-4853-43f8-abd2-8fdd783de801"
      },
      "execution_count": null,
      "outputs": [
        {
          "output_type": "execute_result",
          "data": {
            "text/plain": [
              "['This', 'is', 'a', 'string', 'of', 'worlds!']"
            ]
          },
          "metadata": {},
          "execution_count": 2
        }
      ]
    },
    {
      "cell_type": "code",
      "source": [
        "B.split(\"+\")"
      ],
      "metadata": {
        "colab": {
          "base_uri": "https://localhost:8080/"
        },
        "id": "taJMMZRJySp2",
        "outputId": "612fb7e8-c31c-4d45-c61d-8f255d7c1dcc"
      },
      "execution_count": null,
      "outputs": [
        {
          "output_type": "execute_result",
          "data": {
            "text/plain": [
              "['this', 'is', 'so', 'random']"
            ]
          },
          "metadata": {},
          "execution_count": 5
        }
      ]
    },
    {
      "cell_type": "code",
      "source": [
        "C= \"ThisRANDOMisRANDOMsoRANDOMweird\""
      ],
      "metadata": {
        "id": "dNnCfzLeyb0u"
      },
      "execution_count": null,
      "outputs": []
    },
    {
      "cell_type": "code",
      "source": [
        "C.split(\"RANDOM\")"
      ],
      "metadata": {
        "colab": {
          "base_uri": "https://localhost:8080/"
        },
        "id": "xHowHhmg49nJ",
        "outputId": "3d08699e-a5ad-4f23-df71-390f2bbfaa25"
      },
      "execution_count": null,
      "outputs": [
        {
          "output_type": "execute_result",
          "data": {
            "text/plain": [
              "['This', 'is', 'so', 'weird']"
            ]
          },
          "metadata": {},
          "execution_count": 7
        }
      ]
    },
    {
      "cell_type": "code",
      "source": [
        "# JOIN method - oppsoite of split method. joins the elemnst into a string identifying delimiters"
      ],
      "metadata": {
        "id": "zf_dhdsL5BRb"
      },
      "execution_count": null,
      "outputs": []
    },
    {
      "cell_type": "code",
      "source": [
        "a= ['This', 'is', 'a','list']"
      ],
      "metadata": {
        "id": "EaH8BXA36J0k"
      },
      "execution_count": null,
      "outputs": []
    },
    {
      "cell_type": "code",
      "source": [
        "' '.join(a)"
      ],
      "metadata": {
        "colab": {
          "base_uri": "https://localhost:8080/",
          "height": 35
        },
        "id": "T4mfQEG9IO00",
        "outputId": "8c0257a2-f006-4b35-9922-4c65c1b2f336"
      },
      "execution_count": null,
      "outputs": [
        {
          "output_type": "execute_result",
          "data": {
            "text/plain": [
              "'This is a list'"
            ],
            "application/vnd.google.colaboratory.intrinsic+json": {
              "type": "string"
            }
          },
          "metadata": {},
          "execution_count": 15
        }
      ]
    },
    {
      "cell_type": "code",
      "source": [
        "# limitation for joins is that they only operate on a list that contain strings datatype"
      ],
      "metadata": {
        "id": "MVbXyN7NIedw"
      },
      "execution_count": null,
      "outputs": []
    },
    {
      "cell_type": "code",
      "source": [
        "#FIND - method to return the index of the first instance of the given substring or word"
      ],
      "metadata": {
        "id": "UOtBZ1gpKcy6"
      },
      "execution_count": null,
      "outputs": []
    },
    {
      "cell_type": "code",
      "source": [
        "b= \"this is a random string\"\n",
        "b.find(\"random\") #so random starts at index 10"
      ],
      "metadata": {
        "colab": {
          "base_uri": "https://localhost:8080/"
        },
        "id": "GPCcZYOhLdDP",
        "outputId": "3ebeffab-f83d-4198-a8f5-4bfa1f6023b7"
      },
      "execution_count": null,
      "outputs": [
        {
          "output_type": "execute_result",
          "data": {
            "text/plain": [
              "10"
            ]
          },
          "metadata": {},
          "execution_count": 19
        }
      ]
    },
    {
      "cell_type": "code",
      "source": [
        "#if your trying to locate a substring that doesn't exist, in that case it doesnt throw an error. it simple returns -1"
      ],
      "metadata": {
        "id": "HB3GBXZTLip7"
      },
      "execution_count": null,
      "outputs": []
    },
    {
      "cell_type": "code",
      "source": [
        "b.find('kya')"
      ],
      "metadata": {
        "colab": {
          "base_uri": "https://localhost:8080/"
        },
        "id": "WtHj35XbL4nd",
        "outputId": "21f965ca-52f1-41e4-fba0-c214541f3af6"
      },
      "execution_count": null,
      "outputs": [
        {
          "output_type": "execute_result",
          "data": {
            "text/plain": [
              "-1"
            ]
          },
          "metadata": {},
          "execution_count": 21
        }
      ]
    },
    {
      "cell_type": "code",
      "source": [
        "b.find(\"a\")"
      ],
      "metadata": {
        "colab": {
          "base_uri": "https://localhost:8080/"
        },
        "id": "trjm4Nk_L78s",
        "outputId": "73432340-2d7f-4fec-91d8-5c6ff0a41104"
      },
      "execution_count": null,
      "outputs": [
        {
          "output_type": "execute_result",
          "data": {
            "text/plain": [
              "8"
            ]
          },
          "metadata": {},
          "execution_count": 22
        }
      ]
    },
    {
      "cell_type": "code",
      "source": [
        "#since python is case sensitive, it will not recognise the same substring in a different case as in below example\n",
        "b.find('Random')"
      ],
      "metadata": {
        "colab": {
          "base_uri": "https://localhost:8080/"
        },
        "id": "nRCw1I3PMH6p",
        "outputId": "7f5593cf-2f6f-41d1-95dc-e3d6e6653ba6"
      },
      "execution_count": null,
      "outputs": [
        {
          "output_type": "execute_result",
          "data": {
            "text/plain": [
              "-1"
            ]
          },
          "metadata": {},
          "execution_count": 23
        }
      ]
    },
    {
      "cell_type": "code",
      "source": [
        "#it only gives the index of the substring at its first instance\n",
        "c= 'this is this and that is nothing'\n",
        "c.find('this')"
      ],
      "metadata": {
        "colab": {
          "base_uri": "https://localhost:8080/"
        },
        "id": "QOA5lLRIMqJK",
        "outputId": "324fb515-107f-491f-a25c-35f60a798904"
      },
      "execution_count": null,
      "outputs": [
        {
          "output_type": "execute_result",
          "data": {
            "text/plain": [
              "0"
            ]
          },
          "metadata": {},
          "execution_count": 2
        }
      ]
    },
    {
      "cell_type": "code",
      "source": [
        "c.find(\"is\") #first instance is in the word this"
      ],
      "metadata": {
        "colab": {
          "base_uri": "https://localhost:8080/"
        },
        "id": "hiabhbwuyvws",
        "outputId": "fb512112-3f00-468e-fa93-bf1bc89bab8e"
      },
      "execution_count": null,
      "outputs": [
        {
          "output_type": "execute_result",
          "data": {
            "text/plain": [
              "2"
            ]
          },
          "metadata": {},
          "execution_count": 3
        }
      ]
    },
    {
      "cell_type": "code",
      "source": [
        "#Replace - replaces all instances of the word to be replaced with the new word\n",
        "C=\"this is a random string of randon words built in random\"\n",
        "C_replaced= C.replace(\"random\", \"Super random\")\n",
        "C_replaced\n",
        "C_replaced1= C.replace(\" \", \",\")\n",
        "C_replaced1"
      ],
      "metadata": {
        "colab": {
          "base_uri": "https://localhost:8080/",
          "height": 35
        },
        "id": "jLTWRBLHzxix",
        "outputId": "c0ce385f-f607-44e5-a698-1877a6adcb85"
      },
      "execution_count": null,
      "outputs": [
        {
          "output_type": "execute_result",
          "data": {
            "text/plain": [
              "'this,is,a,random,string,of,randon,words,built,in,random'"
            ],
            "application/vnd.google.colaboratory.intrinsic+json": {
              "type": "string"
            }
          },
          "metadata": {},
          "execution_count": 7
        }
      ]
    },
    {
      "cell_type": "code",
      "source": [
        "\"\"\"Question - \n",
        " 1. take an input string\n",
        " 2.convert that string to lower caps without using internal function. instead use chr and ord \"\"\""
      ],
      "metadata": {
        "colab": {
          "base_uri": "https://localhost:8080/",
          "height": 35
        },
        "id": "92NX8y-Uzxfi",
        "outputId": "00012063-3a55-4f66-a966-18512781daaa"
      },
      "execution_count": null,
      "outputs": [
        {
          "output_type": "execute_result",
          "data": {
            "text/plain": [
              "'Question - \\n 1. take an input string\\n 2.convert that string to lower caps without using internal function'"
            ],
            "application/vnd.google.colaboratory.intrinsic+json": {
              "type": "string"
            }
          },
          "metadata": {},
          "execution_count": 8
        }
      ]
    },
    {
      "cell_type": "code",
      "source": [
        "# a--> 097 A-->065 so the difference is of 32\n",
        "def custom_lower(A):\n",
        "  B=\"\"\n",
        "  for i in A:\n",
        "    order= ord(i)\n",
        "    # if ord(i)>=65 and ord(i)<=90:\n",
        "    if ord(i) in range(65,91):\n",
        "      order+=32\n",
        "      B+=chr(order)\n",
        "    else:\n",
        "      B+=i\n",
        "  return B\n",
        "custom_lower('tHIs Is Sunday')"
      ],
      "metadata": {
        "colab": {
          "base_uri": "https://localhost:8080/",
          "height": 35
        },
        "id": "PbXew60zzxc-",
        "outputId": "6da81016-69dd-4cc9-a931-d8daa9728294"
      },
      "execution_count": null,
      "outputs": [
        {
          "output_type": "execute_result",
          "data": {
            "text/plain": [
              "'this is sunday'"
            ],
            "application/vnd.google.colaboratory.intrinsic+json": {
              "type": "string"
            }
          },
          "metadata": {},
          "execution_count": 30
        }
      ]
    },
    {
      "cell_type": "code",
      "source": [
        "'amazing' in 'thisisallamazing'"
      ],
      "metadata": {
        "colab": {
          "base_uri": "https://localhost:8080/"
        },
        "id": "WKXkJZ-QzxaN",
        "outputId": "ceba0b5c-dea2-4a29-b525-c06b733835bd"
      },
      "execution_count": null,
      "outputs": [
        {
          "output_type": "execute_result",
          "data": {
            "text/plain": [
              "True"
            ]
          },
          "metadata": {},
          "execution_count": 31
        }
      ]
    },
    {
      "cell_type": "code",
      "source": [
        "#Some more interesting functions "
      ],
      "metadata": {
        "id": "ODcQ2pQAzxWK"
      },
      "execution_count": null,
      "outputs": []
    },
    {
      "cell_type": "code",
      "source": [
        "# even though the \"6\" is a string here but via isdigit function, we can check if the contents of the string a digit or not\n",
        "\"6\".isdigit()"
      ],
      "metadata": {
        "colab": {
          "base_uri": "https://localhost:8080/"
        },
        "id": "dk3e0g3hzxS7",
        "outputId": "8249829f-0f2d-49e1-f59f-61aed1c6680b"
      },
      "execution_count": null,
      "outputs": [
        {
          "output_type": "execute_result",
          "data": {
            "text/plain": [
              "True"
            ]
          },
          "metadata": {},
          "execution_count": 2
        }
      ]
    },
    {
      "cell_type": "code",
      "source": [
        "\"564dhftgdks\".isdigit()"
      ],
      "metadata": {
        "colab": {
          "base_uri": "https://localhost:8080/"
        },
        "id": "mMH4HvPQzxPn",
        "outputId": "d8bd4209-d692-4235-8ef8-9fc9249c0835"
      },
      "execution_count": null,
      "outputs": [
        {
          "output_type": "execute_result",
          "data": {
            "text/plain": [
              "False"
            ]
          },
          "metadata": {},
          "execution_count": 3
        }
      ]
    },
    {
      "cell_type": "code",
      "source": [
        "#it won't take floating point numbers as digits since it contains the dot. Its true only with numbers otherwise false\n",
        "\"45.67\".isdigit() "
      ],
      "metadata": {
        "colab": {
          "base_uri": "https://localhost:8080/"
        },
        "id": "e3YzCyBUzxMZ",
        "outputId": "12f871ea-f2cb-4f90-f068-871b904111f7"
      },
      "execution_count": null,
      "outputs": [
        {
          "output_type": "execute_result",
          "data": {
            "text/plain": [
              "False"
            ]
          },
          "metadata": {},
          "execution_count": 5
        }
      ]
    },
    {
      "cell_type": "code",
      "source": [
        "# to check alphabets\n",
        "\n",
        "\"a\".isalpha()"
      ],
      "metadata": {
        "colab": {
          "base_uri": "https://localhost:8080/"
        },
        "id": "4EQFUUw7zw5w",
        "outputId": "31bf6e67-ae1b-4fe9-8cf5-9d5a2fb54659"
      },
      "execution_count": null,
      "outputs": [
        {
          "output_type": "execute_result",
          "data": {
            "text/plain": [
              "True"
            ]
          },
          "metadata": {},
          "execution_count": 7
        }
      ]
    },
    {
      "cell_type": "code",
      "source": [
        "\"a453hng\".isalpha()"
      ],
      "metadata": {
        "colab": {
          "base_uri": "https://localhost:8080/"
        },
        "id": "snJdKZ419zZo",
        "outputId": "a08698d4-a40f-4f9f-bfcc-f27ad6bf8332"
      },
      "execution_count": null,
      "outputs": [
        {
          "output_type": "execute_result",
          "data": {
            "text/plain": [
              "False"
            ]
          },
          "metadata": {},
          "execution_count": 8
        }
      ]
    },
    {
      "cell_type": "code",
      "source": [
        "\"A\".islower()"
      ],
      "metadata": {
        "colab": {
          "base_uri": "https://localhost:8080/"
        },
        "id": "zpH1ZXhW9zWC",
        "outputId": "61fd5bbb-908f-47ee-c3eb-157f34192426"
      },
      "execution_count": null,
      "outputs": [
        {
          "output_type": "execute_result",
          "data": {
            "text/plain": [
              "False"
            ]
          },
          "metadata": {},
          "execution_count": 9
        }
      ]
    },
    {
      "cell_type": "code",
      "source": [
        "\"a\".isupper()"
      ],
      "metadata": {
        "colab": {
          "base_uri": "https://localhost:8080/"
        },
        "id": "s2Dw-a4V9zTK",
        "outputId": "a60ccee7-56f0-4669-96a2-71576e5afcfa"
      },
      "execution_count": null,
      "outputs": [
        {
          "output_type": "execute_result",
          "data": {
            "text/plain": [
              "False"
            ]
          },
          "metadata": {},
          "execution_count": 11
        }
      ]
    },
    {
      "cell_type": "code",
      "source": [
        "\"aAsshHtg\".islower()"
      ],
      "metadata": {
        "colab": {
          "base_uri": "https://localhost:8080/"
        },
        "id": "8Qba13i09zQD",
        "outputId": "b211c27f-e5c4-4f9e-c893-8f5fea58b7d6"
      },
      "execution_count": null,
      "outputs": [
        {
          "output_type": "execute_result",
          "data": {
            "text/plain": [
              "False"
            ]
          },
          "metadata": {},
          "execution_count": 12
        }
      ]
    },
    {
      "cell_type": "code",
      "source": [
        "\"if it has anything other than a space (\" \") it will be false\".isspace()"
      ],
      "metadata": {
        "colab": {
          "base_uri": "https://localhost:8080/"
        },
        "id": "-eqfzVdeab1M",
        "outputId": "759c94f6-4479-4e99-aa8d-417a378679c8"
      },
      "execution_count": null,
      "outputs": [
        {
          "output_type": "execute_result",
          "data": {
            "text/plain": [
              "False"
            ]
          },
          "metadata": {},
          "execution_count": 1
        }
      ]
    },
    {
      "cell_type": "code",
      "source": [
        "\" \".isspace()"
      ],
      "metadata": {
        "colab": {
          "base_uri": "https://localhost:8080/"
        },
        "id": "SiAZ9nGxa9GX",
        "outputId": "cd2fd9a6-0ad8-43e1-cd69-a35df13b7e45"
      },
      "execution_count": null,
      "outputs": [
        {
          "output_type": "execute_result",
          "data": {
            "text/plain": [
              "True"
            ]
          },
          "metadata": {},
          "execution_count": 2
        }
      ]
    },
    {
      "cell_type": "code",
      "source": [
        "\"\"\" Question- Create an alphanumeric function. True if all characters are alphanumeric else False\"\"\""
      ],
      "metadata": {
        "colab": {
          "base_uri": "https://localhost:8080/",
          "height": 35
        },
        "id": "FqNXCsc69zNK",
        "outputId": "59c2bb72-e1a7-4409-c415-be6341c2d2b1"
      },
      "execution_count": null,
      "outputs": [
        {
          "output_type": "execute_result",
          "data": {
            "text/plain": [
              "' Question- Create an alphanumeric function. True if all characters are alphanumeric else False'"
            ],
            "application/vnd.google.colaboratory.intrinsic+json": {
              "type": "string"
            }
          },
          "metadata": {},
          "execution_count": 13
        }
      ]
    },
    {
      "cell_type": "code",
      "source": [
        "A=\"hdghf6543hh\"\n",
        "def alpha_num(A):\n",
        "\n",
        "  for i in A:\n",
        "    if not(ord(i) in range(65,91) or ord(i) in range(97,123) or ord(i) in range(48,58)): \n",
        "      return False #Not operator to ensure that none of the conditions are true or say it is not in any of these conditions\n",
        "  else:\n",
        "    return True \n",
        "\n",
        "alpha_num(A)"
      ],
      "metadata": {
        "colab": {
          "base_uri": "https://localhost:8080/"
        },
        "id": "yBGvVW7_9zKj",
        "outputId": "dc1851f8-a7d5-47de-da41-c957ce51b6de"
      },
      "execution_count": null,
      "outputs": [
        {
          "output_type": "execute_result",
          "data": {
            "text/plain": [
              "True"
            ]
          },
          "metadata": {},
          "execution_count": 31
        }
      ]
    },
    {
      "cell_type": "code",
      "source": [
        "\"\"\" Question - Write a custom function to replace all spaces with underscore. use isspace method\"\"\""
      ],
      "metadata": {
        "colab": {
          "base_uri": "https://localhost:8080/",
          "height": 35
        },
        "id": "QNpkwCbL9zHq",
        "outputId": "0df6993a-acf1-451d-efab-8dddfa76e1d5"
      },
      "execution_count": null,
      "outputs": [
        {
          "output_type": "execute_result",
          "data": {
            "text/plain": [
              "' Question - Write a custom function to replace all spaces with underscore'"
            ],
            "application/vnd.google.colaboratory.intrinsic+json": {
              "type": "string"
            }
          },
          "metadata": {},
          "execution_count": 3
        }
      ]
    },
    {
      "cell_type": "code",
      "source": [
        "A= \"baby baby baby oooo\"\n",
        "B=\"\"\n",
        "def custom_change_to_underscore(A):\n",
        "  B= A.replace(\" \",\"_\")\n",
        "  return B\n",
        "custom_change_to_underscore(A)"
      ],
      "metadata": {
        "colab": {
          "base_uri": "https://localhost:8080/",
          "height": 35
        },
        "id": "kCV0xvCX9zEc",
        "outputId": "65ad907c-6be0-4a17-e9dd-9631cf3a08e7"
      },
      "execution_count": null,
      "outputs": [
        {
          "output_type": "execute_result",
          "data": {
            "text/plain": [
              "'baby_baby_baby_oooo'"
            ],
            "application/vnd.google.colaboratory.intrinsic+json": {
              "type": "string"
            }
          },
          "metadata": {},
          "execution_count": 4
        }
      ]
    },
    {
      "cell_type": "code",
      "source": [
        "\n",
        "def change_to_underscore(A):\n",
        "  result = \"\"\n",
        "  for i in A:\n",
        "    if i.isspace()==True:\n",
        "    # if ord(i)==32: \n",
        "    # if i== \" \":\n",
        "      result += \"_\"\n",
        "    else:\n",
        "      result += i\n",
        "  return result\n",
        "\n",
        "change_to_underscore(\"baby baby baby oooo\")\n",
        "\n"
      ],
      "metadata": {
        "colab": {
          "base_uri": "https://localhost:8080/",
          "height": 35
        },
        "id": "MPx2kr7s9zA7",
        "outputId": "05df7822-45b8-48f7-f3c8-f3e7e8b8d35b"
      },
      "execution_count": null,
      "outputs": [
        {
          "output_type": "execute_result",
          "data": {
            "text/plain": [
              "'baby_baby_baby_oooo'"
            ],
            "application/vnd.google.colaboratory.intrinsic+json": {
              "type": "string"
            }
          },
          "metadata": {},
          "execution_count": 20
        }
      ]
    },
    {
      "cell_type": "code",
      "source": [
        "# ESCAPE characters - are special characters. If we have to highlight or double  quote a particular substring or part"
      ],
      "metadata": {
        "id": "FmYcMs7g9y7-"
      },
      "execution_count": null,
      "outputs": []
    },
    {
      "cell_type": "code",
      "source": [
        "A='abc is a \\\"special person\\\" inside a string'\n",
        "A"
      ],
      "metadata": {
        "colab": {
          "base_uri": "https://localhost:8080/",
          "height": 35
        },
        "id": "Cvxufjae9y3P",
        "outputId": "2a9d268f-55c4-405a-bd53-a31b23b37269"
      },
      "execution_count": null,
      "outputs": [
        {
          "output_type": "execute_result",
          "data": {
            "text/plain": [
              "'abc is a \"special person\" inside a string'"
            ],
            "application/vnd.google.colaboratory.intrinsic+json": {
              "type": "string"
            }
          },
          "metadata": {},
          "execution_count": 24
        }
      ]
    },
    {
      "cell_type": "code",
      "source": [
        "a=\"random \\n really\"\n",
        "a"
      ],
      "metadata": {
        "colab": {
          "base_uri": "https://localhost:8080/",
          "height": 35
        },
        "id": "TTyGBn449ywa",
        "outputId": "f10d127b-6559-40b1-fc7b-2f6709d4ca4e"
      },
      "execution_count": null,
      "outputs": [
        {
          "output_type": "execute_result",
          "data": {
            "text/plain": [
              "'random \\n really'"
            ],
            "application/vnd.google.colaboratory.intrinsic+json": {
              "type": "string"
            }
          },
          "metadata": {},
          "execution_count": 29
        }
      ]
    },
    {
      "cell_type": "code",
      "source": [],
      "metadata": {
        "id": "8hGZl_l69yed"
      },
      "execution_count": null,
      "outputs": []
    },
    {
      "cell_type": "code",
      "source": [],
      "metadata": {
        "id": "TBcoUr_09ybV"
      },
      "execution_count": null,
      "outputs": []
    },
    {
      "cell_type": "code",
      "source": [
        "word = \"Scaler Academy\"\n",
        "n = len(word)\n",
        "word1 = word.upper()\n",
        "word2 = word.lower()\n",
        "\n",
        "converted_word = \"\"\n",
        "\n",
        "for i in range(n):\n",
        "     if i % 2 == 0:\n",
        "          converted_word += word2[i]\n",
        "     else:\n",
        "          converted_word += word1[i]\n",
        "print(converted_word)"
      ],
      "metadata": {
        "colab": {
          "base_uri": "https://localhost:8080/"
        },
        "id": "usmGI6fiM1rS",
        "outputId": "401ea00c-597c-48d4-ce60-3ecc26cdd218"
      },
      "execution_count": null,
      "outputs": [
        {
          "output_type": "stream",
          "name": "stdout",
          "text": [
            "sCaLeR AcAdEmY\n"
          ]
        }
      ]
    },
    {
      "cell_type": "code",
      "source": [
        "a = \"‘hello’\"\n",
        "b = a\n",
        "a = \"‘yello’\"\n",
        "\n",
        "print(b)\n",
        "print(a)"
      ],
      "metadata": {
        "colab": {
          "base_uri": "https://localhost:8080/"
        },
        "id": "86p9zvpBHcZb",
        "outputId": "2b25257b-2e30-463d-a9b4-7d31982648ea"
      },
      "execution_count": null,
      "outputs": [
        {
          "output_type": "stream",
          "name": "stdout",
          "text": [
            "‘hello’\n",
            "‘yello’\n"
          ]
        }
      ]
    },
    {
      "cell_type": "code",
      "source": [
        "def date_format(date):\n",
        "    '''Input: date takes the string as input\n",
        "       Output:return resultant date formats'''\n",
        "\n",
        "    inv= date.split(\"/\")\n",
        "    A= inv[1] +\"/\"+ inv[0] +\"/\"+inv[2]\n",
        "    B= inv[2] +\"/\"+ inv[1] +\"/\"+inv[0]\n",
        "    print(A)\n",
        "    print(B)"
      ],
      "metadata": {
        "id": "6W6ef-F_H-0r"
      },
      "execution_count": null,
      "outputs": []
    },
    {
      "cell_type": "code",
      "source": [
        "date_format(\"08/12/1998\")"
      ],
      "metadata": {
        "colab": {
          "base_uri": "https://localhost:8080/"
        },
        "id": "BRvvJUA_T8_W",
        "outputId": "03a555b5-366c-43c1-e81d-bf627425593a"
      },
      "execution_count": null,
      "outputs": [
        {
          "output_type": "stream",
          "name": "stdout",
          "text": [
            "12/08/1998\n",
            "1998/12/08\n"
          ]
        }
      ]
    },
    {
      "cell_type": "code",
      "source": [
        "date= \"08/12/1998\"\n",
        "inv= date.split(\"/\")\n",
        "A= inv[1] +\"/\"+ inv[0] +\"/\"+inv[2]\n",
        "B= inv[2] +\"/\"+ inv[1] +\"/\"+inv[0]\n",
        "B"
      ],
      "metadata": {
        "colab": {
          "base_uri": "https://localhost:8080/",
          "height": 35
        },
        "id": "NgYc7TraUMMI",
        "outputId": "7787aa88-beff-44b5-cdfa-f7ffd3af9a06"
      },
      "execution_count": null,
      "outputs": [
        {
          "output_type": "execute_result",
          "data": {
            "text/plain": [
              "'1998/12/08'"
            ],
            "application/vnd.google.colaboratory.intrinsic+json": {
              "type": "string"
            }
          },
          "metadata": {},
          "execution_count": 17
        }
      ]
    },
    {
      "cell_type": "code",
      "source": [
        "A= inv[1] +\"/\"+ inv[0] +\"/\"+inv[2]\n",
        "A\n",
        "# \"/\".join(A)"
      ],
      "metadata": {
        "colab": {
          "base_uri": "https://localhost:8080/",
          "height": 35
        },
        "id": "0-eFKuK4XlMG",
        "outputId": "07f75fd2-fcaf-458e-c059-dbc0fa30d016"
      },
      "execution_count": null,
      "outputs": [
        {
          "output_type": "execute_result",
          "data": {
            "text/plain": [
              "'12/08/1998'"
            ],
            "application/vnd.google.colaboratory.intrinsic+json": {
              "type": "string"
            }
          },
          "metadata": {},
          "execution_count": 16
        }
      ]
    },
    {
      "cell_type": "code",
      "source": [
        "\n",
        "def date_format(date):\n",
        "  t=int(input())\n",
        "  while t>=1:\n",
        "    l= date.split(\"/\")\n",
        "    t+=1\n",
        "    return (\"{}/{}/{}\".format(l[1],l[0],l[2])),(\"{}/{}/{}\".format(l[2],l[1],l[0]))\n",
        "    "
      ],
      "metadata": {
        "id": "ENwPTpn0YBv7"
      },
      "execution_count": null,
      "outputs": []
    },
    {
      "cell_type": "code",
      "source": [
        "date_format(\"08/12/1998\")"
      ],
      "metadata": {
        "colab": {
          "base_uri": "https://localhost:8080/"
        },
        "id": "36CA0iPYap3_",
        "outputId": "81216543-6e4c-4602-a12f-1edb4d1853cb"
      },
      "execution_count": null,
      "outputs": [
        {
          "name": "stdout",
          "output_type": "stream",
          "text": [
            "1\n"
          ]
        },
        {
          "output_type": "execute_result",
          "data": {
            "text/plain": [
              "('12/08/1998', '1998/12/08')"
            ]
          },
          "metadata": {},
          "execution_count": 30
        }
      ]
    },
    {
      "cell_type": "code",
      "source": [
        "def date1(date):\n",
        "  t=int(input())\n",
        "  while t>=1:\n",
        "\n",
        "    inv= date.split(\"/\")\n",
        "    A= inv[1] +\"/\"+ inv[0] +\"/\"+inv[2]\n",
        "    # B= inv[2] +\"/\"+ inv[1] +\"/\"+inv[0]\n",
        "    B= \"/\".join(A[::-1])\n",
        "    t+=1\n",
        "    return f\"{A},{B}\"\n",
        "date1(\"08/12/1998\")\n"
      ],
      "metadata": {
        "colab": {
          "base_uri": "https://localhost:8080/",
          "height": 53
        },
        "id": "i0pjmse6asyk",
        "outputId": "34158e06-2861-4a42-9ddb-fe0e305041ef"
      },
      "execution_count": null,
      "outputs": [
        {
          "name": "stdout",
          "output_type": "stream",
          "text": [
            "1\n"
          ]
        },
        {
          "output_type": "execute_result",
          "data": {
            "text/plain": [
              "'12/08/1998,8/9/9/1///8/0///2/1'"
            ],
            "application/vnd.google.colaboratory.intrinsic+json": {
              "type": "string"
            }
          },
          "metadata": {},
          "execution_count": 1
        }
      ]
    },
    {
      "cell_type": "code",
      "source": [
        "#search the index of first occurence of a character in a string\n",
        "\n",
        "ASCII= 70\n",
        "character =chr(70)\n",
        "target_string=\"sggjkhdfFkhlkhjj\"\n",
        "for i in range(len(target_string)):\n",
        "  if target_string[i]== character:\n",
        "    print(i)\n",
        "    break\n"
      ],
      "metadata": {
        "colab": {
          "base_uri": "https://localhost:8080/"
        },
        "id": "I4Iit_adcrBz",
        "outputId": "cede0cb8-755c-49cc-82da-44de69f10fe0"
      },
      "execution_count": null,
      "outputs": [
        {
          "output_type": "stream",
          "name": "stdout",
          "text": [
            "8\n"
          ]
        }
      ]
    },
    {
      "cell_type": "code",
      "source": [],
      "metadata": {
        "id": "z4KUZbYpitLh"
      },
      "execution_count": null,
      "outputs": []
    }
  ]
}