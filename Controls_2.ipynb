{
  "cells": [
    {
      "cell_type": "markdown",
      "metadata": {
        "id": "view-in-github",
        "colab_type": "text"
      },
      "source": [
        "<a href=\"https://colab.research.google.com/github/dmish10/Scaler_Homework/blob/master/Controls_2.ipynb\" target=\"_parent\"><img src=\"https://colab.research.google.com/assets/colab-badge.svg\" alt=\"Open In Colab\"/></a>"
      ]
    },
    {
      "cell_type": "code",
      "execution_count": null,
      "metadata": {
        "colab": {
          "base_uri": "https://localhost:8080/"
        },
        "id": "E_cLx1ML7Ljs",
        "outputId": "eb07c521-2677-411a-eb9f-fc9a8fafe440"
      },
      "outputs": [
        {
          "data": {
            "text/plain": [
              "False"
            ]
          },
          "execution_count": 1,
          "metadata": {},
          "output_type": "execute_result"
        }
      ],
      "source": [
        "bool(0)"
      ]
    },
    {
      "cell_type": "code",
      "execution_count": null,
      "metadata": {
        "colab": {
          "base_uri": "https://localhost:8080/"
        },
        "id": "F7GStjfZ7No7",
        "outputId": "fdadade6-4257-4f7b-a98d-18721ca71374"
      },
      "outputs": [
        {
          "data": {
            "text/plain": [
              "False"
            ]
          },
          "execution_count": 2,
          "metadata": {},
          "output_type": "execute_result"
        }
      ],
      "source": [
        "bool(0.0)"
      ]
    },
    {
      "cell_type": "code",
      "execution_count": null,
      "metadata": {
        "colab": {
          "base_uri": "https://localhost:8080/"
        },
        "id": "otN6Kq_f7UgQ",
        "outputId": "b6aad301-9a06-4341-a0b4-a3299002fc66"
      },
      "outputs": [
        {
          "data": {
            "text/plain": [
              "False"
            ]
          },
          "execution_count": 3,
          "metadata": {},
          "output_type": "execute_result"
        }
      ],
      "source": [
        "bool(-0.000)"
      ]
    },
    {
      "cell_type": "code",
      "execution_count": null,
      "metadata": {
        "colab": {
          "base_uri": "https://localhost:8080/"
        },
        "id": "vRQVvE5R7Xl6",
        "outputId": "406c3031-0059-454d-f477-0858fd457503"
      },
      "outputs": [
        {
          "data": {
            "text/plain": [
              "True"
            ]
          },
          "execution_count": 4,
          "metadata": {},
          "output_type": "execute_result"
        }
      ],
      "source": [
        "bool(\"this is you!\")"
      ]
    },
    {
      "cell_type": "code",
      "execution_count": null,
      "metadata": {
        "colab": {
          "base_uri": "https://localhost:8080/"
        },
        "id": "7Dad2Xi47iTi",
        "outputId": "4e62ada7-0fc3-47d9-a69a-745a8a911e0d"
      },
      "outputs": [
        {
          "data": {
            "text/plain": [
              "False"
            ]
          },
          "execution_count": 5,
          "metadata": {},
          "output_type": "execute_result"
        }
      ],
      "source": [
        "bool(\"\")"
      ]
    },
    {
      "cell_type": "code",
      "execution_count": null,
      "metadata": {
        "id": "Xx1fbQ_M7kMY"
      },
      "outputs": [],
      "source": [
        "actual_pass= \"harami123\""
      ]
    },
    {
      "cell_type": "code",
      "execution_count": null,
      "metadata": {
        "colab": {
          "base_uri": "https://localhost:8080/"
        },
        "id": "gcoX0UUV-Lfq",
        "outputId": "8ac63dae-03e6-4d67-d2e7-411092680324"
      },
      "outputs": [
        {
          "name": "stdout",
          "output_type": "stream",
          "text": [
            "harami123\n",
            "True\n"
          ]
        }
      ],
      "source": [
        "my_input= input()\n",
        "print(my_input== actual_pass)\n"
      ]
    },
    {
      "cell_type": "code",
      "execution_count": null,
      "metadata": {
        "colab": {
          "base_uri": "https://localhost:8080/"
        },
        "id": "ruCQK7DF-etg",
        "outputId": "d1cb4433-db00-4a31-e3a7-0bb503b971e2"
      },
      "outputs": [
        {
          "name": "stdout",
          "output_type": "stream",
          "text": [
            "True\n"
          ]
        }
      ],
      "source": [
        "print(4.0==4)"
      ]
    },
    {
      "cell_type": "code",
      "execution_count": null,
      "metadata": {
        "colab": {
          "base_uri": "https://localhost:8080/"
        },
        "id": "VfjMc-RY_BHd",
        "outputId": "23b7fbc1-68a5-45e2-fca0-a4261bb8174f"
      },
      "outputs": [
        {
          "name": "stdout",
          "output_type": "stream",
          "text": [
            "False\n"
          ]
        }
      ],
      "source": [
        "print(type(4.0)==type(4))"
      ]
    },
    {
      "cell_type": "code",
      "execution_count": null,
      "metadata": {
        "colab": {
          "base_uri": "https://localhost:8080/",
          "height": 35
        },
        "id": "Yz8l2iRn_Fuc",
        "outputId": "e4e3d90b-c289-4848-bc76-8fefb1eb2921"
      },
      "outputs": [
        {
          "data": {
            "application/vnd.google.colaboratory.intrinsic+json": {
              "type": "string"
            },
            "text/plain": [
              "''"
            ]
          },
          "execution_count": 16,
          "metadata": {},
          "output_type": "execute_result"
        }
      ],
      "source": [
        "(False or \"\")"
      ]
    },
    {
      "cell_type": "code",
      "execution_count": null,
      "metadata": {
        "colab": {
          "base_uri": "https://localhost:8080/"
        },
        "id": "owMpr-jVCZkL",
        "outputId": "d5afdd76-9926-4ba8-875c-bbdf00d3d8d0"
      },
      "outputs": [
        {
          "name": "stdout",
          "output_type": "stream",
          "text": [
            "tring tring\t spe\n"
          ]
        }
      ],
      "source": [
        "print(\"tring tring\\t spe\")"
      ]
    },
    {
      "cell_type": "code",
      "execution_count": null,
      "metadata": {
        "colab": {
          "base_uri": "https://localhost:8080/"
        },
        "id": "w2Ojj9onhP7E",
        "outputId": "0d59fc9b-0628-4aaf-ab6a-b027d6783b1b"
      },
      "outputs": [
        {
          "name": "stdout",
          "output_type": "stream",
          "text": [
            "A\tB\n"
          ]
        }
      ],
      "source": [
        "print(\"A\",\"B\", sep=\"\\t\")"
      ]
    },
    {
      "cell_type": "code",
      "execution_count": null,
      "metadata": {
        "colab": {
          "base_uri": "https://localhost:8080/"
        },
        "id": "OfeGLpoHibQ8",
        "outputId": "d26e8c21-ff83-4f77-80d0-0f13e015d2ca"
      },
      "outputs": [
        {
          "name": "stdout",
          "output_type": "stream",
          "text": [
            "0\n",
            "1\n",
            "2\n",
            "4\n"
          ]
        }
      ],
      "source": [
        "print(\"0\")\n",
        "if 56<60:\n",
        "  print(\"1\")\n",
        "  print(\"2\")\n",
        "print('4')"
      ]
    },
    {
      "cell_type": "code",
      "execution_count": null,
      "metadata": {
        "colab": {
          "base_uri": "https://localhost:8080/"
        },
        "id": "s_aEwnuxi0X6",
        "outputId": "b9fe08bc-e36b-41d8-a227-a45dc0a35c06"
      },
      "outputs": [
        {
          "name": "stdout",
          "output_type": "stream",
          "text": [
            "3\n",
            "small\n",
            "done\n"
          ]
        }
      ],
      "source": [
        "C= 50\n",
        "A= int(input())\n",
        "B= A**3\n",
        "if B>C:\n",
        "  print(\"Maasive number\")\n",
        "else:\n",
        "  print(\"small\")\n",
        "print (\"done\")\n"
      ]
    },
    {
      "cell_type": "code",
      "execution_count": null,
      "metadata": {
        "colab": {
          "base_uri": "https://localhost:8080/"
        },
        "id": "wN4Z8yKxlWla",
        "outputId": "1c45fd7c-a05e-4a0c-a4b7-52e614ef7bbd"
      },
      "outputs": [
        {
          "name": "stdout",
          "output_type": "stream",
          "text": [
            "drop\n",
            "drop\n",
            "matched\n"
          ]
        }
      ],
      "source": [
        "Password= input()\n",
        "Verify_user= input()\n",
        "if Password==Verify_user:\n",
        "  print(\"matched\")\n",
        "else:\n",
        "  print(\"Missmatch\")\n",
        "  print(\"check again\")\n",
        "\n"
      ]
    },
    {
      "cell_type": "code",
      "execution_count": null,
      "metadata": {
        "colab": {
          "base_uri": "https://localhost:8080/"
        },
        "id": "Z3gZnddkmlQH",
        "outputId": "4983e500-e06e-49ec-fea5-79838c150169"
      },
      "outputs": [
        {
          "name": "stdout",
          "output_type": "stream",
          "text": [
            "1200\n",
            "Dispatch Cash\n"
          ]
        }
      ],
      "source": [
        "user_amt= int(input())\n",
        "if user_amt%200==0 or user_amt%500==0:\n",
        "  print(\"Dispatch Cash\")\n",
        "else:\n",
        "  print(\"not dispatchable\")\n"
      ]
    },
    {
      "cell_type": "code",
      "execution_count": null,
      "metadata": {
        "colab": {
          "base_uri": "https://localhost:8080/"
        },
        "id": "t2llXPSiq0z-",
        "outputId": "e552c185-73ff-4c4f-f813-5ca672244210"
      },
      "outputs": [
        {
          "name": "stdout",
          "output_type": "stream",
          "text": [
            "25\n",
            "gth\n"
          ]
        }
      ],
      "source": [
        "time=int(input())\n",
        "\n",
        "if time>9 and time<12:\n",
        "  print(\"gm\")\n",
        "elif time>12 and time<17:\n",
        "  print (\"noon\")\n",
        "elif time>17 and time<24:\n",
        "  print (\"night\")\n",
        "else:\n",
        "  print(\"gth\")\n"
      ]
    },
    {
      "cell_type": "code",
      "execution_count": null,
      "metadata": {
        "colab": {
          "base_uri": "https://localhost:8080/"
        },
        "id": "hhJPoOKOt9JB",
        "outputId": "6c53af44-7e08-4535-e37e-0c2a9b871aa5"
      },
      "outputs": [
        {
          "name": "stdout",
          "output_type": "stream",
          "text": [
            "-4\n",
            "negative\n"
          ]
        }
      ],
      "source": [
        "N= int(input())\n",
        "if N>=0:\n",
        "  print(N+\" is Positive no.\")\n",
        "elif N==0:\n",
        "  print(\"zeroo\")\n",
        "else:\n",
        "  print(\"negative\")"
      ]
    },
    {
      "cell_type": "code",
      "execution_count": null,
      "metadata": {
        "colab": {
          "base_uri": "https://localhost:8080/"
        },
        "id": "7d4uXzxTveod",
        "outputId": "5ea6fb11-7dfd-4871-c638-b22420dcb3d2"
      },
      "outputs": [
        {
          "name": "stdout",
          "output_type": "stream",
          "text": [
            "-9\n",
            "invalid no\n"
          ]
        }
      ],
      "source": [
        "N= int(input()) \n",
        "if N >0 and N<=9:\n",
        "  if N ** 5 % 50 + 20 - 6 >15:\n",
        "    print(\"Black\")\n",
        "  else:\n",
        "    print(\"white\")\n",
        "else:\n",
        "  print(\"invalid no\")\n"
      ]
    },
    {
      "cell_type": "code",
      "execution_count": null,
      "metadata": {
        "colab": {
          "base_uri": "https://localhost:8080/"
        },
        "id": "lt3Z9esQxYZU",
        "outputId": "9a41db4a-fc74-4a07-8211-18b1d2026ca6"
      },
      "outputs": [
        {
          "name": "stdout",
          "output_type": "stream",
          "text": [
            "pythoN\n",
            "great\n"
          ]
        }
      ],
      "source": [
        "S= input()\n",
        "if S.lower()==\"python\":\n",
        "  print(\"great\")\n",
        "else:\n",
        "  print(\"Bad\")"
      ]
    },
    {
      "cell_type": "code",
      "execution_count": null,
      "metadata": {
        "colab": {
          "base_uri": "https://localhost:8080/"
        },
        "id": "LKIlBinRyXpK",
        "outputId": "b091ee12-e9dc-4a76-9c8c-a7c97b3a4e65"
      },
      "outputs": [
        {
          "name": "stdout",
          "output_type": "stream",
          "text": [
            "SuPeR\n",
            "thanks for feedback\n",
            "thanks so much\n"
          ]
        }
      ],
      "source": [
        "Feedback= input()\n",
        "if not Feedback:\n",
        "  print(\"please provide feedback\")\n",
        "else:\n",
        "  print(\"thanks for feedback\")\n",
        "  \n",
        "  if Feedback.lower() == \"super\" or Feedback.lower() == \"great\":\n",
        "    print(\"thanks so much\")\n",
        "  \n",
        "    \n",
        "  \n",
        " \n",
        "\n",
        "\n",
        "\n"
      ]
    },
    {
      "cell_type": "code",
      "execution_count": null,
      "metadata": {
        "colab": {
          "base_uri": "https://localhost:8080/"
        },
        "id": "fDIFyiCP4Nv6",
        "outputId": "15de1302-26c8-4aed-e1dd-4f1b8453125d"
      },
      "outputs": [
        {
          "name": "stdout",
          "output_type": "stream",
          "text": [
            "dhggf\n",
            "thanks\n"
          ]
        }
      ],
      "source": [
        "feedback= input()\n",
        "\n",
        "if feedback:\n",
        "  print(\"thanks\")\n",
        "else:\n",
        "  print(\"please share\")"
      ]
    },
    {
      "cell_type": "code",
      "execution_count": null,
      "metadata": {
        "colab": {
          "base_uri": "https://localhost:8080/"
        },
        "id": "7urQwAx00u7S",
        "outputId": "5fc1c6b9-fe7e-4e72-e1e3-ffab678c365c"
      },
      "outputs": [
        {
          "name": "stdout",
          "output_type": "stream",
          "text": [
            "2\n"
          ]
        }
      ],
      "source": [
        "x=2\n",
        "if x > 2:\n",
        "    x = x*2\n",
        "if x > 4:\n",
        "    x = 0\n",
        "print(x)"
      ]
    },
    {
      "cell_type": "code",
      "execution_count": null,
      "metadata": {
        "colab": {
          "base_uri": "https://localhost:8080/"
        },
        "id": "aXCDcVOnp7pL",
        "outputId": "f270ec60-43a4-4cc2-a216-101431c850a1"
      },
      "outputs": [
        {
          "name": "stdout",
          "output_type": "stream",
          "text": [
            "False\n"
          ]
        }
      ],
      "source": [
        "print(1==\"1\")"
      ]
    },
    {
      "cell_type": "code",
      "execution_count": null,
      "metadata": {
        "colab": {
          "base_uri": "https://localhost:8080/",
          "height": 201
        },
        "id": "uYlwvFb-MpoS",
        "outputId": "4faa7681-c9da-494c-c7ac-331611a2f770"
      },
      "outputs": [
        {
          "ename": "NameError",
          "evalue": "ignored",
          "output_type": "error",
          "traceback": [
            "\u001b[0;31m---------------------------------------------------------------------------\u001b[0m",
            "\u001b[0;31mNameError\u001b[0m                                 Traceback (most recent call last)",
            "\u001b[0;32m<ipython-input-1-9efdb9817c02>\u001b[0m in \u001b[0;36m<module>\u001b[0;34m\u001b[0m\n\u001b[1;32m      1\u001b[0m \u001b[0;32mfrom\u001b[0m \u001b[0mnumpy\u001b[0m \u001b[0;32mimport\u001b[0m \u001b[0mlinalg\u001b[0m\u001b[0;34m\u001b[0m\u001b[0;34m\u001b[0m\u001b[0m\n\u001b[0;32m----> 2\u001b[0;31m \u001b[0ma\u001b[0m \u001b[0;34m=\u001b[0m \u001b[0mnp\u001b[0m\u001b[0;34m.\u001b[0m\u001b[0marray\u001b[0m\u001b[0;34m(\u001b[0m\u001b[0;34m[\u001b[0m\u001b[0;36m2\u001b[0m\u001b[0;34m,\u001b[0m\u001b[0;36m3\u001b[0m\u001b[0;34m,\u001b[0m\u001b[0;36m4\u001b[0m\u001b[0;34m,\u001b[0m\u001b[0;36m1\u001b[0m\u001b[0;34m,\u001b[0m\u001b[0;36m5\u001b[0m\u001b[0;34m]\u001b[0m\u001b[0;34m)\u001b[0m\u001b[0;34m\u001b[0m\u001b[0;34m\u001b[0m\u001b[0m\n\u001b[0m\u001b[1;32m      3\u001b[0m \u001b[0mlinalg\u001b[0m\u001b[0;34m.\u001b[0m\u001b[0mnorm\u001b[0m\u001b[0;34m(\u001b[0m\u001b[0ma\u001b[0m\u001b[0;34m,\u001b[0m \u001b[0;36m1\u001b[0m\u001b[0;34m)\u001b[0m\u001b[0;34m\u001b[0m\u001b[0;34m\u001b[0m\u001b[0m\n",
            "\u001b[0;31mNameError\u001b[0m: name 'np' is not defined"
          ]
        }
      ],
      "source": [
        "from numpy import linalg\n",
        "a = np.array([2,3,4,1,5]) \n",
        "linalg.norm(a, 1)"
      ]
    },
    {
      "cell_type": "code",
      "execution_count": null,
      "metadata": {
        "colab": {
          "base_uri": "https://localhost:8080/"
        },
        "id": "nz1Kv6sn7UcW",
        "outputId": "3cc5a820-3e37-4e26-e6de-9e1b0dd4de1e"
      },
      "outputs": [
        {
          "name": "stdout",
          "output_type": "stream",
          "text": [
            "[2 3 4 1 5]\n",
            "7.416198487095663\n"
          ]
        }
      ],
      "source": [
        "from numpy import array\n",
        "from numpy.linalg import norm\n",
        "arr = array([2, 3, 4, 1, 5])\n",
        "print(arr)\n",
        "norm_l2 = norm(arr)\n",
        "print(norm_l2)"
      ]
    },
    {
      "cell_type": "code",
      "execution_count": null,
      "metadata": {
        "colab": {
          "base_uri": "https://localhost:8080/"
        },
        "id": "uvw8_zqS7--L",
        "outputId": "b51ce1d1-6531-464b-c41f-5059a8463b7e"
      },
      "outputs": [
        {
          "name": "stdout",
          "output_type": "stream",
          "text": [
            "5\n",
            "5\n",
            "15\n",
            "10\n"
          ]
        }
      ],
      "source": [
        "a= 5\n",
        "b= 10\n",
        "\n",
        "def func():\n",
        "  b= 15\n",
        "  print(a)\n",
        "  print(b)\n",
        "print(a)\n",
        "func()\n",
        "print(b)"
      ]
    },
    {
      "cell_type": "code",
      "execution_count": null,
      "metadata": {
        "colab": {
          "base_uri": "https://localhost:8080/"
        },
        "id": "uzgr5hOu_Iaz",
        "outputId": "7a14067b-d475-4f44-b714-3736a3eb85da"
      },
      "outputs": [
        {
          "name": "stdout",
          "output_type": "stream",
          "text": [
            "ecneics atad gninrael\n"
          ]
        }
      ],
      "source": [
        "data =\"learning data science\"\n",
        "st =\"\"\n",
        "for i in range(len(data)):\n",
        "  st= data[i]+st\n",
        "print(st)"
      ]
    },
    {
      "cell_type": "code",
      "execution_count": null,
      "metadata": {
        "colab": {
          "base_uri": "https://localhost:8080/"
        },
        "id": "GJmOxG10_d4a",
        "outputId": "95fbd814-336d-499f-defb-cb9d2bc9df6b"
      },
      "outputs": [
        {
          "name": "stdout",
          "output_type": "stream",
          "text": [
            "0 2\n",
            "1 4\n",
            "2 6\n",
            "3 8\n",
            "4 10\n"
          ]
        }
      ],
      "source": [
        "arr = [2,4,6,8,10]\n",
        "for i in range(len(arr)):\n",
        "  for j in arr:\n",
        "    if arr[i]== j:\n",
        "      print (i,j)"
      ]
    },
    {
      "cell_type": "code",
      "execution_count": null,
      "metadata": {
        "colab": {
          "base_uri": "https://localhost:8080/"
        },
        "id": "2yfyPstjADgq",
        "outputId": "af6cfe2f-ec15-4993-9282-96882ff0fa9d"
      },
      "outputs": [
        {
          "name": "stdout",
          "output_type": "stream",
          "text": [
            "\n",
            "no submission\n"
          ]
        }
      ],
      "source": [
        "name= input()\n",
        "if name:\n",
        "  print('thank you for submission')\n",
        "else:\n",
        "  print('no submission')"
      ]
    },
    {
      "cell_type": "code",
      "execution_count": null,
      "metadata": {
        "colab": {
          "base_uri": "https://localhost:8080/"
        },
        "id": "tZQ6FAwQCtSO",
        "outputId": "903f8eba-2dfa-4476-f847-8b4ee5b5f198"
      },
      "outputs": [
        {
          "name": "stdout",
          "output_type": "stream",
          "text": [
            "nom\n",
            "thank you for submission\n"
          ]
        }
      ],
      "source": [
        "name= input()\n",
        "if name!= '':\n",
        "  print('thank you for submission')\n",
        "else:\n",
        "  print('no submission')\n"
      ]
    },
    {
      "cell_type": "code",
      "execution_count": null,
      "metadata": {
        "colab": {
          "base_uri": "https://localhost:8080/"
        },
        "id": "v9vZvX9XDX36",
        "outputId": "bafe4c4d-ebed-41ca-9313-f9b48be883a4"
      },
      "outputs": [
        {
          "name": "stdout",
          "output_type": "stream",
          "text": [
            "your name is = \n",
            "eli\n",
            "your name is = \n",
            "elu\n",
            "your name is = \n",
            "eliza\n",
            "thanks!\n"
          ]
        }
      ],
      "source": [
        "name= ''\n",
        "while name!= 'eliza':\n",
        "  print ('your name is = ')\n",
        "  name= input()\n",
        "print('thanks!')"
      ]
    },
    {
      "cell_type": "code",
      "execution_count": null,
      "metadata": {
        "colab": {
          "base_uri": "https://localhost:8080/"
        },
        "id": "FbsiM0JRHnWn",
        "outputId": "a1b89d07-2094-451a-d6dc-d6efa532b08d"
      },
      "outputs": [
        {
          "name": "stdout",
          "output_type": "stream",
          "text": [
            "you name is = \n",
            "el\n",
            "you name is = \n",
            "elisa\n",
            "you name is = \n",
            "eliza\n",
            "thanks!\n"
          ]
        }
      ],
      "source": [
        "name= ''\n",
        "while True:\n",
        "  print('you name is = ')\n",
        "  name= input()\n",
        "  if name=='eliza':\n",
        "    break\n",
        "print('thanks!')\n",
        "  \n"
      ]
    },
    {
      "cell_type": "code",
      "execution_count": null,
      "metadata": {
        "colab": {
          "base_uri": "https://localhost:8080/"
        },
        "id": "L3X6C6GXKuJG",
        "outputId": "b3970b99-4421-4fc7-a10f-d6ca7269d1ce"
      },
      "outputs": [
        {
          "name": "stdout",
          "output_type": "stream",
          "text": [
            "you should know that \n",
            "my name is jimmy 0\n",
            "my name is jimmy 1\n",
            "my name is jimmy 2\n",
            "my name is jimmy 3\n",
            "my name is jimmy 4\n"
          ]
        }
      ],
      "source": [
        "print(\"you should know that \")\n",
        "for i in range(5):\n",
        "  print(\"my name is jimmy \"+str(i))\n"
      ]
    },
    {
      "cell_type": "code",
      "execution_count": null,
      "metadata": {
        "colab": {
          "base_uri": "https://localhost:8080/"
        },
        "id": "RF7ClmwlRTB9",
        "outputId": "b91a83c5-70af-434b-d76f-32be32b8ac9c"
      },
      "outputs": [
        {
          "name": "stdout",
          "output_type": "stream",
          "text": [
            "5050\n"
          ]
        }
      ],
      "source": [
        "c=0\n",
        "for i in range(101):\n",
        "  c+= i\n",
        "print(c)"
      ]
    },
    {
      "cell_type": "code",
      "execution_count": null,
      "metadata": {
        "colab": {
          "base_uri": "https://localhost:8080/"
        },
        "id": "08EStgjKR_kH",
        "outputId": "5d54bd8f-d25b-4cb2-8dac-226aaf436506"
      },
      "outputs": [
        {
          "name": "stdout",
          "output_type": "stream",
          "text": [
            "new function that needs to be known\n",
            "my name is = 12\n",
            "my name is = 10\n",
            "my name is = 8\n",
            "my name is = 6\n",
            "my name is = 4\n",
            "my name is = 2\n",
            "my name is = 0\n",
            "my name is = -2\n"
          ]
        }
      ],
      "source": [
        "print(\"new function that needs to be known\")\n",
        "for i in range(12,-3,-2):\n",
        "  print('my name is = '+str(i))"
      ]
    },
    {
      "cell_type": "code",
      "execution_count": null,
      "metadata": {
        "colab": {
          "base_uri": "https://localhost:8080/"
        },
        "id": "sqyJpqMGTRB1",
        "outputId": "d5896ba8-da48-4214-afe1-349b23799cb3"
      },
      "outputs": [
        {
          "name": "stdout",
          "output_type": "stream",
          "text": [
            "15\n",
            "fizzbuzz\n"
          ]
        }
      ],
      "source": [
        "N= int(input())\n",
        "if N%3==0 and N%5==0:\n",
        "  print('fizzbuzz')\n",
        "elif N%3==0:\n",
        "  print('fizz')\n",
        "elif N%5==0:\n",
        "  print('buzz')\n",
        "else:\n",
        "  print('')"
      ]
    },
    {
      "cell_type": "code",
      "execution_count": null,
      "metadata": {
        "colab": {
          "base_uri": "https://localhost:8080/"
        },
        "id": "yMBl2qZBzCng",
        "outputId": "1c28ae33-cbbf-4695-aa88-ac318b77c0f3"
      },
      "outputs": [
        {
          "name": "stdout",
          "output_type": "stream",
          "text": [
            "90\n",
            "56\n",
            "98\n",
            "science\n"
          ]
        }
      ],
      "source": [
        "eng= int(input())\n",
        "mat= int(input())\n",
        "sci =int(input())\n",
        "\n",
        "\n",
        "if((sci >90) or (eng>75 and sci >75 and mat>75)):\n",
        "  print('science')\n",
        "elif((eng>=60 and sci >=60 and mat>=60) ):\n",
        "  print ('commerce')\n",
        "else:\n",
        "  print('humanities')\n",
        "\n",
        "\n"
      ]
    },
    {
      "cell_type": "code",
      "execution_count": null,
      "metadata": {
        "id": "QefOpn1e3EOC"
      },
      "outputs": [],
      "source": [
        "\n",
        "# Build a meter system for an auto. Take into two inputs. \n",
        "# Kilometers Travelled and Stall Time (in minutes). Rate List -\n",
        "# - First 10 kms - Rs 10 per Km\n",
        "# - Next 40 kms - Rs 9 per Km\n",
        "# - Next 100 kms - Rs 8 per Km\n",
        "# - Any leftover km count - Rs. 6 per Km\n",
        "\n",
        "# - Rs 5 extra for every minute of Stall Time.\n"
      ]
    },
    {
      "cell_type": "code",
      "execution_count": null,
      "metadata": {
        "colab": {
          "base_uri": "https://localhost:8080/"
        },
        "id": "BVA-YqlF9LG7",
        "outputId": "2de82d79-ea15-4e59-c95c-5cccfc678562"
      },
      "outputs": [
        {
          "name": "stdout",
          "output_type": "stream",
          "text": [
            "40\n",
            "2\n",
            "Rate is = 370\n"
          ]
        }
      ],
      "source": [
        "dist =int(input())\n",
        "stall=int(input())\n",
        "\n",
        "if(dist<=10 and stall>0):\n",
        "  print(\"Rate is = \"+str((dist*10)+(stall*5)))\n",
        "elif ((dist<=40 and dist>10) and stall>0):\n",
        "  print(\"Rate is = \"+str((dist*9)+(stall*5)))\n",
        "elif ((dist<=100 and dist>40) and stall>0):\n",
        "  print(\"Rate is = \"+str((dist*8)+(stall*5)))\n",
        "else:\n",
        "  print(\"Rate is = \"+str((dist*6)+(stall*5)))"
      ]
    },
    {
      "cell_type": "code",
      "execution_count": null,
      "metadata": {
        "id": "k-8mFAqJARvs"
      },
      "outputs": [],
      "source": [
        "# 2. Generate electricity bill using the following rate card.\n",
        "# Take units consumed as input -\n",
        "# - If < 100 units -> Free\n",
        "# - If >= 100 units and < 200 units -> Rs 2 per unit\n",
        "# - If >= 200 units -> Rs 5 per unit"
      ]
    },
    {
      "cell_type": "code",
      "execution_count": null,
      "metadata": {
        "colab": {
          "base_uri": "https://localhost:8080/"
        },
        "id": "qxDsZDaBBUhF",
        "outputId": "cc12b961-041f-4573-82eb-e9c579b4e2cf"
      },
      "outputs": [
        {
          "name": "stdout",
          "output_type": "stream",
          "text": [
            "450\n",
            "rate is= 2250\n"
          ]
        }
      ],
      "source": [
        "units= int(input())\n",
        "\n",
        "if(units<100):\n",
        "  print('free')\n",
        "elif units>=100 and units<200:\n",
        "  print('rate is= '+str(units*2))\n",
        "elif units>=200:\n",
        "  print('rate is= '+str(units*5))\n",
        "else:\n",
        "  print('')"
      ]
    },
    {
      "cell_type": "code",
      "source": [
        "A=float(input())\n",
        "if A>=50 and A<=250:\n",
        "  if(A<150):\n",
        "    print('dwarf')\n",
        "  elif A>=150 and A<165:\n",
        "    print('avergae')\n",
        "  elif A>=165 and A<195:\n",
        "    print('taller')\n",
        "  else:\n",
        "    print('abnormal')\n",
        "else:\n",
        "  print('00')\n",
        "          \n",
        "   \n"
      ],
      "metadata": {
        "colab": {
          "base_uri": "https://localhost:8080/"
        },
        "id": "kUwSF9HGs_Pq",
        "outputId": "3d4d4c48-3a10-4352-875b-e25a4bad0734"
      },
      "execution_count": null,
      "outputs": [
        {
          "output_type": "stream",
          "name": "stdout",
          "text": [
            "215.5\n",
            "abnormal\n"
          ]
        }
      ]
    },
    {
      "cell_type": "code",
      "source": [
        "import math\n",
        "A= int(input())\n",
        "GS=0\n",
        "if A<=50000:\n",
        "  if(A<=10000):\n",
        "    GS=GS+ (float(A)+ 0.2*float(A)+ 0.8*float(A))\n",
        "    print(math.floor(GS))\n",
        "  elif(A>=10001 and A<=20000):\n",
        "    GS= GS+ (float(A)+ 0.25*float(A)+ 0.9*float(A))\n",
        "    print(math.floor(GS))\n",
        "  else:\n",
        "    GS= GS+ (float(A)+ 0.30*float(A)+ 0.95*float(A))\n",
        "    print(math.floor(GS))\n",
        "else:\n",
        "  print('')\n",
        "\n",
        "\n"
      ],
      "metadata": {
        "colab": {
          "base_uri": "https://localhost:8080/"
        },
        "id": "KrpLq1HnwsRT",
        "outputId": "6934deb0-1b19-43db-e4f7-e96078afc6ee"
      },
      "execution_count": null,
      "outputs": [
        {
          "output_type": "stream",
          "name": "stdout",
          "text": [
            "22000\n",
            "49500\n"
          ]
        }
      ]
    },
    {
      "cell_type": "code",
      "execution_count": null,
      "metadata": {
        "colab": {
          "base_uri": "https://localhost:8080/",
          "height": 381
        },
        "id": "_n_x6V9VGgnj",
        "outputId": "58ca8ef2-1c9d-4c26-dbfb-44047c186888"
      },
      "outputs": [
        {
          "output_type": "error",
          "ename": "KeyboardInterrupt",
          "evalue": "ignored",
          "traceback": [
            "\u001b[0;31m---------------------------------------------------------------------------\u001b[0m",
            "\u001b[0;31mKeyboardInterrupt\u001b[0m                         Traceback (most recent call last)",
            "\u001b[0;32m<ipython-input-5-903761ad7f2c>\u001b[0m in \u001b[0;36m<module>\u001b[0;34m\u001b[0m\n\u001b[0;32m----> 1\u001b[0;31m \u001b[0mfav_lang\u001b[0m \u001b[0;34m=\u001b[0m \u001b[0minput\u001b[0m\u001b[0;34m(\u001b[0m\u001b[0;34m)\u001b[0m\u001b[0;34m\u001b[0m\u001b[0;34m\u001b[0m\u001b[0m\n\u001b[0m\u001b[1;32m      2\u001b[0m \u001b[0;34m\u001b[0m\u001b[0m\n\u001b[1;32m      3\u001b[0m \u001b[0;32mif\u001b[0m \u001b[0mfav_lang\u001b[0m \u001b[0;34m==\u001b[0m \u001b[0;34m'Python'\u001b[0m \u001b[0;32mor\u001b[0m \u001b[0mfav_lang\u001b[0m \u001b[0;34m==\u001b[0m \u001b[0;34m'Java'\u001b[0m\u001b[0;34m:\u001b[0m\u001b[0;34m\u001b[0m\u001b[0;34m\u001b[0m\u001b[0m\n\u001b[1;32m      4\u001b[0m     \u001b[0mprint\u001b[0m\u001b[0;34m(\u001b[0m\u001b[0;34m\"Nice choice!\"\u001b[0m\u001b[0;34m)\u001b[0m\u001b[0;34m\u001b[0m\u001b[0;34m\u001b[0m\u001b[0m\n\u001b[1;32m      5\u001b[0m \u001b[0;32melif\u001b[0m \u001b[0mfav_lang\u001b[0m \u001b[0;34m==\u001b[0m \u001b[0;34m'Golang'\u001b[0m\u001b[0;34m:\u001b[0m\u001b[0;34m\u001b[0m\u001b[0;34m\u001b[0m\u001b[0m\n",
            "\u001b[0;32m/usr/local/lib/python3.7/dist-packages/ipykernel/kernelbase.py\u001b[0m in \u001b[0;36mraw_input\u001b[0;34m(self, prompt)\u001b[0m\n\u001b[1;32m    861\u001b[0m             \u001b[0mself\u001b[0m\u001b[0;34m.\u001b[0m\u001b[0m_parent_ident\u001b[0m\u001b[0;34m,\u001b[0m\u001b[0;34m\u001b[0m\u001b[0;34m\u001b[0m\u001b[0m\n\u001b[1;32m    862\u001b[0m             \u001b[0mself\u001b[0m\u001b[0;34m.\u001b[0m\u001b[0m_parent_header\u001b[0m\u001b[0;34m,\u001b[0m\u001b[0;34m\u001b[0m\u001b[0;34m\u001b[0m\u001b[0m\n\u001b[0;32m--> 863\u001b[0;31m             \u001b[0mpassword\u001b[0m\u001b[0;34m=\u001b[0m\u001b[0;32mFalse\u001b[0m\u001b[0;34m,\u001b[0m\u001b[0;34m\u001b[0m\u001b[0;34m\u001b[0m\u001b[0m\n\u001b[0m\u001b[1;32m    864\u001b[0m         )\n\u001b[1;32m    865\u001b[0m \u001b[0;34m\u001b[0m\u001b[0m\n",
            "\u001b[0;32m/usr/local/lib/python3.7/dist-packages/ipykernel/kernelbase.py\u001b[0m in \u001b[0;36m_input_request\u001b[0;34m(self, prompt, ident, parent, password)\u001b[0m\n\u001b[1;32m    902\u001b[0m             \u001b[0;32mexcept\u001b[0m \u001b[0mKeyboardInterrupt\u001b[0m\u001b[0;34m:\u001b[0m\u001b[0;34m\u001b[0m\u001b[0;34m\u001b[0m\u001b[0m\n\u001b[1;32m    903\u001b[0m                 \u001b[0;31m# re-raise KeyboardInterrupt, to truncate traceback\u001b[0m\u001b[0;34m\u001b[0m\u001b[0;34m\u001b[0m\u001b[0;34m\u001b[0m\u001b[0m\n\u001b[0;32m--> 904\u001b[0;31m                 \u001b[0;32mraise\u001b[0m \u001b[0mKeyboardInterrupt\u001b[0m\u001b[0;34m(\u001b[0m\u001b[0;34m\"Interrupted by user\"\u001b[0m\u001b[0;34m)\u001b[0m \u001b[0;32mfrom\u001b[0m \u001b[0;32mNone\u001b[0m\u001b[0;34m\u001b[0m\u001b[0;34m\u001b[0m\u001b[0m\n\u001b[0m\u001b[1;32m    905\u001b[0m             \u001b[0;32mexcept\u001b[0m \u001b[0mException\u001b[0m \u001b[0;32mas\u001b[0m \u001b[0me\u001b[0m\u001b[0;34m:\u001b[0m\u001b[0;34m\u001b[0m\u001b[0;34m\u001b[0m\u001b[0m\n\u001b[1;32m    906\u001b[0m                 \u001b[0mself\u001b[0m\u001b[0;34m.\u001b[0m\u001b[0mlog\u001b[0m\u001b[0;34m.\u001b[0m\u001b[0mwarning\u001b[0m\u001b[0;34m(\u001b[0m\u001b[0;34m\"Invalid Message:\"\u001b[0m\u001b[0;34m,\u001b[0m \u001b[0mexc_info\u001b[0m\u001b[0;34m=\u001b[0m\u001b[0;32mTrue\u001b[0m\u001b[0;34m)\u001b[0m\u001b[0;34m\u001b[0m\u001b[0;34m\u001b[0m\u001b[0m\n",
            "\u001b[0;31mKeyboardInterrupt\u001b[0m: Interrupted by user"
          ]
        }
      ],
      "source": [
        "\n",
        "fav_lang = input()\n",
        "\n",
        "if fav_lang == 'Python' or fav_lang == 'Java':\n",
        "    print(\"Nice choice!\")\n",
        "elif fav_lang == 'Golang':\n",
        "    print(\"\tYou're a cool person I see...\")\n",
        "elif fav_lang == 'Javascript':\n",
        "    print(\"Okay so you are our web developer!\")\n",
        "elif fav_lang == 'C++':\n",
        "    print(\"Too old school...\")\n",
        "else:\n",
        "    print(\"I don't know that language\")"
      ]
    },
    {
      "cell_type": "code",
      "execution_count": null,
      "metadata": {
        "colab": {
          "base_uri": "https://localhost:8080/"
        },
        "id": "xG4B-_Fu83A7",
        "outputId": "82df1522-7345-47d5-ffcf-a511897c4236"
      },
      "outputs": [
        {
          "name": "stdout",
          "output_type": "stream",
          "text": [
            "15\n",
            "Enter M=\n",
            "90\n",
            "Sum= 105\n",
            "\n",
            " That is a large sum!\n"
          ]
        }
      ],
      "source": [
        "N= int(input())\n",
        "\n",
        "if N>=10 and N<=20:\n",
        "    print(\"Enter M=\" )\n",
        "    M= int(input())\n",
        "    print(\"Sum= \"+str(N+M))\n",
        "    if (N+M)>= 100:\n",
        "        print(\"\\n That is a large sum!\")\n",
        "else:\n",
        "    print(-1)"
      ]
    },
    {
      "cell_type": "code",
      "execution_count": null,
      "metadata": {
        "colab": {
          "base_uri": "https://localhost:8080/"
        },
        "id": "e6H9sxfODLvR",
        "outputId": "7c953292-ef3b-483b-baa9-8e8c714117f8"
      },
      "outputs": [
        {
          "name": "stdout",
          "output_type": "stream",
          "text": [
            "Machine Learning\n"
          ]
        }
      ],
      "source": [
        "if False:                                       #1\n",
        "    print(\"Artificial Intelligence\")\n",
        "elif True:                                      #2\n",
        "    print(\"Machine Learning\")\n",
        "elif True:                                      #3\n",
        "    print(\"Data Science\")\n",
        "else:                                           #4\n",
        "    print(\"Deep Learning\") "
      ]
    },
    {
      "cell_type": "code",
      "execution_count": null,
      "metadata": {
        "colab": {
          "base_uri": "https://localhost:8080/"
        },
        "id": "VE4YhO7WGBXB",
        "outputId": "5e0c74cc-6bc7-473e-aca5-7a244d6208cb"
      },
      "outputs": [
        {
          "name": "stdout",
          "output_type": "stream",
          "text": [
            "2009\n",
            "candidate master\n"
          ]
        }
      ],
      "source": [
        "A= int(input())\n",
        "\n",
        "    \n",
        "if A<1400 :\n",
        "  rating='newbie'\n",
        "  if A%2==0:\n",
        "    print(rating.upper())\n",
        "  else:\n",
        "    print(rating)\n",
        "\n",
        "elif A>=1400 and A<1600:\n",
        "    rating='pupil'\n",
        "    if A%2==0:\n",
        "      print(rating.upper())\n",
        "    else:\n",
        "      print(rating)\n",
        "\n",
        "elif A>=1600 and A<1900:\n",
        "    rating='expert'\n",
        "    if A%2==0:\n",
        "      print(rating.upper())\n",
        "    else:\n",
        "      print(rating)\n",
        "\n",
        "elif A>=1900 and A<2100:\n",
        "    rating='candidate master'\n",
        "    if A%2==0:\n",
        "      print(rating.upper())\n",
        "    else:\n",
        "      print(rating)\n",
        "\n",
        "else:\n",
        "    rating='grand master'\n",
        "    if A%2==0:\n",
        "      print(rating.upper())\n",
        "    else:\n",
        "      print(rating)"
      ]
    },
    {
      "cell_type": "code",
      "execution_count": null,
      "metadata": {
        "colab": {
          "base_uri": "https://localhost:8080/"
        },
        "id": "aw_KxQcjWKpU",
        "outputId": "5677b4fa-5e98-45d3-ae7e-773f596ab1d3"
      },
      "outputs": [
        {
          "name": "stdout",
          "output_type": "stream",
          "text": [
            "2100\n",
            "GRAND MASTER\n"
          ]
        }
      ],
      "source": [
        "A= int(input())\n",
        "rating=''\n",
        "if A%2==0:\n",
        "  if A<1400 :\n",
        "    rating='newbie'\n",
        "  elif A>=1400 and A<1600:\n",
        "    rating='pupil'\n",
        "  elif A>=1600 and A<1900:\n",
        "    rating='expert'\n",
        "  elif A>=1900 and A<2100:\n",
        "    rating='candidate master'\n",
        "  else:\n",
        "    rating='grand master'\n",
        "  print(rating.upper())\n",
        "else:\n",
        "  if A<1400 :\n",
        "    rating='newbie'\n",
        "  elif A>=1400 and A<1600:\n",
        "    rating='pupil'\n",
        "  elif A>=1600 and A<1900:\n",
        "    rating='expert'\n",
        "  elif A>=1900 and A<2100:\n",
        "    rating='candidate master'\n",
        "  else:\n",
        "    rating='grand master'\n",
        "  print(rating)"
      ]
    },
    {
      "cell_type": "code",
      "execution_count": null,
      "metadata": {
        "colab": {
          "base_uri": "https://localhost:8080/"
        },
        "id": "5kcWmMnUWLhK",
        "outputId": "516c73e6-5726-4766-b60d-2ad7c8303c13"
      },
      "outputs": [
        {
          "name": "stdout",
          "output_type": "stream",
          "text": [
            "11\n",
            "30\n"
          ]
        }
      ],
      "source": [
        "# You are given an integer A.\n",
        "# You have to tell how many days are there in the month denoted by A in a non-leap year.\n",
        "# Output Format\n",
        "# Print a single integer denoting the number of days on a single line.\n",
        "# Example Input\n",
        "# Input 1:\n",
        "#  1 \n",
        "# Input 2:\n",
        "#  11 \n",
        "# Example Output\n",
        "# Output 1:\n",
        "# 31 \n",
        "# Output 2:\n",
        "# 30 \n",
        "\n",
        "A= int(input())\n",
        "\n",
        "\n",
        "if A>=1 and A<=7:\n",
        "    if A%2!=0:\n",
        "        print(31)\n",
        "    elif A==2:\n",
        "        print(28)\n",
        "    else:\n",
        "        print(30)\n",
        "elif A>=8 and A<=12:\n",
        "    if A%2==0:\n",
        "        print(31)\n",
        "    else:\n",
        "        print(30)\n",
        "else:\n",
        "    print('')"
      ]
    },
    {
      "cell_type": "code",
      "execution_count": null,
      "metadata": {
        "colab": {
          "base_uri": "https://localhost:8080/"
        },
        "id": "tcz7OeT-hfhV",
        "outputId": "7f24f968-55e2-4e18-963d-a7b97b868534"
      },
      "outputs": [
        {
          "name": "stdout",
          "output_type": "stream",
          "text": [
            "21\n"
          ]
        }
      ],
      "source": [
        "print(sum(range(0, 7)))"
      ]
    },
    {
      "cell_type": "code",
      "execution_count": null,
      "metadata": {
        "colab": {
          "base_uri": "https://localhost:8080/"
        },
        "id": "YAx9kKam4xTy",
        "outputId": "deb41521-4e36-4cba-af99-d34609118969"
      },
      "outputs": [
        {
          "name": "stdout",
          "output_type": "stream",
          "text": [
            "10 20 30\n"
          ]
        }
      ],
      "source": [
        "p, q, r = 10, 20 ,30\n",
        "print(p, q, r)"
      ]
    },
    {
      "cell_type": "code",
      "execution_count": null,
      "metadata": {
        "colab": {
          "base_uri": "https://localhost:8080/"
        },
        "id": "g6te5WXZfrub",
        "outputId": "fbba3b81-df6b-4293-9d9d-53fcdb2f2bb6"
      },
      "outputs": [
        {
          "name": "stdout",
          "output_type": "stream",
          "text": [
            "Salary: 12000\n",
            "Salary: 8000\n"
          ]
        }
      ],
      "source": [
        "salary = 8000\n",
        "\n",
        "def printSalary():\n",
        "  salary = 12000\n",
        "  print(\"Salary:\", salary)\n",
        "  \n",
        "printSalary()\n",
        "print(\"Salary:\", salary)"
      ]
    },
    {
      "cell_type": "code",
      "execution_count": null,
      "metadata": {
        "colab": {
          "base_uri": "https://localhost:8080/"
        },
        "id": "H-1Kbuqhf3S8",
        "outputId": "1be98567-9ab0-432f-cbfc-1d6da6b60661"
      },
      "outputs": [
        {
          "name": "stdout",
          "output_type": "stream",
          "text": [
            "182.0\n"
          ]
        }
      ],
      "source": [
        "x = 36 / 4 * (3 +  2) * 4 + 2\n",
        "print(x)"
      ]
    },
    {
      "cell_type": "code",
      "execution_count": null,
      "metadata": {
        "colab": {
          "base_uri": "https://localhost:8080/"
        },
        "id": "nRmgsRQxg-zE",
        "outputId": "35cdfaa7-b096-4fa3-badb-ffff5d5de3e7"
      },
      "outputs": [
        {
          "name": "stdout",
          "output_type": "stream",
          "text": [
            "JamesJamesJamesJamesJamesJames\n"
          ]
        }
      ],
      "source": [
        "var = \"James\" * 2  * 3\n",
        "print(var)"
      ]
    },
    {
      "cell_type": "code",
      "execution_count": null,
      "metadata": {
        "colab": {
          "base_uri": "https://localhost:8080/"
        },
        "id": "_ZuA5VLChTZM",
        "outputId": "8cc88af3-dcf5-44af-f624-29f5726c81a7"
      },
      "outputs": [
        {
          "name": "stdout",
          "output_type": "stream",
          "text": [
            "True\n",
            "False\n"
          ]
        }
      ],
      "source": [
        "listOne = [20, 40, 60, 80]\n",
        "listTwo = [20, 40, 60, 80]\n",
        "\n",
        "print(listOne == listTwo)\n",
        "print(listOne is listTwo)"
      ]
    },
    {
      "cell_type": "code",
      "execution_count": null,
      "metadata": {
        "colab": {
          "base_uri": "https://localhost:8080/"
        },
        "id": "8U-gFphmh7KK",
        "outputId": "f7fa6cd8-1c8f-4358-8bba-e48f78cfc69c"
      },
      "outputs": [
        {
          "name": "stdout",
          "output_type": "stream",
          "text": [
            "yn\n"
          ]
        }
      ],
      "source": [
        "str = \"pynative\"\n",
        "print (str[1:3])"
      ]
    },
    {
      "cell_type": "code",
      "execution_count": null,
      "metadata": {
        "colab": {
          "base_uri": "https://localhost:8080/"
        },
        "id": "HD2OTEcvil7V",
        "outputId": "1e32f3e0-4041-48f9-dd5d-44d11e304f17"
      },
      "outputs": [
        {
          "name": "stdout",
          "output_type": "stream",
          "text": [
            "maJ\n"
          ]
        }
      ],
      "source": [
        "var= \"James Bond\"\n",
        "print(var[2::-1])"
      ]
    },
    {
      "cell_type": "code",
      "execution_count": null,
      "metadata": {
        "colab": {
          "base_uri": "https://localhost:8080/",
          "height": 184
        },
        "id": "pJ2PS5VRjGY0",
        "outputId": "1fbb35ff-077e-4833-e971-99010a2c3a58"
      },
      "outputs": [
        {
          "ename": "TypeError",
          "evalue": "ignored",
          "output_type": "error",
          "traceback": [
            "\u001b[0;31m---------------------------------------------------------------------------\u001b[0m",
            "\u001b[0;31mTypeError\u001b[0m                                 Traceback (most recent call last)",
            "\u001b[0;32m<ipython-input-11-1605cb655d89>\u001b[0m in \u001b[0;36m<module>\u001b[0;34m\u001b[0m\n\u001b[0;32m----> 1\u001b[0;31m \u001b[0;32mfor\u001b[0m \u001b[0mx\u001b[0m \u001b[0;32min\u001b[0m \u001b[0mrange\u001b[0m\u001b[0;34m(\u001b[0m\u001b[0;36m0.5\u001b[0m\u001b[0;34m,\u001b[0m \u001b[0;36m5.5\u001b[0m\u001b[0;34m,\u001b[0m \u001b[0;36m0.5\u001b[0m\u001b[0;34m)\u001b[0m\u001b[0;34m:\u001b[0m\u001b[0;34m\u001b[0m\u001b[0;34m\u001b[0m\u001b[0m\n\u001b[0m\u001b[1;32m      2\u001b[0m   \u001b[0mprint\u001b[0m\u001b[0;34m(\u001b[0m\u001b[0mx\u001b[0m\u001b[0;34m)\u001b[0m\u001b[0;34m\u001b[0m\u001b[0;34m\u001b[0m\u001b[0m\n",
            "\u001b[0;31mTypeError\u001b[0m: 'float' object cannot be interpreted as an integer"
          ]
        }
      ],
      "source": [
        "for x in range(0.5, 5.5, 0.5):\n",
        "  print(x)"
      ]
    },
    {
      "cell_type": "code",
      "execution_count": null,
      "metadata": {
        "colab": {
          "base_uri": "https://localhost:8080/"
        },
        "id": "4uHkebKhj9_E",
        "outputId": "9e3396bb-50a2-4ad4-b5b0-f1be6b87a451"
      },
      "outputs": [
        {
          "data": {
            "text/plain": [
              "139628089050288"
            ]
          },
          "execution_count": 12,
          "metadata": {},
          "output_type": "execute_result"
        }
      ],
      "source": [
        "str1 = \"first\" \n",
        "id(str1) \n",
        "str1 = str1+ \" Two\" \n",
        "id(str1)"
      ]
    },
    {
      "cell_type": "code",
      "execution_count": null,
      "metadata": {
        "colab": {
          "base_uri": "https://localhost:8080/"
        },
        "id": "MZOGTzoQkbAV",
        "outputId": "6388bcf0-9b63-41d3-c0c4-ebf508f6ecf5"
      },
      "outputs": [
        {
          "name": "stdout",
          "output_type": "stream",
          "text": [
            "<class 'int'>\n"
          ]
        }
      ],
      "source": [
        "print(type(0xFF))"
      ]
    },
    {
      "cell_type": "code",
      "execution_count": null,
      "metadata": {
        "colab": {
          "base_uri": "https://localhost:8080/"
        },
        "id": "XpNEBJnlkxeJ",
        "outputId": "57872c36-7646-4708-f373-a1155d90f0eb"
      },
      "outputs": [
        {
          "name": "stdout",
          "output_type": "stream",
          "text": [
            "False\n"
          ]
        }
      ],
      "source": [
        "print(type({}) is set)"
      ]
    },
    {
      "cell_type": "code",
      "execution_count": null,
      "metadata": {
        "colab": {
          "base_uri": "https://localhost:8080/",
          "height": 184
        },
        "id": "pt7-vte6k9eu",
        "outputId": "ede4a305-6ccb-49b5-d2db-d80d529c79c1"
      },
      "outputs": [
        {
          "ename": "NameError",
          "evalue": "ignored",
          "output_type": "error",
          "traceback": [
            "\u001b[0;31m---------------------------------------------------------------------------\u001b[0m",
            "\u001b[0;31mNameError\u001b[0m                                 Traceback (most recent call last)",
            "\u001b[0;32m<ipython-input-16-2297ae5e2377>\u001b[0m in \u001b[0;36m<module>\u001b[0;34m\u001b[0m\n\u001b[0;32m----> 1\u001b[0;31m \u001b[0mstr1\u001b[0m \u001b[0;34m=\u001b[0m \u001b[0mstr\u001b[0m\u001b[0;34m(\u001b[0m\u001b[0mJessa\u001b[0m\u001b[0;34m)\u001b[0m\u001b[0;34m\u001b[0m\u001b[0;34m\u001b[0m\u001b[0m\n\u001b[0m\u001b[1;32m      2\u001b[0m \u001b[0mprint\u001b[0m\u001b[0;34m(\u001b[0m\u001b[0mstr1\u001b[0m\u001b[0;34m)\u001b[0m\u001b[0;34m\u001b[0m\u001b[0;34m\u001b[0m\u001b[0m\n",
            "\u001b[0;31mNameError\u001b[0m: name 'Jessa' is not defined"
          ]
        }
      ],
      "source": [
        "str1 = str(Jessa)\n",
        "print(str1)"
      ]
    },
    {
      "cell_type": "code",
      "execution_count": null,
      "metadata": {
        "colab": {
          "base_uri": "https://localhost:8080/"
        },
        "id": "5PO6or4sl79l",
        "outputId": "68644a6b-2004-4861-bad5-1d59dc28b7d2"
      },
      "outputs": [
        {
          "name": "stdout",
          "output_type": "stream",
          "text": [
            "str\n"
          ]
        }
      ],
      "source": [
        "str1 = 'str1'\n",
        "str1 = \"str1\"\n",
        "str1 = '''str'''\n",
        "print(str1)"
      ]
    },
    {
      "cell_type": "code",
      "execution_count": null,
      "metadata": {
        "colab": {
          "base_uri": "https://localhost:8080/"
        },
        "id": "84LJGfbBmOMG",
        "outputId": "a2c7edfa-4f40-4b2a-c5d9-fbfe89a324d0"
      },
      "outputs": [
        {
          "name": "stdout",
          "output_type": "stream",
          "text": [
            "True\n"
          ]
        }
      ],
      "source": [
        "print(type([]) is list)"
      ]
    },
    {
      "cell_type": "code",
      "execution_count": null,
      "metadata": {
        "colab": {
          "base_uri": "https://localhost:8080/"
        },
        "id": "I277OG6hnRSu",
        "outputId": "73b372a6-e97f-4f59-ca87-9fd216251ada"
      },
      "outputs": [
        {
          "name": "stdout",
          "output_type": "stream",
          "text": [
            "<class 'tuple'>\n"
          ]
        }
      ],
      "source": [
        "aTuple = (1, 'Jhon', 1+3j)\n",
        "print(type(aTuple[2:3]))"
      ]
    },
    {
      "cell_type": "code",
      "execution_count": null,
      "metadata": {
        "colab": {
          "base_uri": "https://localhost:8080/"
        },
        "id": "55e7LZd4nqtZ",
        "outputId": "390849a8-94a4-42f2-aa28-dc0fa03af867"
      },
      "outputs": [
        {
          "name": "stdout",
          "output_type": "stream",
          "text": [
            "76\n",
            "75\n"
          ]
        }
      ],
      "source": [
        "x = 75\n",
        "def myfunc(x):\n",
        "    x = x + 1\n",
        "    print(x)\n",
        "\n",
        "myfunc(x)\n",
        "print(x)"
      ]
    },
    {
      "cell_type": "code",
      "execution_count": null,
      "metadata": {
        "colab": {
          "base_uri": "https://localhost:8080/"
        },
        "id": "9mJBB4W4ogkl",
        "outputId": "9a8e6bb4-3995-45ff-eac1-2fe673e9b6d8"
      },
      "outputs": [
        {
          "name": "stdout",
          "output_type": "stream",
          "text": [
            "False\n",
            "True\n",
            "True\n",
            "True\n"
          ]
        }
      ],
      "source": [
        "print(bool(0))\n",
        "print(bool(3.14159))\n",
        "print(bool(-3))\n",
        "print(bool(1.0+1j))"
      ]
    },
    {
      "cell_type": "code",
      "execution_count": null,
      "metadata": {
        "colab": {
          "base_uri": "https://localhost:8080/"
        },
        "id": "S6f6gNHkiVAN",
        "outputId": "d6adb800-1e24-4b1c-e4c4-c44699a2d0ed"
      },
      "outputs": [
        {
          "name": "stdout",
          "output_type": "stream",
          "text": [
            "25\n"
          ]
        }
      ],
      "source": [
        "x = 50\n",
        "def fun1():\n",
        "    x = 25\n",
        "    print(x)\n",
        "    \n",
        "fun1()\n",
        "# print(x)"
      ]
    },
    {
      "cell_type": "code",
      "execution_count": null,
      "metadata": {
        "colab": {
          "base_uri": "https://localhost:8080/"
        },
        "id": "G5FE8mXPkuDR",
        "outputId": "9e5d0a92-29fb-45b4-d249-b868eb0847e9"
      },
      "outputs": [
        {
          "name": "stdout",
          "output_type": "stream",
          "text": [
            "Ault'Kelly\n"
          ]
        }
      ],
      "source": [
        "print('Ault\\'Kelly')"
      ]
    },
    {
      "cell_type": "code",
      "execution_count": null,
      "metadata": {
        "colab": {
          "base_uri": "https://localhost:8080/"
        },
        "id": "FLXwJqielG8J",
        "outputId": "1ec988a9-f4b0-4be3-ade3-11b393d5eabb"
      },
      "outputs": [
        {
          "name": "stdout",
          "output_type": "stream",
          "text": [
            "50\n"
          ]
        }
      ],
      "source": [
        "x = 100\n",
        "y = 50\n",
        "print(x and y)"
      ]
    },
    {
      "cell_type": "code",
      "execution_count": null,
      "metadata": {
        "colab": {
          "base_uri": "https://localhost:8080/"
        },
        "id": "EboZcpFvnkC_",
        "outputId": "9276456b-1efd-48cd-a9f9-b69d87ba7e29"
      },
      "outputs": [
        {
          "name": "stdout",
          "output_type": "stream",
          "text": [
            "[10, 20, 30, 40]\n"
          ]
        }
      ],
      "source": [
        "a = [10, 20]\n",
        "b = a\n",
        "b += [30, 40]\n",
        "print(a)\n",
        "# print(b)\n"
      ]
    },
    {
      "cell_type": "code",
      "execution_count": null,
      "metadata": {
        "colab": {
          "base_uri": "https://localhost:8080/",
          "height": 131
        },
        "id": "T_mIGdJxn_JU",
        "outputId": "f8b9c23e-fdd9-46bd-a631-359b46cc6c19"
      },
      "outputs": [
        {
          "ename": "SyntaxError",
          "evalue": "ignored",
          "output_type": "error",
          "traceback": [
            "\u001b[0;36m  File \u001b[0;32m\"<ipython-input-16-aa77fc62d6fa>\"\u001b[0;36m, line \u001b[0;32m2\u001b[0m\n\u001b[0;31m    x = (y += 2)\u001b[0m\n\u001b[0m            ^\u001b[0m\n\u001b[0;31mSyntaxError\u001b[0m\u001b[0;31m:\u001b[0m invalid syntax\n"
          ]
        }
      ],
      "source": [
        "y = 10\n",
        "x = (y += 2)\n",
        "print(x)"
      ]
    },
    {
      "cell_type": "code",
      "execution_count": null,
      "metadata": {
        "colab": {
          "base_uri": "https://localhost:8080/"
        },
        "id": "YedwRFA4qaWK",
        "outputId": "5160dd69-dff6-4992-f959-8d85d3636cac"
      },
      "outputs": [
        {
          "name": "stdout",
          "output_type": "stream",
          "text": [
            "False True True True\n"
          ]
        }
      ],
      "source": [
        "print(bool(0), bool(3.14159), bool(-3), bool(1.0+1j))"
      ]
    },
    {
      "cell_type": "code",
      "execution_count": null,
      "metadata": {
        "colab": {
          "base_uri": "https://localhost:8080/"
        },
        "id": "64NiLHFnqsOW",
        "outputId": "fc459221-5743-4e6f-dda8-6c19d774954f"
      },
      "outputs": [
        {
          "name": "stdout",
          "output_type": "stream",
          "text": [
            "2\n"
          ]
        }
      ],
      "source": [
        "print(2%6)"
      ]
    },
    {
      "cell_type": "code",
      "execution_count": null,
      "metadata": {
        "colab": {
          "base_uri": "https://localhost:8080/"
        },
        "id": "PnF5CoYvrHR_",
        "outputId": "8213ff1a-58f4-4fc4-ba87-9f49a7bb5c01"
      },
      "outputs": [
        {
          "name": "stdout",
          "output_type": "stream",
          "text": [
            "10 50\n"
          ]
        }
      ],
      "source": [
        "x = 10\n",
        "y = 50\n",
        "if x ** 2 > 100 and y < 100:\n",
        "    print(x, y)"
      ]
    },
    {
      "cell_type": "code",
      "execution_count": null,
      "metadata": {
        "colab": {
          "base_uri": "https://localhost:8080/"
        },
        "id": "BEaxeryhtDr5",
        "outputId": "33592626-3861-4eae-d27d-71b17285c9be"
      },
      "outputs": [
        {
          "name": "stdout",
          "output_type": "stream",
          "text": [
            "15\n",
            "1\n"
          ]
        }
      ],
      "source": [
        "a = 4\n",
        "b = 11\n",
        "print(a | b)\n",
        "print(a >> 2)"
      ]
    },
    {
      "cell_type": "code",
      "execution_count": null,
      "metadata": {
        "colab": {
          "base_uri": "https://localhost:8080/"
        },
        "id": "eB_EHEJWwSFP",
        "outputId": "ee98c67a-0099-4481-b64b-292bbaa62a18"
      },
      "outputs": [
        {
          "name": "stdout",
          "output_type": "stream",
          "text": [
            "0 1 2 3 4 5 "
          ]
        }
      ],
      "source": [
        "n=0\n",
        "\n",
        "while n<=5:\n",
        "  print(n,end=\" \")\n",
        "  n+= 1\n",
        "  \n",
        "\n",
        "  "
      ]
    },
    {
      "cell_type": "code",
      "execution_count": null,
      "metadata": {
        "colab": {
          "base_uri": "https://localhost:8080/"
        },
        "id": "CAJVF3Pcj7KI",
        "outputId": "3c0e1e0a-da36-422f-e159-6c6226d95b3d"
      },
      "outputs": [
        {
          "name": "stdout",
          "output_type": "stream",
          "text": [
            "-5 -4 -3 -2 -1 0 1 2 3 4 5 6 7 8 9 10 11 12 13 14 15 16 17 18 19 20 21 22 23 24 25 "
          ]
        }
      ],
      "source": [
        "n=-5 \n",
        "while n<=25:\n",
        "  print(n,end=\" \")\n",
        "  n+= 1"
      ]
    },
    {
      "cell_type": "code",
      "execution_count": null,
      "metadata": {
        "colab": {
          "base_uri": "https://localhost:8080/"
        },
        "id": "FAUVIy3zlfe0",
        "outputId": "8356c85a-6cb6-4707-ccb3-4e313675a7c3"
      },
      "outputs": [
        {
          "name": "stdout",
          "output_type": "stream",
          "text": [
            "7\n",
            "1 3 5 7 "
          ]
        }
      ],
      "source": [
        "n=int(input())\n",
        "i=1\n",
        "while i<=n:\n",
        "  print(i, end= \" \")\n",
        "  i+=2\n",
        "  \n"
      ]
    },
    {
      "cell_type": "code",
      "execution_count": null,
      "metadata": {
        "colab": {
          "base_uri": "https://localhost:8080/"
        },
        "id": "lnR8RfOLmSz4",
        "outputId": "2de6f210-567f-4a26-f36d-547ec752eb05"
      },
      "outputs": [
        {
          "name": "stdout",
          "output_type": "stream",
          "text": [
            "-1\n",
            "number is smaller than 1\n"
          ]
        }
      ],
      "source": [
        "n=int(input())\n",
        "\n",
        "if n>1:\n",
        "  i=1\n",
        "  while i<=n:\n",
        "    print(i, end= \" \")\n",
        "    i+=2\n",
        "else:\n",
        "  print(\"number is smaller than 1\")"
      ]
    },
    {
      "cell_type": "code",
      "execution_count": null,
      "metadata": {
        "colab": {
          "base_uri": "https://localhost:8080/"
        },
        "id": "MxGe4Eitn_0k",
        "outputId": "c038f706-3fc6-4019-d5df-eae11bb8ffdf"
      },
      "outputs": [
        {
          "name": "stdout",
          "output_type": "stream",
          "text": [
            "1\n",
            "21\n",
            "1 4 7 10 13 16 19 "
          ]
        }
      ],
      "source": [
        "start=int(input())\n",
        "end= int(input())\n",
        "\n",
        "while start<=end:\n",
        "  print(start, end=\" \")\n",
        "  start+=3\n"
      ]
    },
    {
      "cell_type": "code",
      "execution_count": null,
      "metadata": {
        "colab": {
          "base_uri": "https://localhost:8080/"
        },
        "id": "ZXy6_YLepzOf",
        "outputId": "08a87592-c269-423e-a936-730c5ba4d33d"
      },
      "outputs": [
        {
          "name": "stdout",
          "output_type": "stream",
          "text": [
            "3\n",
            "9\n",
            "4 6 8 "
          ]
        }
      ],
      "source": [
        "start=int(input())\n",
        "end= int(input())\n",
        "while start<=end:\n",
        "  \n",
        "  if start%2==0:\n",
        "    print(start, end=\" \")\n",
        "  start+=1   \n",
        "\n",
        "    "
      ]
    },
    {
      "cell_type": "code",
      "execution_count": null,
      "metadata": {
        "colab": {
          "base_uri": "https://localhost:8080/"
        },
        "id": "hP8W0i2otEXP",
        "outputId": "1a512851-9568-4620-c263-0d4ee56912cd"
      },
      "outputs": [
        {
          "name": "stdout",
          "output_type": "stream",
          "text": [
            "1\n",
            "21\n",
            "2 4 6 8 10 12 14 16 18 20 it ran for 0\n"
          ]
        }
      ],
      "source": [
        "start=int(input())\n",
        "end= int(input())\n",
        "\n",
        "if start%2==0:\n",
        "  i=start\n",
        "else:\n",
        "  i=start+1\n",
        "while i<end:\n",
        "  loop_ct=0\n",
        "  print(i,end=\" \")\n",
        "  i+=2\n",
        "print(\"it ran for \"+str(loop_ct))"
      ]
    },
    {
      "cell_type": "code",
      "execution_count": null,
      "metadata": {
        "colab": {
          "base_uri": "https://localhost:8080/"
        },
        "id": "SyStXnDnvrn9",
        "outputId": "ebd9107d-834e-41c8-c7c4-71a4be5153f5"
      },
      "outputs": [
        {
          "name": "stdout",
          "output_type": "stream",
          "text": [
            "bowling ball 1\n",
            "bowling ball 2\n",
            "bowling ball 3\n",
            "bowling ball 4\n",
            "bowling ball 5\n",
            "bowling ball 6\n"
          ]
        }
      ],
      "source": [
        "i =1\n",
        "while i<=6:\n",
        "    print(\"bowling ball \"+ str(i))\n",
        "    i+=1\n",
        "\n"
      ]
    },
    {
      "cell_type": "code",
      "execution_count": null,
      "metadata": {
        "colab": {
          "base_uri": "https://localhost:8080/"
        },
        "id": "OeTF4bKKxJN0",
        "outputId": "65d43910-f269-4a38-d58a-07fbdac80d03"
      },
      "outputs": [
        {
          "name": "stdout",
          "output_type": "stream",
          "text": [
            "6\n",
            "6 12 18 24 30 36 42 48 54 60 "
          ]
        }
      ],
      "source": [
        "n= int(input())\n",
        "\n",
        "i=1\n",
        "while i<=10:\n",
        "  \n",
        "  print(n*i, end=\" \")\n",
        "  i+=1"
      ]
    },
    {
      "cell_type": "code",
      "execution_count": null,
      "metadata": {
        "colab": {
          "base_uri": "https://localhost:8080/"
        },
        "id": "SiQaF0GJxn2s",
        "outputId": "e8e852fb-90cf-47a7-f1d8-2d5e8ba26e47"
      },
      "outputs": [
        {
          "name": "stdout",
          "output_type": "stream",
          "text": [
            "still trying 1\n",
            "still trying 2\n",
            "still trying 3\n",
            "still trying 4\n",
            "password found 5\n",
            "ran for 1 time(s)\n"
          ]
        }
      ],
      "source": [
        "passkey=5\n",
        "i=1\n",
        "while i<=99:\n",
        "  loop=1\n",
        "  if i== passkey:\n",
        "    print(\"password found\",i)\n",
        "    break\n",
        "  else:\n",
        "    print(\"still trying\",i)\n",
        "  i+=1\n",
        "print(\"ran for\",loop,\"time(s)\")"
      ]
    },
    {
      "cell_type": "code",
      "execution_count": null,
      "metadata": {
        "colab": {
          "base_uri": "https://localhost:8080/"
        },
        "id": "If98G37zzA5r",
        "outputId": "592383b1-4e70-4e91-d72c-62876e75f42e"
      },
      "outputs": [
        {
          "name": "stdout",
          "output_type": "stream",
          "text": [
            "this is the count of test cases = 2\n",
            "\n",
            "input num= 2\n",
            "2 4 6 8 10 12 14 16 18 20 \n",
            "input num= 3\n",
            "3 6 9 12 15 18 21 24 27 30 "
          ]
        }
      ],
      "source": [
        "n= int(input(\"this is the count of test cases = \"))\n",
        "j=1\n",
        "while j<=n:\n",
        "  num= int(input(\"\\ninput num= \"))\n",
        "  i=1\n",
        "  while i<=10:\n",
        "    print(num*i, end=\" \")\n",
        "    i+=1\n",
        "  j+=1\n",
        "\n",
        "\n",
        "\n"
      ]
    },
    {
      "cell_type": "code",
      "execution_count": null,
      "metadata": {
        "colab": {
          "base_uri": "https://localhost:8080/"
        },
        "id": "tUgVl4Od33G0",
        "outputId": "485d9374-7f5a-4e63-dc99-a92448f49372"
      },
      "outputs": [
        {
          "name": "stdout",
          "output_type": "stream",
          "text": [
            "4\n",
            "1\n",
            "4\n",
            "9\n",
            "16\n"
          ]
        }
      ],
      "source": [
        "A= int(input())\n",
        "\n",
        "i=1\n",
        "while i<=A:\n",
        "    print(i**2)\n",
        "    i+=1"
      ]
    },
    {
      "cell_type": "code",
      "execution_count": null,
      "metadata": {
        "colab": {
          "base_uri": "https://localhost:8080/"
        },
        "id": "n1yWwSvgMJBT",
        "outputId": "eba47991-aacd-4a35-ee39-94b5eaec8fdb"
      },
      "outputs": [
        {
          "name": "stdout",
          "output_type": "stream",
          "text": [
            "4\n",
            "2 4 "
          ]
        }
      ],
      "source": [
        "N= int(input())\n",
        "\n",
        "i=1\n",
        "while i<=N:\n",
        "    if i%2==0:\n",
        "      print(i, end=\" \")\n",
        "    i+=1"
      ]
    },
    {
      "cell_type": "code",
      "execution_count": null,
      "metadata": {
        "colab": {
          "base_uri": "https://localhost:8080/"
        },
        "id": "q9oHefEtUsr7",
        "outputId": "f360c283-ae9e-4148-d919-35827640233f"
      },
      "outputs": [
        {
          "name": "stdout",
          "output_type": "stream",
          "text": [
            "2\n",
            "4\n"
          ]
        }
      ],
      "source": [
        "i=2\n",
        "while (i<=2*n):\n",
        "  if i%2 ==0:\n",
        "    print(i)\n",
        "  i+=1"
      ]
    },
    {
      "cell_type": "code",
      "execution_count": null,
      "metadata": {
        "colab": {
          "base_uri": "https://localhost:8080/"
        },
        "id": "UmfGqQCOYWis",
        "outputId": "69d5f949-78f3-4591-c6a9-62ba4099e212"
      },
      "outputs": [
        {
          "name": "stdout",
          "output_type": "stream",
          "text": [
            "22\n",
            "4 8 12 16 20 24 28 32 36 40 44 48 52 56 60 64 68 72 76 80 84 88 \n",
            "loop is = 1\n"
          ]
        }
      ],
      "source": [
        "N= int(input())\n",
        "\n",
        "j=1\n",
        "while j<=N:\n",
        "  loop=1\n",
        "  i=1\n",
        "  while i<=N:\n",
        "      print(i*4, end=\" \")\n",
        "      i+=1\n",
        "  j+=1 \n",
        "  break\n",
        "  loop+=1 \n",
        "print(\"\\nloop is =\", loop)\n"
      ]
    },
    {
      "cell_type": "code",
      "execution_count": null,
      "metadata": {
        "colab": {
          "base_uri": "https://localhost:8080/"
        },
        "id": "NX4HhzRAYw-l",
        "outputId": "5c65cc2b-d447-4026-ae69-5b5156856c86"
      },
      "outputs": [
        {
          "name": "stdout",
          "output_type": "stream",
          "text": [
            "20\n",
            "1 4 9 16 "
          ]
        }
      ],
      "source": [
        "A= int(input())\n",
        "\n",
        "i=1\n",
        "while i<=A:\n",
        "    if (i**2)<A:\n",
        "      print(i**2, end= \" \")\n",
        "    i+=1\n",
        "    \n",
        "    "
      ]
    },
    {
      "cell_type": "code",
      "execution_count": null,
      "metadata": {
        "colab": {
          "base_uri": "https://localhost:8080/",
          "height": 270
        },
        "id": "7gIZj7tNe3Yz",
        "outputId": "c93090b2-01c6-47bf-f05f-176c51961731"
      },
      "outputs": [
        {
          "output_type": "stream",
          "name": "stdout",
          "text": [
            "20\n",
            "4 8 12 16 "
          ]
        },
        {
          "output_type": "error",
          "ename": "KeyboardInterrupt",
          "evalue": "ignored",
          "traceback": [
            "\u001b[0;31m---------------------------------------------------------------------------\u001b[0m",
            "\u001b[0;31mKeyboardInterrupt\u001b[0m                         Traceback (most recent call last)",
            "\u001b[0;32m<ipython-input-2-a4e31c1e313a>\u001b[0m in \u001b[0;36m<module>\u001b[0;34m\u001b[0m\n\u001b[1;32m      5\u001b[0m   \u001b[0mi\u001b[0m\u001b[0;34m=\u001b[0m\u001b[0;36m1\u001b[0m\u001b[0;34m\u001b[0m\u001b[0;34m\u001b[0m\u001b[0m\n\u001b[1;32m      6\u001b[0m   \u001b[0;32mwhile\u001b[0m \u001b[0mi\u001b[0m\u001b[0;34m<=\u001b[0m\u001b[0mN\u001b[0m\u001b[0;34m:\u001b[0m\u001b[0;34m\u001b[0m\u001b[0;34m\u001b[0m\u001b[0m\n\u001b[0;32m----> 7\u001b[0;31m     \u001b[0;32mif\u001b[0m \u001b[0mi\u001b[0m\u001b[0;34m*\u001b[0m\u001b[0;36m4\u001b[0m\u001b[0;34m<\u001b[0m\u001b[0mN\u001b[0m\u001b[0;34m:\u001b[0m\u001b[0;34m\u001b[0m\u001b[0;34m\u001b[0m\u001b[0m\n\u001b[0m\u001b[1;32m      8\u001b[0m       \u001b[0mprint\u001b[0m\u001b[0;34m(\u001b[0m\u001b[0mi\u001b[0m\u001b[0;34m*\u001b[0m\u001b[0;36m4\u001b[0m\u001b[0;34m,\u001b[0m \u001b[0mend\u001b[0m\u001b[0;34m=\u001b[0m\u001b[0;34m\" \"\u001b[0m\u001b[0;34m)\u001b[0m\u001b[0;34m\u001b[0m\u001b[0;34m\u001b[0m\u001b[0m\n\u001b[1;32m      9\u001b[0m       \u001b[0mi\u001b[0m\u001b[0;34m+=\u001b[0m\u001b[0;36m1\u001b[0m\u001b[0;34m\u001b[0m\u001b[0;34m\u001b[0m\u001b[0m\n",
            "\u001b[0;31mKeyboardInterrupt\u001b[0m: "
          ]
        }
      ],
      "source": [
        "N= int(input())\n",
        "\n",
        "j=1\n",
        "while j<=N:\n",
        "  i=1\n",
        "  while i<=N:\n",
        "    if i*4<N:\n",
        "      print(i*4, end=\" \")\n",
        "      i+=1\n",
        "  j+=1 \n",
        "  "
      ]
    },
    {
      "cell_type": "code",
      "execution_count": null,
      "metadata": {
        "colab": {
          "base_uri": "https://localhost:8080/",
          "height": 270
        },
        "id": "bCdAVILeieEj",
        "outputId": "5f8e2e0c-c5bb-4d8f-cf74-8b6960a12625"
      },
      "outputs": [
        {
          "name": "stdout",
          "output_type": "stream",
          "text": [
            "22\n",
            "4 8 12 16 20 "
          ]
        },
        {
          "ename": "KeyboardInterrupt",
          "evalue": "ignored",
          "output_type": "error",
          "traceback": [
            "\u001b[0;31m---------------------------------------------------------------------------\u001b[0m",
            "\u001b[0;31mKeyboardInterrupt\u001b[0m                         Traceback (most recent call last)",
            "\u001b[0;32m<ipython-input-116-63aeb35921b7>\u001b[0m in \u001b[0;36m<module>\u001b[0;34m\u001b[0m\n\u001b[1;32m      5\u001b[0m   \u001b[0mi\u001b[0m\u001b[0;34m=\u001b[0m\u001b[0;36m1\u001b[0m\u001b[0;34m\u001b[0m\u001b[0;34m\u001b[0m\u001b[0m\n\u001b[1;32m      6\u001b[0m   \u001b[0;32mwhile\u001b[0m \u001b[0mi\u001b[0m\u001b[0;34m<=\u001b[0m\u001b[0mN\u001b[0m\u001b[0;34m:\u001b[0m\u001b[0;34m\u001b[0m\u001b[0;34m\u001b[0m\u001b[0m\n\u001b[0;32m----> 7\u001b[0;31m     \u001b[0;32mif\u001b[0m \u001b[0mi\u001b[0m\u001b[0;34m*\u001b[0m\u001b[0;36m4\u001b[0m\u001b[0;34m<\u001b[0m\u001b[0mN\u001b[0m\u001b[0;34m:\u001b[0m\u001b[0;34m\u001b[0m\u001b[0;34m\u001b[0m\u001b[0m\n\u001b[0m\u001b[1;32m      8\u001b[0m       \u001b[0mprint\u001b[0m\u001b[0;34m(\u001b[0m\u001b[0mi\u001b[0m\u001b[0;34m*\u001b[0m\u001b[0;36m4\u001b[0m\u001b[0;34m,\u001b[0m \u001b[0mend\u001b[0m\u001b[0;34m=\u001b[0m\u001b[0;34m\" \"\u001b[0m\u001b[0;34m)\u001b[0m\u001b[0;34m\u001b[0m\u001b[0;34m\u001b[0m\u001b[0m\n\u001b[1;32m      9\u001b[0m       \u001b[0mi\u001b[0m\u001b[0;34m+=\u001b[0m\u001b[0;36m1\u001b[0m\u001b[0;34m\u001b[0m\u001b[0;34m\u001b[0m\u001b[0m\n",
            "\u001b[0;31mKeyboardInterrupt\u001b[0m: "
          ]
        }
      ],
      "source": [
        "N= int(input())\n",
        "\n",
        "j=1\n",
        "while j<=N:\n",
        "  i=1\n",
        "  while i<=N:\n",
        "    if i*4<N:\n",
        "      print(i*4, end=\" \")\n",
        "      i+=1\n",
        "  j+=1\n",
        "  break\n",
        "  "
      ]
    },
    {
      "cell_type": "code",
      "execution_count": null,
      "metadata": {
        "colab": {
          "background_save": true,
          "base_uri": "https://localhost:8080/"
        },
        "id": "-LGcO42zjRS-",
        "outputId": "c8473fb4-0694-4645-df8a-277e3ede26da"
      },
      "outputs": [
        {
          "name": "stdout",
          "output_type": "stream",
          "text": [
            "4 8 12 16 20 "
          ]
        }
      ],
      "source": [
        "N= int(input())\n",
        "\n",
        "# j=1\n",
        "# while j<=N:\n",
        "i=1\n",
        "while i<=N:\n",
        "  if i*4<N:\n",
        "    print(i*4, end=\" \")\n",
        "    i+=1\n",
        "#   j+=1\n",
        "#   break"
      ]
    },
    {
      "cell_type": "code",
      "execution_count": null,
      "metadata": {
        "id": "Sr8r38pdkvD9",
        "colab": {
          "base_uri": "https://localhost:8080/"
        },
        "outputId": "d43ae550-02bd-4bc8-a306-00c2c493be1c"
      },
      "outputs": [
        {
          "output_type": "stream",
          "name": "stdout",
          "text": [
            "2\n"
          ]
        }
      ],
      "source": [
        "num=16\n",
        "base=4\n",
        "cnt=0\n",
        "while(num>1):\n",
        "  num/=base\n",
        "  cnt+=1\n",
        "print(cnt)"
      ]
    },
    {
      "cell_type": "code",
      "source": [
        "n= int(input())\n",
        "\n",
        "i=0\n",
        "while n>0:\n",
        "  n= n//10\n",
        "  i+=1\n",
        "print(\"The number of digits in the number are:\",i)"
      ],
      "metadata": {
        "colab": {
          "base_uri": "https://localhost:8080/"
        },
        "id": "ud0ut9Edsgni",
        "outputId": "9fed0a3b-89a0-4ab3-ee3b-eaa6b2d3ec6d"
      },
      "execution_count": null,
      "outputs": [
        {
          "output_type": "stream",
          "name": "stdout",
          "text": [
            "98765\n",
            "The number of digits in the number are: 5\n"
          ]
        }
      ]
    },
    {
      "cell_type": "code",
      "source": [
        "T= int(input())\n",
        "i=0\n",
        "while i<=T:\n",
        "    n=int(input())\n",
        "    c=0\n",
        "    if n==0:\n",
        "        c+=1\n",
        "        print(c)\n",
        "    else:\n",
        "        while n>0:\n",
        "            c+=1\n",
        "            n=n//10\n",
        "            \n",
        "        print(c)\n",
        "        i+=1  \n",
        "    "
      ],
      "metadata": {
        "colab": {
          "base_uri": "https://localhost:8080/",
          "height": 433
        },
        "id": "lgJ3szez1O1-",
        "outputId": "e0d3327f-5466-470e-dbe1-993e7fcf3a34"
      },
      "execution_count": null,
      "outputs": [
        {
          "output_type": "stream",
          "name": "stdout",
          "text": [
            "1\n",
            "10101\n",
            "1\n"
          ]
        },
        {
          "output_type": "error",
          "ename": "KeyboardInterrupt",
          "evalue": "ignored",
          "traceback": [
            "\u001b[0;31m---------------------------------------------------------------------------\u001b[0m",
            "\u001b[0;31mKeyboardInterrupt\u001b[0m                         Traceback (most recent call last)",
            "\u001b[0;32m<ipython-input-3-0c930c847461>\u001b[0m in \u001b[0;36m<module>\u001b[0;34m\u001b[0m\n\u001b[1;32m      2\u001b[0m \u001b[0mi\u001b[0m\u001b[0;34m=\u001b[0m\u001b[0;36m0\u001b[0m\u001b[0;34m\u001b[0m\u001b[0;34m\u001b[0m\u001b[0m\n\u001b[1;32m      3\u001b[0m \u001b[0;32mwhile\u001b[0m \u001b[0mi\u001b[0m\u001b[0;34m<=\u001b[0m\u001b[0mT\u001b[0m\u001b[0;34m:\u001b[0m\u001b[0;34m\u001b[0m\u001b[0;34m\u001b[0m\u001b[0m\n\u001b[0;32m----> 4\u001b[0;31m     \u001b[0mn\u001b[0m\u001b[0;34m=\u001b[0m\u001b[0mint\u001b[0m\u001b[0;34m(\u001b[0m\u001b[0minput\u001b[0m\u001b[0;34m(\u001b[0m\u001b[0;34m)\u001b[0m\u001b[0;34m)\u001b[0m\u001b[0;34m\u001b[0m\u001b[0;34m\u001b[0m\u001b[0m\n\u001b[0m\u001b[1;32m      5\u001b[0m     \u001b[0mc\u001b[0m\u001b[0;34m=\u001b[0m\u001b[0;36m0\u001b[0m\u001b[0;34m\u001b[0m\u001b[0;34m\u001b[0m\u001b[0m\n\u001b[1;32m      6\u001b[0m     \u001b[0;32mif\u001b[0m \u001b[0mn\u001b[0m\u001b[0;34m==\u001b[0m\u001b[0;36m0\u001b[0m\u001b[0;34m:\u001b[0m\u001b[0;34m\u001b[0m\u001b[0;34m\u001b[0m\u001b[0m\n",
            "\u001b[0;32m/usr/local/lib/python3.7/dist-packages/ipykernel/kernelbase.py\u001b[0m in \u001b[0;36mraw_input\u001b[0;34m(self, prompt)\u001b[0m\n\u001b[1;32m    861\u001b[0m             \u001b[0mself\u001b[0m\u001b[0;34m.\u001b[0m\u001b[0m_parent_ident\u001b[0m\u001b[0;34m,\u001b[0m\u001b[0;34m\u001b[0m\u001b[0;34m\u001b[0m\u001b[0m\n\u001b[1;32m    862\u001b[0m             \u001b[0mself\u001b[0m\u001b[0;34m.\u001b[0m\u001b[0m_parent_header\u001b[0m\u001b[0;34m,\u001b[0m\u001b[0;34m\u001b[0m\u001b[0;34m\u001b[0m\u001b[0m\n\u001b[0;32m--> 863\u001b[0;31m             \u001b[0mpassword\u001b[0m\u001b[0;34m=\u001b[0m\u001b[0;32mFalse\u001b[0m\u001b[0;34m,\u001b[0m\u001b[0;34m\u001b[0m\u001b[0;34m\u001b[0m\u001b[0m\n\u001b[0m\u001b[1;32m    864\u001b[0m         )\n\u001b[1;32m    865\u001b[0m \u001b[0;34m\u001b[0m\u001b[0m\n",
            "\u001b[0;32m/usr/local/lib/python3.7/dist-packages/ipykernel/kernelbase.py\u001b[0m in \u001b[0;36m_input_request\u001b[0;34m(self, prompt, ident, parent, password)\u001b[0m\n\u001b[1;32m    902\u001b[0m             \u001b[0;32mexcept\u001b[0m \u001b[0mKeyboardInterrupt\u001b[0m\u001b[0;34m:\u001b[0m\u001b[0;34m\u001b[0m\u001b[0;34m\u001b[0m\u001b[0m\n\u001b[1;32m    903\u001b[0m                 \u001b[0;31m# re-raise KeyboardInterrupt, to truncate traceback\u001b[0m\u001b[0;34m\u001b[0m\u001b[0;34m\u001b[0m\u001b[0;34m\u001b[0m\u001b[0m\n\u001b[0;32m--> 904\u001b[0;31m                 \u001b[0;32mraise\u001b[0m \u001b[0mKeyboardInterrupt\u001b[0m\u001b[0;34m(\u001b[0m\u001b[0;34m\"Interrupted by user\"\u001b[0m\u001b[0;34m)\u001b[0m \u001b[0;32mfrom\u001b[0m \u001b[0;32mNone\u001b[0m\u001b[0;34m\u001b[0m\u001b[0;34m\u001b[0m\u001b[0m\n\u001b[0m\u001b[1;32m    905\u001b[0m             \u001b[0;32mexcept\u001b[0m \u001b[0mException\u001b[0m \u001b[0;32mas\u001b[0m \u001b[0me\u001b[0m\u001b[0;34m:\u001b[0m\u001b[0;34m\u001b[0m\u001b[0;34m\u001b[0m\u001b[0m\n\u001b[1;32m    906\u001b[0m                 \u001b[0mself\u001b[0m\u001b[0;34m.\u001b[0m\u001b[0mlog\u001b[0m\u001b[0;34m.\u001b[0m\u001b[0mwarning\u001b[0m\u001b[0;34m(\u001b[0m\u001b[0;34m\"Invalid Message:\"\u001b[0m\u001b[0;34m,\u001b[0m \u001b[0mexc_info\u001b[0m\u001b[0;34m=\u001b[0m\u001b[0;32mTrue\u001b[0m\u001b[0;34m)\u001b[0m\u001b[0;34m\u001b[0m\u001b[0;34m\u001b[0m\u001b[0m\n",
            "\u001b[0;31mKeyboardInterrupt\u001b[0m: Interrupted by user"
          ]
        }
      ]
    },
    {
      "cell_type": "code",
      "source": [
        "\"\"\"first 10 even numbers\"\"\"\n",
        "i=1\n",
        "while i<=10:\n",
        "  if i%2 !=0:\n",
        "    print(i)\n",
        "  i+=1\n",
        " \n"
      ],
      "metadata": {
        "colab": {
          "base_uri": "https://localhost:8080/"
        },
        "id": "6_u10aKv6_-6",
        "outputId": "cf59389f-ce22-401e-b8eb-5673e75db0d8"
      },
      "execution_count": null,
      "outputs": [
        {
          "output_type": "stream",
          "name": "stdout",
          "text": [
            "1\n",
            "3\n",
            "5\n",
            "7\n",
            "9\n"
          ]
        }
      ]
    },
    {
      "cell_type": "code",
      "source": [
        "\"\"\"first 10 integers and their squares\"\"\"\n",
        "i=1\n",
        "while i<=10:\n",
        "  print(i**2, \"square of \", i)\n",
        "  i+=1\n",
        "  "
      ],
      "metadata": {
        "colab": {
          "base_uri": "https://localhost:8080/"
        },
        "id": "rK2buVXBRu1g",
        "outputId": "8814bb98-9a33-4dcb-9373-fba39fc4e050"
      },
      "execution_count": null,
      "outputs": [
        {
          "output_type": "stream",
          "name": "stdout",
          "text": [
            "1 square of  1\n",
            "4 square of  2\n",
            "9 square of  3\n",
            "16 square of  4\n",
            "25 square of  5\n",
            "36 square of  6\n",
            "49 square of  7\n",
            "64 square of  8\n",
            "81 square of  9\n",
            "100 square of  10\n"
          ]
        }
      ]
    },
    {
      "cell_type": "code",
      "source": [
        "\"\"\"write for loop statement to print from 10 to 300\"\"\"\n",
        "# for i in range(10,301,10):\n",
        "#   print (i)\n",
        "\n",
        "i=10\n",
        "while i<=300:\n",
        "  print(i,end=\",\")\n",
        "  i+=10\n"
      ],
      "metadata": {
        "colab": {
          "base_uri": "https://localhost:8080/"
        },
        "id": "n7mb7riZS1u7",
        "outputId": "f14a86c2-593b-4539-fa33-185c71efbaa7"
      },
      "execution_count": null,
      "outputs": [
        {
          "output_type": "stream",
          "name": "stdout",
          "text": [
            "10,20,30,40,50,60,70,80,90,100,110,120,130,140,150,160,170,180,190,200,210,220,230,240,250,260,270,280,290,300,"
          ]
        }
      ]
    },
    {
      "cell_type": "code",
      "source": [
        "i=105\n",
        "while i>=7:\n",
        "  print(i, end=\",\")\n",
        "  i-=7\n",
        "  "
      ],
      "metadata": {
        "colab": {
          "base_uri": "https://localhost:8080/"
        },
        "id": "EZuPtRleTQAK",
        "outputId": "0d41a273-b9e2-44b8-fdf2-4e72b288d927"
      },
      "execution_count": null,
      "outputs": [
        {
          "output_type": "stream",
          "name": "stdout",
          "text": [
            "105,98,91,84,77,70,63,56,49,42,35,28,21,14,7,"
          ]
        }
      ]
    },
    {
      "cell_type": "code",
      "source": [
        "\"\"\"natural numbers in descending order\"\"\"\n",
        "i=10\n",
        "while i>0:\n",
        "  print(i,end=\" \")\n",
        "  i-=1"
      ],
      "metadata": {
        "colab": {
          "base_uri": "https://localhost:8080/"
        },
        "id": "E_TTTdDxUKcJ",
        "outputId": "62e68c8e-ddc8-472a-bec5-cc6a35483b2c"
      },
      "execution_count": null,
      "outputs": [
        {
          "output_type": "stream",
          "name": "stdout",
          "text": [
            "10 9 8 7 6 5 4 3 2 1 "
          ]
        }
      ]
    },
    {
      "cell_type": "code",
      "source": [
        "\"\"\"sum of first 10 natural numbers\"\"\"\n",
        "\n",
        "i=10\n",
        "sum=0\n",
        "while i>=1:\n",
        "  \n",
        "  sum= sum+i\n",
        "  i-=1\n",
        "  \n",
        "  print (sum , end=\",\")"
      ],
      "metadata": {
        "colab": {
          "base_uri": "https://localhost:8080/"
        },
        "id": "GAvFmuMjUgDD",
        "outputId": "97df7f51-ac0a-46c5-f7a9-390e29dd14ea"
      },
      "execution_count": null,
      "outputs": [
        {
          "output_type": "stream",
          "name": "stdout",
          "text": [
            "10,19,27,34,40,45,49,52,54,55,"
          ]
        }
      ]
    },
    {
      "cell_type": "code",
      "source": [
        "\"\"\"sum of first 10 even numbers\"\"\"\n",
        "i=2\n",
        "sum=0\n",
        "while i<=20:\n",
        "  sum=sum+i\n",
        "  i+=2\n",
        "  print(sum,end=\",\")\n"
      ],
      "metadata": {
        "colab": {
          "base_uri": "https://localhost:8080/"
        },
        "id": "4AQMLm3wVta-",
        "outputId": "0777eb58-a108-4a8e-89b1-d08d4e4c70b7"
      },
      "execution_count": null,
      "outputs": [
        {
          "output_type": "stream",
          "name": "stdout",
          "text": [
            "2,6,12,20,30,42,56,72,90,110,"
          ]
        }
      ]
    },
    {
      "cell_type": "code",
      "source": [
        "T= int(input())\n",
        "i=1\n",
        "while i<=10:\n",
        "  print(T,\"*\", i,\"=\", T*i, end=\", \") \n",
        "  i+=1\n"
      ],
      "metadata": {
        "colab": {
          "base_uri": "https://localhost:8080/"
        },
        "id": "VEH-AONbZOh-",
        "outputId": "0e3b9f80-9282-4056-dfa1-7329c529d9fb"
      },
      "execution_count": null,
      "outputs": [
        {
          "output_type": "stream",
          "name": "stdout",
          "text": [
            "3\n",
            "3 * 1 = 3, 3 * 2 = 6, 3 * 3 = 9, 3 * 4 = 12, 3 * 5 = 15, 3 * 6 = 18, 3 * 7 = 21, 3 * 8 = 24, 3 * 9 = 27, 3 * 10 = 30, "
          ]
        }
      ]
    },
    {
      "cell_type": "code",
      "source": [
        "\"\"\"print all the even numbers that fall between two user inputs\"\"\"\n",
        "start= int(input())\n",
        "end= int(input())\n",
        "\n",
        "i= start\n",
        "sum=0\n",
        "while i<(end-2):\n",
        "  if i%2==0:\n",
        "    i+=2\n",
        "    print(i)\n",
        "\n"
      ],
      "metadata": {
        "colab": {
          "base_uri": "https://localhost:8080/"
        },
        "id": "qBiSIVVMcbvE",
        "outputId": "b35f8982-a183-4d38-b7f5-3984f4c8983d"
      },
      "execution_count": null,
      "outputs": [
        {
          "output_type": "stream",
          "name": "stdout",
          "text": [
            "12\n",
            "34\n",
            "14\n",
            "16\n",
            "18\n",
            "20\n",
            "22\n",
            "24\n",
            "26\n",
            "28\n",
            "30\n",
            "32\n"
          ]
        }
      ]
    },
    {
      "cell_type": "code",
      "source": [
        "\"\"\"print the sum of all even numbers that fall between two user inputs\"\"\"\n",
        "start= int(input())\n",
        "end= int(input())\n",
        "\n",
        "i=start\n",
        "sum=0\n",
        "while i<=end:\n",
        "  if i%2==0:\n",
        "    sum+=i\n",
        "    i+=2\n",
        "  else:\n",
        "    print('')\n",
        "  print(sum)\n",
        "  "
      ],
      "metadata": {
        "colab": {
          "base_uri": "https://localhost:8080/"
        },
        "id": "rn4DhF_Wfb3c",
        "outputId": "a69fda92-7b4a-44db-9c80-b58b4f33e11a"
      },
      "execution_count": null,
      "outputs": [
        {
          "output_type": "stream",
          "name": "stdout",
          "text": [
            "5\n",
            "15\n",
            "\n",
            "0\n"
          ]
        }
      ]
    },
    {
      "cell_type": "code",
      "source": [
        "\"\"\"whether a number is prime or not\"\"\"\n",
        "\n",
        "N= int(input())\n",
        "k=0\n",
        "if N==0 and N==1:\n",
        "  print(\"not a prime\")\n",
        "else:\n",
        "  i=2\n",
        "  while i<N:\n",
        "    if N%i==0:\n",
        "      k+=1\n",
        "    i+=1\n",
        "if k==0:\n",
        "  print(\"prime\")\n",
        "else:\n",
        "  print(\"not prime\")\n",
        "\n",
        "\n",
        "\n",
        "  \n",
        "\n"
      ],
      "metadata": {
        "colab": {
          "base_uri": "https://localhost:8080/"
        },
        "id": "kVUdXEJYkQCW",
        "outputId": "6f5f9254-3b28-4582-c9b1-fc4aee675552"
      },
      "execution_count": null,
      "outputs": [
        {
          "output_type": "stream",
          "name": "stdout",
          "text": [
            "23\n",
            "prime\n"
          ]
        }
      ]
    },
    {
      "cell_type": "code",
      "source": [
        "n= int(input())\n",
        "c=0\n",
        "\n",
        "if n==0 and n==1:\n",
        "  print(\"not a prime\")\n",
        "else:\n",
        "  i=2\n",
        "  while i<n:\n",
        "    if n%i==0:\n",
        "      k+=1\n",
        "    i+=1\n",
        "if k==0:\n",
        "  print(\"prime\")\n",
        "else:\n",
        "  print(\"not a prime \")\n"
      ],
      "metadata": {
        "colab": {
          "base_uri": "https://localhost:8080/"
        },
        "id": "J_b33YmzjMPs",
        "outputId": "e3d46486-a75d-41eb-baa9-bbc898101ee2"
      },
      "execution_count": null,
      "outputs": [
        {
          "output_type": "stream",
          "name": "stdout",
          "text": [
            "22\n",
            "not a prime \n"
          ]
        }
      ]
    },
    {
      "cell_type": "code",
      "source": [
        "# N= int(input())\n",
        "# k=0\n",
        "# if N==0 and N==1:\n",
        "#   print(\"not a prime number\")\n",
        "# else:\n",
        "#   i=2\n",
        "#   while i<N:\n",
        "#     for i in range (2, N+1):\n",
        "#       if N%i==0:\n",
        "#         k+=1\n",
        "#         break\n",
        "#       i+=1\n",
        "#     if k==0:\n",
        "#       print(i)   \n",
        "      \n",
        "\n",
        "def prime(n):\n",
        "  if n==0 and n==1:\n",
        "    return False\n",
        "  \n",
        "  \n",
        "  for i in range(2,n+1):\n",
        "    if i<n:\n",
        "      if n%i==0:\n",
        "        return False\n",
        "     \n",
        "  return True\n",
        "\n",
        "n= int(input())\n",
        "for i in range(2,n+1):\n",
        "  if (prime(i)):\n",
        "    print(i, end=',')\n",
        "\n",
        "         \n",
        "    \n",
        "  \n",
        "\n",
        "  \n",
        "  "
      ],
      "metadata": {
        "colab": {
          "base_uri": "https://localhost:8080/"
        },
        "id": "-0Efte5x8bnZ",
        "outputId": "e2c84123-832e-49ca-ed74-9c494ec85f05"
      },
      "execution_count": null,
      "outputs": [
        {
          "output_type": "stream",
          "name": "stdout",
          "text": [
            "23\n",
            "2,3,5,7,11,13,17,19,23,"
          ]
        }
      ]
    },
    {
      "cell_type": "code",
      "source": [
        "n=int(input())\n",
        "for n in range(2, n + 1):\n",
        "  if n > 1:\n",
        "     for i in range(2, n):\n",
        "       if (n % i) == 0:\n",
        "         break\n",
        "       else:\n",
        "         print(n)"
      ],
      "metadata": {
        "colab": {
          "base_uri": "https://localhost:8080/"
        },
        "id": "Gyxcg-CBRJOZ",
        "outputId": "6f9e86b4-b9ee-48fc-a720-c29969547886"
      },
      "execution_count": null,
      "outputs": [
        {
          "output_type": "stream",
          "name": "stdout",
          "text": [
            "5\n",
            "3\n",
            "5\n",
            "5\n",
            "5\n"
          ]
        }
      ]
    },
    {
      "cell_type": "code",
      "source": [
        "T= int(input())\n",
        "t=1\n",
        "while t<=T:\n",
        "    n= int(input())\n",
        "    count=0\n",
        "    if n==0:\n",
        "        count+=1\n",
        "        print(count)\n",
        "    else:\n",
        "        while n>0:\n",
        "            count+=1\n",
        "            n=n//10\n",
        "        print(count)\n",
        "    t+=1"
      ],
      "metadata": {
        "colab": {
          "base_uri": "https://localhost:8080/"
        },
        "id": "fjlVnMVbKEva",
        "outputId": "ed1b7c0b-39d8-409c-a73f-67d7267f2eb4"
      },
      "execution_count": null,
      "outputs": [
        {
          "output_type": "stream",
          "name": "stdout",
          "text": [
            "1\n",
            "10101\n",
            "5\n"
          ]
        }
      ]
    },
    {
      "cell_type": "code",
      "source": [
        "# T= int(input())\n",
        "# t=1\n",
        "# while t<=T:\n",
        "#     n1= int(input())\n",
        "#     dig1=0\n",
        "#     sum1=0\n",
        "#     while n1!=0:\n",
        "#       dig1= n1%10\n",
        "#       sum1=sum1+dig1\n",
        "#       n1=n1//10\n",
        "#     print(\"the sum of digits are \",sum1)\n",
        "#     n2= int(input())\n",
        "#     dig2=0\n",
        "#     sum2=0\n",
        "#     while n2!=0:\n",
        "#       dig2= n2%10\n",
        "#       sum2=sum2+dig2\n",
        "#       n2=n2//10\n",
        "#     print(\"the sum of digits are \",sum2)\n",
        "#     break\n",
        "#     t+=1\n",
        "\n",
        "T= int(input())\n",
        "t=1\n",
        "while t<=T:\n",
        "    n= int(input())\n",
        "    dig=0\n",
        "    s=0\n",
        "    while n!=0:\n",
        "      dig= n%10\n",
        "      s=s+dig\n",
        "      n=n//10\n",
        "    print(\"the sum of digits are \",s)\n",
        "    t+=1\n",
        "\n",
        "\n",
        "\n",
        "\n"
      ],
      "metadata": {
        "colab": {
          "base_uri": "https://localhost:8080/"
        },
        "id": "DDPuWP1bpYdh",
        "outputId": "9ece4842-7b2a-4c30-eeab-f35e1904647f"
      },
      "execution_count": null,
      "outputs": [
        {
          "output_type": "stream",
          "name": "stdout",
          "text": [
            "3\n",
            "1589\n",
            "the sum of digits are  23\n",
            "214\n",
            "the sum of digits are  7\n",
            "324\n",
            "the sum of digits are  9\n"
          ]
        }
      ]
    },
    {
      "cell_type": "code",
      "source": [
        "\n",
        "T= int(input())\n",
        "t=1\n",
        "while t<=T:\n",
        "    n= int(input())\n",
        "    count = 0\n",
        "    while (n > 0):\n",
        "      if(n % 10 == 1):\n",
        "        count = count + 1\n",
        "      n = n // 10\n",
        "    print(count)\n",
        "    t+=1\n",
        "\n",
        "  \n",
        " \n",
        "        # check if the digit is D\n",
        "        \n",
        "   \n",
        "        \n",
        "    # print()\n",
        "    # t+=1\n",
        "\n",
        "# num = 121\n",
        "# count = 0\n",
        "\n",
        "# while num != 0:\n",
        "\n",
        "#     num //= 10\n",
        "#     count += 1\n",
        "\n",
        "# print(\"Number of digits: \" + str(count))\n",
        "\n",
        "    "
      ],
      "metadata": {
        "colab": {
          "base_uri": "https://localhost:8080/"
        },
        "id": "MO5fMuCI2hH_",
        "outputId": "a0f178bc-26fb-4e69-b780-4cbd76f51f1c"
      },
      "execution_count": null,
      "outputs": [
        {
          "output_type": "stream",
          "name": "stdout",
          "text": [
            "1\n",
            "12123\n",
            "2\n"
          ]
        }
      ]
    },
    {
      "cell_type": "code",
      "source": [
        "print(len(range(2,8)))"
      ],
      "metadata": {
        "colab": {
          "base_uri": "https://localhost:8080/"
        },
        "id": "QwvHiS65sLR6",
        "outputId": "ed9702a1-8f02-41d7-880d-975d085cbbcc"
      },
      "execution_count": null,
      "outputs": [
        {
          "output_type": "stream",
          "name": "stdout",
          "text": [
            "6\n"
          ]
        }
      ]
    },
    {
      "cell_type": "code",
      "source": [
        "for i in range(8 , 2,-2):\n",
        "  print(i)"
      ],
      "metadata": {
        "colab": {
          "base_uri": "https://localhost:8080/"
        },
        "id": "jG05VzeLB0DU",
        "outputId": "866304f7-ef42-45df-bda7-7cf72984aa01"
      },
      "execution_count": null,
      "outputs": [
        {
          "output_type": "stream",
          "name": "stdout",
          "text": [
            "8\n",
            "6\n",
            "4\n"
          ]
        }
      ]
    },
    {
      "cell_type": "code",
      "source": [
        "n= int(input())\n",
        "for i in range(n+1):\n",
        "  print(i, end=\" \")"
      ],
      "metadata": {
        "colab": {
          "base_uri": "https://localhost:8080/"
        },
        "id": "phfcNXbyCvcq",
        "outputId": "85c966fc-9803-4eef-f76a-8496827f85e7"
      },
      "execution_count": null,
      "outputs": [
        {
          "output_type": "stream",
          "name": "stdout",
          "text": [
            "14\n",
            "0 1 2 3 4 5 6 7 8 9 10 11 12 13 14 "
          ]
        }
      ]
    },
    {
      "cell_type": "code",
      "source": [
        "n= int(input())\n",
        "s=0\n",
        "for i in range(n+1):\n",
        "  s=s+i\n",
        "print(s)\n",
        "  "
      ],
      "metadata": {
        "colab": {
          "base_uri": "https://localhost:8080/"
        },
        "id": "KTZAbqzdDtW2",
        "outputId": "1777f623-3920-4dbc-b373-401871a6558f"
      },
      "execution_count": null,
      "outputs": [
        {
          "output_type": "stream",
          "name": "stdout",
          "text": [
            "10\n",
            "55\n"
          ]
        }
      ]
    },
    {
      "cell_type": "code",
      "source": [
        "n= int(input())\n",
        "factorial=1\n",
        "for i in range(1,n+1):\n",
        "  factorial*=i\n",
        "print(factorial)\n"
      ],
      "metadata": {
        "colab": {
          "base_uri": "https://localhost:8080/"
        },
        "id": "L_uvF4HOEjao",
        "outputId": "22be5860-86dc-468d-8d9a-63f3282bedc3"
      },
      "execution_count": null,
      "outputs": [
        {
          "output_type": "stream",
          "name": "stdout",
          "text": [
            "4\n",
            "24\n"
          ]
        }
      ]
    },
    {
      "cell_type": "code",
      "source": [
        "start= int(input())\n",
        "end= int(input())\n",
        "p=1\n",
        "for i in range(start,end+1, 2):\n",
        "  if start%2==0 and start!=0:\n",
        "    p*=i \n",
        "print(p)\n",
        "\n",
        "\n",
        "\n",
        "  \n"
      ],
      "metadata": {
        "colab": {
          "base_uri": "https://localhost:8080/"
        },
        "id": "DHK5bek1GI78",
        "outputId": "5a99abf3-a8d2-4b36-b6f7-0e33e255494c"
      },
      "execution_count": null,
      "outputs": [
        {
          "output_type": "stream",
          "name": "stdout",
          "text": [
            "2\n",
            "8\n",
            "384\n"
          ]
        }
      ]
    },
    {
      "cell_type": "code",
      "source": [
        "\n",
        "start= int(input())\n",
        "end= int(input())\n",
        "p=1\n",
        "if start%2==0:\n",
        "  x = start\n",
        "elif start==0:\n",
        "  x = 2\n",
        "else:\n",
        "  x = start+1\n",
        "\n",
        "for i in range(x,end+1,2):\n",
        "  p*=i \n",
        "print(p)\n"
      ],
      "metadata": {
        "colab": {
          "base_uri": "https://localhost:8080/"
        },
        "id": "7DF2ZeBDHCiK",
        "outputId": "b9610056-ff37-4caf-ab6b-d5025b76e35c"
      },
      "execution_count": null,
      "outputs": [
        {
          "output_type": "stream",
          "name": "stdout",
          "text": [
            "2\n",
            "8\n",
            "384\n"
          ]
        }
      ]
    },
    {
      "cell_type": "code",
      "source": [
        "print(list(range(2,8,2)))"
      ],
      "metadata": {
        "colab": {
          "base_uri": "https://localhost:8080/"
        },
        "id": "n2vasO0OJulY",
        "outputId": "e8ac8270-3aaf-42c1-9e99-d133a4d068c2"
      },
      "execution_count": null,
      "outputs": [
        {
          "output_type": "stream",
          "name": "stdout",
          "text": [
            "[2, 4, 6]\n"
          ]
        }
      ]
    },
    {
      "cell_type": "code",
      "source": [
        "\n",
        "N=int(input())\n",
        "for i in range (N,0,-1):\n",
        "  print(i, end=\",\")\n",
        "\n"
      ],
      "metadata": {
        "colab": {
          "base_uri": "https://localhost:8080/"
        },
        "id": "dHVYj9AbMp0q",
        "outputId": "3faccc06-431a-4161-8df9-578e5ef03509"
      },
      "execution_count": null,
      "outputs": [
        {
          "output_type": "stream",
          "name": "stdout",
          "text": [
            "10\n",
            "10,9,8,7,6,5,4,3,2,1,"
          ]
        }
      ]
    },
    {
      "cell_type": "code",
      "source": [
        "\"\"\"print a range in reverse order\"\"\"\n",
        "\n",
        "N=int(input())\n",
        "for i in range(1,N+1):\n",
        "  print(N-i+1, end=\",\")\n",
        "\n"
      ],
      "metadata": {
        "colab": {
          "base_uri": "https://localhost:8080/"
        },
        "id": "on5H6Bp0NRe-",
        "outputId": "404e8151-e889-4428-865e-fcfdf6f1dcec"
      },
      "execution_count": null,
      "outputs": [
        {
          "output_type": "stream",
          "name": "stdout",
          "text": [
            "10\n",
            "10,9,8,7,6,5,4,3,2,1,"
          ]
        }
      ]
    },
    {
      "cell_type": "code",
      "source": [
        "\"\"\"print a range in reverse order\"\"\"\n",
        "N=int(input())\n",
        "for i in range(-N,1):\n",
        "  print(-i, end=\",\")"
      ],
      "metadata": {
        "colab": {
          "base_uri": "https://localhost:8080/"
        },
        "id": "CoTagoOsNyeS",
        "outputId": "1fe5f0c6-0937-4a12-b4a5-9b5c2aafe576"
      },
      "execution_count": null,
      "outputs": [
        {
          "output_type": "stream",
          "name": "stdout",
          "text": [
            "10\n",
            "10,9,8,7,6,5,4,3,2,1,0,"
          ]
        }
      ]
    },
    {
      "cell_type": "code",
      "source": [
        "x = 2\n",
        "for i in range(0, 4):\n",
        "    if x%2:\n",
        "       x = x*2\n",
        "    else:\n",
        "       x = x+1"
      ],
      "metadata": {
        "id": "L981XqJOPssz"
      },
      "execution_count": null,
      "outputs": []
    },
    {
      "cell_type": "code",
      "source": [
        "x = 1\n",
        "for i in range(x):\n",
        "    x=x+1\n",
        "    print(i, end= \" \")"
      ],
      "metadata": {
        "colab": {
          "base_uri": "https://localhost:8080/"
        },
        "id": "tik3fgzYK0WE",
        "outputId": "1e391a4a-9e4d-4a70-f88d-28f0c93a8da2"
      },
      "execution_count": null,
      "outputs": [
        {
          "output_type": "stream",
          "name": "stdout",
          "text": [
            "0 "
          ]
        }
      ]
    },
    {
      "cell_type": "code",
      "source": [
        "N= int(input())\n",
        "\n",
        "for i in range(1,N+1):\n",
        "  print(i,end=\" \")"
      ],
      "metadata": {
        "colab": {
          "base_uri": "https://localhost:8080/"
        },
        "id": "kuhRxNTHOYtb",
        "outputId": "ea9491e6-fbad-4b15-9bf2-23c467775b25"
      },
      "execution_count": null,
      "outputs": [
        {
          "output_type": "stream",
          "name": "stdout",
          "text": [
            "5\n",
            "1 2 3 4 5 "
          ]
        }
      ]
    },
    {
      "cell_type": "code",
      "source": [
        "a = 0\n",
        "while True:\n",
        "  if a == 5:\n",
        "    a = a+1\n",
        "    a %= 5\n",
        "  a += 1\n",
        "  \n",
        "  break"
      ],
      "metadata": {
        "id": "vjbvZFWwO6lo"
      },
      "execution_count": null,
      "outputs": []
    },
    {
      "cell_type": "code",
      "source": [
        "i = 0\n",
        "j = 0\n",
        "while i <= 2:\n",
        "   if j%2:\n",
        "       j += 1\n",
        "   print(i, \":\", j, end=\" \")\n",
        "   i+=1\n",
        "   j+=1"
      ],
      "metadata": {
        "colab": {
          "base_uri": "https://localhost:8080/"
        },
        "id": "hUi4cBDQQWoM",
        "outputId": "4437610a-2265-485f-fc6e-90ad000ba8cf"
      },
      "execution_count": null,
      "outputs": [
        {
          "output_type": "stream",
          "name": "stdout",
          "text": [
            "0 : 0 1 : 2 2 : 4 "
          ]
        }
      ]
    },
    {
      "cell_type": "code",
      "source": [
        "for a in range(10):\n",
        "  if (a%3==0):\n",
        "    continue\n",
        "  print(a, end='')"
      ],
      "metadata": {
        "colab": {
          "base_uri": "https://localhost:8080/"
        },
        "id": "dt_KNhJerPcG",
        "outputId": "8c18e1aa-e512-430d-b69a-d45dc726a9fe"
      },
      "execution_count": null,
      "outputs": [
        {
          "output_type": "stream",
          "name": "stdout",
          "text": [
            "124578"
          ]
        }
      ]
    },
    {
      "cell_type": "code",
      "source": [
        "x=int(input())\n",
        "y=int(input())\n",
        "\n",
        "q=0\n",
        "r=0\n",
        "while x>=y:\n",
        "    x-=y\n",
        "    q+=1\n",
        "print(q, x)"
      ],
      "metadata": {
        "colab": {
          "base_uri": "https://localhost:8080/"
        },
        "id": "wUDsgT5LtbY8",
        "outputId": "3bbd40a9-b1b7-480f-bfc7-cdc3e36e71c5"
      },
      "execution_count": null,
      "outputs": [
        {
          "output_type": "stream",
          "name": "stdout",
          "text": [
            "45\n",
            "15\n",
            "3 0\n"
          ]
        }
      ]
    },
    {
      "cell_type": "code",
      "source": [
        "A= int(input())\n",
        "s=0\n",
        "for i in range(1,A+1):\n",
        "  if i%2!=0:\n",
        "    s=s+i\n",
        "print(s)"
      ],
      "metadata": {
        "colab": {
          "base_uri": "https://localhost:8080/"
        },
        "id": "jCWWtHlLwLVJ",
        "outputId": "6feea230-9011-43ba-8e1f-bb85e84d5727"
      },
      "execution_count": null,
      "outputs": [
        {
          "output_type": "stream",
          "name": "stdout",
          "text": [
            "4\n",
            "4\n"
          ]
        }
      ]
    },
    {
      "cell_type": "code",
      "source": [
        "\n"
      ],
      "metadata": {
        "colab": {
          "base_uri": "https://localhost:8080/"
        },
        "id": "w3Lu6gPbyF8o",
        "outputId": "3a7d2df6-9ed3-437e-c9fd-bd9c0a0aba9b"
      },
      "execution_count": null,
      "outputs": [
        {
          "output_type": "stream",
          "name": "stdout",
          "text": [
            "4\n",
            "10\n"
          ]
        }
      ]
    },
    {
      "cell_type": "code",
      "source": [
        "N= int(input())\n",
        "\n",
        "a=\"*\"\n",
        "for i in range(1,N+1):\n",
        "  print(a, end=\"\")\n"
      ],
      "metadata": {
        "colab": {
          "base_uri": "https://localhost:8080/"
        },
        "id": "eDpw52KV1Vwe",
        "outputId": "1bfe6d01-7700-4f44-a059-f5f9dc5f440f"
      },
      "execution_count": null,
      "outputs": [
        {
          "output_type": "stream",
          "name": "stdout",
          "text": [
            "5\n",
            "*****"
          ]
        }
      ]
    },
    {
      "cell_type": "code",
      "source": [
        "\"\"\"sum of the digits in the inpput number\"\"\"\n",
        "n= int(input())\n",
        "t=1\n",
        "while t<=n:\n",
        "  dig=0\n",
        "  s=0\n",
        "  num=int(input())\n",
        "  while num!=0:\n",
        "    dig=num%10\n",
        "    s=s+dig\n",
        "    num=num//10\n",
        "  print(s)\n",
        "  t+=1\n"
      ],
      "metadata": {
        "colab": {
          "base_uri": "https://localhost:8080/"
        },
        "id": "UwvnDR5P3Iq3",
        "outputId": "06bce3a8-e8ab-4ac0-e247-cb4362f5454d"
      },
      "execution_count": null,
      "outputs": [
        {
          "output_type": "stream",
          "name": "stdout",
          "text": [
            "2\n",
            "1589\n",
            "23\n",
            "23\n",
            "5\n"
          ]
        }
      ]
    },
    {
      "cell_type": "code",
      "source": [
        "T= int(input())\n",
        "t=1\n",
        "while t<=T:\n",
        "  dig=0\n",
        "  p=1\n",
        "  n= int(input())\n",
        "  while n!=0:\n",
        "    dig=n%10\n",
        "    p=p*dig\n",
        "    n=n//10\n",
        "  print(p)\n",
        "  t+=1\n",
        "  "
      ],
      "metadata": {
        "colab": {
          "base_uri": "https://localhost:8080/"
        },
        "id": "4upTTqxXVrgx",
        "outputId": "d19302ad-c73a-4293-e9f6-c63dd77cb318"
      },
      "execution_count": null,
      "outputs": [
        {
          "output_type": "stream",
          "name": "stdout",
          "text": [
            "2\n",
            "234\n",
            "24\n",
            "1589\n",
            "360\n"
          ]
        }
      ]
    },
    {
      "cell_type": "code",
      "source": [
        "t=1\n",
        "n=int(input())\n",
        "while t<=len(str(n)):\n",
        "  dig=0\n",
        "  while n!=0:\n",
        "    dig=n%10\n",
        "    n=n//10\n",
        "    print(dig, end=\"\")\n",
        "  t+=1"
      ],
      "metadata": {
        "colab": {
          "base_uri": "https://localhost:8080/"
        },
        "id": "S-n3u-XqXELP",
        "outputId": "b7118f82-73b1-4f9d-f6d8-8fce0e517095"
      },
      "execution_count": null,
      "outputs": [
        {
          "output_type": "stream",
          "name": "stdout",
          "text": [
            "9876543\n",
            "3456789"
          ]
        }
      ]
    },
    {
      "cell_type": "code",
      "source": [],
      "metadata": {
        "id": "-NAzSh2WeFhM"
      },
      "execution_count": null,
      "outputs": []
    }
  ],
  "metadata": {
    "colab": {
      "provenance": [],
      "authorship_tag": "ABX9TyPh/r4HF8hs2UtuGtD9w3tr",
      "include_colab_link": true
    },
    "kernelspec": {
      "display_name": "Python 3",
      "name": "python3"
    },
    "language_info": {
      "name": "python"
    }
  },
  "nbformat": 4,
  "nbformat_minor": 0
}