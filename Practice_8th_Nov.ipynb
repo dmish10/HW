{
  "nbformat": 4,
  "nbformat_minor": 0,
  "metadata": {
    "colab": {
      "provenance": [],
      "authorship_tag": "ABX9TyOnrY3dfefK/Ppx0FyEq0y+",
      "include_colab_link": true
    },
    "kernelspec": {
      "name": "python3",
      "display_name": "Python 3"
    },
    "language_info": {
      "name": "python"
    }
  },
  "cells": [
    {
      "cell_type": "markdown",
      "metadata": {
        "id": "view-in-github",
        "colab_type": "text"
      },
      "source": [
        "<a href=\"https://colab.research.google.com/github/dmish10/Scaler_Homework/blob/master/Practice_8th_Nov.ipynb\" target=\"_parent\"><img src=\"https://colab.research.google.com/assets/colab-badge.svg\" alt=\"Open In Colab\"/></a>"
      ]
    },
    {
      "cell_type": "code",
      "execution_count": null,
      "metadata": {
        "id": "S21ZgOX0lozL"
      },
      "outputs": [],
      "source": [
        "#Given a sorted integer array A, and an integer B. Find the first and last index of B in A.\n",
        "#It is guaranteed that B exists in A. Return an array C of size 2, where C[0] is the first index of B in A and C[1] is the last index of B in A.\n"
      ]
    },
    {
      "cell_type": "code",
      "source": [
        "A = [-2, -2, 4, 4, 8, 9]\n",
        "B = 4"
      ],
      "metadata": {
        "id": "DWK6uPzYmhR-"
      },
      "execution_count": null,
      "outputs": []
    },
    {
      "cell_type": "code",
      "source": [
        "def sorted(A):\n",
        "  C=[]\n",
        "  X=[]\n",
        "  for i in range(len(A)):\n",
        "    first=0\n",
        "    last=0\n",
        "    if A[i]== B:\n",
        "      X.append(i)\n",
        "  first+= X[0]\n",
        "  last+= X[len(X)-1]\n",
        "  C= [first] + [last]\n",
        "  return C\n",
        "    "
      ],
      "metadata": {
        "id": "JG4bRH9Lmmu3"
      },
      "execution_count": null,
      "outputs": []
    },
    {
      "cell_type": "code",
      "source": [
        "sorted(A)"
      ],
      "metadata": {
        "colab": {
          "base_uri": "https://localhost:8080/"
        },
        "id": "QDaQKHRWnYg0",
        "outputId": "de44cc5d-5de0-49d1-9469-87e975708178"
      },
      "execution_count": null,
      "outputs": [
        {
          "output_type": "execute_result",
          "data": {
            "text/plain": [
              "[2, 3]"
            ]
          },
          "metadata": {},
          "execution_count": 14
        }
      ]
    },
    {
      "cell_type": "code",
      "source": [
        "#Given a sorted integer array A and an integer B. Find the ceil and floor of B in the array A.\n",
        "# - Ceil of an integer X in the array is an element which is just greater than or equal to X.\n",
        "# - Floor of an integer X in the array is an element which is just smaller than or equal to X.\n",
        "# Return an array of size 2. The first element of the array will be ceil of B and the second element will be the floor.\n"
      ],
      "metadata": {
        "id": "pXClJQw6na9P"
      },
      "execution_count": null,
      "outputs": []
    },
    {
      "cell_type": "code",
      "source": [
        "A = [-2, 4, 8, 9]\n",
        "B = 0\n",
        "# A = [1, 9, 21]\n",
        "# B = 9"
      ],
      "metadata": {
        "id": "mZmP-0KWwRhf"
      },
      "execution_count": null,
      "outputs": []
    },
    {
      "cell_type": "code",
      "source": [
        "def ceil_floor(A,B):\n",
        "  C=[0]*2\n",
        "  for i in A:\n",
        "    if i<=B:\n",
        "      C[1]= i\n",
        "    if i>=B:\n",
        "      C[0]= i\n",
        "      break\n",
        "  return C\n",
        "\n",
        "ceil_floor(A,B)\n",
        "\n"
      ],
      "metadata": {
        "colab": {
          "base_uri": "https://localhost:8080/"
        },
        "id": "S38Ugm9GwYCb",
        "outputId": "d79270fe-e605-4b8f-bacf-f6192cddad0a"
      },
      "execution_count": null,
      "outputs": [
        {
          "output_type": "execute_result",
          "data": {
            "text/plain": [
              "[4, -2]"
            ]
          },
          "metadata": {},
          "execution_count": 25
        }
      ]
    },
    {
      "cell_type": "code",
      "source": [
        "# Given an integer array A, find the inverse of the array A and return it. \n"
      ],
      "metadata": {
        "id": "iVL0FE8z3l6v"
      },
      "execution_count": null,
      "outputs": []
    },
    {
      "cell_type": "code",
      "source": [
        " A = [2, 0, 1]\n",
        "\n",
        "\n",
        "def inverse1(A):\n",
        "  C=[]\n",
        "  # for i in range(len(A)):\n",
        "  last= A.pop()\n",
        "  remaining= A\n",
        "  C= [last]+ remaining\n",
        "  return C\n",
        "\n",
        "inverse1(A)"
      ],
      "metadata": {
        "colab": {
          "base_uri": "https://localhost:8080/"
        },
        "id": "If8cPeFrWZa0",
        "outputId": "a6193bed-b553-40da-b3f2-319036a27c72"
      },
      "execution_count": null,
      "outputs": [
        {
          "output_type": "execute_result",
          "data": {
            "text/plain": [
              "[2, 3, 1, 0]"
            ]
          },
          "metadata": {},
          "execution_count": 3
        }
      ]
    },
    {
      "cell_type": "code",
      "source": [
        "# Given an integer array A, find the inverse of the array A and return it. \n",
        "# All the elements of the given array are distinct and elements of the array lie in the range [0, |A|).\n",
        "# The inverse of the array means the array elements are swapped with their corresponding indices.\n",
        "# For example, Let's say we have an array A = [2, 0, 1], the inverse of A would be [1, 2, 0]."
      ],
      "metadata": {
        "id": "e6xUoKvIZsF_"
      },
      "execution_count": null,
      "outputs": []
    },
    {
      "cell_type": "code",
      "source": [
        "A = [3, 1, 0, 2]\n",
        "\n",
        "def swap_value_for_index(A):\n",
        "  C=[0]*len(A)\n",
        "  for i in range(len(A)):\n",
        "    C[A[i]]=i\n",
        "  return C\n",
        "swap_value_for_index(A)"
      ],
      "metadata": {
        "colab": {
          "base_uri": "https://localhost:8080/"
        },
        "id": "4HXSURTSFHXt",
        "outputId": "7069e8ef-5983-4bc3-addc-cb1c2f010689"
      },
      "execution_count": null,
      "outputs": [
        {
          "output_type": "execute_result",
          "data": {
            "text/plain": [
              "[2, 1, 3, 0]"
            ]
          },
          "metadata": {},
          "execution_count": 6
        }
      ]
    },
    {
      "cell_type": "code",
      "source": [
        "list1=[2,12,45,6,8,32,17]\n",
        "if (6 in list1):\n",
        "  print('Element exists')"
      ],
      "metadata": {
        "colab": {
          "base_uri": "https://localhost:8080/"
        },
        "id": "8RrzoCQ8Fo8J",
        "outputId": "e651d8c0-23e5-40b1-b9df-d9991abbb94b"
      },
      "execution_count": null,
      "outputs": [
        {
          "output_type": "stream",
          "name": "stdout",
          "text": [
            "Element exists\n"
          ]
        }
      ]
    },
    {
      "cell_type": "code",
      "source": [
        "e_count = list1.count(6) \n",
        "if e_count > 0:\n",
        "  print(\"Yes, 6 exists in list\")\n",
        "else:\n",
        "  print(\"No, 6 does not exists in list\")"
      ],
      "metadata": {
        "colab": {
          "base_uri": "https://localhost:8080/"
        },
        "id": "945lNpEHGFPV",
        "outputId": "21b562ad-2c0e-4e9c-aeaa-e392c5de566a"
      },
      "execution_count": null,
      "outputs": [
        {
          "output_type": "stream",
          "name": "stdout",
          "text": [
            "Yes, 6 exists in list\n"
          ]
        }
      ]
    },
    {
      "cell_type": "code",
      "source": [
        "# Given an array A, check if it is sorted in non decreasing order or not."
      ],
      "metadata": {
        "id": "UOVIv_5zGRyj"
      },
      "execution_count": null,
      "outputs": []
    },
    {
      "cell_type": "code",
      "source": [
        "A = [2,3,4]"
      ],
      "metadata": {
        "id": "ksAtTJ7XGaEs"
      },
      "execution_count": null,
      "outputs": []
    },
    {
      "cell_type": "code",
      "source": [
        "def sortie(A):\n",
        "  minimum= A[0]\n",
        "  for i in A:\n",
        "    if i>= minimum:\n",
        "      minimum= i     \n",
        "    else:\n",
        "      return 0\n",
        "  return 1\n",
        " \n",
        "\n",
        "sortie(A)"
      ],
      "metadata": {
        "colab": {
          "base_uri": "https://localhost:8080/"
        },
        "id": "T9wOgz-MG0Sr",
        "outputId": "c75cf6cf-5ce7-413c-c6df-b2fcf2970715"
      },
      "execution_count": null,
      "outputs": [
        {
          "output_type": "execute_result",
          "data": {
            "text/plain": [
              "1"
            ]
          },
          "metadata": {},
          "execution_count": 37
        }
      ]
    },
    {
      "cell_type": "code",
      "source": [
        "A=[1, 2, 3]\n",
        "A[:-1]"
      ],
      "metadata": {
        "colab": {
          "base_uri": "https://localhost:8080/"
        },
        "id": "rASMB8DAJLNt",
        "outputId": "260fc19b-b70a-4d2d-de4d-5053694c7f5f"
      },
      "execution_count": null,
      "outputs": [
        {
          "output_type": "execute_result",
          "data": {
            "text/plain": [
              "[1, 2]"
            ]
          },
          "metadata": {},
          "execution_count": 38
        }
      ]
    },
    {
      "cell_type": "code",
      "source": [
        "lst = [1, 2, 3, 4, 5, 6, 7, 8, 9, 10]\n",
        "# Modify the value of variable w, x, y and z such that the program outputs [8, 6, 4]"
      ],
      "metadata": {
        "id": "N5LmQyhxM4DW"
      },
      "execution_count": null,
      "outputs": []
    },
    {
      "cell_type": "code",
      "source": [
        "first_slice=lst[::-2]\n",
        "first_slice"
      ],
      "metadata": {
        "colab": {
          "base_uri": "https://localhost:8080/"
        },
        "id": "ZlurasUeNV4t",
        "outputId": "a4d7d07b-0133-4940-9363-1e39b6459230"
      },
      "execution_count": null,
      "outputs": [
        {
          "output_type": "execute_result",
          "data": {
            "text/plain": [
              "[10, 8, 6, 4, 2]"
            ]
          },
          "metadata": {},
          "execution_count": 46
        }
      ]
    },
    {
      "cell_type": "code",
      "source": [
        "second_slice=first_slice[:4]\n",
        "second_slice"
      ],
      "metadata": {
        "colab": {
          "base_uri": "https://localhost:8080/"
        },
        "id": "akaH4ikeNg6r",
        "outputId": "a5798a48-b71f-4f8a-a154-aa608ccbbed3"
      },
      "execution_count": null,
      "outputs": [
        {
          "output_type": "execute_result",
          "data": {
            "text/plain": [
              "[10, 8, 6, 4]"
            ]
          },
          "metadata": {},
          "execution_count": 48
        }
      ]
    },
    {
      "cell_type": "code",
      "source": [
        "third_slice=second_slice[1:]\n",
        "third_slice"
      ],
      "metadata": {
        "colab": {
          "base_uri": "https://localhost:8080/"
        },
        "id": "tihu0EBkN9nQ",
        "outputId": "a87e6a82-41d4-4956-e64e-20c41dbb881b"
      },
      "execution_count": null,
      "outputs": [
        {
          "output_type": "execute_result",
          "data": {
            "text/plain": [
              "[8, 6, 4]"
            ]
          },
          "metadata": {},
          "execution_count": 103
        }
      ]
    },
    {
      "cell_type": "code",
      "source": [
        "last_slice = third_slice[::1]\n",
        "last_slice"
      ],
      "metadata": {
        "colab": {
          "base_uri": "https://localhost:8080/"
        },
        "id": "VZdrlTNXOY72",
        "outputId": "1405269f-641c-4ad1-fc99-efb88abd2ea9"
      },
      "execution_count": null,
      "outputs": [
        {
          "output_type": "execute_result",
          "data": {
            "text/plain": [
              "[8, 6, 4]"
            ]
          },
          "metadata": {},
          "execution_count": 50
        }
      ]
    },
    {
      "cell_type": "code",
      "source": [
        "#You are given an integer array A. You have to find the second largest element/value in the array or report that no such element exists."
      ],
      "metadata": {
        "id": "pyypqHzMOgH5"
      },
      "execution_count": null,
      "outputs": []
    },
    {
      "cell_type": "code",
      "source": [
        "A = [2, 1, 2]\n"
      ],
      "metadata": {
        "id": "IldMzJYAP3As"
      },
      "execution_count": null,
      "outputs": []
    },
    {
      "cell_type": "code",
      "source": [
        "def second_largest(A):\n",
        "\n",
        "        n = len(A)\n",
        "\n",
        "        A.sort(reverse=True)\n",
        "\n",
        "        c = A.count(A[0])\n",
        "\n",
        "        if n <2:\n",
        "\n",
        "            return -1\n",
        "\n",
        "        else:\n",
        "\n",
        "            return A[c]  "
      ],
      "metadata": {
        "id": "dUquPMb5P84q"
      },
      "execution_count": null,
      "outputs": []
    },
    {
      "cell_type": "code",
      "source": [
        "second_largest(A)"
      ],
      "metadata": {
        "colab": {
          "base_uri": "https://localhost:8080/",
          "height": 288
        },
        "id": "KHZcOPIzaKUu",
        "outputId": "91eaefef-00b3-44d8-aad2-928ac05b2653"
      },
      "execution_count": null,
      "outputs": [
        {
          "output_type": "error",
          "ename": "TypeError",
          "evalue": "ignored",
          "traceback": [
            "\u001b[0;31m---------------------------------------------------------------------------\u001b[0m",
            "\u001b[0;31mTypeError\u001b[0m                                 Traceback (most recent call last)",
            "\u001b[0;32m<ipython-input-114-18146cffb0ad>\u001b[0m in \u001b[0;36m<module>\u001b[0;34m\u001b[0m\n\u001b[0;32m----> 1\u001b[0;31m \u001b[0msecond_largest\u001b[0m\u001b[0;34m(\u001b[0m\u001b[0mA\u001b[0m\u001b[0;34m)\u001b[0m\u001b[0;34m\u001b[0m\u001b[0;34m\u001b[0m\u001b[0m\n\u001b[0m",
            "\u001b[0;32m<ipython-input-113-f8a0252fede3>\u001b[0m in \u001b[0;36msecond_largest\u001b[0;34m(A)\u001b[0m\n\u001b[1;32m      1\u001b[0m \u001b[0;32mdef\u001b[0m \u001b[0msecond_largest\u001b[0m\u001b[0;34m(\u001b[0m\u001b[0mA\u001b[0m\u001b[0;34m)\u001b[0m\u001b[0;34m:\u001b[0m\u001b[0;34m\u001b[0m\u001b[0;34m\u001b[0m\u001b[0m\n\u001b[1;32m      2\u001b[0m \u001b[0;34m\u001b[0m\u001b[0m\n\u001b[0;32m----> 3\u001b[0;31m         \u001b[0mn\u001b[0m \u001b[0;34m=\u001b[0m \u001b[0mlen\u001b[0m\u001b[0;34m(\u001b[0m\u001b[0mA\u001b[0m\u001b[0;34m)\u001b[0m\u001b[0;34m\u001b[0m\u001b[0;34m\u001b[0m\u001b[0m\n\u001b[0m\u001b[1;32m      4\u001b[0m \u001b[0;34m\u001b[0m\u001b[0m\n\u001b[1;32m      5\u001b[0m         \u001b[0mA\u001b[0m\u001b[0;34m.\u001b[0m\u001b[0msort\u001b[0m\u001b[0;34m(\u001b[0m\u001b[0mreverse\u001b[0m\u001b[0;34m=\u001b[0m\u001b[0;32mTrue\u001b[0m\u001b[0;34m)\u001b[0m\u001b[0;34m\u001b[0m\u001b[0;34m\u001b[0m\u001b[0m\n",
            "\u001b[0;31mTypeError\u001b[0m: 'int' object is not callable"
          ]
        }
      ]
    },
    {
      "cell_type": "code",
      "source": [
        "A = [2, 1, 2]\n",
        "# n=len(A)\n",
        "A.sort(reverse=True)\n",
        "\n",
        "value=max(A)\n",
        "c = A.count(value)\n",
        "\n",
        "# if n <2:\n",
        "#   print(-1)\n",
        "# else:\n",
        "print(A[c])"
      ],
      "metadata": {
        "colab": {
          "base_uri": "https://localhost:8080/"
        },
        "id": "6sUOPMnsoV9k",
        "outputId": "96c80650-68d0-4170-c312-fb633f88ddb2"
      },
      "execution_count": null,
      "outputs": [
        {
          "output_type": "stream",
          "name": "stdout",
          "text": [
            "1\n"
          ]
        }
      ]
    },
    {
      "cell_type": "code",
      "source": [
        "# You are given a matrix A and and an integer B, you have to perform scalar multiplication of matrix A with an integer B\n",
        "\n",
        "A = [[1, 2, 3],[4, 5, 6],[7, 8, 9]]\n",
        "B = 2\n",
        "def multi(A,B):\n",
        "  C=[]\n",
        "  for i in range(len(A)):\n",
        "    result=[]\n",
        "    for j in range(len(A[0])):\n",
        "      result.append(A[i][j])*B\n",
        "    C.append(result)\n",
        "  return C"
      ],
      "metadata": {
        "id": "z0rkyEd4qHgL"
      },
      "execution_count": null,
      "outputs": []
    },
    {
      "cell_type": "code",
      "source": [
        "multi(A,B)"
      ],
      "metadata": {
        "colab": {
          "base_uri": "https://localhost:8080/",
          "height": 288
        },
        "id": "ykLlIa550an2",
        "outputId": "f9ec0399-7c2d-46e4-ac8b-e1faa7ceb955"
      },
      "execution_count": null,
      "outputs": [
        {
          "output_type": "error",
          "ename": "TypeError",
          "evalue": "ignored",
          "traceback": [
            "\u001b[0;31m---------------------------------------------------------------------------\u001b[0m",
            "\u001b[0;31mTypeError\u001b[0m                                 Traceback (most recent call last)",
            "\u001b[0;32m<ipython-input-130-219cbd63e724>\u001b[0m in \u001b[0;36m<module>\u001b[0;34m\u001b[0m\n\u001b[0;32m----> 1\u001b[0;31m \u001b[0mmulti\u001b[0m\u001b[0;34m(\u001b[0m\u001b[0mA\u001b[0m\u001b[0;34m,\u001b[0m\u001b[0mB\u001b[0m\u001b[0;34m)\u001b[0m\u001b[0;34m\u001b[0m\u001b[0;34m\u001b[0m\u001b[0m\n\u001b[0m",
            "\u001b[0;32m<ipython-input-129-889b8430d937>\u001b[0m in \u001b[0;36mmulti\u001b[0;34m(A, B)\u001b[0m\n\u001b[1;32m      5\u001b[0m \u001b[0;32mdef\u001b[0m \u001b[0mmulti\u001b[0m\u001b[0;34m(\u001b[0m\u001b[0mA\u001b[0m\u001b[0;34m,\u001b[0m\u001b[0mB\u001b[0m\u001b[0;34m)\u001b[0m\u001b[0;34m:\u001b[0m\u001b[0;34m\u001b[0m\u001b[0;34m\u001b[0m\u001b[0m\n\u001b[1;32m      6\u001b[0m   \u001b[0mC\u001b[0m\u001b[0;34m=\u001b[0m\u001b[0;34m[\u001b[0m\u001b[0;34m]\u001b[0m\u001b[0;34m\u001b[0m\u001b[0;34m\u001b[0m\u001b[0m\n\u001b[0;32m----> 7\u001b[0;31m   \u001b[0;32mfor\u001b[0m \u001b[0mi\u001b[0m \u001b[0;32min\u001b[0m \u001b[0mrange\u001b[0m\u001b[0;34m(\u001b[0m\u001b[0mlen\u001b[0m\u001b[0;34m(\u001b[0m\u001b[0mA\u001b[0m\u001b[0;34m)\u001b[0m\u001b[0;34m)\u001b[0m\u001b[0;34m:\u001b[0m\u001b[0;34m\u001b[0m\u001b[0;34m\u001b[0m\u001b[0m\n\u001b[0m\u001b[1;32m      8\u001b[0m     \u001b[0mresult\u001b[0m\u001b[0;34m=\u001b[0m\u001b[0;34m[\u001b[0m\u001b[0;34m]\u001b[0m\u001b[0;34m\u001b[0m\u001b[0;34m\u001b[0m\u001b[0m\n\u001b[1;32m      9\u001b[0m     \u001b[0;32mfor\u001b[0m \u001b[0mj\u001b[0m \u001b[0;32min\u001b[0m \u001b[0mrange\u001b[0m\u001b[0;34m(\u001b[0m\u001b[0mlen\u001b[0m\u001b[0;34m(\u001b[0m\u001b[0mA\u001b[0m\u001b[0;34m[\u001b[0m\u001b[0;36m0\u001b[0m\u001b[0;34m]\u001b[0m\u001b[0;34m)\u001b[0m\u001b[0;34m)\u001b[0m\u001b[0;34m:\u001b[0m\u001b[0;34m\u001b[0m\u001b[0;34m\u001b[0m\u001b[0m\n",
            "\u001b[0;31mTypeError\u001b[0m: 'int' object is not callable"
          ]
        }
      ]
    },
    {
      "cell_type": "code",
      "source": [
        "#You are given a 2D integer matrix A, return a 1D integer array containing row-wise sums of original matrix."
      ],
      "metadata": {
        "id": "WKyL9ayn03Wb"
      },
      "execution_count": null,
      "outputs": []
    },
    {
      "cell_type": "code",
      "source": [
        "A= [[1,2,3,4],[5,6,7,8],[9,2,3,4]]\n",
        "def matri(A,B):\n",
        "  row = len(A)\n",
        "  col = len(A[0])\n",
        "  for i in range(row):\n",
        "    row_sum=0\n",
        "    for j in range(col):\n",
        "      row_sum+= A[i][j]\n",
        "    # print(\"sum for each row=\",row_sum)\n",
        "    C.append(row_sum)\n",
        "  return C\n"
      ],
      "metadata": {
        "id": "yDuy_EAH2fZ1"
      },
      "execution_count": null,
      "outputs": []
    },
    {
      "cell_type": "code",
      "source": [
        "\n",
        "def main(A,B):\n",
        "    x=B\n",
        "    y=A/100\n",
        "    BMI = x/(y*y)\n",
        "        # BMI = B/((A/100)**2)\n",
        "    if(BMI<18.5):\n",
        "        print(\"Underweight\")\n",
        "    elif(BMI>=18.5 and BMI<=24.9):\n",
        "        print(\"Normal weight\")\n",
        "    elif (BMI>24.9 and BMI<=29.9):\n",
        "        print(\"Overweight\")\n",
        "       \n",
        "    else:\n",
        "        print(\"Obese\")\n",
        "    return int(BMI*10+0.5)/10"
      ],
      "metadata": {
        "id": "27uLnsUN3b_x"
      },
      "execution_count": null,
      "outputs": []
    },
    {
      "cell_type": "code",
      "source": [
        "main(129,31)"
      ],
      "metadata": {
        "colab": {
          "base_uri": "https://localhost:8080/"
        },
        "id": "cUFNDO0w5HRY",
        "outputId": "31cc81bd-1c96-427b-b41f-1bdb51291fd5"
      },
      "execution_count": null,
      "outputs": [
        {
          "output_type": "stream",
          "name": "stdout",
          "text": [
            "Normal weight\n"
          ]
        },
        {
          "output_type": "execute_result",
          "data": {
            "text/plain": [
              "18.6"
            ]
          },
          "metadata": {},
          "execution_count": 45
        }
      ]
    },
    {
      "cell_type": "code",
      "source": [
        "N= int(input())\n",
        "for i in range(N):\n",
        "  print(\"0 \"*(N-i-1), end=\"\")\n",
        "  for j in range(1,2*i+2):\n",
        "    print((N-i)*j, end=\" \")\n",
        "  print(\"0 \"*(N-i-1), end=\" \")\n",
        "  print()"
      ],
      "metadata": {
        "colab": {
          "base_uri": "https://localhost:8080/"
        },
        "id": "ph0HtX7t5O_A",
        "outputId": "2f739647-5342-40a9-ceeb-f5ffc25f913a"
      },
      "execution_count": null,
      "outputs": [
        {
          "output_type": "stream",
          "name": "stdout",
          "text": [
            "5\n",
            "0 0 0 0 5 0 0 0 0  \n",
            "0 0 0 4 8 12 0 0 0  \n",
            "0 0 3 6 9 12 15 0 0  \n",
            "0 2 4 6 8 10 12 14 0  \n",
            "1 2 3 4 5 6 7 8 9  \n"
          ]
        }
      ]
    },
    {
      "cell_type": "code",
      "source": [
        "def duplicate(A):\n",
        "    \n",
        "    ''' input:ls-List of elements and n-indicates the length of list\n",
        "         output:Return ans as True or False'''\n",
        "    A.sort(reverse=True)\n",
        "    for i in range(len(A)+1):\n",
        "        if A[i]==A[i+1]:\n",
        "            return True\n",
        "        else:\n",
        "            return False\n"
      ],
      "metadata": {
        "id": "-MpuLwFTqPdX"
      },
      "execution_count": null,
      "outputs": []
    },
    {
      "cell_type": "code",
      "source": [
        "# A=[4,1,4, 2, 3, 3]\n",
        "A=[4,3,2,1]\n",
        "duplicate(A)"
      ],
      "metadata": {
        "colab": {
          "base_uri": "https://localhost:8080/"
        },
        "id": "UvNYZCRYy3B0",
        "outputId": "cb8090df-9b3a-481e-e2e9-632f635a17ec"
      },
      "execution_count": null,
      "outputs": [
        {
          "output_type": "execute_result",
          "data": {
            "text/plain": [
              "False"
            ]
          },
          "metadata": {},
          "execution_count": 15
        }
      ]
    },
    {
      "cell_type": "code",
      "source": [
        "\n",
        "def first_multiple(ls,x):\n",
        "    ans=-1\n",
        "    ''' input:ls-List of elements and x-indicates the integer\n",
        "         output:Return ans from the list that is divisible by x'''\n",
        "    # ls.sort(reverse=False)\n",
        "    for i in range(1,len(ls)+1):\n",
        "        if ls[i]/x == 1:\n",
        "            ans = ls[i]\n",
        "            return ans\n",
        "    else:\n",
        "      return ans"
      ],
      "metadata": {
        "id": "XeJMZ9QOzYRB"
      },
      "execution_count": null,
      "outputs": []
    },
    {
      "cell_type": "code",
      "source": [
        "A=[2,1,2,4,3,5]\n",
        "x=4\n",
        "\n",
        "first_multiple(A,x)"
      ],
      "metadata": {
        "colab": {
          "base_uri": "https://localhost:8080/"
        },
        "id": "r0EEMSO-E2kz",
        "outputId": "576a628b-c61f-450e-dad1-f283f7c0b690"
      },
      "execution_count": null,
      "outputs": [
        {
          "output_type": "execute_result",
          "data": {
            "text/plain": [
              "4"
            ]
          },
          "metadata": {},
          "execution_count": 39
        }
      ]
    },
    {
      "cell_type": "code",
      "source": [
        "#how can we detect the duplicates in lists without using any function(an assignment question)"
      ],
      "metadata": {
        "id": "PPgjPNP5FFkg"
      },
      "execution_count": null,
      "outputs": []
    },
    {
      "cell_type": "code",
      "source": [
        "#mehtod 1- using sets\n",
        "\n",
        "a= [1,2,34,4,5,4,4,5,3,2,1,34]\n",
        "b= set(a)\n",
        "b"
      ],
      "metadata": {
        "colab": {
          "base_uri": "https://localhost:8080/"
        },
        "id": "iP_uO_vzEO_5",
        "outputId": "b9982ecd-c6aa-44ad-aa97-f6cc16b34536"
      },
      "execution_count": null,
      "outputs": [
        {
          "output_type": "execute_result",
          "data": {
            "text/plain": [
              "{1, 2, 3, 4, 5, 34}"
            ]
          },
          "metadata": {},
          "execution_count": 14
        }
      ]
    },
    {
      "cell_type": "code",
      "source": [
        "def check(a):\n",
        "  a.sort(reverse=False)\n",
        "  for i in range(0,len(a)+1):\n",
        "    if a[i]== a[i+1]:\n",
        "      return set(a)\n",
        "    else:\n",
        "      return False\n",
        "\n",
        "check(a) \n"
      ],
      "metadata": {
        "colab": {
          "base_uri": "https://localhost:8080/"
        },
        "id": "T8VQ9QauHf_H",
        "outputId": "181eb704-7679-4628-cb94-a69238d12011"
      },
      "execution_count": null,
      "outputs": [
        {
          "output_type": "execute_result",
          "data": {
            "text/plain": [
              "{1, 2, 3, 4, 5, 34}"
            ]
          },
          "metadata": {},
          "execution_count": 6
        }
      ]
    },
    {
      "cell_type": "code",
      "source": [
        "def check(a):\n",
        "  unique=[]\n",
        "  for i in a:\n",
        "    if i not in unique:\n",
        "      unique.append(i)\n",
        "    #to check if duplicate list \n",
        "  print(unique)\n",
        "  if len(unique)== len(a):\n",
        "    return False\n",
        "  else:\n",
        "    return True\n",
        "\n",
        "check(a)"
      ],
      "metadata": {
        "colab": {
          "base_uri": "https://localhost:8080/"
        },
        "id": "QS06rPm6Ljt7",
        "outputId": "76c73a59-d4a4-464d-fb86-4dc19f84af3d"
      },
      "execution_count": null,
      "outputs": [
        {
          "output_type": "stream",
          "name": "stdout",
          "text": [
            "[1, 2, 34, 4, 5, 3]\n"
          ]
        },
        {
          "output_type": "execute_result",
          "data": {
            "text/plain": [
              "True"
            ]
          },
          "metadata": {},
          "execution_count": 15
        }
      ]
    },
    {
      "cell_type": "code",
      "source": [
        "def main():\n",
        "    # YOUR CODE GOES HERE\n",
        "    # Please take input and print output to standard input/output (stdin/stdout)\n",
        "    # E.g. 'input()/raw_input()' for input & 'print' for output\n",
        "\n",
        "    n = int(input())\n",
        "\n",
        "    if n <= 1:\n",
        "      print('NO')\n",
        "\n",
        "    elif n >= 2:\n",
        "      for i in range(2, n):\n",
        "        if n % i == 0:\n",
        "          print('NO')\n",
        "          break\n",
        "\n",
        "      else:\n",
        "        print('YES')\n",
        "\n",
        "if __name__ == '__main__':\n",
        "    main()"
      ],
      "metadata": {
        "colab": {
          "base_uri": "https://localhost:8080/"
        },
        "id": "KjaldyARO-hN",
        "outputId": "e69ea49e-fe32-412f-a145-69533679304f"
      },
      "execution_count": null,
      "outputs": [
        {
          "output_type": "stream",
          "name": "stdout",
          "text": [
            "13\n",
            "YES\n"
          ]
        }
      ]
    },
    {
      "cell_type": "code",
      "source": [
        "#full pyramid\n",
        "\n",
        "n=int(input())\n",
        "\n",
        "for i in range(1,n+1):\n",
        "  for j in range(1,n-i+1):\n",
        "    print(\" \",end=\"\")\n",
        "  for j in range(1,i+1):\n",
        "    print(\"*\",end=\" \")\n",
        "  print()"
      ],
      "metadata": {
        "colab": {
          "base_uri": "https://localhost:8080/"
        },
        "id": "1YdO0oWqlbR9",
        "outputId": "be2a4e61-6047-4130-f18c-9dc0ff1a293e"
      },
      "execution_count": null,
      "outputs": [
        {
          "output_type": "stream",
          "name": "stdout",
          "text": [
            "5\n",
            "    * \n",
            "   * * \n",
            "  * * * \n",
            " * * * * \n",
            "* * * * * \n"
          ]
        }
      ]
    },
    {
      "cell_type": "code",
      "source": [
        "a=[1,2,34,4,5,4,4,5,6,3,2,1,34,34]\n"
      ],
      "metadata": {
        "id": "4lvzDhyn0yhB"
      },
      "execution_count": null,
      "outputs": []
    },
    {
      "cell_type": "code",
      "source": [
        "#print the largest in a list\n",
        "\n",
        "def largest(a):\n",
        "  max_element=a[0]\n",
        "  for i in a:\n",
        "    if i > max_element:\n",
        "      max_element=i\n",
        "  return max_element\n",
        "\n",
        "largest(a)   "
      ],
      "metadata": {
        "colab": {
          "base_uri": "https://localhost:8080/"
        },
        "id": "R-GzeO_pzK6M",
        "outputId": "0bf48c2d-3b24-4813-d824-9ebb0c737ffc"
      },
      "execution_count": null,
      "outputs": [
        {
          "output_type": "execute_result",
          "data": {
            "text/plain": [
              "34"
            ]
          },
          "metadata": {},
          "execution_count": 52
        }
      ]
    },
    {
      "cell_type": "code",
      "source": [
        "#for second largest "
      ],
      "metadata": {
        "id": "GMdqyoNxCeVy"
      },
      "execution_count": null,
      "outputs": []
    },
    {
      "cell_type": "code",
      "source": [
        "def sec_largest(a):\n",
        "  if len(a)>1:\n",
        "    a.sort(reverse=False)\n",
        "    max_element= a[0]\n",
        "    second_maximum=0\n",
        "    for i in a:\n",
        "      if i>max_element:\n",
        "        second_maximum=max_element\n",
        "        max_element=i\n",
        "    return second_maximum\n",
        "  else:\n",
        "    return a[0]\n",
        "sec_largest([1,2,34,4,5,4,4,5,6,3,2,1,34,34]) \n",
        "# sec_largest([1]) \n",
        "# sec_largest([1,3])"
      ],
      "metadata": {
        "colab": {
          "base_uri": "https://localhost:8080/"
        },
        "id": "AMGVPEhlCeS2",
        "outputId": "c6ae190b-8112-4119-9fff-a575c906b20a"
      },
      "execution_count": null,
      "outputs": [
        {
          "output_type": "execute_result",
          "data": {
            "text/plain": [
              "1"
            ]
          },
          "metadata": {},
          "execution_count": 64
        }
      ]
    },
    {
      "cell_type": "code",
      "source": [
        "def sec(a):\n",
        "  if len(a)>1:\n",
        "    # a.sort(reverse=False)\n",
        "    max_element= a[0]\n",
        "    second_maximum=0\n",
        "    for i in a:\n",
        "      if i>max_element:\n",
        "        second_maximum=max_element\n",
        "        max_element=i\n",
        "      if i >second_maximum and i<max_element:\n",
        "        second_maximum =i\n",
        "    return second_maximum\n",
        "  else:\n",
        "    return a[0]\n",
        "sec([2,1,2])"
      ],
      "metadata": {
        "colab": {
          "base_uri": "https://localhost:8080/"
        },
        "id": "Qh0vZWnmCeP2",
        "outputId": "5a318dcc-d7ec-4c08-c4a3-c9de48314e75"
      },
      "execution_count": null,
      "outputs": [
        {
          "output_type": "execute_result",
          "data": {
            "text/plain": [
              "1"
            ]
          },
          "metadata": {},
          "execution_count": 66
        }
      ]
    },
    {
      "cell_type": "code",
      "source": [
        "def inverse(a):\n",
        "    n=len(a)\n",
        "    inverse=[0]*n\n",
        "    for i in range(len(a)):\n",
        "        inverse[a[i]]=i\n",
        "    return inverse\n",
        "    \n",
        "inverse([3,1,0,2])"
      ],
      "metadata": {
        "colab": {
          "base_uri": "https://localhost:8080/",
          "height": 322
        },
        "id": "3_o8ZOejCeMm",
        "outputId": "8bc6a1ea-856e-4b4a-9132-bd0d76198cda"
      },
      "execution_count": null,
      "outputs": [
        {
          "output_type": "error",
          "ename": "TypeError",
          "evalue": "ignored",
          "traceback": [
            "\u001b[0;31m---------------------------------------------------------------------------\u001b[0m",
            "\u001b[0;31mTypeError\u001b[0m                                 Traceback (most recent call last)",
            "\u001b[0;32m<ipython-input-68-19ae4160dfa9>\u001b[0m in \u001b[0;36m<module>\u001b[0;34m\u001b[0m\n\u001b[1;32m      6\u001b[0m     \u001b[0;32mreturn\u001b[0m \u001b[0minverse\u001b[0m\u001b[0;34m\u001b[0m\u001b[0;34m\u001b[0m\u001b[0m\n\u001b[1;32m      7\u001b[0m \u001b[0;34m\u001b[0m\u001b[0m\n\u001b[0;32m----> 8\u001b[0;31m \u001b[0minverse\u001b[0m\u001b[0;34m(\u001b[0m\u001b[0;34m[\u001b[0m\u001b[0;36m3\u001b[0m\u001b[0;34m,\u001b[0m\u001b[0;36m1\u001b[0m\u001b[0;34m,\u001b[0m\u001b[0;36m0\u001b[0m\u001b[0;34m,\u001b[0m\u001b[0;36m2\u001b[0m\u001b[0;34m]\u001b[0m\u001b[0;34m)\u001b[0m\u001b[0;34m\u001b[0m\u001b[0;34m\u001b[0m\u001b[0m\n\u001b[0m",
            "\u001b[0;32m<ipython-input-68-19ae4160dfa9>\u001b[0m in \u001b[0;36minverse\u001b[0;34m(a)\u001b[0m\n\u001b[1;32m      2\u001b[0m     \u001b[0mn\u001b[0m\u001b[0;34m=\u001b[0m\u001b[0mlen\u001b[0m\u001b[0;34m(\u001b[0m\u001b[0ma\u001b[0m\u001b[0;34m)\u001b[0m\u001b[0;34m\u001b[0m\u001b[0;34m\u001b[0m\u001b[0m\n\u001b[1;32m      3\u001b[0m     \u001b[0minverse\u001b[0m\u001b[0;34m=\u001b[0m\u001b[0;34m[\u001b[0m\u001b[0;36m0\u001b[0m\u001b[0;34m]\u001b[0m\u001b[0;34m*\u001b[0m\u001b[0mn\u001b[0m\u001b[0;34m\u001b[0m\u001b[0;34m\u001b[0m\u001b[0m\n\u001b[0;32m----> 4\u001b[0;31m     \u001b[0;32mfor\u001b[0m \u001b[0mi\u001b[0m \u001b[0;32min\u001b[0m \u001b[0mrange\u001b[0m\u001b[0;34m(\u001b[0m\u001b[0ma\u001b[0m\u001b[0;34m)\u001b[0m\u001b[0;34m:\u001b[0m\u001b[0;34m\u001b[0m\u001b[0;34m\u001b[0m\u001b[0m\n\u001b[0m\u001b[1;32m      5\u001b[0m         \u001b[0minverse\u001b[0m\u001b[0;34m[\u001b[0m\u001b[0ma\u001b[0m\u001b[0;34m[\u001b[0m\u001b[0mi\u001b[0m\u001b[0;34m]\u001b[0m\u001b[0;34m]\u001b[0m\u001b[0;34m=\u001b[0m\u001b[0mi\u001b[0m\u001b[0;34m\u001b[0m\u001b[0;34m\u001b[0m\u001b[0m\n\u001b[1;32m      6\u001b[0m     \u001b[0;32mreturn\u001b[0m \u001b[0minverse\u001b[0m\u001b[0;34m\u001b[0m\u001b[0;34m\u001b[0m\u001b[0m\n",
            "\u001b[0;31mTypeError\u001b[0m: 'list' object cannot be interpreted as an integer"
          ]
        }
      ]
    },
    {
      "cell_type": "code",
      "source": [
        "#ceil and floor for a number\n",
        "def ceil(N):\n",
        "  floor = N//1\n",
        "  if N-floor==0.0:\n",
        "    ceil= floor \n",
        "  else:\n",
        "    ceil= floor + 1\n",
        "  return ceil\n",
        "\n",
        "ceil(65.87)"
      ],
      "metadata": {
        "colab": {
          "base_uri": "https://localhost:8080/"
        },
        "id": "ZsP6eMfGmlCd",
        "outputId": "988d9975-903d-4656-af29-5a1f41de224e"
      },
      "execution_count": null,
      "outputs": [
        {
          "output_type": "execute_result",
          "data": {
            "text/plain": [
              "66.0"
            ]
          },
          "metadata": {},
          "execution_count": 74
        }
      ]
    },
    {
      "cell_type": "code",
      "source": [
        "#if two matrices are equal\n",
        "a=[[1,2],[3,4]]\n",
        "b=[[1,2],[3,4]]\n",
        "def equal(a,b):\n",
        "  for i in range(len(a)):\n",
        "    for j in range(len(a[0])):\n",
        "      if a[i][j]!=b[i][j]:\n",
        "        return False\n",
        "  return True\n",
        "equal(a,b)\n"
      ],
      "metadata": {
        "colab": {
          "base_uri": "https://localhost:8080/"
        },
        "id": "rEffWOndlAKx",
        "outputId": "16f96014-0f0d-4b23-8f60-21dfcdd8bb47"
      },
      "execution_count": null,
      "outputs": [
        {
          "output_type": "execute_result",
          "data": {
            "text/plain": [
              "True"
            ]
          },
          "metadata": {},
          "execution_count": 77
        }
      ]
    },
    {
      "cell_type": "code",
      "source": [
        "#Transpose a matrix ..traverse through the columns and then rows\n",
        "a=[[1,2,3],[3,4,5]]"
      ],
      "metadata": {
        "id": "17AHR72kmk5H"
      },
      "execution_count": null,
      "outputs": []
    },
    {
      "cell_type": "code",
      "source": [
        "def transpose_matrix(a):\n",
        "  transpose =[]\n",
        "  for i in range(len(a[0])):\n",
        "    row= []\n",
        "    for j in range(len(a)):\n",
        "      row.append(a[j][i])\n",
        "    transpose.append(row)\n",
        "  return transpose\n",
        "\n",
        "transpose_matrix(a)"
      ],
      "metadata": {
        "colab": {
          "base_uri": "https://localhost:8080/"
        },
        "id": "PGwoRw0tzvHV",
        "outputId": "a74def3f-fef3-4e9a-868b-030c77e248c0"
      },
      "execution_count": null,
      "outputs": [
        {
          "output_type": "execute_result",
          "data": {
            "text/plain": [
              "[[1, 3], [2, 4], [3, 5]]"
            ]
          },
          "metadata": {},
          "execution_count": 6
        }
      ]
    },
    {
      "cell_type": "code",
      "source": [
        "n= 5\n",
        "subtract = 1\n",
        "for i in range(5):\n",
        "  print(\"0\\t\"* (n-i-1), end=\"\")\n",
        "  for j in range(0, 2*i+subtract):\n",
        "    print(i+j+1, end=\"\\t\")\n",
        "  for k in range(i):\n",
        "    print((2*i)-k, end=\"\\t\")\n",
        "  subtract-=1\n",
        "  print(\"0\\t\"*(n-i-1), end=\"\\n\")"
      ],
      "metadata": {
        "colab": {
          "base_uri": "https://localhost:8080/"
        },
        "id": "PWV0wKk-0nbQ",
        "outputId": "15913177-07fd-4a2b-b851-ef6074b4937f"
      },
      "execution_count": null,
      "outputs": [
        {
          "output_type": "stream",
          "name": "stdout",
          "text": [
            "0\t0\t0\t0\t1\t0\t0\t0\t0\t\n",
            "0\t0\t0\t2\t3\t2\t0\t0\t0\t\n",
            "0\t0\t3\t4\t5\t4\t3\t0\t0\t\n",
            "0\t4\t5\t6\t7\t6\t5\t4\t0\t\n",
            "5\t6\t7\t8\t9\t8\t7\t6\t5\t\n"
          ]
        }
      ]
    },
    {
      "cell_type": "code",
      "source": [
        "Ascii_1= 100\n",
        "Ascii_2 =32\n",
        "char1= chr(100)\n",
        "char2=chr(32)\n",
        "char1\n"
      ],
      "metadata": {
        "colab": {
          "base_uri": "https://localhost:8080/",
          "height": 35
        },
        "id": "9u7Plf2Nldvk",
        "outputId": "c32755fa-c263-4b71-d784-cf642043fd35"
      },
      "execution_count": null,
      "outputs": [
        {
          "output_type": "execute_result",
          "data": {
            "text/plain": [
              "'d'"
            ],
            "application/vnd.google.colaboratory.intrinsic+json": {
              "type": "string"
            }
          },
          "metadata": {},
          "execution_count": 42
        }
      ]
    },
    {
      "cell_type": "code",
      "source": [
        "ord(\"A\")"
      ],
      "metadata": {
        "colab": {
          "base_uri": "https://localhost:8080/"
        },
        "id": "6FE-CYaw87Lz",
        "outputId": "e39a7a7b-984f-4f11-bf16-2b5e1439803d"
      },
      "execution_count": null,
      "outputs": [
        {
          "output_type": "execute_result",
          "data": {
            "text/plain": [
              "65"
            ]
          },
          "metadata": {},
          "execution_count": 35
        }
      ]
    },
    {
      "cell_type": "code",
      "source": [
        "a= \"dfjhlhorhndFfjjj\"\n",
        "b=\"\"\n",
        "for i in a:\n",
        "  b= a.replace(char1,char2)\n",
        "print(b)\n",
        "\n"
      ],
      "metadata": {
        "colab": {
          "base_uri": "https://localhost:8080/"
        },
        "id": "b-lYX7Vj8-FM",
        "outputId": "5b7c0885-147c-463e-d751-69a55aafae53"
      },
      "execution_count": null,
      "outputs": [
        {
          "output_type": "stream",
          "name": "stdout",
          "text": [
            " fjhlhorhn Ffjjj\n"
          ]
        }
      ]
    },
    {
      "cell_type": "code",
      "source": [
        "#Write a program to input an integer T and then each of T lines will have 2 strings (A and B).\n",
        "#You have to concatenate two strings and print T lines each containing concatenated string.\n",
        "#First line is T which means number of test cases.Each next T lines contain two strings A and B\n",
        "#T lines each containing concatenated string. input as below-\n",
        "#3\n",
        "# sc scaler\n",
        "# ler scalem\n",
        "# scaler scale\n",
        "# output as here - scscaler\n",
        "#                  lerscalem\n",
        "#                  scalerscale"
      ],
      "metadata": {
        "id": "pUfdf6xo9RrJ"
      },
      "execution_count": null,
      "outputs": []
    },
    {
      "cell_type": "code",
      "source": [
        "\n",
        "output = []\n",
        "T= int(input())\n",
        "while T!=0:\n",
        "  input = input()\n",
        "  i= input.split(\" \")[:]\n",
        "  concat_words= \"\".join(i)\n",
        "  output.append(concat_words)\n",
        "  T+=1\n",
        "\n",
        "   "
      ],
      "metadata": {
        "colab": {
          "base_uri": "https://localhost:8080/",
          "height": 236
        },
        "id": "tA4k7ORXJmkq",
        "outputId": "56411a91-ef8c-446b-8370-1ffb007d195b"
      },
      "execution_count": null,
      "outputs": [
        {
          "output_type": "error",
          "ename": "TypeError",
          "evalue": "ignored",
          "traceback": [
            "\u001b[0;31m---------------------------------------------------------------------------\u001b[0m",
            "\u001b[0;31mTypeError\u001b[0m                                 Traceback (most recent call last)",
            "\u001b[0;32m<ipython-input-64-ed78f55873e0>\u001b[0m in \u001b[0;36m<module>\u001b[0;34m\u001b[0m\n\u001b[1;32m      1\u001b[0m \u001b[0moutput\u001b[0m \u001b[0;34m=\u001b[0m \u001b[0;34m[\u001b[0m\u001b[0;34m]\u001b[0m\u001b[0;34m\u001b[0m\u001b[0;34m\u001b[0m\u001b[0m\n\u001b[0;32m----> 2\u001b[0;31m \u001b[0mT\u001b[0m\u001b[0;34m=\u001b[0m \u001b[0mint\u001b[0m\u001b[0;34m(\u001b[0m\u001b[0minput\u001b[0m\u001b[0;34m(\u001b[0m\u001b[0;34m)\u001b[0m\u001b[0;34m)\u001b[0m\u001b[0;34m\u001b[0m\u001b[0;34m\u001b[0m\u001b[0m\n\u001b[0m\u001b[1;32m      3\u001b[0m \u001b[0;32mwhile\u001b[0m \u001b[0mT\u001b[0m\u001b[0;34m!=\u001b[0m\u001b[0;36m0\u001b[0m\u001b[0;34m:\u001b[0m\u001b[0;34m\u001b[0m\u001b[0;34m\u001b[0m\u001b[0m\n\u001b[1;32m      4\u001b[0m   \u001b[0minput\u001b[0m \u001b[0;34m=\u001b[0m \u001b[0minput\u001b[0m\u001b[0;34m(\u001b[0m\u001b[0;34m)\u001b[0m\u001b[0;34m\u001b[0m\u001b[0;34m\u001b[0m\u001b[0m\n\u001b[1;32m      5\u001b[0m   \u001b[0mi\u001b[0m\u001b[0;34m=\u001b[0m \u001b[0minput\u001b[0m\u001b[0;34m.\u001b[0m\u001b[0msplit\u001b[0m\u001b[0;34m(\u001b[0m\u001b[0;34m\" \"\u001b[0m\u001b[0;34m)\u001b[0m\u001b[0;34m[\u001b[0m\u001b[0;34m:\u001b[0m\u001b[0;34m]\u001b[0m\u001b[0;34m\u001b[0m\u001b[0;34m\u001b[0m\u001b[0m\n",
            "\u001b[0;31mTypeError\u001b[0m: 'str' object is not callable"
          ]
        }
      ]
    },
    {
      "cell_type": "code",
      "source": [
        "\n",
        "T = int(input())\n",
        "output = []\n",
        "for j in range(T+1):\n",
        "  line= input()\n",
        "# concat_words= \"\".join(line.split(\" \")[:])\n",
        "  i= line.split(\" \")[:]\n",
        "  concat_words= \"\".join(i)\n",
        "  print(concat_words)\n",
        "  output.append(concat_words)\n",
        "  print(output)\n",
        "  \n"
      ],
      "metadata": {
        "colab": {
          "base_uri": "https://localhost:8080/",
          "height": 236
        },
        "id": "Wl7qfRCsLtP3",
        "outputId": "e8646247-4873-4601-af60-467155d5e199"
      },
      "execution_count": null,
      "outputs": [
        {
          "output_type": "error",
          "ename": "TypeError",
          "evalue": "ignored",
          "traceback": [
            "\u001b[0;31m---------------------------------------------------------------------------\u001b[0m",
            "\u001b[0;31mTypeError\u001b[0m                                 Traceback (most recent call last)",
            "\u001b[0;32m<ipython-input-72-4fb8a75757bb>\u001b[0m in \u001b[0;36m<module>\u001b[0;34m\u001b[0m\n\u001b[0;32m----> 1\u001b[0;31m \u001b[0mT\u001b[0m \u001b[0;34m=\u001b[0m \u001b[0mint\u001b[0m\u001b[0;34m(\u001b[0m\u001b[0minput\u001b[0m\u001b[0;34m(\u001b[0m\u001b[0;34m)\u001b[0m\u001b[0;34m)\u001b[0m\u001b[0;34m\u001b[0m\u001b[0;34m\u001b[0m\u001b[0m\n\u001b[0m\u001b[1;32m      2\u001b[0m \u001b[0moutput\u001b[0m \u001b[0;34m=\u001b[0m \u001b[0;34m[\u001b[0m\u001b[0;34m]\u001b[0m\u001b[0;34m\u001b[0m\u001b[0;34m\u001b[0m\u001b[0m\n\u001b[1;32m      3\u001b[0m \u001b[0;32mfor\u001b[0m \u001b[0mj\u001b[0m \u001b[0;32min\u001b[0m \u001b[0mrange\u001b[0m\u001b[0;34m(\u001b[0m\u001b[0mT\u001b[0m\u001b[0;34m+\u001b[0m\u001b[0;36m1\u001b[0m\u001b[0;34m)\u001b[0m\u001b[0;34m:\u001b[0m\u001b[0;34m\u001b[0m\u001b[0;34m\u001b[0m\u001b[0m\n\u001b[1;32m      4\u001b[0m \u001b[0;34m\u001b[0m\u001b[0m\n\u001b[1;32m      5\u001b[0m   \u001b[0mline\u001b[0m\u001b[0;34m=\u001b[0m \u001b[0minput\u001b[0m\u001b[0;34m(\u001b[0m\u001b[0;34m)\u001b[0m\u001b[0;34m\u001b[0m\u001b[0;34m\u001b[0m\u001b[0m\n",
            "\u001b[0;31mTypeError\u001b[0m: 'str' object is not callable"
          ]
        }
      ]
    },
    {
      "cell_type": "code",
      "source": [
        "N= int(input())\n",
        "output= []\n",
        "for i in range(N):\n",
        "  line = input()\n",
        "  i= line.split(\" \")[:]\n",
        "  concat_words= \"\".join(i)\n",
        "  output.append(concat_words)\n",
        "  \n",
        "for word in output:\n",
        "  print(word)"
      ],
      "metadata": {
        "colab": {
          "base_uri": "https://localhost:8080/",
          "height": 236
        },
        "id": "REolQ_ztMJUn",
        "outputId": "e4216318-b880-4d20-b489-3b4d67cde6ec"
      },
      "execution_count": null,
      "outputs": [
        {
          "output_type": "error",
          "ename": "TypeError",
          "evalue": "ignored",
          "traceback": [
            "\u001b[0;31m---------------------------------------------------------------------------\u001b[0m",
            "\u001b[0;31mTypeError\u001b[0m                                 Traceback (most recent call last)",
            "\u001b[0;32m<ipython-input-76-c0379a3fb7e7>\u001b[0m in \u001b[0;36m<module>\u001b[0;34m\u001b[0m\n\u001b[0;32m----> 1\u001b[0;31m \u001b[0mN\u001b[0m\u001b[0;34m=\u001b[0m \u001b[0mint\u001b[0m\u001b[0;34m(\u001b[0m\u001b[0minput\u001b[0m\u001b[0;34m(\u001b[0m\u001b[0;34m)\u001b[0m\u001b[0;34m)\u001b[0m\u001b[0;34m\u001b[0m\u001b[0;34m\u001b[0m\u001b[0m\n\u001b[0m\u001b[1;32m      2\u001b[0m \u001b[0moutput\u001b[0m\u001b[0;34m=\u001b[0m \u001b[0;34m[\u001b[0m\u001b[0;34m]\u001b[0m\u001b[0;34m\u001b[0m\u001b[0;34m\u001b[0m\u001b[0m\n\u001b[1;32m      3\u001b[0m \u001b[0;32mfor\u001b[0m \u001b[0mi\u001b[0m \u001b[0;32min\u001b[0m \u001b[0mrange\u001b[0m\u001b[0;34m(\u001b[0m\u001b[0mN\u001b[0m\u001b[0;34m)\u001b[0m\u001b[0;34m:\u001b[0m\u001b[0;34m\u001b[0m\u001b[0;34m\u001b[0m\u001b[0m\n\u001b[1;32m      4\u001b[0m   \u001b[0mline\u001b[0m \u001b[0;34m=\u001b[0m \u001b[0minput\u001b[0m\u001b[0;34m(\u001b[0m\u001b[0;34m)\u001b[0m\u001b[0;34m\u001b[0m\u001b[0;34m\u001b[0m\u001b[0m\n\u001b[1;32m      5\u001b[0m   \u001b[0mi\u001b[0m\u001b[0;34m=\u001b[0m \u001b[0mline\u001b[0m\u001b[0;34m.\u001b[0m\u001b[0msplit\u001b[0m\u001b[0;34m(\u001b[0m\u001b[0;34m\" \"\u001b[0m\u001b[0;34m)\u001b[0m\u001b[0;34m[\u001b[0m\u001b[0;34m:\u001b[0m\u001b[0;34m]\u001b[0m\u001b[0;34m\u001b[0m\u001b[0;34m\u001b[0m\u001b[0m\n",
            "\u001b[0;31mTypeError\u001b[0m: 'str' object is not callable"
          ]
        }
      ]
    },
    {
      "cell_type": "code",
      "source": [
        "def sum1(A):\n",
        "  sum1= 0\n",
        "  for i in range(1,A+1):\n",
        "    if i%2==0:\n",
        "      sum1= sum1 + i\n",
        "  print(sum1)\n",
        "sum1(5)\n",
        "    "
      ],
      "metadata": {
        "colab": {
          "base_uri": "https://localhost:8080/"
        },
        "id": "3WA-T1C-Qw1P",
        "outputId": "0b680d71-675d-488a-c584-f53de05c4420"
      },
      "execution_count": null,
      "outputs": [
        {
          "output_type": "stream",
          "name": "stdout",
          "text": [
            "6\n"
          ]
        }
      ]
    },
    {
      "cell_type": "code",
      "source": [
        "def odd(A):\n",
        "    # A= int(input())\n",
        "    s=0\n",
        "    for i in range(1,A+1):\n",
        "        if not(i%2 == 0):\n",
        "            s+= i\n",
        "    print(s)\n",
        "odd(4)"
      ],
      "metadata": {
        "colab": {
          "base_uri": "https://localhost:8080/"
        },
        "id": "cUn7t_BPa1yC",
        "outputId": "1fd9c70e-75fd-4003-92a4-93f9f15fa902"
      },
      "execution_count": null,
      "outputs": [
        {
          "output_type": "stream",
          "name": "stdout",
          "text": [
            "4\n"
          ]
        }
      ]
    },
    {
      "cell_type": "code",
      "source": [
        "\n",
        "p =1\n",
        "for i in range(4,0,-1):\n",
        "  p*= i\n",
        "print(p)"
      ],
      "metadata": {
        "colab": {
          "base_uri": "https://localhost:8080/"
        },
        "id": "6WYK75vdf7hG",
        "outputId": "616b9c1c-8c15-4643-bb28-c6cfa7bc1685"
      },
      "execution_count": null,
      "outputs": [
        {
          "output_type": "stream",
          "name": "stdout",
          "text": [
            "24\n"
          ]
        }
      ]
    },
    {
      "cell_type": "code",
      "source": [
        "def exp(A,B):\n",
        "  p= A**B\n",
        "  print(p)\n",
        "exp(2,2)"
      ],
      "metadata": {
        "colab": {
          "base_uri": "https://localhost:8080/"
        },
        "id": "BM1_2nMyhvM4",
        "outputId": "78653d70-9985-485e-b62d-f42ce17d244c"
      },
      "execution_count": null,
      "outputs": [
        {
          "output_type": "stream",
          "name": "stdout",
          "text": [
            "4\n"
          ]
        }
      ]
    },
    {
      "cell_type": "code",
      "source": [
        "N=4\n",
        "for i in range(N):\n",
        "  for j in range(i+1):\n",
        "    print(\"*\", end=\"\")\n",
        "  print()"
      ],
      "metadata": {
        "colab": {
          "base_uri": "https://localhost:8080/"
        },
        "id": "9T2c6fcDhxJp",
        "outputId": "bfd06d3f-e5c2-48c4-8f86-cf50c0382c70"
      },
      "execution_count": null,
      "outputs": [
        {
          "output_type": "stream",
          "name": "stdout",
          "text": [
            "*\n",
            "**\n",
            "***\n",
            "****\n"
          ]
        }
      ]
    },
    {
      "cell_type": "code",
      "source": [
        "def triangle(N):\n",
        "    # YOUR CODE GOES HERE\n",
        "    # Please take input and print output to standard input/output (stdin/stdout)\n",
        "    # E.g. 'input()/raw_input()' for input & 'print' for output\n",
        "\n",
        "    N= int(input())\n",
        "    order= ord(\"A\")\n",
        "    for i in range(N):\n",
        "        for j in range(i+1):\n",
        "            print(order, end=\"\")\n",
        "            order+=1\n",
        "        print()\n",
        "triangle(5)"
      ],
      "metadata": {
        "colab": {
          "base_uri": "https://localhost:8080/",
          "height": 322
        },
        "id": "63CdL7I8kRkr",
        "outputId": "2a60117a-34c9-4cd7-e468-c096eba0824f"
      },
      "execution_count": null,
      "outputs": [
        {
          "output_type": "error",
          "ename": "TypeError",
          "evalue": "ignored",
          "traceback": [
            "\u001b[0;31m---------------------------------------------------------------------------\u001b[0m",
            "\u001b[0;31mTypeError\u001b[0m                                 Traceback (most recent call last)",
            "\u001b[0;32m<ipython-input-117-1a5097b28be6>\u001b[0m in \u001b[0;36m<module>\u001b[0;34m\u001b[0m\n\u001b[1;32m     11\u001b[0m             \u001b[0morder\u001b[0m\u001b[0;34m+=\u001b[0m\u001b[0;36m1\u001b[0m\u001b[0;34m\u001b[0m\u001b[0;34m\u001b[0m\u001b[0m\n\u001b[1;32m     12\u001b[0m         \u001b[0mprint\u001b[0m\u001b[0;34m(\u001b[0m\u001b[0;34m)\u001b[0m\u001b[0;34m\u001b[0m\u001b[0;34m\u001b[0m\u001b[0m\n\u001b[0;32m---> 13\u001b[0;31m \u001b[0mtriangle\u001b[0m\u001b[0;34m(\u001b[0m\u001b[0;36m5\u001b[0m\u001b[0;34m)\u001b[0m\u001b[0;34m\u001b[0m\u001b[0;34m\u001b[0m\u001b[0m\n\u001b[0m",
            "\u001b[0;32m<ipython-input-117-1a5097b28be6>\u001b[0m in \u001b[0;36mtriangle\u001b[0;34m(N)\u001b[0m\n\u001b[1;32m      4\u001b[0m     \u001b[0;31m# E.g. 'input()/raw_input()' for input & 'print' for output\u001b[0m\u001b[0;34m\u001b[0m\u001b[0;34m\u001b[0m\u001b[0;34m\u001b[0m\u001b[0m\n\u001b[1;32m      5\u001b[0m \u001b[0;34m\u001b[0m\u001b[0m\n\u001b[0;32m----> 6\u001b[0;31m     \u001b[0mN\u001b[0m\u001b[0;34m=\u001b[0m \u001b[0mint\u001b[0m\u001b[0;34m(\u001b[0m\u001b[0minput\u001b[0m\u001b[0;34m(\u001b[0m\u001b[0;34m)\u001b[0m\u001b[0;34m)\u001b[0m\u001b[0;34m\u001b[0m\u001b[0;34m\u001b[0m\u001b[0m\n\u001b[0m\u001b[1;32m      7\u001b[0m     \u001b[0morder\u001b[0m\u001b[0;34m=\u001b[0m \u001b[0mord\u001b[0m\u001b[0;34m(\u001b[0m\u001b[0;34m\"A\"\u001b[0m\u001b[0;34m)\u001b[0m\u001b[0;34m\u001b[0m\u001b[0;34m\u001b[0m\u001b[0m\n\u001b[1;32m      8\u001b[0m     \u001b[0;32mfor\u001b[0m \u001b[0mi\u001b[0m \u001b[0;32min\u001b[0m \u001b[0mrange\u001b[0m\u001b[0;34m(\u001b[0m\u001b[0mN\u001b[0m\u001b[0;34m)\u001b[0m\u001b[0;34m:\u001b[0m\u001b[0;34m\u001b[0m\u001b[0;34m\u001b[0m\u001b[0m\n",
            "\u001b[0;31mTypeError\u001b[0m: 'str' object is not callable"
          ]
        }
      ]
    },
    {
      "cell_type": "code",
      "source": [
        "N=6 \n",
        "for i in range(1,N+1):\n",
        "    if i==1:\n",
        "        for j in range(N):\n",
        "            print(\"*\", end=\"\")\n",
        "    elif i==N: \n",
        "        print(\"*\", end=\"\")\n",
        "    else:\n",
        "        print(\"*\", end=\"\")\n",
        "        for k in range(N-i-1):\n",
        "            print(\" \", end=\"\")\n",
        "        print(\"*\", end=\"\")\n",
        "    print()"
      ],
      "metadata": {
        "colab": {
          "base_uri": "https://localhost:8080/"
        },
        "id": "558HxWIplyB1",
        "outputId": "de2d932c-b43a-4755-d315-723727a7fb0b"
      },
      "execution_count": null,
      "outputs": [
        {
          "output_type": "stream",
          "name": "stdout",
          "text": [
            "******\n",
            "*   *\n",
            "*  *\n",
            "* *\n",
            "**\n",
            "*\n"
          ]
        }
      ]
    },
    {
      "cell_type": "code",
      "source": [
        "def prime(n):\n",
        "    \n",
        "    if n==0 and n==1:\n",
        "        return False\n",
        "    for i in range(2,n+1):\n",
        "        if i<n:\n",
        "            if n%i==0:\n",
        "                return False\n",
        "    else:\n",
        "        return True\n",
        "\n",
        "n= int(input())\n",
        "for i in range(2,n+1):\n",
        "    if (prime(i)):\n",
        "        if i in range(2,n):\n",
        "            print(i, end =\",\")\n",
        "        else:\n",
        "            print(i, end =\"\")"
      ],
      "metadata": {
        "colab": {
          "base_uri": "https://localhost:8080/"
        },
        "id": "2pTcOASLl4EG",
        "outputId": "08062b99-2d35-4ce1-e3d7-8a73b4af3c27"
      },
      "execution_count": null,
      "outputs": [
        {
          "output_type": "stream",
          "name": "stdout",
          "text": [
            "13\n",
            "2,3,5,7,11,13"
          ]
        }
      ]
    },
    {
      "cell_type": "code",
      "source": [
        "def prime(n):\n",
        "  ans= True\n",
        "  if n>1:\n",
        "    for i in range(2,n):\n",
        "      if n%i==0:\n",
        "        ans=\"Not Prime\"\n",
        "  return ans\n",
        "\n",
        "prime(5)\n",
        "\n"
      ],
      "metadata": {
        "colab": {
          "base_uri": "https://localhost:8080/"
        },
        "id": "lwTaUMG5cjCp",
        "outputId": "cb6c4960-a2c6-4d92-8470-592f25930f80"
      },
      "execution_count": null,
      "outputs": [
        {
          "output_type": "execute_result",
          "data": {
            "text/plain": [
              "True"
            ]
          },
          "metadata": {},
          "execution_count": 18
        }
      ]
    },
    {
      "cell_type": "code",
      "source": [
        "def prime1(n):\n",
        "    \n",
        "    if n==0 and n==1:\n",
        "        return False\n",
        "    for i in range(2,n):\n",
        "        # if i<n:\n",
        "        if n%i==0:\n",
        "            return False\n",
        "    else:\n",
        "        return True\n",
        "prime1(13)"
      ],
      "metadata": {
        "colab": {
          "base_uri": "https://localhost:8080/"
        },
        "id": "scsFg91adPJt",
        "outputId": "b987412d-dee4-4be3-f1f1-57d3e033fded"
      },
      "execution_count": null,
      "outputs": [
        {
          "output_type": "execute_result",
          "data": {
            "text/plain": [
              "True"
            ]
          },
          "metadata": {},
          "execution_count": 22
        }
      ]
    },
    {
      "cell_type": "code",
      "source": [
        "\n",
        "T=int(input())\n",
        "# while T>=1:\n",
        "for i in range(T):\n",
        "  S= input()\n",
        "  S=S.lower()\n",
        "       \n",
        "  vowel=0\n",
        "  const=0\n",
        "  for i in S:\n",
        "    if (i=='a' or i=='e' or i=='o' or i=='u' or i=='i'):\n",
        "      vowel+=1\n",
        "    elif (i!='a' or i!='e' or i!='o' or i!='u' or i!='i'):\n",
        "      const+=1\n",
        "    \n",
        "  print(vowel,const)\n",
        "  # T-=1\n",
        "\n"
      ],
      "metadata": {
        "colab": {
          "base_uri": "https://localhost:8080/"
        },
        "id": "9LzP13REgcS_",
        "outputId": "c4d38904-4cbf-4394-fd85-92f907e99197"
      },
      "execution_count": null,
      "outputs": [
        {
          "output_type": "stream",
          "name": "stdout",
          "text": [
            "1\n",
            "interview\n",
            "4 5\n"
          ]
        }
      ]
    },
    {
      "cell_type": "code",
      "source": [],
      "metadata": {
        "colab": {
          "base_uri": "https://localhost:8080/",
          "height": 305
        },
        "id": "QyI4EsMgxK3s",
        "outputId": "ca134a4b-f37b-44cd-c8a9-94bd7d944f24"
      },
      "execution_count": null,
      "outputs": [
        {
          "name": "stdout",
          "output_type": "stream",
          "text": [
            "1\n"
          ]
        },
        {
          "output_type": "error",
          "ename": "UnboundLocalError",
          "evalue": "ignored",
          "traceback": [
            "\u001b[0;31m---------------------------------------------------------------------------\u001b[0m",
            "\u001b[0;31mUnboundLocalError\u001b[0m                         Traceback (most recent call last)",
            "\u001b[0;32m<ipython-input-16-c5b64c806b37>\u001b[0m in \u001b[0;36m<module>\u001b[0;34m\u001b[0m\n\u001b[0;32m----> 1\u001b[0;31m \u001b[0mscr\u001b[0m\u001b[0;34m(\u001b[0m\u001b[0;34m)\u001b[0m\u001b[0;34m\u001b[0m\u001b[0;34m\u001b[0m\u001b[0m\n\u001b[0m",
            "\u001b[0;32m<ipython-input-15-a0caa850441a>\u001b[0m in \u001b[0;36mscr\u001b[0;34m()\u001b[0m\n\u001b[1;32m      6\u001b[0m     \u001b[0mT\u001b[0m\u001b[0;34m=\u001b[0m \u001b[0mint\u001b[0m\u001b[0;34m(\u001b[0m\u001b[0minput\u001b[0m\u001b[0;34m(\u001b[0m\u001b[0;34m)\u001b[0m\u001b[0;34m)\u001b[0m\u001b[0;34m\u001b[0m\u001b[0;34m\u001b[0m\u001b[0m\n\u001b[1;32m      7\u001b[0m     \u001b[0;32mfor\u001b[0m \u001b[0mi\u001b[0m \u001b[0;32min\u001b[0m \u001b[0mrange\u001b[0m\u001b[0;34m(\u001b[0m\u001b[0mT\u001b[0m\u001b[0;34m)\u001b[0m\u001b[0;34m:\u001b[0m\u001b[0;34m\u001b[0m\u001b[0;34m\u001b[0m\u001b[0m\n\u001b[0;32m----> 8\u001b[0;31m         \u001b[0mS\u001b[0m \u001b[0;34m=\u001b[0m\u001b[0mS\u001b[0m\u001b[0;34m.\u001b[0m\u001b[0mlower\u001b[0m\u001b[0;34m(\u001b[0m\u001b[0minput\u001b[0m\u001b[0;34m(\u001b[0m\u001b[0;34m)\u001b[0m\u001b[0;34m)\u001b[0m\u001b[0;34m\u001b[0m\u001b[0;34m\u001b[0m\u001b[0m\n\u001b[0m\u001b[1;32m      9\u001b[0m \u001b[0;34m\u001b[0m\u001b[0m\n\u001b[1;32m     10\u001b[0m         \u001b[0mvowel\u001b[0m\u001b[0;34m=\u001b[0m\u001b[0;36m0\u001b[0m\u001b[0;34m\u001b[0m\u001b[0;34m\u001b[0m\u001b[0m\n",
            "\u001b[0;31mUnboundLocalError\u001b[0m: local variable 'S' referenced before assignment"
          ]
        }
      ]
    },
    {
      "cell_type": "code",
      "source": [
        "T = int(input())\n",
        "vow = 'aeiou’\n",
        "for _ in range(T):\n",
        "\tvc = cc = 0\n",
        "\tS = input()\n",
        "\tfor s in S:\n",
        "\t\tif s in vow:\n",
        "\t\t\tvc+=1\n",
        "\t\telse:\n",
        "\t\t\tcc+=1    \n",
        "\tprint(vc,cc)"
      ],
      "metadata": {
        "id": "Vg1pBSUTB9ft"
      },
      "execution_count": null,
      "outputs": []
    },
    {
      "cell_type": "code",
      "source": [
        "def maxi_mini(lst):\n",
        "    T= int(input())\n",
        "    lst=[]\n",
        "    for i in range(T):\n",
        "        value=int(input())\n",
        "        lst.append(value)\n",
        "        \n",
        "    mx= lst[0]\n",
        "    mn= lst[0]\n",
        "    for i in lst:\n",
        "        if i>= mx:\n",
        "            mx=i\n",
        "\n",
        "    for j in lst:\n",
        "        if i<= mn:\n",
        "            mn= i\n",
        "\n",
        "    print(mx,mn)\n",
        "    \n"
      ],
      "metadata": {
        "id": "1PphEnWDSjJf"
      },
      "execution_count": null,
      "outputs": []
    },
    {
      "cell_type": "code",
      "source": [
        "maxi_mini(lst)"
      ],
      "metadata": {
        "colab": {
          "base_uri": "https://localhost:8080/",
          "height": 166
        },
        "id": "Z0EJyTWMSkFj",
        "outputId": "e5c0328e-7874-4bfc-d87b-a501a7a4d77f"
      },
      "execution_count": null,
      "outputs": [
        {
          "output_type": "error",
          "ename": "NameError",
          "evalue": "ignored",
          "traceback": [
            "\u001b[0;31m---------------------------------------------------------------------------\u001b[0m",
            "\u001b[0;31mNameError\u001b[0m                                 Traceback (most recent call last)",
            "\u001b[0;32m<ipython-input-34-b48f67c67726>\u001b[0m in \u001b[0;36m<module>\u001b[0;34m\u001b[0m\n\u001b[0;32m----> 1\u001b[0;31m \u001b[0mmaxi_mini\u001b[0m\u001b[0;34m(\u001b[0m\u001b[0mlst\u001b[0m\u001b[0;34m)\u001b[0m\u001b[0;34m\u001b[0m\u001b[0;34m\u001b[0m\u001b[0m\n\u001b[0m",
            "\u001b[0;31mNameError\u001b[0m: name 'lst' is not defined"
          ]
        }
      ]
    },
    {
      "cell_type": "code",
      "source": [],
      "metadata": {
        "id": "s-ew6yQ_Svka"
      },
      "execution_count": null,
      "outputs": []
    }
  ]
}