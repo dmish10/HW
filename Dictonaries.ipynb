{
  "nbformat": 4,
  "nbformat_minor": 0,
  "metadata": {
    "colab": {
      "provenance": [],
      "authorship_tag": "ABX9TyP2O+61r3uwhEXS1/cZyaxE",
      "include_colab_link": true
    },
    "kernelspec": {
      "name": "python3",
      "display_name": "Python 3"
    },
    "language_info": {
      "name": "python"
    }
  },
  "cells": [
    {
      "cell_type": "markdown",
      "metadata": {
        "id": "view-in-github",
        "colab_type": "text"
      },
      "source": [
        "<a href=\"https://colab.research.google.com/github/dmish10/Scaler_Homework/blob/master/Dictonaries.ipynb\" target=\"_parent\"><img src=\"https://colab.research.google.com/assets/colab-badge.svg\" alt=\"Open In Colab\"/></a>"
      ]
    },
    {
      "cell_type": "code",
      "execution_count": null,
      "metadata": {
        "id": "adg02p3il-wt"
      },
      "outputs": [],
      "source": [
        "#dictionaries have a keyword and its corresponding value\n",
        "a= {\n",
        "    \"key1: value1\",\n",
        "    \"key2:value2\"\n",
        "}"
      ]
    },
    {
      "cell_type": "code",
      "source": [
        "statewise_AQI ={\n",
        "    \"Delhi\": 420,\n",
        "    \"Haryana\": 389,\n",
        "    \"Punjab\": 400,\n",
        "    \"Himachal\": 250\n",
        "    }"
      ],
      "metadata": {
        "id": "Mt_-cwt7my6c"
      },
      "execution_count": null,
      "outputs": []
    },
    {
      "cell_type": "code",
      "source": [
        "statewise_AQI[\"Delhi\"]"
      ],
      "metadata": {
        "colab": {
          "base_uri": "https://localhost:8080/"
        },
        "id": "yOBwUrPZde44",
        "outputId": "962c13e6-2c77-427a-92e0-4126d4ea9b53"
      },
      "execution_count": null,
      "outputs": [
        {
          "output_type": "execute_result",
          "data": {
            "text/plain": [
              "420"
            ]
          },
          "metadata": {},
          "execution_count": 3
        }
      ]
    },
    {
      "cell_type": "code",
      "source": [
        "statewise_AQI[\"Himachal\"]"
      ],
      "metadata": {
        "colab": {
          "base_uri": "https://localhost:8080/"
        },
        "id": "5rEW_TTndwqD",
        "outputId": "b117d716-a116-494e-d565-326e83da1b89"
      },
      "execution_count": null,
      "outputs": [
        {
          "output_type": "execute_result",
          "data": {
            "text/plain": [
              "250"
            ]
          },
          "metadata": {},
          "execution_count": 4
        }
      ]
    },
    {
      "cell_type": "code",
      "source": [
        "#in dictonaries, indexes do not exist so \n",
        "statewise_AQI[0] #won't work"
      ],
      "metadata": {
        "colab": {
          "base_uri": "https://localhost:8080/",
          "height": 184
        },
        "id": "JIBW5JkmdzF5",
        "outputId": "000da45d-bf85-4ddb-bdf9-2fae2504efc1"
      },
      "execution_count": null,
      "outputs": [
        {
          "output_type": "error",
          "ename": "KeyError",
          "evalue": "ignored",
          "traceback": [
            "\u001b[0;31m---------------------------------------------------------------------------\u001b[0m",
            "\u001b[0;31mKeyError\u001b[0m                                  Traceback (most recent call last)",
            "\u001b[0;32m<ipython-input-6-8d5ad0db3311>\u001b[0m in \u001b[0;36m<module>\u001b[0;34m\u001b[0m\n\u001b[1;32m      1\u001b[0m \u001b[0;31m#in dictonaries, indexes do not exist so\u001b[0m\u001b[0;34m\u001b[0m\u001b[0;34m\u001b[0m\u001b[0;34m\u001b[0m\u001b[0m\n\u001b[0;32m----> 2\u001b[0;31m \u001b[0mstatewise_AQI\u001b[0m\u001b[0;34m[\u001b[0m\u001b[0;36m0\u001b[0m\u001b[0;34m]\u001b[0m \u001b[0;31m#won't work\u001b[0m\u001b[0;34m\u001b[0m\u001b[0;34m\u001b[0m\u001b[0m\n\u001b[0m",
            "\u001b[0;31mKeyError\u001b[0m: 0"
          ]
        }
      ]
    },
    {
      "cell_type": "code",
      "source": [
        "#after python 3.7 version , dictionaries are displayed in an ordered way internally but indexing is still not possible.\n",
        "#one can extract value out of the key."
      ],
      "metadata": {
        "id": "R5Pco8w-eseR"
      },
      "execution_count": null,
      "outputs": []
    },
    {
      "cell_type": "code",
      "source": [
        "a={}\n",
        "type(a)"
      ],
      "metadata": {
        "colab": {
          "base_uri": "https://localhost:8080/"
        },
        "id": "3fdTDG2nfncr",
        "outputId": "a445f4e8-e9e8-47db-dcb9-dc63b003e5e4"
      },
      "execution_count": null,
      "outputs": [
        {
          "output_type": "execute_result",
          "data": {
            "text/plain": [
              "dict"
            ]
          },
          "metadata": {},
          "execution_count": 8
        }
      ]
    },
    {
      "cell_type": "code",
      "source": [
        "#update key values \n",
        "\n",
        "a={\n",
        "    \"Delhi\": 420,\n",
        "    \"Haryana\": 389,\n",
        "    \"Punjab\": 400,\n",
        "    \"Himachal\": 250\n",
        "    }"
      ],
      "metadata": {
        "id": "CRfG33__gHja"
      },
      "execution_count": null,
      "outputs": []
    },
    {
      "cell_type": "code",
      "source": [
        "a[\"Delhi\"]= 370"
      ],
      "metadata": {
        "id": "yfmgFQ36hzqA"
      },
      "execution_count": null,
      "outputs": []
    },
    {
      "cell_type": "code",
      "source": [
        "a"
      ],
      "metadata": {
        "colab": {
          "base_uri": "https://localhost:8080/"
        },
        "id": "_zBWubCah0fu",
        "outputId": "b9337711-be8c-4588-f892-e260e5ae5357"
      },
      "execution_count": null,
      "outputs": [
        {
          "output_type": "execute_result",
          "data": {
            "text/plain": [
              "{'Delhi': 370, 'Haryana': 389, 'Punjab': 400, 'Himachal': 250}"
            ]
          },
          "metadata": {},
          "execution_count": 15
        }
      ]
    },
    {
      "cell_type": "code",
      "source": [
        "a[\"Maharashtra\"]= 100 "
      ],
      "metadata": {
        "id": "vLLJpLhWjpni"
      },
      "execution_count": null,
      "outputs": []
    },
    {
      "cell_type": "code",
      "source": [
        "a  #appended"
      ],
      "metadata": {
        "colab": {
          "base_uri": "https://localhost:8080/"
        },
        "id": "S0a28B-fjuNk",
        "outputId": "7698cf2c-56f5-4d04-f4df-4145e4dbc2d3"
      },
      "execution_count": null,
      "outputs": [
        {
          "output_type": "execute_result",
          "data": {
            "text/plain": [
              "{'Delhi': 370,\n",
              " 'Haryana': 389,\n",
              " 'Punjab': 400,\n",
              " 'Himachal': 250,\n",
              " 'Maharashtra': 100}"
            ]
          },
          "metadata": {},
          "execution_count": 19
        }
      ]
    },
    {
      "cell_type": "code",
      "source": [
        "#Heterogeneity in a dictionary with respect to Values\n",
        "\n",
        "#lets assume key as are only of Strings datatype but value can be of any datatype."
      ],
      "metadata": {
        "id": "HIFVU8QSiEQm"
      },
      "execution_count": null,
      "outputs": []
    },
    {
      "cell_type": "code",
      "source": [
        "Avenger = {\n",
        "    \"name\": \"Thor\",\n",
        "    \"age\": 1500,\n",
        "    \"weapon\" :[\"stormbreaker\",\"mjoinir\"]\n",
        "}"
      ],
      "metadata": {
        "id": "ozJuwtYNkNhy"
      },
      "execution_count": null,
      "outputs": []
    },
    {
      "cell_type": "code",
      "source": [
        "Avenger[\"enemy\"]= \"noobmaster\""
      ],
      "metadata": {
        "id": "3uVEjuI7krV4"
      },
      "execution_count": null,
      "outputs": []
    },
    {
      "cell_type": "code",
      "source": [
        "Avenger"
      ],
      "metadata": {
        "colab": {
          "base_uri": "https://localhost:8080/"
        },
        "id": "1-i6j_7Kk4S1",
        "outputId": "a25bbc76-e8d5-4d0d-980c-02c704c4f325"
      },
      "execution_count": null,
      "outputs": [
        {
          "output_type": "execute_result",
          "data": {
            "text/plain": [
              "{'name': 'Thor',\n",
              " 'age': 1500,\n",
              " 'weapon': ['stormbreaker', 'mjoinir'],\n",
              " 'enemy': 'noobmaster'}"
            ]
          },
          "metadata": {},
          "execution_count": 33
        }
      ]
    },
    {
      "cell_type": "code",
      "source": [
        "#  Adding  and Updating Values together"
      ],
      "metadata": {
        "id": "1SeAgNrLlh6Q"
      },
      "execution_count": null,
      "outputs": []
    },
    {
      "cell_type": "code",
      "source": [
        "Avenger.update({\"name\":\"Thor Odinson\",\n",
        "                \"weapon\": [\"stormbreaker\",\"mjolner\"],\n",
        "                \"eyes\": 1,\n",
        "                \"Is he the strongest?\": True})"
      ],
      "metadata": {
        "id": "eKRR44odmkIG"
      },
      "execution_count": null,
      "outputs": []
    },
    {
      "cell_type": "code",
      "source": [
        "Avenger"
      ],
      "metadata": {
        "colab": {
          "base_uri": "https://localhost:8080/"
        },
        "id": "B4XmwjVsnPbX",
        "outputId": "45c297b1-3441-4478-af99-4b56d66934a7"
      },
      "execution_count": null,
      "outputs": [
        {
          "output_type": "execute_result",
          "data": {
            "text/plain": [
              "{'name': 'Thor Odinson',\n",
              " 'age': 1500,\n",
              " 'weapon': ['stormbreaker', 'mjolner'],\n",
              " 'enemy': 'noobmaster',\n",
              " 'eyes': 1,\n",
              " 'Is he the strongest?': True}"
            ]
          },
          "metadata": {},
          "execution_count": 37
        }
      ]
    },
    {
      "cell_type": "code",
      "source": [
        "#we can also update the above list given as value with more elements for the key 'weapon'using append.\n",
        "\n",
        "Avenger[\"weapon\"].append(\"Jarnbjorn\")"
      ],
      "metadata": {
        "id": "qTqrF4oxrR5u"
      },
      "execution_count": null,
      "outputs": []
    },
    {
      "cell_type": "code",
      "source": [
        "Avenger"
      ],
      "metadata": {
        "colab": {
          "base_uri": "https://localhost:8080/"
        },
        "id": "5UfUp4LBrvVB",
        "outputId": "758f460f-0cf9-4d16-a598-b60d39a9fabf"
      },
      "execution_count": null,
      "outputs": [
        {
          "output_type": "execute_result",
          "data": {
            "text/plain": [
              "{'name': 'Thor Odinson',\n",
              " 'age': 1500,\n",
              " 'weapon': ['stormbreaker', 'mjolner', 'Jarnbjorn'],\n",
              " 'enemy': 'noobmaster',\n",
              " 'eyes': 1,\n",
              " 'Is he the strongest?': True}"
            ]
          },
          "metadata": {},
          "execution_count": 54
        }
      ]
    },
    {
      "cell_type": "code",
      "source": [
        "random= {\n",
        "    \"a\": 1,\n",
        "    \"b\": 2,\n",
        "    \"c\": 3,\n",
        "    \"d\": None\n",
        "    }"
      ],
      "metadata": {
        "id": "3Z-T3x0tnUun"
      },
      "execution_count": null,
      "outputs": []
    },
    {
      "cell_type": "code",
      "source": [
        "random[\"b\"]"
      ],
      "metadata": {
        "colab": {
          "base_uri": "https://localhost:8080/"
        },
        "id": "MAWVUdtfoMmF",
        "outputId": "2d659506-45c4-403a-b79f-6682e0e2589f"
      },
      "execution_count": null,
      "outputs": [
        {
          "output_type": "execute_result",
          "data": {
            "text/plain": [
              "2"
            ]
          },
          "metadata": {},
          "execution_count": 39
        }
      ]
    },
    {
      "cell_type": "code",
      "source": [
        "random[\"e\"] #will throw an error since this key doesn't exist"
      ],
      "metadata": {
        "colab": {
          "base_uri": "https://localhost:8080/",
          "height": 166
        },
        "id": "eYEU7-tsoP1c",
        "outputId": "57758c89-9201-4dcf-94c0-13d2d5940b39"
      },
      "execution_count": null,
      "outputs": [
        {
          "output_type": "error",
          "ename": "KeyError",
          "evalue": "ignored",
          "traceback": [
            "\u001b[0;31m---------------------------------------------------------------------------\u001b[0m",
            "\u001b[0;31mKeyError\u001b[0m                                  Traceback (most recent call last)",
            "\u001b[0;32m<ipython-input-40-6e1ba1c720b0>\u001b[0m in \u001b[0;36m<module>\u001b[0;34m\u001b[0m\n\u001b[0;32m----> 1\u001b[0;31m \u001b[0mrandom\u001b[0m\u001b[0;34m[\u001b[0m\u001b[0;34m\"e\"\u001b[0m\u001b[0;34m]\u001b[0m \u001b[0;31m#will throw an error since this key doesn't exist\u001b[0m\u001b[0;34m\u001b[0m\u001b[0;34m\u001b[0m\u001b[0m\n\u001b[0m",
            "\u001b[0;31mKeyError\u001b[0m: 'e'"
          ]
        }
      ]
    },
    {
      "cell_type": "code",
      "source": [
        "# however, to prevent an error in a big program simply use get function will calling values from dicionary as below"
      ],
      "metadata": {
        "id": "BNrMmG1xoXUP"
      },
      "execution_count": null,
      "outputs": []
    },
    {
      "cell_type": "code",
      "source": [
        "result = random.get(\"e\")"
      ],
      "metadata": {
        "id": "oxHgHx-sogEN"
      },
      "execution_count": null,
      "outputs": []
    },
    {
      "cell_type": "code",
      "source": [
        "print(result) #the missing key from random will no throw an error if used with get function and return None."
      ],
      "metadata": {
        "colab": {
          "base_uri": "https://localhost:8080/"
        },
        "id": "g-8BuG1wokh6",
        "outputId": "60ea646d-1521-46ed-b9ea-f4eea8f0ab81"
      },
      "execution_count": null,
      "outputs": [
        {
          "output_type": "stream",
          "name": "stdout",
          "text": [
            "None\n"
          ]
        }
      ]
    },
    {
      "cell_type": "code",
      "source": [
        "result1 = random.get(\"e\",\"Not Found!\")\n",
        "#result1 will return not found in case the key \"e\" is not present in the dictionary"
      ],
      "metadata": {
        "id": "iUF94AD4o_UH"
      },
      "execution_count": null,
      "outputs": []
    },
    {
      "cell_type": "code",
      "source": [
        "print(result1)"
      ],
      "metadata": {
        "colab": {
          "base_uri": "https://localhost:8080/"
        },
        "id": "SvOLIOkyqmO-",
        "outputId": "1d98f7cf-b60b-4acc-e136-a47f762e0e1e"
      },
      "execution_count": null,
      "outputs": [
        {
          "output_type": "stream",
          "name": "stdout",
          "text": [
            "Not Found!\n"
          ]
        }
      ]
    },
    {
      "cell_type": "code",
      "source": [
        "result2= random.get(\"a\",\"Not found!\")\n",
        "print(result2)\n",
        "#get function is wisely used for error handling "
      ],
      "metadata": {
        "colab": {
          "base_uri": "https://localhost:8080/"
        },
        "id": "PKCdXZrwqnwx",
        "outputId": "6c7afbab-b9e4-480c-fc94-8aa6c2f38826"
      },
      "execution_count": null,
      "outputs": [
        {
          "output_type": "stream",
          "name": "stdout",
          "text": [
            "1\n"
          ]
        }
      ]
    },
    {
      "cell_type": "code",
      "source": [
        "# Delete the value using pop method and specify the key against the value for deletion \n",
        "random.pop(\"d\")"
      ],
      "metadata": {
        "id": "gLfxfUx9qzOG"
      },
      "execution_count": null,
      "outputs": []
    },
    {
      "cell_type": "code",
      "source": [
        "random"
      ],
      "metadata": {
        "colab": {
          "base_uri": "https://localhost:8080/"
        },
        "id": "EO0IUXahr_Ow",
        "outputId": "fb1cfe66-186a-4c22-e927-f546bde47fee"
      },
      "execution_count": null,
      "outputs": [
        {
          "output_type": "execute_result",
          "data": {
            "text/plain": [
              "{'a': 1, 'b': 2, 'c': 3}"
            ]
          },
          "metadata": {},
          "execution_count": 58
        }
      ]
    },
    {
      "cell_type": "code",
      "source": [
        "'''Question 1- \n",
        "                Given two dictionaries A & B, write a python program to merge both the dictionaries\n",
        "        Example- A ={\n",
        "                     \"a\":4,\n",
        "                     \"b\":5,\n",
        "                     \"c\":6}\n",
        "                 B ={\n",
        "                     \"b\":10,\n",
        "                     \"d\":20}\n",
        "\n",
        "final merged  result ={\"a\":4,\n",
        "                      \"b\":10,\n",
        "                      \"c\":6,\n",
        "                      \"d\":20}'''"
      ],
      "metadata": {
        "colab": {
          "base_uri": "https://localhost:8080/",
          "height": 70
        },
        "id": "m_YxfyMAsWjN",
        "outputId": "81b81833-54fa-4c43-f2b5-587446362f22"
      },
      "execution_count": null,
      "outputs": [
        {
          "output_type": "execute_result",
          "data": {
            "text/plain": [
              "'Question 1- \\n                Given two dictionaries A & B, write a python program to merge both the dictionaries\\n        Example- A ={\\n                     \"a\":4,\\n                     \"b\":5,\\n                     \"c\":6}\\n                 B ={\\n                     \"b\":10,\\n                     \"d\":20}\\n\\nfinal merged  result ={\"a\":4,\\n                      \"b\":10,\\n                      \"c\":6,\\n                      \"d\":20}'"
            ],
            "application/vnd.google.colaboratory.intrinsic+json": {
              "type": "string"
            }
          },
          "metadata": {},
          "execution_count": 59
        }
      ]
    },
    {
      "cell_type": "code",
      "source": [
        "A ={\n",
        "     \"a\":4,\n",
        "     \"b\":5,\n",
        "     \"c\":6}\n",
        "                "
      ],
      "metadata": {
        "id": "npCcDnavuXca"
      },
      "execution_count": null,
      "outputs": []
    },
    {
      "cell_type": "code",
      "source": [
        "B ={\n",
        "      \"b\":10,\n",
        "      \"d\":20}"
      ],
      "metadata": {
        "id": "n3aS34Afufxl"
      },
      "execution_count": null,
      "outputs": []
    },
    {
      "cell_type": "code",
      "source": [
        "A.update(B)\n"
      ],
      "metadata": {
        "id": "-sPCXQEGusXG"
      },
      "execution_count": null,
      "outputs": []
    },
    {
      "cell_type": "code",
      "source": [
        "A"
      ],
      "metadata": {
        "colab": {
          "base_uri": "https://localhost:8080/"
        },
        "id": "ayiB8ca0uv1m",
        "outputId": "38c651a0-33a9-48c7-898b-c4f7e52e30f4"
      },
      "execution_count": null,
      "outputs": [
        {
          "output_type": "execute_result",
          "data": {
            "text/plain": [
              "{'a': 4, 'b': 10, 'c': 6, 'd': 20}"
            ]
          },
          "metadata": {},
          "execution_count": 68
        }
      ]
    },
    {
      "cell_type": "code",
      "source": [
        " #ITERATION IN A DICTIONARY"
      ],
      "metadata": {
        "id": "F7cmkz2EvDNJ"
      },
      "execution_count": null,
      "outputs": []
    },
    {
      "cell_type": "code",
      "source": [
        "a= Avenger"
      ],
      "metadata": {
        "id": "CbvUIXzb7PtF"
      },
      "execution_count": null,
      "outputs": []
    },
    {
      "cell_type": "code",
      "source": [
        "for i in a:    #this will traverse over the keys in the dictionary\n",
        "  print(i)"
      ],
      "metadata": {
        "colab": {
          "base_uri": "https://localhost:8080/"
        },
        "id": "y4-kklQm7Rb6",
        "outputId": "825ba828-ff70-4f50-cd57-9cf0bfb0e6a8"
      },
      "execution_count": null,
      "outputs": [
        {
          "output_type": "stream",
          "name": "stdout",
          "text": [
            "name\n",
            "age\n",
            "weapon\n",
            "enemy\n",
            "eyes\n",
            "Is he the strongest?\n"
          ]
        }
      ]
    },
    {
      "cell_type": "code",
      "source": [
        "for i in a:    #to traverse over corresponding values \n",
        "  print(a[i])"
      ],
      "metadata": {
        "colab": {
          "base_uri": "https://localhost:8080/"
        },
        "id": "szZX-ZZB7UBb",
        "outputId": "0b77a903-0bee-45f2-de3a-0225b9449f62"
      },
      "execution_count": null,
      "outputs": [
        {
          "output_type": "stream",
          "name": "stdout",
          "text": [
            "Thor Odinson\n",
            "1500\n",
            "['stormbreaker', 'mjolner', 'Jarnbjorn']\n",
            "noobmaster\n",
            "1\n",
            "True\n"
          ]
        }
      ]
    },
    {
      "cell_type": "code",
      "source": [
        "for i in a: #to traverse over both the keys and corresponding values\n",
        "  print(f\"{i} --> {a[i]}\")"
      ],
      "metadata": {
        "colab": {
          "base_uri": "https://localhost:8080/"
        },
        "id": "_qmstwQ37iJ0",
        "outputId": "dbda0553-4dc2-4bcd-f088-91c979e31177"
      },
      "execution_count": null,
      "outputs": [
        {
          "output_type": "stream",
          "name": "stdout",
          "text": [
            "name --> Thor Odinson\n",
            "age --> 1500\n",
            "weapon --> ['stormbreaker', 'mjolner', 'Jarnbjorn']\n",
            "enemy --> noobmaster\n",
            "eyes --> 1\n",
            "Is he the strongest? --> True\n"
          ]
        }
      ]
    },
    {
      "cell_type": "code",
      "source": [
        "for i in a.keys():\n",
        "  print(i)\n"
      ],
      "metadata": {
        "colab": {
          "base_uri": "https://localhost:8080/"
        },
        "id": "73pSFjyl78Pq",
        "outputId": "30f59ff7-0c10-4836-bef2-8fc4ee53489d"
      },
      "execution_count": null,
      "outputs": [
        {
          "output_type": "stream",
          "name": "stdout",
          "text": [
            "name\n",
            "age\n",
            "weapon\n",
            "enemy\n",
            "eyes\n",
            "Is he the strongest?\n"
          ]
        }
      ]
    },
    {
      "cell_type": "code",
      "source": [
        "list(a.keys())"
      ],
      "metadata": {
        "colab": {
          "base_uri": "https://localhost:8080/"
        },
        "id": "e8M_1Mr_AJL2",
        "outputId": "c86d75f9-c0d3-4186-b47a-2dd6fcbaf95a"
      },
      "execution_count": null,
      "outputs": [
        {
          "output_type": "execute_result",
          "data": {
            "text/plain": [
              "['name', 'age', 'weapon', 'enemy', 'eyes', 'Is he the strongest?']"
            ]
          },
          "metadata": {},
          "execution_count": 76
        }
      ]
    },
    {
      "cell_type": "code",
      "source": [
        "for i in a.values():\n",
        "  print(i)"
      ],
      "metadata": {
        "colab": {
          "base_uri": "https://localhost:8080/"
        },
        "id": "jzRtxIRsAN4L",
        "outputId": "e9bce108-8a27-406d-86ed-56ed427a79c9"
      },
      "execution_count": null,
      "outputs": [
        {
          "output_type": "stream",
          "name": "stdout",
          "text": [
            "Thor Odinson\n",
            "1500\n",
            "['stormbreaker', 'mjolner', 'Jarnbjorn']\n",
            "noobmaster\n",
            "1\n",
            "True\n"
          ]
        }
      ]
    },
    {
      "cell_type": "code",
      "source": [
        "for i in a.items():\n",
        "  print(i)"
      ],
      "metadata": {
        "colab": {
          "base_uri": "https://localhost:8080/"
        },
        "id": "08EhOvduAgBH",
        "outputId": "c120410b-d68b-4a8c-b560-7def5f0c2bea"
      },
      "execution_count": null,
      "outputs": [
        {
          "output_type": "stream",
          "name": "stdout",
          "text": [
            "('name', 'Thor Odinson')\n",
            "('age', 1500)\n",
            "('weapon', ['stormbreaker', 'mjolner', 'Jarnbjorn'])\n",
            "('enemy', 'noobmaster')\n",
            "('eyes', 1)\n",
            "('Is he the strongest?', True)\n"
          ]
        }
      ]
    },
    {
      "cell_type": "code",
      "source": [
        "list(a.items())"
      ],
      "metadata": {
        "colab": {
          "base_uri": "https://localhost:8080/"
        },
        "id": "rpumkE3yAtkl",
        "outputId": "8f7acb34-b3d2-4109-aadd-46448cabe54a"
      },
      "execution_count": null,
      "outputs": [
        {
          "output_type": "execute_result",
          "data": {
            "text/plain": [
              "[('name', 'Thor Odinson'),\n",
              " ('age', 1500),\n",
              " ('weapon', ['stormbreaker', 'mjolner', 'Jarnbjorn']),\n",
              " ('enemy', 'noobmaster'),\n",
              " ('eyes', 1),\n",
              " ('Is he the strongest?', True)]"
            ]
          },
          "metadata": {},
          "execution_count": 79
        }
      ]
    },
    {
      "cell_type": "code",
      "source": [
        "for key, value in a.items():\n",
        "  print(f\"{key} --> {value}\")"
      ],
      "metadata": {
        "colab": {
          "base_uri": "https://localhost:8080/"
        },
        "id": "nSwm4D5YA1-u",
        "outputId": "f55e5e67-e6f6-4a21-c17d-a62f1951bea1"
      },
      "execution_count": null,
      "outputs": [
        {
          "output_type": "stream",
          "name": "stdout",
          "text": [
            "name --> Thor Odinson\n",
            "age --> 1500\n",
            "weapon --> ['stormbreaker', 'mjolner', 'Jarnbjorn']\n",
            "enemy --> noobmaster\n",
            "eyes --> 1\n",
            "Is he the strongest? --> True\n"
          ]
        }
      ]
    },
    {
      "cell_type": "code",
      "source": [
        "b=[1,2,3,4,5,6]\n",
        "6 in b"
      ],
      "metadata": {
        "colab": {
          "base_uri": "https://localhost:8080/"
        },
        "id": "w6kjmeLrBhec",
        "outputId": "28dddb9d-55d1-45d4-a9bd-8ac3b645db17"
      },
      "execution_count": null,
      "outputs": [
        {
          "output_type": "execute_result",
          "data": {
            "text/plain": [
              "True"
            ]
          },
          "metadata": {},
          "execution_count": 83
        }
      ]
    },
    {
      "cell_type": "code",
      "source": [
        "\"battle\" in a.keys()"
      ],
      "metadata": {
        "colab": {
          "base_uri": "https://localhost:8080/"
        },
        "id": "hnR-WMgVCUdj",
        "outputId": "107b8232-18fa-4dd0-b510-2d25db7729fb"
      },
      "execution_count": null,
      "outputs": [
        {
          "output_type": "execute_result",
          "data": {
            "text/plain": [
              "False"
            ]
          },
          "metadata": {},
          "execution_count": 86
        }
      ]
    },
    {
      "cell_type": "code",
      "source": [
        "\"weapon\" in a.keys()"
      ],
      "metadata": {
        "colab": {
          "base_uri": "https://localhost:8080/"
        },
        "id": "wQQ1rlo4Cyns",
        "outputId": "b01785d6-e198-4693-e8e6-f1e83fa9e4dc"
      },
      "execution_count": null,
      "outputs": [
        {
          "output_type": "execute_result",
          "data": {
            "text/plain": [
              "True"
            ]
          },
          "metadata": {},
          "execution_count": 87
        }
      ]
    },
    {
      "cell_type": "code",
      "source": [
        "'''Question 2-  1. Take a string as input. \n",
        "                2. Create a dictionary as per the following criteria- \n",
        "                -- There will be one key value pair for each unqiue character\n",
        "                -- Key will the character and value will be the count of the character inside that string.\n",
        "            INPUT -- \"rrsssstttt\"\n",
        "            OUTPUT -- \n",
        "            {\n",
        "              \"r\":2,\n",
        "              \"s\":4,\n",
        "              \"t\":4\n",
        "            }\n",
        "            '''"
      ],
      "metadata": {
        "colab": {
          "base_uri": "https://localhost:8080/",
          "height": 87
        },
        "id": "PNmABjNYC3Gi",
        "outputId": "931ed939-481c-4d48-bbd2-be316fdd4300"
      },
      "execution_count": null,
      "outputs": [
        {
          "output_type": "execute_result",
          "data": {
            "text/plain": [
              "'Question 2-  1. Take a string as input. \\n                2. Create a dictionary as per the following criteria- \\n                -- There will be one key value pair for each unqiue character\\n                -- Key will the character and value will be the count of the character inside that string.\\n            INPUT -- \"rrsssstttt\"\\n            OUTPUT -- \\n            {\\n              \"r\":2,\\n              \"s\":4,\\n              \"t\":4\\n            }\\n            '"
            ],
            "application/vnd.google.colaboratory.intrinsic+json": {
              "type": "string"
            }
          },
          "metadata": {},
          "execution_count": 88
        }
      ]
    },
    {
      "cell_type": "code",
      "source": [
        "a =\"rrsssstttt\"\n"
      ],
      "metadata": {
        "id": "XoBbUKFzEx1D"
      },
      "execution_count": null,
      "outputs": []
    },
    {
      "cell_type": "code",
      "source": [
        "result={}\n",
        "for i in set(a):\n",
        "    result[i]=a.count(i)\n",
        "result"
      ],
      "metadata": {
        "colab": {
          "base_uri": "https://localhost:8080/"
        },
        "id": "1qRXklE3JPWB",
        "outputId": "29b89efa-1e82-435b-b622-7054a067abc3"
      },
      "execution_count": null,
      "outputs": [
        {
          "output_type": "execute_result",
          "data": {
            "text/plain": [
              "{'r': 2, 't': 4, 's': 4}"
            ]
          },
          "metadata": {},
          "execution_count": 2
        }
      ]
    },
    {
      "cell_type": "code",
      "source": [
        " #. Mutables ---> Lists , Sets and Dictionaries\n",
        " # Immutable ---> Int, Float, Boolean, Strings, Tuples "
      ],
      "metadata": {
        "id": "nd-t6D3FJkj1"
      },
      "execution_count": null,
      "outputs": []
    },
    {
      "cell_type": "code",
      "source": [
        "'''{\n",
        "    'keys  --> any immutable data structure' : 'Values--->refer to any mutable data structure'\n",
        "}'''"
      ],
      "metadata": {
        "colab": {
          "base_uri": "https://localhost:8080/",
          "height": 35
        },
        "id": "ACi-3SoLNwMv",
        "outputId": "ff51468c-5359-409e-e565-cd5fc3f8a4d0"
      },
      "execution_count": null,
      "outputs": [
        {
          "output_type": "execute_result",
          "data": {
            "text/plain": [
              "\"{\\n    'keys  --> any immutable data structure' : 'Values--->refer to any mutable data structure'\\n}\""
            ],
            "application/vnd.google.colaboratory.intrinsic+json": {
              "type": "string"
            }
          },
          "metadata": {},
          "execution_count": 107
        }
      ]
    },
    {
      "cell_type": "code",
      "source": [
        "random ={\n",
        "    \"Key1\": [24,3,4],\n",
        "    \"Key2\": {(1,2,3):45},\n",
        "     45 : \"value3\",\n",
        "     67.6: \"value4\",\n",
        "     True: \"value5\",\n",
        "     [6,7,8]: \"value6\"\n",
        "} \n",
        "\n",
        "#unhashable type: 'list' error since list is mutable and can't be used as key. "
      ],
      "metadata": {
        "colab": {
          "base_uri": "https://localhost:8080/",
          "height": 218
        },
        "id": "HYAaZnzrOE8z",
        "outputId": "a821fa44-117e-462e-b234-f157b6958af4"
      },
      "execution_count": null,
      "outputs": [
        {
          "output_type": "error",
          "ename": "TypeError",
          "evalue": "ignored",
          "traceback": [
            "\u001b[0;31m---------------------------------------------------------------------------\u001b[0m",
            "\u001b[0;31mTypeError\u001b[0m                                 Traceback (most recent call last)",
            "\u001b[0;32m<ipython-input-109-d040d9be8f82>\u001b[0m in \u001b[0;36m<module>\u001b[0;34m\u001b[0m\n\u001b[1;32m      5\u001b[0m      \u001b[0;36m67.6\u001b[0m\u001b[0;34m:\u001b[0m \u001b[0;34m\"value4\"\u001b[0m\u001b[0;34m,\u001b[0m\u001b[0;34m\u001b[0m\u001b[0;34m\u001b[0m\u001b[0m\n\u001b[1;32m      6\u001b[0m      \u001b[0;32mTrue\u001b[0m\u001b[0;34m:\u001b[0m \u001b[0;34m\"value5\"\u001b[0m\u001b[0;34m,\u001b[0m\u001b[0;34m\u001b[0m\u001b[0;34m\u001b[0m\u001b[0m\n\u001b[0;32m----> 7\u001b[0;31m      \u001b[0;34m[\u001b[0m\u001b[0;36m6\u001b[0m\u001b[0;34m,\u001b[0m\u001b[0;36m7\u001b[0m\u001b[0;34m,\u001b[0m\u001b[0;36m8\u001b[0m\u001b[0;34m]\u001b[0m\u001b[0;34m:\u001b[0m \u001b[0;34m\"value6\"\u001b[0m\u001b[0;34m\u001b[0m\u001b[0;34m\u001b[0m\u001b[0m\n\u001b[0m\u001b[1;32m      8\u001b[0m }\n",
            "\u001b[0;31mTypeError\u001b[0m: unhashable type: 'list'"
          ]
        }
      ]
    },
    {
      "cell_type": "code",
      "source": [],
      "metadata": {
        "id": "NVsn7vDAPeoJ"
      },
      "execution_count": null,
      "outputs": []
    }
  ]
}