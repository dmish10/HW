{
  "nbformat": 4,
  "nbformat_minor": 0,
  "metadata": {
    "colab": {
      "provenance": [],
      "authorship_tag": "ABX9TyPZvO7DXqAPw8oT3h98JVjc",
      "include_colab_link": true
    },
    "kernelspec": {
      "name": "python3",
      "display_name": "Python 3"
    },
    "language_info": {
      "name": "python"
    }
  },
  "cells": [
    {
      "cell_type": "markdown",
      "metadata": {
        "id": "view-in-github",
        "colab_type": "text"
      },
      "source": [
        "<a href=\"https://colab.research.google.com/github/dmish10/Scaler_Homework/blob/master/lists_27th_%26_30th_oct.ipynb\" target=\"_parent\"><img src=\"https://colab.research.google.com/assets/colab-badge.svg\" alt=\"Open In Colab\"/></a>"
      ]
    },
    {
      "cell_type": "code",
      "execution_count": null,
      "metadata": {
        "id": "6WwzlI7Wk7Yn"
      },
      "outputs": [],
      "source": [
        "# print total of runs scored on odd number matches or odd pisitions"
      ]
    },
    {
      "cell_type": "code",
      "source": [
        "runs_virat =[67,54,12,34,77,89,101]"
      ],
      "metadata": {
        "id": "6SuubwoBleT7"
      },
      "execution_count": null,
      "outputs": []
    },
    {
      "cell_type": "code",
      "source": [
        "print(runs_virat[0]+runs_virat[2]+runs_virat[4]+runs_virat[6])"
      ],
      "metadata": {
        "colab": {
          "base_uri": "https://localhost:8080/"
        },
        "id": "KtF_arX7lp5j",
        "outputId": "b62e1b35-c904-4f72-eddd-c8c6c1004d4e"
      },
      "execution_count": null,
      "outputs": [
        {
          "output_type": "stream",
          "name": "stdout",
          "text": [
            "257\n"
          ]
        }
      ]
    },
    {
      "cell_type": "code",
      "source": [
        "#methods- special functions of python objects\n",
        "runs_virat.append(71)"
      ],
      "metadata": {
        "id": "mjRb4jOGmex4"
      },
      "execution_count": null,
      "outputs": []
    },
    {
      "cell_type": "code",
      "source": [
        "print(runs_virat)"
      ],
      "metadata": {
        "colab": {
          "base_uri": "https://localhost:8080/"
        },
        "id": "hX-MO5D_wSlJ",
        "outputId": "df396bf4-6833-4c06-d626-6771af732999"
      },
      "execution_count": null,
      "outputs": [
        {
          "output_type": "stream",
          "name": "stdout",
          "text": [
            "[67, 54, 12, 34, 77, 89, 101, 71]\n"
          ]
        }
      ]
    },
    {
      "cell_type": "code",
      "source": [
        "runs_virat.insert(5,99)\n",
        "print(runs_virat)"
      ],
      "metadata": {
        "colab": {
          "base_uri": "https://localhost:8080/"
        },
        "id": "dgLlGV43whM0",
        "outputId": "0fa420cc-b2bb-4663-d18d-dd090c8886e7"
      },
      "execution_count": null,
      "outputs": [
        {
          "output_type": "stream",
          "name": "stdout",
          "text": [
            "[67, 54, 12, 34, 77, 99, 89, 101]\n"
          ]
        }
      ]
    },
    {
      "cell_type": "code",
      "source": [
        "#nested list in a list\n",
        "\n",
        "a=[67, 54, 12, 34, 77]\n",
        "print(a)"
      ],
      "metadata": {
        "colab": {
          "base_uri": "https://localhost:8080/"
        },
        "id": "8P-PfFjQzzLy",
        "outputId": "14034456-cc5d-4b09-92b0-e27373b22ce7"
      },
      "execution_count": null,
      "outputs": [
        {
          "output_type": "stream",
          "name": "stdout",
          "text": [
            "[67, 54, 12, 34, 77]\n"
          ]
        }
      ]
    },
    {
      "cell_type": "code",
      "source": [
        "a.append([45,16])\n",
        "print(a)"
      ],
      "metadata": {
        "colab": {
          "base_uri": "https://localhost:8080/"
        },
        "id": "JRQtqDckmb2B",
        "outputId": "e5692c68-8065-49f2-ba3c-5f426a50ba17"
      },
      "execution_count": null,
      "outputs": [
        {
          "output_type": "stream",
          "name": "stdout",
          "text": [
            "[67, 54, 12, 34, 77, [45, 16], [45, 16]]\n"
          ]
        }
      ]
    },
    {
      "cell_type": "code",
      "source": [
        "#to avoid concatenation of another list into existing one as a list, use extend\n",
        "a.extend([45,17])\n",
        "print(a)"
      ],
      "metadata": {
        "colab": {
          "base_uri": "https://localhost:8080/"
        },
        "id": "yBLYpUpgmn_h",
        "outputId": "73de08cd-8e22-4640-92aa-1c5227381252"
      },
      "execution_count": null,
      "outputs": [
        {
          "output_type": "stream",
          "name": "stdout",
          "text": [
            "[67, 54, 12, 34, 77, [45, 16], 45, 17, 45, 17]\n"
          ]
        }
      ]
    },
    {
      "cell_type": "code",
      "source": [
        "a= a + [82,34,56] \n",
        "#this works exactly like extend"
      ],
      "metadata": {
        "id": "sb3Gi445m_l6"
      },
      "execution_count": null,
      "outputs": []
    },
    {
      "cell_type": "code",
      "source": [
        "print(a)"
      ],
      "metadata": {
        "colab": {
          "base_uri": "https://localhost:8080/"
        },
        "id": "H_-Cv4dJoxV6",
        "outputId": "f04006f3-2aff-40a7-b05e-f2625286592b"
      },
      "execution_count": null,
      "outputs": [
        {
          "output_type": "stream",
          "name": "stdout",
          "text": [
            "[67, 54, 12, 34, 77, [45, 16], [45, 16], 82, 34, 56]\n"
          ]
        }
      ]
    },
    {
      "cell_type": "code",
      "source": [
        "b='python'\n",
        "for i in b:\n",
        "  print(i)"
      ],
      "metadata": {
        "colab": {
          "base_uri": "https://localhost:8080/"
        },
        "id": "lbr7wS7joyio",
        "outputId": "2fcef5ad-9091-439e-8ceb-00c642d9f62f"
      },
      "execution_count": null,
      "outputs": [
        {
          "output_type": "stream",
          "name": "stdout",
          "text": [
            "p\n",
            "y\n",
            "t\n",
            "h\n",
            "o\n",
            "n\n"
          ]
        }
      ]
    },
    {
      "cell_type": "code",
      "source": [
        "c=[67, 54, 12, 34, 77]\n",
        "for i in c:\n",
        "  print(i)\n",
        "\n",
        "  #i is the iterator -variable that is used to iterate\n",
        "  #c is the iterable - data structure which is used to iterate on"
      ],
      "metadata": {
        "colab": {
          "base_uri": "https://localhost:8080/"
        },
        "id": "KmhoC12hqCSv",
        "outputId": "6b6930f1-5739-4142-ba37-2421a261d558"
      },
      "execution_count": null,
      "outputs": [
        {
          "output_type": "stream",
          "name": "stdout",
          "text": [
            "67\n",
            "54\n",
            "12\n",
            "34\n",
            "77\n"
          ]
        }
      ]
    },
    {
      "cell_type": "code",
      "source": [
        "n=len(c)\n",
        "for i in range(n):\n",
        "  print(c[i])\n",
        "  # print(c)"
      ],
      "metadata": {
        "colab": {
          "base_uri": "https://localhost:8080/"
        },
        "id": "j9etMgCLqQpC",
        "outputId": "63b6dbb0-394b-445c-e64f-41e57220aa68"
      },
      "execution_count": null,
      "outputs": [
        {
          "output_type": "stream",
          "name": "stdout",
          "text": [
            "67\n",
            "54\n",
            "12\n",
            "34\n",
            "77\n"
          ]
        }
      ]
    },
    {
      "cell_type": "code",
      "source": [
        "aa= [9,12,13,14,15,16]"
      ],
      "metadata": {
        "id": "yR8Ula57rTSk"
      },
      "execution_count": null,
      "outputs": []
    },
    {
      "cell_type": "code",
      "source": [
        "bb=[12,13,1,4]"
      ],
      "metadata": {
        "id": "hocO6HHjraY-"
      },
      "execution_count": null,
      "outputs": []
    },
    {
      "cell_type": "code",
      "source": [
        "aa.extend(bb)"
      ],
      "metadata": {
        "id": "BS86Yh7BuL8I"
      },
      "execution_count": null,
      "outputs": []
    },
    {
      "cell_type": "code",
      "source": [
        "aa"
      ],
      "metadata": {
        "colab": {
          "base_uri": "https://localhost:8080/"
        },
        "id": "CfVU6-h1uOFN",
        "outputId": "7caa98d8-34f0-4cfc-ca00-827e77ac9400"
      },
      "execution_count": null,
      "outputs": [
        {
          "output_type": "execute_result",
          "data": {
            "text/plain": [
              "[9, 12, 13, 14, 15, 16, 12, 13, 1, 4]"
            ]
          },
          "metadata": {},
          "execution_count": 33
        }
      ]
    },
    {
      "cell_type": "code",
      "source": [
        "aa.append(bb)\n",
        "\n",
        "aa"
      ],
      "metadata": {
        "colab": {
          "base_uri": "https://localhost:8080/"
        },
        "id": "KEvuexAjuPgc",
        "outputId": "1ebfe196-7b79-4417-9623-be8cb5da7819"
      },
      "execution_count": null,
      "outputs": [
        {
          "output_type": "execute_result",
          "data": {
            "text/plain": [
              "[9, 12, 13, 14, 15, 16, [12, 13, 1, 4]]"
            ]
          },
          "metadata": {},
          "execution_count": 36
        }
      ]
    },
    {
      "cell_type": "code",
      "source": [
        "sum=0\n",
        "avg=0\n",
        "for i in aa:\n",
        "  sum=sum+i\n",
        "  avg=sum//len(aa)\n",
        "print(sum)\n",
        "print(avg)\n",
        "\n"
      ],
      "metadata": {
        "colab": {
          "base_uri": "https://localhost:8080/"
        },
        "id": "lMvZ4tnNuaa5",
        "outputId": "334041c2-6830-4b6b-9201-b16d60398b3a"
      },
      "execution_count": null,
      "outputs": [
        {
          "output_type": "stream",
          "name": "stdout",
          "text": [
            "109\n",
            "10\n"
          ]
        }
      ]
    },
    {
      "cell_type": "code",
      "source": [
        "runs_virat =[67,54,12,34,77,89,101]"
      ],
      "metadata": {
        "id": "XQDu14DOw9YY"
      },
      "execution_count": null,
      "outputs": []
    },
    {
      "cell_type": "code",
      "source": [
        "#find the sum , max, min, length without using internal functions\n"
      ],
      "metadata": {
        "id": "622mmwnSx36h"
      },
      "execution_count": null,
      "outputs": []
    },
    {
      "cell_type": "code",
      "source": [
        "#for length\n",
        "def custom_len(a):\n",
        "  n=0 \n",
        "  for i in a:\n",
        "    n=n+1\n",
        "  return n  \n"
      ],
      "metadata": {
        "id": "mVWoBjVBydhG"
      },
      "execution_count": null,
      "outputs": []
    },
    {
      "cell_type": "code",
      "source": [
        "custom_len(runs_virat)"
      ],
      "metadata": {
        "colab": {
          "base_uri": "https://localhost:8080/"
        },
        "id": "UpIokZVnzXh_",
        "outputId": "bf21092b-0c6e-427f-c2dd-54c230d851da"
      },
      "execution_count": null,
      "outputs": [
        {
          "output_type": "execute_result",
          "data": {
            "text/plain": [
              "7"
            ]
          },
          "metadata": {},
          "execution_count": 60
        }
      ]
    },
    {
      "cell_type": "code",
      "source": [
        "#for sum \n",
        "sum=0\n",
        "for i in runs_virat:\n",
        "  sum=sum+i\n",
        "\n",
        "print(sum)"
      ],
      "metadata": {
        "colab": {
          "base_uri": "https://localhost:8080/"
        },
        "id": "17PevPc72B-v",
        "outputId": "4f79a37d-60d1-401a-d2d4-693a667d4916"
      },
      "execution_count": null,
      "outputs": [
        {
          "output_type": "stream",
          "name": "stdout",
          "text": [
            "434\n"
          ]
        }
      ]
    },
    {
      "cell_type": "code",
      "source": [
        "max_runs=0\n",
        "for i in runs_virat:\n",
        "  if i > max_runs:\n",
        "    max_runs=i\n",
        "print(max_runs)"
      ],
      "metadata": {
        "colab": {
          "base_uri": "https://localhost:8080/"
        },
        "id": "rItmBy5P2n_p",
        "outputId": "e59a45d1-6f0f-4d6f-da26-ac716863004f"
      },
      "execution_count": null,
      "outputs": [
        {
          "output_type": "stream",
          "name": "stdout",
          "text": [
            "101\n"
          ]
        }
      ]
    },
    {
      "cell_type": "code",
      "source": [
        "min_runs=max_runs\n",
        "for i in runs_virat:\n",
        "  if i< min_runs:\n",
        "    min_runs=i\n",
        "print(min_runs)"
      ],
      "metadata": {
        "colab": {
          "base_uri": "https://localhost:8080/"
        },
        "id": "k6XHWRbS3dVx",
        "outputId": "93b3ac89-3de6-41c8-ff81-1a48836c9661"
      },
      "execution_count": null,
      "outputs": [
        {
          "output_type": "stream",
          "name": "stdout",
          "text": [
            "12\n"
          ]
        }
      ]
    },
    {
      "cell_type": "code",
      "source": [
        "min_run=runs_virat[0]\n",
        "for i in runs_virat:\n",
        "  if i<min_run:\n",
        "    min_run= i\n",
        "print(min_run)"
      ],
      "metadata": {
        "colab": {
          "base_uri": "https://localhost:8080/"
        },
        "id": "mJbeEXn23pTB",
        "outputId": "98389b9e-ccb3-4b37-8b4d-1edc1c00c499"
      },
      "execution_count": null,
      "outputs": [
        {
          "output_type": "stream",
          "name": "stdout",
          "text": [
            "12\n"
          ]
        }
      ]
    },
    {
      "cell_type": "code",
      "source": [
        "\"\"\"\n",
        "calculate avg of runs scored by virat in all matches with even index\"\"\""
      ],
      "metadata": {
        "colab": {
          "base_uri": "https://localhost:8080/",
          "height": 35
        },
        "id": "ymVed-WV5LIY",
        "outputId": "4d302c2b-ce85-4d1c-914e-117a714c29d2"
      },
      "execution_count": null,
      "outputs": [
        {
          "output_type": "execute_result",
          "data": {
            "text/plain": [
              "'\\ncalculate avg of runs scored by virat in all matches with even index'"
            ],
            "application/vnd.google.colaboratory.intrinsic+json": {
              "type": "string"
            }
          },
          "metadata": {},
          "execution_count": 67
        }
      ]
    },
    {
      "cell_type": "code",
      "source": [
        "def custom(runs_virat):\n",
        "  count=0\n",
        "  sum1=0\n",
        "  for i in range(len(runs_virat)):\n",
        "    if i%2==0:\n",
        "      count+=1\n",
        "      sum1=sum1+runs_virat[i]\n",
        "  print(count)\n",
        "  return sum1\n",
        "\n",
        "custom(runs_virat)\n",
        "\n",
        "\n",
        "\n",
        "\n"
      ],
      "metadata": {
        "colab": {
          "base_uri": "https://localhost:8080/"
        },
        "id": "keTt61mD571M",
        "outputId": "0e79f58e-0821-4c2d-cce9-eef830e3e5e7"
      },
      "execution_count": null,
      "outputs": [
        {
          "output_type": "stream",
          "name": "stdout",
          "text": [
            "4\n"
          ]
        },
        {
          "output_type": "execute_result",
          "data": {
            "text/plain": [
              "257"
            ]
          },
          "metadata": {},
          "execution_count": 93
        }
      ]
    },
    {
      "cell_type": "code",
      "source": [
        "count=0\n",
        "sum1=0\n",
        "for i in range(len(runs_virat)):\n",
        "  if i%2==0:\n",
        "    count+=1\n",
        "    sum1=sum1+runs_virat[i]\n",
        "print(count)\n",
        "print(sum1)\n",
        "print(sum1//count)"
      ],
      "metadata": {
        "colab": {
          "base_uri": "https://localhost:8080/"
        },
        "id": "iZRoJ-piAJGQ",
        "outputId": "8da59b5f-9c19-4a33-f20e-297abadd57c6"
      },
      "execution_count": null,
      "outputs": [
        {
          "output_type": "stream",
          "name": "stdout",
          "text": [
            "4\n",
            "257\n",
            "64\n"
          ]
        }
      ]
    },
    {
      "cell_type": "code",
      "source": [
        "aa\n"
      ],
      "metadata": {
        "colab": {
          "base_uri": "https://localhost:8080/"
        },
        "id": "rwV4Rqzs7CcH",
        "outputId": "93d0d9cd-44df-4114-e634-b77221864102"
      },
      "execution_count": null,
      "outputs": [
        {
          "output_type": "execute_result",
          "data": {
            "text/plain": [
              "[9, 12, 13, 14, 15, 16, 12, 13, 1, 4]"
            ]
          },
          "metadata": {},
          "execution_count": 86
        }
      ]
    },
    {
      "cell_type": "code",
      "source": [
        "aa.pop(2) #it removes the value at the index"
      ],
      "metadata": {
        "colab": {
          "base_uri": "https://localhost:8080/"
        },
        "id": "BkdanSKYAB6Z",
        "outputId": "3a92d80c-4095-47ef-c049-778a12377e16"
      },
      "execution_count": null,
      "outputs": [
        {
          "output_type": "execute_result",
          "data": {
            "text/plain": [
              "13"
            ]
          },
          "metadata": {},
          "execution_count": 98
        }
      ]
    },
    {
      "cell_type": "code",
      "source": [
        "aa"
      ],
      "metadata": {
        "colab": {
          "base_uri": "https://localhost:8080/"
        },
        "id": "W5__OQBvBeke",
        "outputId": "79878344-30da-432b-d261-9f40ae12ecd4"
      },
      "execution_count": null,
      "outputs": [
        {
          "output_type": "execute_result",
          "data": {
            "text/plain": [
              "[9, 12, 14, 15, 16, 12, 13, 1, 4]"
            ]
          },
          "metadata": {},
          "execution_count": 99
        }
      ]
    },
    {
      "cell_type": "code",
      "source": [
        "aa.remove(13) #it removes the value wherever it is positioned\n",
        "aa"
      ],
      "metadata": {
        "colab": {
          "base_uri": "https://localhost:8080/"
        },
        "id": "At9n2apmBkyJ",
        "outputId": "02859d71-62c9-437c-80e1-57b88d2b9b56"
      },
      "execution_count": null,
      "outputs": [
        {
          "output_type": "execute_result",
          "data": {
            "text/plain": [
              "[9, 12, 14, 15, 16, 12, 1, 4]"
            ]
          },
          "metadata": {},
          "execution_count": 100
        }
      ]
    },
    {
      "cell_type": "code",
      "source": [
        "e= [1,2,3,4,5,5,5,6,7,7,8]"
      ],
      "metadata": {
        "id": "IXEPpeP6B0n2"
      },
      "execution_count": null,
      "outputs": []
    },
    {
      "cell_type": "code",
      "source": [
        "e.remove(5) #it removes only the first value of the value mentioned and retains the repetitives \n",
        "e"
      ],
      "metadata": {
        "colab": {
          "base_uri": "https://localhost:8080/"
        },
        "id": "QWnHTRQPB9i0",
        "outputId": "cf98039e-3ef8-48a1-bef3-313d1740ee5e"
      },
      "execution_count": null,
      "outputs": [
        {
          "output_type": "execute_result",
          "data": {
            "text/plain": [
              "[1, 2, 3, 4, 5, 6, 7, 7, 8]"
            ]
          },
          "metadata": {},
          "execution_count": 103
        }
      ]
    },
    {
      "cell_type": "code",
      "source": [
        "s=[]\n",
        "for i in range(5):\n",
        "  value=int(input())\n",
        "  s.append(value)\n"
      ],
      "metadata": {
        "colab": {
          "base_uri": "https://localhost:8080/"
        },
        "id": "39G_yAr6CAaM",
        "outputId": "c2199c1d-4d09-4a07-87fb-2d94d1ae5b4c"
      },
      "execution_count": null,
      "outputs": [
        {
          "name": "stdout",
          "output_type": "stream",
          "text": [
            "1\n",
            "2\n",
            "3\n",
            "45\n",
            "32\n"
          ]
        }
      ]
    },
    {
      "cell_type": "code",
      "source": [
        "\n",
        "s"
      ],
      "metadata": {
        "colab": {
          "base_uri": "https://localhost:8080/"
        },
        "id": "4splEP9VFjx5",
        "outputId": "e04227e6-b095-45f5-df1f-4ccb6588819d"
      },
      "execution_count": null,
      "outputs": [
        {
          "output_type": "execute_result",
          "data": {
            "text/plain": [
              "[1, 2, 3, 45, 32]"
            ]
          },
          "metadata": {},
          "execution_count": 108
        }
      ]
    },
    {
      "cell_type": "code",
      "source": [
        "a= '50 20 9 18'"
      ],
      "metadata": {
        "id": "_-xY4CCIFyoc"
      },
      "execution_count": null,
      "outputs": []
    },
    {
      "cell_type": "code",
      "source": [
        "a=a.split()"
      ],
      "metadata": {
        "id": "XMDpk3q2KUMh"
      },
      "execution_count": null,
      "outputs": []
    },
    {
      "cell_type": "code",
      "source": [
        "a"
      ],
      "metadata": {
        "colab": {
          "base_uri": "https://localhost:8080/"
        },
        "id": "6TOFCb_XKaZZ",
        "outputId": "98346aa7-12a1-4206-d5e3-d1a20b4cc515"
      },
      "execution_count": null,
      "outputs": [
        {
          "output_type": "execute_result",
          "data": {
            "text/plain": [
              "['50', '20', '9', '18']"
            ]
          },
          "metadata": {},
          "execution_count": 122
        }
      ]
    },
    {
      "cell_type": "code",
      "source": [
        "for i in range(len(a)):\n",
        "  a[i] = int(a[i])"
      ],
      "metadata": {
        "id": "3cO7-05xKbaP"
      },
      "execution_count": null,
      "outputs": []
    },
    {
      "cell_type": "code",
      "source": [
        "a"
      ],
      "metadata": {
        "colab": {
          "base_uri": "https://localhost:8080/"
        },
        "id": "o0wQIuq6KrC_",
        "outputId": "04390080-3db2-4d4c-85f6-f4a81311e3d2"
      },
      "execution_count": null,
      "outputs": [
        {
          "output_type": "execute_result",
          "data": {
            "text/plain": [
              "[50, 20, 9, 18]"
            ]
          },
          "metadata": {},
          "execution_count": 124
        }
      ]
    },
    {
      "cell_type": "code",
      "source": [
        "a[0]=456"
      ],
      "metadata": {
        "id": "EE9DwGQ5LnVz"
      },
      "execution_count": null,
      "outputs": []
    },
    {
      "cell_type": "code",
      "source": [
        "a"
      ],
      "metadata": {
        "colab": {
          "base_uri": "https://localhost:8080/"
        },
        "id": "Gv3NbZcDLsxi",
        "outputId": "044381d4-7896-47e9-d109-706405fbd6b3"
      },
      "execution_count": null,
      "outputs": [
        {
          "output_type": "execute_result",
          "data": {
            "text/plain": [
              "[456, 20, 9, 18]"
            ]
          },
          "metadata": {},
          "execution_count": 127
        }
      ]
    },
    {
      "cell_type": "code",
      "source": [
        "#write a program to find The difference of the  sum of elements at even and odd indicesin integer format\n",
        "\n",
        "N='56 63 87 24 32 13 15 19 44 52'\n",
        "N=N.split()"
      ],
      "metadata": {
        "id": "lJnHbDeKL0ay"
      },
      "execution_count": null,
      "outputs": []
    },
    {
      "cell_type": "code",
      "source": [
        "N"
      ],
      "metadata": {
        "colab": {
          "base_uri": "https://localhost:8080/"
        },
        "id": "frNQWTcyNUJv",
        "outputId": "28dd1600-f1fd-4220-fdec-119d6ec2b9a3"
      },
      "execution_count": null,
      "outputs": [
        {
          "output_type": "execute_result",
          "data": {
            "text/plain": [
              "['56', '63', '87', '24', '32', '13', '15', '19', '44', '52']"
            ]
          },
          "metadata": {},
          "execution_count": 129
        }
      ]
    },
    {
      "cell_type": "code",
      "source": [
        "for i in range(len(N)):\n",
        "  N[i]=int(N[i])\n",
        "N"
      ],
      "metadata": {
        "colab": {
          "base_uri": "https://localhost:8080/"
        },
        "id": "b4AMbEBZNVJK",
        "outputId": "66854c2b-1c69-43c2-c8c8-c30b76de483c"
      },
      "execution_count": null,
      "outputs": [
        {
          "output_type": "execute_result",
          "data": {
            "text/plain": [
              "[56, 63, 87, 24, 32, 13, 15, 19, 44, 52]"
            ]
          },
          "metadata": {},
          "execution_count": 139
        }
      ]
    },
    {
      "cell_type": "code",
      "source": [
        "def diff_sum(N):\n",
        "  sum_e=0\n",
        "  sum_o=0\n",
        "  for i in range(len(N)):\n",
        "    if i%2==0:\n",
        "      sum_e+=N[i]\n",
        "    else:\n",
        "      sum_o+=N[i]\n",
        "  print(sum_e)\n",
        "  print(sum_o)\n",
        "  print(sum_e- sum_o)\n",
        "\n"
      ],
      "metadata": {
        "id": "0RsR9lfRNkKi"
      },
      "execution_count": null,
      "outputs": []
    },
    {
      "cell_type": "code",
      "source": [
        "diff_sum(N)"
      ],
      "metadata": {
        "colab": {
          "base_uri": "https://localhost:8080/"
        },
        "id": "aaBN31HwOTmL",
        "outputId": "7b6ba1ac-036d-4242-ae22-e3a932c093d4"
      },
      "execution_count": null,
      "outputs": [
        {
          "output_type": "stream",
          "name": "stdout",
          "text": [
            "234\n",
            "171\n",
            "63\n"
          ]
        }
      ]
    },
    {
      "cell_type": "code",
      "source": [
        "def even_odd(N):\n",
        "  sum_e=0\n",
        "  sum_o=0\n",
        "  for i in N:\n",
        "    if i%2==0:\n",
        "      sum_e+=i\n",
        "    else:\n",
        "      sum_o+=i\n",
        "  print(sum_e)\n",
        "  print(sum_o)\n",
        "  print(sum_e- sum_o)\n"
      ],
      "metadata": {
        "id": "-e_GNyHlOWJ4"
      },
      "execution_count": null,
      "outputs": []
    },
    {
      "cell_type": "code",
      "source": [
        "even_odd(N)"
      ],
      "metadata": {
        "colab": {
          "base_uri": "https://localhost:8080/"
        },
        "id": "zK6q3Y0eQOBI",
        "outputId": "c4701449-f010-41a0-984b-9a958c4acd00"
      },
      "execution_count": null,
      "outputs": [
        {
          "output_type": "stream",
          "name": "stdout",
          "text": [
            "208\n",
            "197\n",
            "11\n"
          ]
        }
      ]
    },
    {
      "cell_type": "code",
      "source": [
        "A=\"5 1 2 3 4 5\"\n",
        "A=A.split()\n",
        "A"
      ],
      "metadata": {
        "colab": {
          "base_uri": "https://localhost:8080/"
        },
        "id": "j54P1bM9QSuR",
        "outputId": "f963c8c7-3ee6-47da-8b81-d019363ebea6"
      },
      "execution_count": null,
      "outputs": [
        {
          "output_type": "execute_result",
          "data": {
            "text/plain": [
              "['5', '1', '2', '3', '4', '5']"
            ]
          },
          "metadata": {},
          "execution_count": 158
        }
      ]
    },
    {
      "cell_type": "code",
      "source": [
        "for i in range(len(A)):\n",
        "  A[i]=int(A[i])\n",
        "A"
      ],
      "metadata": {
        "colab": {
          "base_uri": "https://localhost:8080/"
        },
        "id": "HJM3-gUrR-Xg",
        "outputId": "3341a3d5-6d01-4879-fca5-ad31d6406826"
      },
      "execution_count": null,
      "outputs": [
        {
          "output_type": "execute_result",
          "data": {
            "text/plain": [
              "[5, 1, 2, 3, 4, 5]"
            ]
          },
          "metadata": {},
          "execution_count": 161
        }
      ]
    },
    {
      "cell_type": "code",
      "source": [
        "# Write a program to print sum of elements of the input array A of size N."
      ],
      "metadata": {
        "id": "MrRZcuTwSE9J"
      },
      "execution_count": null,
      "outputs": []
    },
    {
      "cell_type": "code",
      "source": [
        "sum1=0\n",
        "for i in A:\n",
        "  sum1+=i\n",
        "print(sum1)"
      ],
      "metadata": {
        "colab": {
          "base_uri": "https://localhost:8080/"
        },
        "id": "n4rRZ2a-STN1",
        "outputId": "9dcdea42-8726-4321-f4d6-b46657752924"
      },
      "execution_count": null,
      "outputs": [
        {
          "output_type": "stream",
          "name": "stdout",
          "text": [
            "20\n"
          ]
        }
      ]
    },
    {
      "cell_type": "code",
      "source": [
        "for i in range(-6, -10, -1):\n",
        "     print(i, end =\" \")"
      ],
      "metadata": {
        "colab": {
          "base_uri": "https://localhost:8080/"
        },
        "id": "J5dIc0bUTCmZ",
        "outputId": "f9597fb2-2417-46d0-dc9a-4a6bf6d4845c"
      },
      "execution_count": null,
      "outputs": [
        {
          "output_type": "stream",
          "name": "stdout",
          "text": [
            "-6 -7 -8 -9 "
          ]
        }
      ]
    },
    {
      "cell_type": "code",
      "source": [
        "num= [1,2,3,4,5,6,7]\n",
        "even=[]\n",
        "for i in num:\n",
        "  if i%2==0:\n",
        "    even.append(i)\n",
        "print(even)"
      ],
      "metadata": {
        "colab": {
          "base_uri": "https://localhost:8080/"
        },
        "id": "w_dAOu-vTjkR",
        "outputId": "dec44f9b-bae2-4612-c865-a9443802ad83"
      },
      "execution_count": null,
      "outputs": [
        {
          "output_type": "stream",
          "name": "stdout",
          "text": [
            "[2, 4, 6]\n"
          ]
        }
      ]
    },
    {
      "cell_type": "code",
      "source": [
        "A='1 2 3 3'\n",
        "A=A.split()\n",
        "\n"
      ],
      "metadata": {
        "id": "xiIW8i8aUMb4"
      },
      "execution_count": null,
      "outputs": []
    },
    {
      "cell_type": "code",
      "source": [
        "for i in range(len(A)):\n",
        "  A[i]=int(A[i])"
      ],
      "metadata": {
        "id": "prOZQKnFVKBa"
      },
      "execution_count": null,
      "outputs": []
    },
    {
      "cell_type": "code",
      "source": [
        "A"
      ],
      "metadata": {
        "colab": {
          "base_uri": "https://localhost:8080/"
        },
        "id": "6ch1MfJvVRTR",
        "outputId": "f6e9e45e-01d9-4f51-b9eb-68693ebdc26f"
      },
      "execution_count": null,
      "outputs": [
        {
          "output_type": "execute_result",
          "data": {
            "text/plain": [
              "[1, 2, 3, 3]"
            ]
          },
          "metadata": {},
          "execution_count": 177
        }
      ]
    },
    {
      "cell_type": "code",
      "source": [
        "#Write a function to check if the input list has consecutive duplicate elements or not.\n",
        "# Return True if there are consecutive duplicate elements in the list else return False."
      ],
      "metadata": {
        "id": "B_lHdIg2VYof"
      },
      "execution_count": null,
      "outputs": []
    },
    {
      "cell_type": "code",
      "source": [
        "def duplicate(A,n):\n",
        "  n=len(A)\n",
        "  for i in A:\n",
        "    if i==A:\n",
        "      print(i) \n",
        "  else:\n",
        "    print('False') \n"
      ],
      "metadata": {
        "id": "YbUo0TEcVgbZ"
      },
      "execution_count": null,
      "outputs": []
    },
    {
      "cell_type": "code",
      "source": [
        "duplicate(A,n)"
      ],
      "metadata": {
        "colab": {
          "base_uri": "https://localhost:8080/"
        },
        "id": "4PbpDxuAVwX0",
        "outputId": "24e38e1e-adf3-44bf-bf2a-968e0df270f3"
      },
      "execution_count": null,
      "outputs": [
        {
          "output_type": "stream",
          "name": "stdout",
          "text": [
            "False\n"
          ]
        }
      ]
    },
    {
      "cell_type": "code",
      "source": [
        "#Write a program for a given integer x and a list ls to return the first multiple of x that occurs in the list, \n",
        "# and if there isn’t any multiple of x in the list then return -1."
      ],
      "metadata": {
        "id": "W51V-jdNWm5f"
      },
      "execution_count": null,
      "outputs": []
    },
    {
      "cell_type": "code",
      "source": [
        "T= int(input())\n",
        "ls=[]\n",
        "for i in range(T):\n",
        "  value=int(input())\n",
        "  ls.append(value)"
      ],
      "metadata": {
        "colab": {
          "base_uri": "https://localhost:8080/"
        },
        "id": "V13VoKMmW8tr",
        "outputId": "744fc448-59b9-4914-9266-25b349c68849"
      },
      "execution_count": 6,
      "outputs": [
        {
          "name": "stdout",
          "output_type": "stream",
          "text": [
            "2\n",
            "23\n",
            "34\n"
          ]
        }
      ]
    },
    {
      "cell_type": "code",
      "source": [
        "ls"
      ],
      "metadata": {
        "colab": {
          "base_uri": "https://localhost:8080/"
        },
        "id": "LzNVNJ2cZfvn",
        "outputId": "d3bb11bc-400b-4304-f234-102df22de8de"
      },
      "execution_count": 5,
      "outputs": [
        {
          "output_type": "execute_result",
          "data": {
            "text/plain": [
              "[56, 6]"
            ]
          },
          "metadata": {},
          "execution_count": 5
        }
      ]
    },
    {
      "cell_type": "code",
      "source": [
        "def first_multiple(ls,x):\n",
        "  for i in ls:\n",
        "    if i%x==0:\n",
        "      print(i//x)\n",
        "  else:\n",
        "    print('-1')\n",
        "\n"
      ],
      "metadata": {
        "id": "sEX-wxURXeLN"
      },
      "execution_count": null,
      "outputs": []
    },
    {
      "cell_type": "code",
      "source": [
        "first_multiple(ls,x)"
      ],
      "metadata": {
        "colab": {
          "base_uri": "https://localhost:8080/"
        },
        "id": "FNXT89pXXf7r",
        "outputId": "884c580a-adb2-4568-a2d8-0da6d6085099"
      },
      "execution_count": null,
      "outputs": [
        {
          "output_type": "stream",
          "name": "stdout",
          "text": [
            "1\n",
            "-1\n"
          ]
        }
      ]
    },
    {
      "cell_type": "code",
      "source": [
        "a=[10,20,30,40,50]\n",
        "\n",
        "for i in range(len(a)):\n",
        "  # print(i)\n",
        "  print(a[i])"
      ],
      "metadata": {
        "colab": {
          "base_uri": "https://localhost:8080/"
        },
        "id": "BQ9ov5yoX0wn",
        "outputId": "b8c51bad-7653-4c4d-d402-9aeb594f58c1"
      },
      "execution_count": null,
      "outputs": [
        {
          "output_type": "stream",
          "name": "stdout",
          "text": [
            "10\n",
            "20\n",
            "30\n",
            "40\n",
            "50\n"
          ]
        }
      ]
    },
    {
      "cell_type": "code",
      "source": [
        "runs=[62,85,71,10,12,101,122,99,81,55]"
      ],
      "metadata": {
        "id": "VQNiGZUYGeNU"
      },
      "execution_count": null,
      "outputs": []
    },
    {
      "cell_type": "code",
      "source": [
        "r=[]\n",
        "for i in range(len(runs)):\n",
        "  if i%2==0:\n",
        "    c=runs[i]\n",
        "    if i==len(runs)-1 or i ==len(runs) - 2:\n",
        "      print(c, end=\"\" )\n",
        "    else:\n",
        "      print(c, end=\",\" )\n",
        "    r.append(c)\n"
      ],
      "metadata": {
        "colab": {
          "base_uri": "https://localhost:8080/"
        },
        "id": "Ir7ef8lpp-22",
        "outputId": "81984cf4-2f02-4ecd-9ef1-9a98bb5543e9"
      },
      "execution_count": null,
      "outputs": [
        {
          "output_type": "stream",
          "name": "stdout",
          "text": [
            "62,71,12,122,81"
          ]
        }
      ]
    },
    {
      "cell_type": "code",
      "source": [
        "r"
      ],
      "metadata": {
        "colab": {
          "base_uri": "https://localhost:8080/"
        },
        "id": "ZSpLef8zqUXp",
        "outputId": "4a0378ad-2aa7-493c-9a6e-926469447be6"
      },
      "execution_count": null,
      "outputs": [
        {
          "output_type": "execute_result",
          "data": {
            "text/plain": [
              "[62, 71, 12, 122, 81]"
            ]
          },
          "metadata": {},
          "execution_count": 19
        }
      ]
    },
    {
      "cell_type": "code",
      "source": [
        "# rr=[]\n",
        "for i in range(0,len(runs),2):\n",
        "  # f=runs[i]\n",
        "  if i==len(runs) - 1 or i== len(runs) - 2:\n",
        "    print(runs[i], end=\"\")\n",
        "  else:\n",
        "    print(runs[i], end=\",\")\n",
        "#   rr.append(f)\n",
        "\n",
        "# rr\n"
      ],
      "metadata": {
        "colab": {
          "base_uri": "https://localhost:8080/"
        },
        "id": "_8nQm6GZruoy",
        "outputId": "13acd575-b00e-43cb-9552-0ad4a7df82da"
      },
      "execution_count": null,
      "outputs": [
        {
          "output_type": "stream",
          "name": "stdout",
          "text": [
            "62,71,12,122,81"
          ]
        }
      ]
    },
    {
      "cell_type": "code",
      "source": [
        "ls=[]\n",
        "for i in range(len(runs)):\n",
        "  if i%2==0:\n",
        "    r= runs[i]\n",
        "    print(r, end=\" \")\n",
        "    ls.append(r)\n",
        "    \n"
      ],
      "metadata": {
        "colab": {
          "base_uri": "https://localhost:8080/"
        },
        "id": "7YLqivArsjRI",
        "outputId": "d37612a1-0e00-48c1-bbef-72bcffcf049d"
      },
      "execution_count": null,
      "outputs": [
        {
          "output_type": "stream",
          "name": "stdout",
          "text": [
            "62 71 12 122 81 "
          ]
        }
      ]
    },
    {
      "cell_type": "code",
      "source": [
        "ls"
      ],
      "metadata": {
        "colab": {
          "base_uri": "https://localhost:8080/"
        },
        "id": "RpX9BAFoFfa7",
        "outputId": "80a75a18-f6de-428b-e731-c9f63ba411ef"
      },
      "execution_count": null,
      "outputs": [
        {
          "output_type": "execute_result",
          "data": {
            "text/plain": [
              "[62, 71, 12, 122, 81]"
            ]
          },
          "metadata": {},
          "execution_count": 13
        }
      ]
    },
    {
      "cell_type": "code",
      "source": [
        "for i in range(len(runs)-5, len(runs)): #all the runs from last 5 matches \n",
        "  print(runs[i],end=\",\")"
      ],
      "metadata": {
        "colab": {
          "base_uri": "https://localhost:8080/"
        },
        "id": "8eXgjKYAF6zQ",
        "outputId": "de31ec35-9bd8-4ff6-88dd-a9ec2515dfb9"
      },
      "execution_count": null,
      "outputs": [
        {
          "output_type": "stream",
          "name": "stdout",
          "text": [
            "101,122,99,81,55,"
          ]
        }
      ]
    },
    {
      "cell_type": "code",
      "source": [
        "for i in range(len(runs)):\n",
        "  if i >= len(runs)-5:\n",
        "    print(runs[i],end=\",\")"
      ],
      "metadata": {
        "colab": {
          "base_uri": "https://localhost:8080/"
        },
        "id": "usIKbdcvNAwP",
        "outputId": "e2966c4f-0507-4b70-eae8-a4dd2a8ead03"
      },
      "execution_count": null,
      "outputs": [
        {
          "output_type": "stream",
          "name": "stdout",
          "text": [
            "101,122,99,81,55,"
          ]
        }
      ]
    },
    {
      "cell_type": "code",
      "source": [
        "for i in range(len(runs)-1, len(runs)-6, -1):\n",
        "  print(runs[i],end=\",\")"
      ],
      "metadata": {
        "colab": {
          "base_uri": "https://localhost:8080/"
        },
        "id": "ApEc1Y0wORta",
        "outputId": "f30de8bd-7aa3-4941-fb31-e2f734ee92c5"
      },
      "execution_count": null,
      "outputs": [
        {
          "output_type": "stream",
          "name": "stdout",
          "text": [
            "55,81,99,122,101,"
          ]
        }
      ]
    },
    {
      "cell_type": "code",
      "source": [
        "# runs scored in last 3 matches\n",
        "for i in range(3):\n",
        "  \n",
        "    print(runs[i],end=\",\")\n",
        "  "
      ],
      "metadata": {
        "colab": {
          "base_uri": "https://localhost:8080/"
        },
        "id": "k-zNMybhOuQA",
        "outputId": "ed0722da-c862-4a9c-eafd-4c4971df8ba8"
      },
      "execution_count": null,
      "outputs": [
        {
          "output_type": "stream",
          "name": "stdout",
          "text": [
            "62,85,71,"
          ]
        }
      ]
    },
    {
      "cell_type": "code",
      "source": [
        "for i in range(len(runs)-1, -1,-1): #to print from end to begining of the runs list ...use -1 to include value at position 0\n",
        "  print(runs[i],end=\",\")"
      ],
      "metadata": {
        "colab": {
          "base_uri": "https://localhost:8080/"
        },
        "id": "6282yKqIPA1s",
        "outputId": "fe9ae1d0-f09d-4f03-ccf0-04a45fcdff27"
      },
      "execution_count": null,
      "outputs": [
        {
          "output_type": "stream",
          "name": "stdout",
          "text": [
            "55,81,99,122,101,12,10,71,85,62,"
          ]
        }
      ]
    },
    {
      "cell_type": "code",
      "source": [
        "#runs made from the third to seventh match both included\n",
        "\n",
        "for i in range(2,7): #the third would at index 2 and the seventh would be at index 6\n",
        "  print(runs[i],end=\",\")"
      ],
      "metadata": {
        "colab": {
          "base_uri": "https://localhost:8080/"
        },
        "id": "A_wUlRD6Qq8x",
        "outputId": "e5ea0ed2-fd69-46b3-879d-b0338033527e"
      },
      "execution_count": null,
      "outputs": [
        {
          "output_type": "stream",
          "name": "stdout",
          "text": [
            "71,10,12,101,122,"
          ]
        }
      ]
    },
    {
      "cell_type": "code",
      "source": [
        "#above problem using while loop\n",
        "i=0\n",
        "while True:\n",
        "  if i==7:\n",
        "    break\n",
        "  elif i>=2:\n",
        "    print(runs[i],end=\",\")\n",
        "  i+=1\n"
      ],
      "metadata": {
        "colab": {
          "base_uri": "https://localhost:8080/"
        },
        "id": "d2Vzb6O6SFcF",
        "outputId": "01ab05f9-6505-4ed1-ebd3-2a7ad380745d"
      },
      "execution_count": null,
      "outputs": [
        {
          "output_type": "stream",
          "name": "stdout",
          "text": [
            "71,10,12,101,122,"
          ]
        }
      ]
    },
    {
      "cell_type": "code",
      "source": [
        "\"\"\" Using List Slicing \"\"\""
      ],
      "metadata": {
        "colab": {
          "base_uri": "https://localhost:8080/",
          "height": 35
        },
        "id": "k1gWsdXaS7ZD",
        "outputId": "bd228ed1-07ab-428f-afc1-058ebd11e638"
      },
      "execution_count": null,
      "outputs": [
        {
          "output_type": "execute_result",
          "data": {
            "text/plain": [
              "' Using List Slicing '"
            ],
            "application/vnd.google.colaboratory.intrinsic+json": {
              "type": "string"
            }
          },
          "metadata": {},
          "execution_count": 46
        }
      ]
    },
    {
      "cell_type": "code",
      "source": [
        "# runs from last 5 matches \n",
        "\n",
        "runs[(len(runs)-5): len(runs)]"
      ],
      "metadata": {
        "colab": {
          "base_uri": "https://localhost:8080/"
        },
        "id": "Hd1xm7ubTzDi",
        "outputId": "161e7106-0320-45e2-ff87-f265d3c7865f"
      },
      "execution_count": null,
      "outputs": [
        {
          "output_type": "execute_result",
          "data": {
            "text/plain": [
              "[101, 122, 99, 81, 55]"
            ]
          },
          "metadata": {},
          "execution_count": 49
        }
      ]
    },
    {
      "cell_type": "code",
      "source": [
        "runs[0:3] # runs from first 3 matches"
      ],
      "metadata": {
        "colab": {
          "base_uri": "https://localhost:8080/"
        },
        "id": "SdG3ELolVEvF",
        "outputId": "196dfe18-154f-43c9-8f79-bccbf7bdfa64"
      },
      "execution_count": null,
      "outputs": [
        {
          "output_type": "execute_result",
          "data": {
            "text/plain": [
              "[62, 85, 71]"
            ]
          },
          "metadata": {},
          "execution_count": 50
        }
      ]
    },
    {
      "cell_type": "code",
      "source": [
        "runs[:3] #automatically assumes start value to be 0"
      ],
      "metadata": {
        "colab": {
          "base_uri": "https://localhost:8080/"
        },
        "id": "iQ3RnB9AVTI8",
        "outputId": "c825158a-2d69-4abc-8cf6-bcb3e084d173"
      },
      "execution_count": null,
      "outputs": [
        {
          "output_type": "execute_result",
          "data": {
            "text/plain": [
              "[62, 85, 71]"
            ]
          },
          "metadata": {},
          "execution_count": 52
        }
      ]
    },
    {
      "cell_type": "code",
      "source": [
        "runs[2:]"
      ],
      "metadata": {
        "colab": {
          "base_uri": "https://localhost:8080/"
        },
        "id": "FzXpnuDUWdU9",
        "outputId": "4611a9ca-7b14-411f-be5d-17c9e7343ef6"
      },
      "execution_count": null,
      "outputs": [
        {
          "output_type": "execute_result",
          "data": {
            "text/plain": [
              "[71, 10, 12, 101, 122, 99, 81, 55]"
            ]
          },
          "metadata": {},
          "execution_count": 53
        }
      ]
    },
    {
      "cell_type": "code",
      "source": [
        "runs[200:300]"
      ],
      "metadata": {
        "colab": {
          "base_uri": "https://localhost:8080/"
        },
        "id": "_o4Jq66oWnA8",
        "outputId": "02ff73f1-9239-4037-d146-df79e130cffe"
      },
      "execution_count": null,
      "outputs": [
        {
          "output_type": "execute_result",
          "data": {
            "text/plain": [
              "[]"
            ]
          },
          "metadata": {},
          "execution_count": 54
        }
      ]
    },
    {
      "cell_type": "code",
      "source": [
        "runs[0:len(runs):2] #odd numbered elements"
      ],
      "metadata": {
        "colab": {
          "base_uri": "https://localhost:8080/"
        },
        "id": "Orp7kkTPYFRU",
        "outputId": "efec6799-d027-4ba8-8a9c-d388cad5538e"
      },
      "execution_count": null,
      "outputs": [
        {
          "output_type": "execute_result",
          "data": {
            "text/plain": [
              "[62, 71, 12, 122, 81]"
            ]
          },
          "metadata": {},
          "execution_count": 55
        }
      ]
    },
    {
      "cell_type": "code",
      "source": [
        "runs[::2] #it is the same as above"
      ],
      "metadata": {
        "colab": {
          "base_uri": "https://localhost:8080/"
        },
        "id": "BMtNv7ByZEnt",
        "outputId": "92dde85c-086e-4d37-a70e-57d5a2adc222"
      },
      "execution_count": null,
      "outputs": [
        {
          "output_type": "execute_result",
          "data": {
            "text/plain": [
              "[62, 71, 12, 122, 81]"
            ]
          },
          "metadata": {},
          "execution_count": 56
        }
      ]
    },
    {
      "cell_type": "code",
      "source": [
        "runs[1::2] #even numbered elements"
      ],
      "metadata": {
        "colab": {
          "base_uri": "https://localhost:8080/"
        },
        "id": "bYfgTwULZLUE",
        "outputId": "db802649-d698-4372-e9f9-a16b575dd1fa"
      },
      "execution_count": null,
      "outputs": [
        {
          "output_type": "execute_result",
          "data": {
            "text/plain": [
              "[85, 10, 101, 99, 55]"
            ]
          },
          "metadata": {},
          "execution_count": 57
        }
      ]
    },
    {
      "cell_type": "code",
      "source": [
        "runs[5:0]"
      ],
      "metadata": {
        "colab": {
          "base_uri": "https://localhost:8080/"
        },
        "id": "9gAb2FWCZg6u",
        "outputId": "c1902f4b-d48a-4edb-d6b6-af738f546ade"
      },
      "execution_count": null,
      "outputs": [
        {
          "output_type": "execute_result",
          "data": {
            "text/plain": [
              "[]"
            ]
          },
          "metadata": {},
          "execution_count": 58
        }
      ]
    },
    {
      "cell_type": "code",
      "source": [
        "w= [4,6,9,3,2,7,8]"
      ],
      "metadata": {
        "id": "AOZravHMdxSI"
      },
      "execution_count": null,
      "outputs": []
    },
    {
      "cell_type": "code",
      "source": [
        "w[-7:-2]"
      ],
      "metadata": {
        "colab": {
          "base_uri": "https://localhost:8080/"
        },
        "id": "ZlprNLCsihgv",
        "outputId": "034b1c01-a44c-4bc6-a4f3-0299c013bfff"
      },
      "execution_count": null,
      "outputs": [
        {
          "output_type": "execute_result",
          "data": {
            "text/plain": [
              "[4, 6, 9, 3, 2]"
            ]
          },
          "metadata": {},
          "execution_count": 60
        }
      ]
    },
    {
      "cell_type": "code",
      "source": [
        "w[5::-1]"
      ],
      "metadata": {
        "colab": {
          "base_uri": "https://localhost:8080/"
        },
        "id": "cnP5fTWyioNv",
        "outputId": "1175e5d8-f6a9-4bef-b312-6ed778c397c8"
      },
      "execution_count": null,
      "outputs": [
        {
          "output_type": "execute_result",
          "data": {
            "text/plain": [
              "[7, 2, 3, 9, 6, 4]"
            ]
          },
          "metadata": {},
          "execution_count": 62
        }
      ]
    },
    {
      "cell_type": "code",
      "source": [
        "\"\"\" Questions for list slicing in list \n",
        "a=[10,20,30,40,50,60,70,80,90,100]\"\"\""
      ],
      "metadata": {
        "colab": {
          "base_uri": "https://localhost:8080/",
          "height": 35
        },
        "id": "OYxkts77lkl9",
        "outputId": "bf81e5db-0b80-49cf-a3cd-30bd7a2e8231"
      },
      "execution_count": null,
      "outputs": [
        {
          "output_type": "execute_result",
          "data": {
            "text/plain": [
              "' Questions for list slicing in list \\na=[10,20,30,40,50,60,70,80,90,100]'"
            ],
            "application/vnd.google.colaboratory.intrinsic+json": {
              "type": "string"
            }
          },
          "metadata": {},
          "execution_count": 66
        }
      ]
    },
    {
      "cell_type": "code",
      "source": [
        "a=[10,20,30,40,50,60,70,80,90,100]"
      ],
      "metadata": {
        "id": "bL2O-D-zlw6A"
      },
      "execution_count": null,
      "outputs": []
    },
    {
      "cell_type": "code",
      "source": [
        "a[3:5]"
      ],
      "metadata": {
        "colab": {
          "base_uri": "https://localhost:8080/"
        },
        "id": "XqyJBb3PoZds",
        "outputId": "4daa01d5-a716-4d1f-a7d4-177cbcbca817"
      },
      "execution_count": null,
      "outputs": [
        {
          "output_type": "execute_result",
          "data": {
            "text/plain": [
              "[40, 50]"
            ]
          },
          "metadata": {},
          "execution_count": 68
        }
      ]
    },
    {
      "cell_type": "code",
      "source": [
        "a[:8]"
      ],
      "metadata": {
        "colab": {
          "base_uri": "https://localhost:8080/"
        },
        "id": "uiW7_Xqeod74",
        "outputId": "89b5f6e0-2e4d-4633-bff4-25a93d4ee47d"
      },
      "execution_count": null,
      "outputs": [
        {
          "output_type": "execute_result",
          "data": {
            "text/plain": [
              "[10, 20, 30, 40, 50, 60, 70, 80]"
            ]
          },
          "metadata": {},
          "execution_count": 69
        }
      ]
    },
    {
      "cell_type": "code",
      "source": [
        "a[:]"
      ],
      "metadata": {
        "colab": {
          "base_uri": "https://localhost:8080/"
        },
        "id": "DDlBUBpeoisN",
        "outputId": "01f2411f-378b-4eca-8383-db5041f2e3dc"
      },
      "execution_count": null,
      "outputs": [
        {
          "output_type": "execute_result",
          "data": {
            "text/plain": [
              "[10, 20, 30, 40, 50, 60, 70, 80, 90, 100]"
            ]
          },
          "metadata": {},
          "execution_count": 70
        }
      ]
    },
    {
      "cell_type": "code",
      "source": [
        "a[7:]"
      ],
      "metadata": {
        "colab": {
          "base_uri": "https://localhost:8080/"
        },
        "id": "VgjkkO06olVN",
        "outputId": "4941fa8e-596e-4e23-fe86-198739804390"
      },
      "execution_count": null,
      "outputs": [
        {
          "output_type": "execute_result",
          "data": {
            "text/plain": [
              "[80, 90, 100]"
            ]
          },
          "metadata": {},
          "execution_count": 71
        }
      ]
    },
    {
      "cell_type": "code",
      "source": [
        "a[-2:-5:-1]"
      ],
      "metadata": {
        "colab": {
          "base_uri": "https://localhost:8080/"
        },
        "id": "FTgqpEH3opkx",
        "outputId": "b8b6c821-afa9-4a8e-81d2-b50a1c24fce8"
      },
      "execution_count": null,
      "outputs": [
        {
          "output_type": "execute_result",
          "data": {
            "text/plain": [
              "[90, 80, 70]"
            ]
          },
          "metadata": {},
          "execution_count": 72
        }
      ]
    },
    {
      "cell_type": "code",
      "source": [
        "a[-2:-7]"
      ],
      "metadata": {
        "colab": {
          "base_uri": "https://localhost:8080/"
        },
        "id": "Pj19_21YotS9",
        "outputId": "b9bff930-35bd-4b39-ac65-261383b0d441"
      },
      "execution_count": null,
      "outputs": [
        {
          "output_type": "execute_result",
          "data": {
            "text/plain": [
              "[]"
            ]
          },
          "metadata": {},
          "execution_count": 73
        }
      ]
    },
    {
      "cell_type": "code",
      "source": [
        "a[:-5]"
      ],
      "metadata": {
        "colab": {
          "base_uri": "https://localhost:8080/"
        },
        "id": "NwFTBr8cowfI",
        "outputId": "654c2cc2-7e0e-4705-fe5b-29da475377fc"
      },
      "execution_count": null,
      "outputs": [
        {
          "output_type": "execute_result",
          "data": {
            "text/plain": [
              "[10, 20, 30, 40, 50]"
            ]
          },
          "metadata": {},
          "execution_count": 74
        }
      ]
    },
    {
      "cell_type": "code",
      "source": [
        "a[-2:]"
      ],
      "metadata": {
        "colab": {
          "base_uri": "https://localhost:8080/"
        },
        "id": "Zxyr4Uu8o1yo",
        "outputId": "e72fe2c8-63c4-45cd-8776-78fcc0d7ed28"
      },
      "execution_count": null,
      "outputs": [
        {
          "output_type": "execute_result",
          "data": {
            "text/plain": [
              "[90, 100]"
            ]
          },
          "metadata": {},
          "execution_count": 75
        }
      ]
    },
    {
      "cell_type": "code",
      "source": [
        "a[-8:5]"
      ],
      "metadata": {
        "colab": {
          "base_uri": "https://localhost:8080/"
        },
        "id": "9mhUo_nvpB_W",
        "outputId": "05c82afc-2011-4448-aeca-bdb2375e371f"
      },
      "execution_count": null,
      "outputs": [
        {
          "output_type": "execute_result",
          "data": {
            "text/plain": [
              "[30, 40, 50]"
            ]
          },
          "metadata": {},
          "execution_count": 76
        }
      ]
    },
    {
      "cell_type": "code",
      "source": [
        "a[-8:5:-1]"
      ],
      "metadata": {
        "colab": {
          "base_uri": "https://localhost:8080/"
        },
        "id": "3QOziApMpMVO",
        "outputId": "6cae2cda-6892-4025-b4dd-0e2059bf1464"
      },
      "execution_count": null,
      "outputs": [
        {
          "output_type": "execute_result",
          "data": {
            "text/plain": [
              "[]"
            ]
          },
          "metadata": {},
          "execution_count": 77
        }
      ]
    },
    {
      "cell_type": "code",
      "source": [
        "#Write a program that returns the list of elements that are present in the given list and are divisible by 5 and 7.\n",
        "b=[23, 34, 25, 35, 66, 70, 14]"
      ],
      "metadata": {
        "id": "LFE-85-3pamd"
      },
      "execution_count": null,
      "outputs": []
    },
    {
      "cell_type": "code",
      "source": [
        "ls=[]\n",
        "for i in range(len(b)):\n",
        "  if b[i]%5==0 and b[i]%7==0:\n",
        "    \n",
        "    print((b[i]))\n",
        "    ls.append(b[i])"
      ],
      "metadata": {
        "colab": {
          "base_uri": "https://localhost:8080/"
        },
        "id": "Rth1hdJ9uFGS",
        "outputId": "2701ca74-a848-4afc-85c2-73e5cffe86fd"
      },
      "execution_count": null,
      "outputs": [
        {
          "output_type": "stream",
          "name": "stdout",
          "text": [
            "35\n",
            "70\n"
          ]
        }
      ]
    },
    {
      "cell_type": "code",
      "source": [
        "ls"
      ],
      "metadata": {
        "colab": {
          "base_uri": "https://localhost:8080/"
        },
        "id": "DUaUaU5NufIh",
        "outputId": "c96e9e86-1295-429d-b4e2-3cc8bce870d9"
      },
      "execution_count": null,
      "outputs": [
        {
          "output_type": "execute_result",
          "data": {
            "text/plain": [
              "[35, 70]"
            ]
          },
          "metadata": {},
          "execution_count": 86
        }
      ]
    },
    {
      "cell_type": "code",
      "source": [
        "def divisible(b):\n",
        "    ''' input:lst-List of elements in integer format\n",
        "         output:Return the list of elements divisible by 5 and 7'''\n",
        "    \n",
        "    elements=[]\n",
        "    for i in range(len(b)):\n",
        "        if b[i]%5==0 and b[i]%7==0:\n",
        "            # print((b[i]))\n",
        "            elements.append(b[i])\n",
        "    return elements"
      ],
      "metadata": {
        "id": "ZVtKPi9BvVl8"
      },
      "execution_count": null,
      "outputs": []
    },
    {
      "cell_type": "code",
      "source": [
        "divisible(b)"
      ],
      "metadata": {
        "colab": {
          "base_uri": "https://localhost:8080/"
        },
        "id": "8Bvve-X5v2PY",
        "outputId": "b34296fd-35ec-45a8-c134-24a738f6d8cf"
      },
      "execution_count": null,
      "outputs": [
        {
          "output_type": "execute_result",
          "data": {
            "text/plain": [
              "[35, 70]"
            ]
          },
          "metadata": {},
          "execution_count": 88
        }
      ]
    },
    {
      "cell_type": "code",
      "source": [
        "#You are given an integer array A. You have to find the second largest element/value in the array or report that no such element exists\n",
        "A = [2, 1, 2] "
      ],
      "metadata": {
        "id": "ZtHkjXXnv5pP"
      },
      "execution_count": null,
      "outputs": []
    },
    {
      "cell_type": "code",
      "source": [
        "def solve(A):\n",
        "  # for i in range(len(A)):\n",
        "  if len(A)<=1:\n",
        "    return -1\n",
        "  else:\n",
        "    max1= A[0]\n",
        "    for i in range(1,len(A)):\n",
        "      if A[i]>=max1:\n",
        "        max1=A[i]\n",
        "      else:\n",
        "        return A[i]\n",
        "\n",
        "    "
      ],
      "metadata": {
        "id": "0g9EN-scwJaW"
      },
      "execution_count": null,
      "outputs": []
    },
    {
      "cell_type": "code",
      "source": [
        "solve(A)"
      ],
      "metadata": {
        "colab": {
          "base_uri": "https://localhost:8080/"
        },
        "id": "WsUL0abPyJ5R",
        "outputId": "8d0ca486-44ed-4632-a02c-9e1fa07c0e4c"
      },
      "execution_count": null,
      "outputs": [
        {
          "output_type": "execute_result",
          "data": {
            "text/plain": [
              "1"
            ]
          },
          "metadata": {},
          "execution_count": 99
        }
      ]
    },
    {
      "cell_type": "code",
      "source": [
        "#Given an array A, find the difference between the maximum and minimum element of the array. \n",
        "#Return the difference between the maximum and minimum element of the array."
      ],
      "metadata": {
        "id": "53SKLXE_yOIY"
      },
      "execution_count": null,
      "outputs": []
    },
    {
      "cell_type": "code",
      "source": [
        "A = [1, 9, 10, 3]"
      ],
      "metadata": {
        "id": "dvIt68dwzVBB"
      },
      "execution_count": null,
      "outputs": []
    },
    {
      "cell_type": "code",
      "source": [
        "max(A)-min(A)"
      ],
      "metadata": {
        "colab": {
          "base_uri": "https://localhost:8080/"
        },
        "id": "i0hBYe77za8J",
        "outputId": "ea261142-1325-41ba-82c7-7bf7bece9489"
      },
      "execution_count": null,
      "outputs": [
        {
          "output_type": "execute_result",
          "data": {
            "text/plain": [
              "9"
            ]
          },
          "metadata": {},
          "execution_count": 104
        }
      ]
    },
    {
      "cell_type": "code",
      "source": [
        "players = ['Jadeja','Rahul','Rohit']"
      ],
      "metadata": {
        "id": "xEs5Wkd9zgyb"
      },
      "execution_count": null,
      "outputs": []
    },
    {
      "cell_type": "code",
      "source": [
        "players[-1:] = ['Dhoni', 'Virat']"
      ],
      "metadata": {
        "id": "DQf6wWBTz89b"
      },
      "execution_count": null,
      "outputs": []
    },
    {
      "cell_type": "code",
      "source": [
        "players"
      ],
      "metadata": {
        "colab": {
          "base_uri": "https://localhost:8080/"
        },
        "id": "s6L__TEV0BD1",
        "outputId": "0c8f952b-6b64-41a9-d48c-7e5fe9601c61"
      },
      "execution_count": null,
      "outputs": [
        {
          "output_type": "execute_result",
          "data": {
            "text/plain": [
              "['Jadeja', 'Rahul', 'Dhoni', 'Virat']"
            ]
          },
          "metadata": {},
          "execution_count": 107
        }
      ]
    },
    {
      "cell_type": "code",
      "source": [
        "players1 = ['Jadeja','Rahul','Rohit']\n",
        "players1+=['Dhoni', 'Virat']\n"
      ],
      "metadata": {
        "id": "XtUdCXAG0C_H"
      },
      "execution_count": null,
      "outputs": []
    },
    {
      "cell_type": "code",
      "source": [
        "players1"
      ],
      "metadata": {
        "colab": {
          "base_uri": "https://localhost:8080/"
        },
        "id": "VKZS4fmn0GeK",
        "outputId": "1933e08b-c585-4911-b7e2-c66ba36027f9"
      },
      "execution_count": null,
      "outputs": [
        {
          "output_type": "execute_result",
          "data": {
            "text/plain": [
              "['Jadeja', 'Rahul', 'Rohit', 'Dhoni', 'Virat']"
            ]
          },
          "metadata": {},
          "execution_count": 110
        }
      ]
    },
    {
      "cell_type": "code",
      "source": [
        "players2 = ['Jadeja','Rahul','Rohit']\n",
        "players2+='Dhoni Virat'"
      ],
      "metadata": {
        "id": "VUnYcBAq0QdI"
      },
      "execution_count": null,
      "outputs": []
    },
    {
      "cell_type": "code",
      "source": [
        "players2"
      ],
      "metadata": {
        "colab": {
          "base_uri": "https://localhost:8080/"
        },
        "id": "ZKNssyt-0f0q",
        "outputId": "e37fdeee-5e27-40fb-a12b-6e4c5d9dd21d"
      },
      "execution_count": null,
      "outputs": [
        {
          "output_type": "execute_result",
          "data": {
            "text/plain": [
              "['Jadeja',\n",
              " 'Rahul',\n",
              " 'Rohit',\n",
              " 'D',\n",
              " 'h',\n",
              " 'o',\n",
              " 'n',\n",
              " 'i',\n",
              " ' ',\n",
              " 'V',\n",
              " 'i',\n",
              " 'r',\n",
              " 'a',\n",
              " 't']"
            ]
          },
          "metadata": {},
          "execution_count": 112
        }
      ]
    },
    {
      "cell_type": "code",
      "source": [
        "players3 = ['Jadeja','Rahul','Rohit']\n",
        "players3[len(players):] = ['Dhoni', 'Virat']"
      ],
      "metadata": {
        "id": "ltq6E4CA0gdx"
      },
      "execution_count": null,
      "outputs": []
    },
    {
      "cell_type": "code",
      "source": [
        "players3"
      ],
      "metadata": {
        "colab": {
          "base_uri": "https://localhost:8080/"
        },
        "id": "Qwhc_3Xw0rqC",
        "outputId": "6a073712-1965-48f7-d34d-09c7aa7aa14e"
      },
      "execution_count": null,
      "outputs": [
        {
          "output_type": "execute_result",
          "data": {
            "text/plain": [
              "['Jadeja', 'Rahul', 'Rohit', 'Dhoni', 'Virat']"
            ]
          },
          "metadata": {},
          "execution_count": 114
        }
      ]
    },
    {
      "cell_type": "code",
      "source": [
        "d=[1, 3, 4, 4, 3, 1, 2, 3, 2]"
      ],
      "metadata": {
        "id": "SJU78TBx0tH7"
      },
      "execution_count": null,
      "outputs": []
    },
    {
      "cell_type": "code",
      "source": [
        "d[:3]"
      ],
      "metadata": {
        "colab": {
          "base_uri": "https://localhost:8080/"
        },
        "id": "O7JP_wUs1Wzm",
        "outputId": "b6df777a-df38-4f7a-b84f-0323b3239ba7"
      },
      "execution_count": null,
      "outputs": [
        {
          "output_type": "execute_result",
          "data": {
            "text/plain": [
              "[1, 3, 4]"
            ]
          },
          "metadata": {},
          "execution_count": 116
        }
      ]
    },
    {
      "cell_type": "code",
      "source": [
        "#Given a sorted integer array A, and an integer B. Find the first and last index of B in A.\n",
        "#It is guaranteed that B exists in A. Return an array C of size 2, where C[0] is the first index of B in A and C[1] is the last index of B in A.\n"
      ],
      "metadata": {
        "id": "C-v2bBY31Ymn"
      },
      "execution_count": null,
      "outputs": []
    },
    {
      "cell_type": "code",
      "source": [
        "A = [-2, -2, 4, 4, 8, 9]"
      ],
      "metadata": {
        "id": "abl3GDc0ToZ8"
      },
      "execution_count": null,
      "outputs": []
    },
    {
      "cell_type": "code",
      "source": [
        "B=4\n",
        "c=[]\n",
        "for i in range(len(A)):\n",
        "  if A[i]==4:\n",
        "    # print(i)\n",
        "    c.append(i)\n",
        "  \n",
        "c"
      ],
      "metadata": {
        "colab": {
          "base_uri": "https://localhost:8080/"
        },
        "id": "YBTbZW4tTpMZ",
        "outputId": "4e0837fe-b8b8-4e39-99de-2e1346bb4117"
      },
      "execution_count": null,
      "outputs": [
        {
          "output_type": "execute_result",
          "data": {
            "text/plain": [
              "[2, 3]"
            ]
          },
          "metadata": {},
          "execution_count": 8
        }
      ]
    },
    {
      "cell_type": "code",
      "source": [
        "A = [1, 9, 9, 9, 10, 21]\n",
        "\n",
        "def solve(A):\n",
        "  B= int(input())\n",
        "  \n",
        "  C= []\n",
        "  X= []\n",
        "  for i in range(len(A)):\n",
        "    if A[i]==B:\n",
        "      C.append(i)\n",
        "  first = C[0]\n",
        "  last= C[len(C)-1]\n",
        "  X= [first] + [last] \n",
        "  return X\n",
        "  \n",
        "\n"
      ],
      "metadata": {
        "id": "LugjTqH2UZJ7"
      },
      "execution_count": 123,
      "outputs": []
    },
    {
      "cell_type": "code",
      "source": [
        "solve(A)"
      ],
      "metadata": {
        "colab": {
          "base_uri": "https://localhost:8080/"
        },
        "id": "ZMkgD1JyVw6Q",
        "outputId": "a2c86b92-3e22-40e3-9bd4-66c3595759ba"
      },
      "execution_count": 124,
      "outputs": [
        {
          "name": "stdout",
          "output_type": "stream",
          "text": [
            "9\n"
          ]
        },
        {
          "output_type": "execute_result",
          "data": {
            "text/plain": [
              "[1, 3]"
            ]
          },
          "metadata": {},
          "execution_count": 124
        }
      ]
    },
    {
      "cell_type": "code",
      "source": [
        "#Given a sorted integer array A and an integer B. Find the ceil and floor of B in the array A.\n",
        "# A = [-2, 4, 8, 9]\n",
        "# B = 0\n",
        "# Just greater or equal element than 0 in A is 4 and\n",
        "# just smaller or equal element than 0 is A is -2.\n",
        "# C =  [4, -2]\n",
        "\n",
        "# A = [1, 9, 21]\n",
        "# B = 9\n",
        "# Ceil and floor of 9 will be 9 itself as 9 is present in the array.\n",
        "# C=[9, 9]\n"
      ],
      "metadata": {
        "id": "rktK1wkRVzAn"
      },
      "execution_count": null,
      "outputs": []
    },
    {
      "cell_type": "code",
      "source": [
        "C=[]\n",
        "for i in range(len(A)):\n",
        "  B=int(input())\n",
        "  if A[i]>B:\n"
      ],
      "metadata": {
        "id": "9k-RsE62aAtV"
      },
      "execution_count": null,
      "outputs": []
    },
    {
      "cell_type": "code",
      "source": [
        "def solve(A, B):\n",
        "  ans = []\n",
        "  if B<=min(A):\n",
        "    return min(A)\n",
        "  elif B>=max(A):\n",
        "    return \n",
        "\n"
      ],
      "metadata": {
        "id": "keskmClzccQ3"
      },
      "execution_count": null,
      "outputs": []
    },
    {
      "cell_type": "code",
      "source": [
        "A = [-2, 4, 8, 9]\n",
        "B = 0"
      ],
      "metadata": {
        "id": "fIVtJKBUcdWw"
      },
      "execution_count": null,
      "outputs": []
    },
    {
      "cell_type": "code",
      "source": [
        "# Since the list is sorted, we can find the floor by simply iterating over all the elements less than or equal to B.\n",
        "# The last element we encounter that is less than or equal to B would be its floor.\n",
        "# The first element we encounter in the sorted list, that is greater than or equal to B would be its ceiling value. \n",
        "# You can break the loop as soon as you find a value >= B."
      ],
      "metadata": {
        "colab": {
          "base_uri": "https://localhost:8080/"
        },
        "id": "WeomLaB0cxDp",
        "outputId": "b7eddce0-efa7-4a46-8806-f30814afc06c"
      },
      "execution_count": null,
      "outputs": [
        {
          "output_type": "execute_result",
          "data": {
            "text/plain": [
              "[-1, -2]"
            ]
          },
          "metadata": {},
          "execution_count": 9
        }
      ]
    },
    {
      "cell_type": "code",
      "source": [
        "# A = [-2, 4, 8, 9]\n",
        "# B = 0\n",
        "A = [1, 9, 21]\n",
        "B = 9\n",
        "\n",
        "def sol(A, B):\n",
        "    C = []\n",
        "    floor=0\n",
        "    ceil=0\n",
        "    for i in A:\n",
        "      if i < B:\n",
        "        floor+= i\n",
        "      if i > B:\n",
        "        ceil+= i\n",
        "      # if i==B:\n",
        "      #   floor=B\n",
        "      #   ceil=B\n",
        "        break\n",
        "      C.append(floor)\n",
        "      C.append(ceil)\n",
        "    return C"
      ],
      "metadata": {
        "id": "7xXlzGxjczz6"
      },
      "execution_count": null,
      "outputs": []
    },
    {
      "cell_type": "code",
      "source": [
        "sol(A,B)"
      ],
      "metadata": {
        "colab": {
          "base_uri": "https://localhost:8080/"
        },
        "id": "7KoTfh_Pgpu5",
        "outputId": "15efdf17-96d9-4a99-9209-380202cf0c05"
      },
      "execution_count": null,
      "outputs": [
        {
          "output_type": "execute_result",
          "data": {
            "text/plain": [
              "[1, 0, 1, 0]"
            ]
          },
          "metadata": {},
          "execution_count": 71
        }
      ]
    },
    {
      "cell_type": "code",
      "source": [
        "#Given an integer array A,\n",
        "# find the inverse of the array A and return it. \n",
        "# All the elements of the given array are distinct and elements of the array lie in the range [0, |A|)."
      ],
      "metadata": {
        "id": "XBXSE0dBhCJt"
      },
      "execution_count": null,
      "outputs": []
    },
    {
      "cell_type": "code",
      "source": [
        "A = [3, 1, 0, 2]\n",
        "def solve(A):\n",
        "  new_ls=A[::-1]\n",
        "  return new_ls"
      ],
      "metadata": {
        "id": "JD6jZkScmW9G"
      },
      "execution_count": null,
      "outputs": []
    },
    {
      "cell_type": "code",
      "source": [
        "solve(A)"
      ],
      "metadata": {
        "colab": {
          "base_uri": "https://localhost:8080/"
        },
        "id": "9iVtt8jJmaqV",
        "outputId": "1883a331-d7c8-49cc-8f0e-31a9bb8a7fe5"
      },
      "execution_count": null,
      "outputs": [
        {
          "output_type": "execute_result",
          "data": {
            "text/plain": [
              "[2, 0, 1, 3]"
            ]
          },
          "metadata": {},
          "execution_count": 49
        }
      ]
    },
    {
      "cell_type": "code",
      "source": [
        "#Given an integer array A,\n",
        "# find the inverse of the array A and return it. \n",
        "# All the elements of the given array are distinct and elements of the array lie in the range [0, |A|).\n",
        "#Let's say we have an array A = [2, 0, 1], the inverse of A would be [1, 2, 0].\n",
        "\n",
        "# Since 2 is at index 0 in A, we shift the element 2 to the index of element 0 in the original list A.\n",
        "# Since 0 is at index 1 in A, we shift the element 0 to the index of element 1 in the original list A.\n",
        "# Since 1 is at index 2 in A, we shift the element 1 to the index of element 2 in the original list A.\n",
        "# This gives us the inverse of the list which is [1, 2, 0]"
      ],
      "metadata": {
        "id": "QlYCvMcgoCl2"
      },
      "execution_count": null,
      "outputs": []
    },
    {
      "cell_type": "code",
      "source": [
        "A = [3, 1, 0, 2]\n",
        "def solve(A):\n",
        "  C=[0]*len(A)\n",
        "  for i in range(len(A)):\n",
        "    C[A[i]]=i\n",
        "  return C\n"
      ],
      "metadata": {
        "id": "-yo1DMFao1Ku"
      },
      "execution_count": 1,
      "outputs": []
    },
    {
      "cell_type": "code",
      "source": [
        "solve(A)"
      ],
      "metadata": {
        "colab": {
          "base_uri": "https://localhost:8080/"
        },
        "id": "fO1fv-Aiq07F",
        "outputId": "685998bf-0d90-45bf-9a0f-9f9e2f873628"
      },
      "execution_count": 2,
      "outputs": [
        {
          "output_type": "execute_result",
          "data": {
            "text/plain": [
              "[2, 1, 3, 0]"
            ]
          },
          "metadata": {},
          "execution_count": 2
        }
      ]
    },
    {
      "cell_type": "code",
      "source": [
        "list1=[2,12,45,6,8,32,17]\n",
        "for i in list1:\n",
        "  if(i==6):\n",
        "    print('Element exists')"
      ],
      "metadata": {
        "colab": {
          "base_uri": "https://localhost:8080/"
        },
        "id": "D7EywlKKq2r5",
        "outputId": "ee81100a-3f8f-4c48-b5b2-caed59d84648"
      },
      "execution_count": null,
      "outputs": [
        {
          "output_type": "stream",
          "name": "stdout",
          "text": [
            "Element exists\n"
          ]
        }
      ]
    },
    {
      "cell_type": "code",
      "source": [
        "if (6 in list1):\n",
        "  print('Element exists')"
      ],
      "metadata": {
        "colab": {
          "base_uri": "https://localhost:8080/"
        },
        "id": "YvZeIlAM9Drh",
        "outputId": "da10d773-dd45-410d-85ec-6b6d761315ec"
      },
      "execution_count": null,
      "outputs": [
        {
          "output_type": "stream",
          "name": "stdout",
          "text": [
            "Element exists\n"
          ]
        }
      ]
    },
    {
      "cell_type": "code",
      "source": [
        "#sort a list without using sort function"
      ],
      "metadata": {
        "id": "SKjwSQY49IjR"
      },
      "execution_count": null,
      "outputs": []
    },
    {
      "cell_type": "code",
      "source": [
        "l=[1, 2, 1]\n",
        "def sol(l):\n",
        "  for i in range(len(l)):\n",
        "    for j in range(i + 1, len(l)):\n",
        "      if l[i] > l[j]:\n",
        "        l[i], l[j] = l[j], l[i]\n",
        "  return l"
      ],
      "metadata": {
        "id": "ca_d9mqZCNvV"
      },
      "execution_count": null,
      "outputs": []
    },
    {
      "cell_type": "code",
      "source": [
        "sol(l)"
      ],
      "metadata": {
        "colab": {
          "base_uri": "https://localhost:8080/"
        },
        "id": "KkxCrMDzCUjN",
        "outputId": "eccdf277-37e8-4d78-ac0c-b1f04e85298d"
      },
      "execution_count": null,
      "outputs": [
        {
          "output_type": "execute_result",
          "data": {
            "text/plain": [
              "[1, 1, 2]"
            ]
          },
          "metadata": {},
          "execution_count": 102
        }
      ]
    },
    {
      "cell_type": "code",
      "source": [
        "Aa=[1, 2, 3]"
      ],
      "metadata": {
        "id": "QlXg7aX5IqPd"
      },
      "execution_count": 107,
      "outputs": []
    },
    {
      "cell_type": "code",
      "source": [
        "Aa[:-1]"
      ],
      "metadata": {
        "colab": {
          "base_uri": "https://localhost:8080/"
        },
        "id": "WoU9PJEJUphp",
        "outputId": "b6db36ff-a2a7-431b-c475-4970e17aabdb"
      },
      "execution_count": 108,
      "outputs": [
        {
          "output_type": "execute_result",
          "data": {
            "text/plain": [
              "[1, 2]"
            ]
          },
          "metadata": {},
          "execution_count": 108
        }
      ]
    },
    {
      "cell_type": "code",
      "source": [
        "A = [1, 2, 3, 4, 5, 6, 7, 8, 9, 10]\n",
        "\n",
        "#rotate the given list by one element \n",
        "\n",
        "\n",
        "# we can concatenate two lists by simply adding them as below \n",
        "[1,2]+[3,4]"
      ],
      "metadata": {
        "colab": {
          "base_uri": "https://localhost:8080/"
        },
        "id": "d1H1OawnUyNU",
        "outputId": "2cb24654-f9de-4ce5-b226-b2070335a33b"
      },
      "execution_count": 9,
      "outputs": [
        {
          "output_type": "execute_result",
          "data": {
            "text/plain": [
              "[1, 2, 3, 4]"
            ]
          },
          "metadata": {},
          "execution_count": 9
        }
      ]
    },
    {
      "cell_type": "code",
      "source": [
        "def solution1(A):\n",
        "  last_element= A[len(A)-1]  #last elemet can also be written as last_element= -1\n",
        "  remaining_elements = A[:len(A)-1]\n",
        "  return [last_element] + remaining_elements\n"
      ],
      "metadata": {
        "id": "w3oc_6fTECq3"
      },
      "execution_count": 21,
      "outputs": []
    },
    {
      "cell_type": "code",
      "source": [
        "solution1(A)"
      ],
      "metadata": {
        "colab": {
          "base_uri": "https://localhost:8080/"
        },
        "id": "-kH1whhmFEBe",
        "outputId": "a1936ff4-fa6f-4f2f-abe8-5c19c9f6c1c1"
      },
      "execution_count": 22,
      "outputs": [
        {
          "output_type": "execute_result",
          "data": {
            "text/plain": [
              "[10, 1, 2, 3, 4, 5, 6, 7, 8, 9]"
            ]
          },
          "metadata": {},
          "execution_count": 22
        }
      ]
    },
    {
      "cell_type": "code",
      "source": [
        "def solution2(A):\n",
        "  remaining_elements = A[:len(A)-1]\n",
        "  last = A.pop() #by default it pops the last number in the list\n",
        "  return [last] + remaining_elements\n"
      ],
      "metadata": {
        "id": "_8BweyiwGLOd"
      },
      "execution_count": 38,
      "outputs": []
    },
    {
      "cell_type": "code",
      "source": [
        "\n",
        "A = [1, 2, 3, 4, 5, 6, 7, 8, 9, 10]\n",
        "solution2(A)"
      ],
      "metadata": {
        "colab": {
          "base_uri": "https://localhost:8080/"
        },
        "id": "yFich6o-HuuW",
        "outputId": "9a1997ef-9f42-4a55-8978-740216a62e31"
      },
      "execution_count": 39,
      "outputs": [
        {
          "output_type": "execute_result",
          "data": {
            "text/plain": [
              "[10, 1, 2, 3, 4, 5, 6, 7, 8, 9]"
            ]
          },
          "metadata": {},
          "execution_count": 39
        }
      ]
    },
    {
      "cell_type": "code",
      "source": [
        "def solution3(A):\n",
        "  last_element = A.pop()\n",
        "  A.insert(0,last_element) #inserts an element of choice at a  given index\n",
        "  return A"
      ],
      "metadata": {
        "id": "pmmHLeI3H4Yh"
      },
      "execution_count": 51,
      "outputs": []
    },
    {
      "cell_type": "code",
      "source": [
        "A = [1, 2, 3, 4, 5, 6, 7, 8, 9, 10]\n",
        "solution3(A)"
      ],
      "metadata": {
        "colab": {
          "base_uri": "https://localhost:8080/"
        },
        "id": "vqrUcC4RJst2",
        "outputId": "2edeeda9-1493-47f1-987f-b2113da29452"
      },
      "execution_count": 50,
      "outputs": [
        {
          "output_type": "execute_result",
          "data": {
            "text/plain": [
              "[10, 1, 2, 3, 4, 5, 6, 7, 8, 9]"
            ]
          },
          "metadata": {},
          "execution_count": 50
        }
      ]
    },
    {
      "cell_type": "code",
      "source": [
        "A = [1, 2, 3, 4, 5, 6, 7, 8, 9, 10]\n",
        "A.index(10)"
      ],
      "metadata": {
        "colab": {
          "base_uri": "https://localhost:8080/"
        },
        "id": "rDZQWgtMJwan",
        "outputId": "1ca67c09-874b-4f83-af7f-2a47cd6eb8e8"
      },
      "execution_count": 126,
      "outputs": [
        {
          "output_type": "execute_result",
          "data": {
            "text/plain": [
              "9"
            ]
          },
          "metadata": {},
          "execution_count": 126
        }
      ]
    },
    {
      "cell_type": "code",
      "source": [
        "B= [12,12,34,34,56,5,6]\n",
        "B.count(12)"
      ],
      "metadata": {
        "colab": {
          "base_uri": "https://localhost:8080/"
        },
        "id": "vOKlZJI4KOu5",
        "outputId": "0acb5aa4-ddb0-43ac-b765-d22c31106f1d"
      },
      "execution_count": 127,
      "outputs": [
        {
          "output_type": "execute_result",
          "data": {
            "text/plain": [
              "2"
            ]
          },
          "metadata": {},
          "execution_count": 127
        }
      ]
    },
    {
      "cell_type": "code",
      "source": [
        "# reverse without using reverse \n",
        "A[::-1]"
      ],
      "metadata": {
        "colab": {
          "base_uri": "https://localhost:8080/"
        },
        "id": "PCZaEmF4YrT_",
        "outputId": "3d1db6bb-20a6-4137-d7e6-76865e01b416"
      },
      "execution_count": 128,
      "outputs": [
        {
          "output_type": "execute_result",
          "data": {
            "text/plain": [
              "[10, 9, 8, 7, 6, 5, 4, 3, 2, 1]"
            ]
          },
          "metadata": {},
          "execution_count": 128
        }
      ]
    },
    {
      "cell_type": "code",
      "source": [
        "B.remove(34) #removes first occurence of the element"
      ],
      "metadata": {
        "id": "B3hBqtcwZOTB"
      },
      "execution_count": 131,
      "outputs": []
    },
    {
      "cell_type": "code",
      "source": [
        "B"
      ],
      "metadata": {
        "colab": {
          "base_uri": "https://localhost:8080/"
        },
        "id": "O0FqtiUpZSHC",
        "outputId": "3d05175d-9bc0-4738-b9a7-731b8de21d1c"
      },
      "execution_count": 132,
      "outputs": [
        {
          "output_type": "execute_result",
          "data": {
            "text/plain": [
              "[12, 12, 34, 56, 5, 6]"
            ]
          },
          "metadata": {},
          "execution_count": 132
        }
      ]
    },
    {
      "cell_type": "code",
      "source": [
        "B.pop() #removes the last value by default and returns the popped value"
      ],
      "metadata": {
        "colab": {
          "base_uri": "https://localhost:8080/"
        },
        "id": "YYk04UiaZnvR",
        "outputId": "25099aba-a9aa-4c7e-c7a6-c126fd28391a"
      },
      "execution_count": 133,
      "outputs": [
        {
          "output_type": "execute_result",
          "data": {
            "text/plain": [
              "6"
            ]
          },
          "metadata": {},
          "execution_count": 133
        }
      ]
    },
    {
      "cell_type": "code",
      "source": [],
      "metadata": {
        "id": "C6B4MoBtau6K"
      },
      "execution_count": null,
      "outputs": []
    }
  ]
}