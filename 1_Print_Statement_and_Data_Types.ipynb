{
  "cells": [
    {
      "cell_type": "markdown",
      "metadata": {
        "id": "view-in-github",
        "colab_type": "text"
      },
      "source": [
        "<a href=\"https://colab.research.google.com/github/dmish10/Scaler_Homework/blob/master/1_Print_Statement_and_Data_Types.ipynb\" target=\"_parent\"><img src=\"https://colab.research.google.com/assets/colab-badge.svg\" alt=\"Open In Colab\"/></a>"
      ]
    },
    {
      "cell_type": "code",
      "execution_count": null,
      "id": "f8e55fe0",
      "metadata": {
        "id": "f8e55fe0",
        "outputId": "7a684bbd-ba47-49ac-dfcc-63c5cc07a6f4"
      },
      "outputs": [
        {
          "name": "stdout",
          "output_type": "stream",
          "text": [
            "I LOVE YOU ALL 3000!\n"
          ]
        }
      ],
      "source": [
        "print(\"I LOVE YOU ALL 3000!\")"
      ]
    },
    {
      "cell_type": "code",
      "execution_count": null,
      "id": "d117bc1b",
      "metadata": {
        "id": "d117bc1b",
        "outputId": "fc9b79fe-0a4e-4ce1-d6a3-a7fb7b86d237"
      },
      "outputs": [
        {
          "name": "stdout",
          "output_type": "stream",
          "text": [
            "10\n"
          ]
        }
      ],
      "source": [
        "print(10)"
      ]
    },
    {
      "cell_type": "code",
      "execution_count": null,
      "id": "b5993077",
      "metadata": {
        "id": "b5993077",
        "outputId": "da8bb6b1-1ed2-4aad-ed5f-0d2b0efc6a8e"
      },
      "outputs": [
        {
          "name": "stdout",
          "output_type": "stream",
          "text": [
            "20\n"
          ]
        }
      ],
      "source": [
        "print(10 + 10)"
      ]
    },
    {
      "cell_type": "code",
      "execution_count": null,
      "id": "40e3a58d",
      "metadata": {
        "id": "40e3a58d",
        "outputId": "a6593f18-1a6a-4463-c36f-73cb16cf8cb4"
      },
      "outputs": [
        {
          "name": "stdout",
          "output_type": "stream",
          "text": [
            "10 + 10\n"
          ]
        }
      ],
      "source": [
        "print(\"10 + 10\")"
      ]
    },
    {
      "cell_type": "code",
      "execution_count": null,
      "id": "51e75001",
      "metadata": {
        "colab": {
          "base_uri": "https://localhost:8080/"
        },
        "id": "51e75001",
        "outputId": "8a2c484a-d5f6-4fd0-ba42-6c69891c8d48"
      },
      "outputs": [
        {
          "output_type": "stream",
          "name": "stdout",
          "text": [
            "1 3 5 7 "
          ]
        }
      ],
      "source": [
        "# \"\"\"Hello\n",
        "# World !\"\"\"\n",
        "\n",
        "# print(\"Hello\\n World !\")\n",
        "\n",
        "for i in range(100):\n",
        "    if i<=7 and i%2!=0:\n",
        "        print(i, end=\" \")"
      ]
    },
    {
      "cell_type": "code",
      "source": [
        "# add= 6+3\n",
        "# sub= 6-3\n",
        "# mul= 6*3\n",
        "# div= 6//3\n",
        "\n",
        "for i in range(100):\n",
        "    if i%2==0:\n",
        "        if(i<=10 and i!=0):\n",
        "            print(i, end=\" \")\n",
        "\n"
      ],
      "metadata": {
        "colab": {
          "base_uri": "https://localhost:8080/"
        },
        "id": "HaWY6PySRtZ5",
        "outputId": "4201c39e-b725-4bcd-b7f2-d76df914a20c"
      },
      "id": "HaWY6PySRtZ5",
      "execution_count": null,
      "outputs": [
        {
          "output_type": "stream",
          "name": "stdout",
          "text": [
            "2 4 6 8 10 "
          ]
        }
      ]
    },
    {
      "cell_type": "code",
      "source": [
        "N= int(input(\"Actual time = \"))\n",
        "T= int(input(\"time to bake= \"))\n",
        "S= N-T\n",
        "print(S)"
      ],
      "metadata": {
        "colab": {
          "base_uri": "https://localhost:8080/"
        },
        "id": "hQTgHsAsVM_g",
        "outputId": "723ada03-a9b6-402f-a053-7206670d9e65"
      },
      "id": "hQTgHsAsVM_g",
      "execution_count": null,
      "outputs": [
        {
          "output_type": "stream",
          "name": "stdout",
          "text": [
            "Actual time = 40\n",
            "time to bake= 30\n",
            "10\n"
          ]
        }
      ]
    },
    {
      "cell_type": "code",
      "execution_count": null,
      "id": "805a7dc0",
      "metadata": {
        "colab": {
          "base_uri": "https://localhost:8080/"
        },
        "id": "805a7dc0",
        "outputId": "d536dc24-05a0-4ed8-a7ab-b7934367ce6d"
      },
      "outputs": [
        {
          "output_type": "stream",
          "name": "stdout",
          "text": [
            "5.25\n"
          ]
        }
      ],
      "source": [
        "x = 20\n",
        "y = 5\n",
        "result = (x + True) / (4 - y * False)\n",
        "print(result)\n",
        "\n"
      ]
    },
    {
      "cell_type": "code",
      "source": [
        "\n",
        "a=1\n",
        "i=2\n",
        "\n",
        "while a<=21:\n",
        "    print( a**2)\n",
        "    a+=i\n",
        "    i+=1\n",
        "\n",
        "# a = 1\n",
        "# b = 2\n",
        "# while b<=21:\n",
        "#   print(b**2)\n",
        "#   a+=b\n",
        "#   b+=1  \n"
      ],
      "metadata": {
        "colab": {
          "base_uri": "https://localhost:8080/"
        },
        "id": "SoIJ-PvPwQqd",
        "outputId": "b849703c-ba30-491a-9b97-a8cb38ea3dad"
      },
      "id": "SoIJ-PvPwQqd",
      "execution_count": null,
      "outputs": [
        {
          "output_type": "stream",
          "name": "stdout",
          "text": [
            "1\n",
            "9\n",
            "36\n",
            "100\n",
            "225\n",
            "441\n"
          ]
        }
      ]
    },
    {
      "cell_type": "code",
      "source": [
        "#print multiplication table for teste case inputs\n",
        "\n",
        "T= int(input())\n",
        "t=1\n",
        "while t<=T:\n",
        "  \n",
        "  n= int(input())\n",
        "  for i in range (1,11):\n",
        "    print(n,\"*\",i,\"=\",n*i, end=\",\")\n",
        "    i+=1\n",
        "  t+=1\n",
        "  \n",
        "  "
      ],
      "metadata": {
        "colab": {
          "base_uri": "https://localhost:8080/"
        },
        "id": "wnIgzHT2apsS",
        "outputId": "0c615194-a811-47e2-ee5c-42f468210911"
      },
      "id": "wnIgzHT2apsS",
      "execution_count": null,
      "outputs": [
        {
          "output_type": "stream",
          "name": "stdout",
          "text": [
            "1\n",
            "2\n",
            "2 * 1 = 2,2 * 2 = 4,2 * 3 = 6,2 * 4 = 8,2 * 5 = 10,2 * 6 = 12,2 * 7 = 14,2 * 8 = 16,2 * 9 = 18,2 * 10 = 20,"
          ]
        }
      ]
    },
    {
      "cell_type": "code",
      "source": [
        "#print multiplication table for teste case inputs using for loop\n",
        "T= int(input())\n",
        "\n",
        "for c in range (T):\n",
        "  n=int(input())\n",
        "  for i in range(1,11):\n",
        "    print(n*i, end=\" \")\n",
        "    i+=1\n"
      ],
      "metadata": {
        "colab": {
          "base_uri": "https://localhost:8080/"
        },
        "id": "CZbFyk-jeaUG",
        "outputId": "28903a4f-6fec-427e-dbd8-dfc2f9ee148a"
      },
      "id": "CZbFyk-jeaUG",
      "execution_count": null,
      "outputs": [
        {
          "output_type": "stream",
          "name": "stdout",
          "text": [
            "2\n",
            "3\n",
            "3 6 9 12 15 18 21 24 27 30 4\n",
            "4 8 12 16 20 24 28 32 36 40 "
          ]
        }
      ]
    },
    {
      "cell_type": "code",
      "source": [
        "num = int(input())\n",
        "if num > 1:\n",
        "   # check for factors\n",
        "   for i in range(2,num):\n",
        "       if (num % i) == 0:\n",
        "         print(num,\"is not a prime number\")\n",
        "         print(i,\"times\",num//i,\"is\",num)\n",
        "         break\n",
        "   else:\n",
        "     print(num,\"is a prime number\")\n",
        "       \n",
        "# if input number is less than\n",
        "# or equal to 1, it is not prime\n",
        "else:\n",
        "   print(num,\"is not a prime number\")"
      ],
      "metadata": {
        "colab": {
          "base_uri": "https://localhost:8080/"
        },
        "id": "GMDIbGkmJdEK",
        "outputId": "30be1a98-98f6-42fe-aeb1-8746205bad61"
      },
      "id": "GMDIbGkmJdEK",
      "execution_count": null,
      "outputs": [
        {
          "output_type": "stream",
          "name": "stdout",
          "text": [
            "23\n",
            "23 is a prime number\n"
          ]
        }
      ]
    },
    {
      "cell_type": "code",
      "source": [
        "A= int(input())\n",
        "\n",
        "if A > 1:\n",
        "  for i in range(2, A):\n",
        "    if A%i==0:\n",
        "      print(A, \"is not prime\")\n",
        "      print(i, \"times\", A//i, \"is\", A)\n",
        "      break\n",
        "  else:\n",
        "    print(A, \"is prime\")\n",
        "else:\n",
        "  print(A,\"is not prime\")"
      ],
      "metadata": {
        "colab": {
          "base_uri": "https://localhost:8080/"
        },
        "id": "Jx9COoX4XHyc",
        "outputId": "f7844024-c7ef-430a-acef-7b1eb73c8e6f"
      },
      "id": "Jx9COoX4XHyc",
      "execution_count": null,
      "outputs": [
        {
          "output_type": "stream",
          "name": "stdout",
          "text": [
            "22\n",
            "22 is not prime\n",
            "2 times 11 is 22\n"
          ]
        }
      ]
    },
    {
      "cell_type": "code",
      "source": [
        "n=8\n",
        "while n>=0:\n",
        "   n -= 2\n",
        "   if n%2==0:\n",
        "       continue\n",
        "   print(n, end=\" \")\n",
        "else:\n",
        "   print(\"Exec\", end=\" \")"
      ],
      "metadata": {
        "colab": {
          "base_uri": "https://localhost:8080/"
        },
        "id": "Oxr7DEO-bg73",
        "outputId": "5842b324-52f1-482f-dbf4-484cf98df03a"
      },
      "id": "Oxr7DEO-bg73",
      "execution_count": null,
      "outputs": [
        {
          "output_type": "stream",
          "name": "stdout",
          "text": [
            "Exec "
          ]
        }
      ]
    },
    {
      "cell_type": "code",
      "source": [
        "a=1\n",
        "i=2\n",
        "while a<=21:\n",
        "    print(a**2)\n",
        "    a+=i\n",
        "    i+=1"
      ],
      "metadata": {
        "colab": {
          "base_uri": "https://localhost:8080/"
        },
        "id": "jKwomBuVeDui",
        "outputId": "deca7b23-3761-4c56-fbbb-ed8a4159bfdd"
      },
      "id": "jKwomBuVeDui",
      "execution_count": null,
      "outputs": [
        {
          "output_type": "stream",
          "name": "stdout",
          "text": [
            "1\n",
            "9\n",
            "36\n",
            "100\n",
            "225\n",
            "441\n"
          ]
        }
      ]
    },
    {
      "cell_type": "code",
      "source": [
        "def prime(N):\n",
        "  if N>1:\n",
        "    for i in range(2,N+1):\n",
        "      if i<N:\n",
        "        if N%i==0:\n",
        "          return False\n",
        "  return True\n",
        "\n",
        "N= int(input())\n",
        "for i in range (2, N+1):\n",
        "  if(prime(i)):\n",
        "    print(i, end=\",\")\n",
        "\n",
        "\n",
        "    "
      ],
      "metadata": {
        "colab": {
          "base_uri": "https://localhost:8080/"
        },
        "id": "Nlm5m9CsjAGH",
        "outputId": "53fa63e2-1b49-441b-b40b-98e0b29cdf32"
      },
      "id": "Nlm5m9CsjAGH",
      "execution_count": null,
      "outputs": [
        {
          "output_type": "stream",
          "name": "stdout",
          "text": [
            "5\n",
            "2,3,5,"
          ]
        }
      ]
    },
    {
      "cell_type": "code",
      "source": [
        "def perfect(A):\n",
        "\n",
        "    sum=0\n",
        "    for i in range(1,A):\n",
        "        if A%i==0:\n",
        "          sum+=i\n",
        "    if sum==A:\n",
        "      return True\n",
        "A= int(input()) \n",
        "for i in range(1,A):\n",
        "  if perfect(i):\n",
        "    print(i)     "
      ],
      "metadata": {
        "colab": {
          "base_uri": "https://localhost:8080/"
        },
        "id": "GZ_m4KhEFyqN",
        "outputId": "09fb1a52-2214-4c05-ba3f-f822ac28dd83"
      },
      "id": "GZ_m4KhEFyqN",
      "execution_count": null,
      "outputs": [
        {
          "output_type": "stream",
          "name": "stdout",
          "text": [
            "8\n",
            "6\n"
          ]
        }
      ]
    },
    {
      "cell_type": "code",
      "source": [],
      "metadata": {
        "id": "utvLO2LaZ2er"
      },
      "id": "utvLO2LaZ2er",
      "execution_count": null,
      "outputs": []
    },
    {
      "cell_type": "code",
      "source": [
        "N= int(input())\n",
        "A=1\n",
        "while A<=N:\n",
        "  n = int(input(\"Enter any number: \"))\n",
        "  sum1 = 0\n",
        "  for i in range(1, n):\n",
        "    if(n % i == 0):\n",
        "      sum1 = sum1 + i\n",
        "  if (sum1 == n):\n",
        "    print(\"The number is a Perfect number!\")\n",
        "  else:\n",
        "    print(\"The number is not a Perfect number!\")\n",
        "  A+=1\n",
        "\n",
        "# N= int(input())\n",
        "# n=1\n",
        "\n",
        "# while n<=N:\n",
        "#     A= int(input())\n",
        "#     sum=0\n",
        "#     for i in range(1,A):\n",
        "#         if A%i==0:\n",
        "#             sum+=i\n",
        "            \n",
        "#     if sum==A:\n",
        "#         print(A, \"is perfect\")\n",
        "#     else:\n",
        "#         print(A, \"is not perfect\")\n",
        "#     n+=1\n",
        " \n",
        "  \n"
      ],
      "metadata": {
        "colab": {
          "base_uri": "https://localhost:8080/"
        },
        "id": "IrsZ0m3XqkIX",
        "outputId": "2b35ba5c-f9b0-4361-b699-652f1a3fac3a"
      },
      "id": "IrsZ0m3XqkIX",
      "execution_count": null,
      "outputs": [
        {
          "output_type": "stream",
          "name": "stdout",
          "text": [
            "2\n",
            "4\n",
            "4 is not perfect\n",
            "6\n",
            "6 is perfect\n"
          ]
        }
      ]
    },
    {
      "cell_type": "code",
      "execution_count": null,
      "id": "f8ca8344",
      "metadata": {
        "id": "f8ca8344",
        "outputId": "6a0ab9b6-a0d0-44d3-e890-7030be623a65"
      },
      "outputs": [
        {
          "name": "stdout",
          "output_type": "stream",
          "text": [
            "9.0\n"
          ]
        }
      ],
      "source": [
        "3\n",
        "print(9.0)"
      ]
    },
    {
      "cell_type": "code",
      "execution_count": null,
      "id": "89f6d256",
      "metadata": {
        "id": "89f6d256",
        "outputId": "8b196cc6-7efe-477b-d135-729914b5b8fc"
      },
      "outputs": [
        {
          "name": "stdout",
          "output_type": "stream",
          "text": [
            "9\n"
          ]
        }
      ],
      "source": [
        "print(9)"
      ]
    },
    {
      "cell_type": "code",
      "execution_count": null,
      "id": "e347e943",
      "metadata": {
        "id": "e347e943",
        "outputId": "1aea648d-dd2c-4361-887a-09f470fdc4f9"
      },
      "outputs": [
        {
          "name": "stdout",
          "output_type": "stream",
          "text": [
            "0.0\n"
          ]
        }
      ],
      "source": [
        "print(0.0)"
      ]
    },
    {
      "cell_type": "code",
      "execution_count": null,
      "id": "673496e1",
      "metadata": {
        "id": "673496e1",
        "outputId": "089b19ad-5a01-4911-934e-f73b1174d8f9"
      },
      "outputs": [
        {
          "name": "stdout",
          "output_type": "stream",
          "text": [
            "5.0\n"
          ]
        }
      ],
      "source": [
        "print(5.)"
      ]
    },
    {
      "cell_type": "code",
      "execution_count": null,
      "id": "885dfb5b",
      "metadata": {
        "id": "885dfb5b",
        "outputId": "7eee2ba1-a5ed-4120-87dc-f53e5fe0a901"
      },
      "outputs": [
        {
          "name": "stdout",
          "output_type": "stream",
          "text": [
            "\n"
          ]
        }
      ],
      "source": [
        "print(\"\")"
      ]
    },
    {
      "cell_type": "code",
      "execution_count": null,
      "id": "ab5cbf40",
      "metadata": {
        "id": "ab5cbf40",
        "outputId": "bf9cd292-f5e2-429c-fca0-8e2402f0c5c5"
      },
      "outputs": [
        {
          "name": "stdout",
          "output_type": "stream",
          "text": [
            " \n"
          ]
        }
      ],
      "source": [
        "print(\" \")"
      ]
    },
    {
      "cell_type": "code",
      "execution_count": null,
      "id": "bec76d23",
      "metadata": {
        "id": "bec76d23",
        "outputId": "09e052ef-0c1c-4158-caad-bc6ea5c8d919"
      },
      "outputs": [
        {
          "ename": "SyntaxError",
          "evalue": "EOL while scanning string literal (3415471302.py, line 1)",
          "output_type": "error",
          "traceback": [
            "\u001b[0;36m  File \u001b[0;32m\"/var/folders/nn/c52y0d3j0gq59dpsswchkt2r0000gn/T/ipykernel_91146/3415471302.py\"\u001b[0;36m, line \u001b[0;32m1\u001b[0m\n\u001b[0;31m    print(\"Bipin')\u001b[0m\n\u001b[0m                  ^\u001b[0m\n\u001b[0;31mSyntaxError\u001b[0m\u001b[0;31m:\u001b[0m EOL while scanning string literal\n"
          ]
        }
      ],
      "source": [
        "print(\"Bipin')"
      ]
    },
    {
      "cell_type": "code",
      "execution_count": null,
      "id": "6b9be37c",
      "metadata": {
        "id": "6b9be37c",
        "outputId": "d7b5dc6e-31f4-49e3-8313-3c44156ea4fb"
      },
      "outputs": [
        {
          "name": "stdout",
          "output_type": "stream",
          "text": [
            "\n"
          ]
        }
      ],
      "source": [
        "print()"
      ]
    },
    {
      "cell_type": "code",
      "execution_count": null,
      "id": "803f5ded",
      "metadata": {
        "id": "803f5ded",
        "outputId": "9188fd83-6275-4e1c-9a35-feb52a318a4f"
      },
      "outputs": [
        {
          "name": "stdout",
          "output_type": "stream",
          "text": [
            "<class 'int'>\n"
          ]
        }
      ],
      "source": [
        "print(type(4))"
      ]
    },
    {
      "cell_type": "code",
      "execution_count": null,
      "id": "e47246ee",
      "metadata": {
        "id": "e47246ee",
        "outputId": "16714b24-05ad-4da5-9f7c-00bef5e265ac"
      },
      "outputs": [
        {
          "name": "stdout",
          "output_type": "stream",
          "text": [
            "<class 'float'>\n"
          ]
        }
      ],
      "source": [
        "print(type(4.0))"
      ]
    },
    {
      "cell_type": "code",
      "execution_count": null,
      "id": "45516391",
      "metadata": {
        "id": "45516391",
        "outputId": "3861931b-2388-4049-bbbf-e11d164f02b3"
      },
      "outputs": [
        {
          "name": "stdout",
          "output_type": "stream",
          "text": [
            "<class 'float'>\n"
          ]
        }
      ],
      "source": [
        "print(type(4.1234563234567876543))"
      ]
    },
    {
      "cell_type": "code",
      "execution_count": null,
      "id": "bae1730e",
      "metadata": {
        "id": "bae1730e",
        "outputId": "f264995d-85f0-4805-c795-29dd9e46e190"
      },
      "outputs": [
        {
          "name": "stdout",
          "output_type": "stream",
          "text": [
            "<class 'str'>\n"
          ]
        }
      ],
      "source": [
        "print(type(\"Who am I?\"))"
      ]
    },
    {
      "cell_type": "code",
      "execution_count": null,
      "id": "6b5e8829",
      "metadata": {
        "id": "6b5e8829",
        "outputId": "9008ef1d-ee0d-40b1-b084-78c742f904db"
      },
      "outputs": [
        {
          "name": "stdout",
          "output_type": "stream",
          "text": [
            "<class 'bool'>\n"
          ]
        }
      ],
      "source": [
        "print(type(False))"
      ]
    },
    {
      "cell_type": "code",
      "execution_count": null,
      "id": "37ee13f7",
      "metadata": {
        "id": "37ee13f7",
        "outputId": "d3985208-74c0-4ac2-d84f-1400fd2e507e"
      },
      "outputs": [
        {
          "name": "stdout",
          "output_type": "stream",
          "text": [
            "<class 'NoneType'>\n"
          ]
        }
      ],
      "source": [
        "print(type(None))"
      ]
    },
    {
      "cell_type": "code",
      "execution_count": null,
      "id": "92d7e0d1",
      "metadata": {
        "id": "92d7e0d1",
        "outputId": "a8f3c30b-ff8f-4c1b-9ec1-7effefaf906d"
      },
      "outputs": [
        {
          "data": {
            "text/plain": [
              "int"
            ]
          },
          "execution_count": 23,
          "metadata": {},
          "output_type": "execute_result"
        }
      ],
      "source": [
        "type(67)"
      ]
    },
    {
      "cell_type": "code",
      "execution_count": null,
      "id": "91b74f0b",
      "metadata": {
        "id": "91b74f0b",
        "outputId": "28b7a118-cd4f-4920-d279-bc882357a3bd"
      },
      "outputs": [
        {
          "data": {
            "text/plain": [
              "67"
            ]
          },
          "execution_count": 24,
          "metadata": {},
          "output_type": "execute_result"
        }
      ],
      "source": [
        "67"
      ]
    },
    {
      "cell_type": "code",
      "execution_count": null,
      "id": "0ca6a4ab",
      "metadata": {
        "id": "0ca6a4ab",
        "outputId": "24ad3ce3-21e1-4da4-8069-65d867a34d44"
      },
      "outputs": [
        {
          "ename": "TypeError",
          "evalue": "type() takes 1 or 3 arguments",
          "output_type": "error",
          "traceback": [
            "\u001b[0;31m---------------------------------------------------------------------------\u001b[0m",
            "\u001b[0;31mTypeError\u001b[0m                                 Traceback (most recent call last)",
            "\u001b[0;32m/var/folders/nn/c52y0d3j0gq59dpsswchkt2r0000gn/T/ipykernel_91146/626245854.py\u001b[0m in \u001b[0;36m<module>\u001b[0;34m\u001b[0m\n\u001b[0;32m----> 1\u001b[0;31m \u001b[0mprint\u001b[0m\u001b[0;34m(\u001b[0m\u001b[0mtype\u001b[0m\u001b[0;34m(\u001b[0m\u001b[0;34m)\u001b[0m\u001b[0;34m)\u001b[0m\u001b[0;34m\u001b[0m\u001b[0;34m\u001b[0m\u001b[0m\n\u001b[0m",
            "\u001b[0;31mTypeError\u001b[0m: type() takes 1 or 3 arguments"
          ]
        }
      ],
      "source": [
        "print(type())"
      ]
    },
    {
      "cell_type": "code",
      "execution_count": null,
      "id": "61e27c96",
      "metadata": {
        "id": "61e27c96",
        "outputId": "7ff6ec3a-0bdb-4f69-bb55-169de4de77e0"
      },
      "outputs": [
        {
          "name": "stdout",
          "output_type": "stream",
          "text": [
            "<class 'bool'>\n"
          ]
        }
      ],
      "source": [
        "print(type(True))"
      ]
    },
    {
      "cell_type": "code",
      "execution_count": null,
      "id": "e7424103",
      "metadata": {
        "id": "e7424103",
        "outputId": "f56ae6a5-0c40-4a4f-845e-08f859e72515"
      },
      "outputs": [
        {
          "name": "stdout",
          "output_type": "stream",
          "text": [
            "This is my string which I want to use multiple times!\n"
          ]
        }
      ],
      "source": [
        "print(\"This is my string which I want to use multiple times!\")"
      ]
    },
    {
      "cell_type": "code",
      "execution_count": null,
      "id": "82d11b3a",
      "metadata": {
        "id": "82d11b3a",
        "outputId": "624d1c84-1555-43de-9f55-7dea1990b317"
      },
      "outputs": [
        {
          "name": "stdout",
          "output_type": "stream",
          "text": [
            "This is my string which I want to use multiple times!\n"
          ]
        }
      ],
      "source": [
        "print(\"This is my string which I want to use multiple times!\")"
      ]
    },
    {
      "cell_type": "code",
      "execution_count": null,
      "id": "136a5511",
      "metadata": {
        "id": "136a5511"
      },
      "outputs": [],
      "source": [
        "x = \"This is the value stored in x!\""
      ]
    },
    {
      "cell_type": "code",
      "execution_count": null,
      "id": "2da6b4d5",
      "metadata": {
        "id": "2da6b4d5",
        "outputId": "b8e31fff-108b-4f6f-e281-4a4813fd134f"
      },
      "outputs": [
        {
          "name": "stdout",
          "output_type": "stream",
          "text": [
            "This is the value stored in x!\n"
          ]
        }
      ],
      "source": [
        "print(x)"
      ]
    },
    {
      "cell_type": "code",
      "execution_count": null,
      "id": "0c5e79e6",
      "metadata": {
        "id": "0c5e79e6"
      },
      "outputs": [],
      "source": [
        "y = 5"
      ]
    },
    {
      "cell_type": "code",
      "execution_count": null,
      "id": "ac174410",
      "metadata": {
        "id": "ac174410",
        "outputId": "728ca16a-1a09-4bbd-98a8-b9f159def5f4"
      },
      "outputs": [
        {
          "name": "stdout",
          "output_type": "stream",
          "text": [
            "5\n"
          ]
        }
      ],
      "source": [
        "print(y)"
      ]
    },
    {
      "cell_type": "code",
      "execution_count": null,
      "id": "2b39868d",
      "metadata": {
        "id": "2b39868d",
        "outputId": "d7da6d0f-6be4-46a9-e249-570908f780c8"
      },
      "outputs": [
        {
          "data": {
            "text/plain": [
              "str"
            ]
          },
          "execution_count": 36,
          "metadata": {},
          "output_type": "execute_result"
        }
      ],
      "source": [
        "type(x)"
      ]
    },
    {
      "cell_type": "code",
      "execution_count": null,
      "id": "0bab4dc5",
      "metadata": {
        "id": "0bab4dc5",
        "outputId": "088bf786-ffdd-42d6-b4d4-a3ed88ed15d5"
      },
      "outputs": [
        {
          "data": {
            "text/plain": [
              "int"
            ]
          },
          "execution_count": 37,
          "metadata": {},
          "output_type": "execute_result"
        }
      ],
      "source": [
        "type(y)"
      ]
    },
    {
      "cell_type": "code",
      "execution_count": null,
      "id": "1872b090",
      "metadata": {
        "id": "1872b090"
      },
      "outputs": [],
      "source": [
        "z = None"
      ]
    },
    {
      "cell_type": "code",
      "execution_count": null,
      "id": "66f2c7a3",
      "metadata": {
        "id": "66f2c7a3",
        "outputId": "00331742-1eb8-4536-8e99-d0532502c7de"
      },
      "outputs": [
        {
          "name": "stdout",
          "output_type": "stream",
          "text": [
            "None\n"
          ]
        }
      ],
      "source": [
        "print(z)"
      ]
    },
    {
      "cell_type": "code",
      "execution_count": null,
      "id": "ae563038",
      "metadata": {
        "id": "ae563038",
        "outputId": "c4c08ce1-8aee-4ac0-a272-38db4b41b4d5"
      },
      "outputs": [
        {
          "name": "stdout",
          "output_type": "stream",
          "text": [
            "5\n"
          ]
        }
      ],
      "source": [
        "a = 3\n",
        "a = 5\n",
        "print(a)"
      ]
    },
    {
      "cell_type": "code",
      "execution_count": null,
      "id": "ca8c9e6d",
      "metadata": {
        "id": "ca8c9e6d",
        "outputId": "297b6160-0a1c-45ff-9920-812f82a923c1"
      },
      "outputs": [
        {
          "ename": "NameError",
          "evalue": "name 'Name' is not defined",
          "output_type": "error",
          "traceback": [
            "\u001b[0;31m---------------------------------------------------------------------------\u001b[0m",
            "\u001b[0;31mNameError\u001b[0m                                 Traceback (most recent call last)",
            "\u001b[0;32m/var/folders/nn/c52y0d3j0gq59dpsswchkt2r0000gn/T/ipykernel_91146/220677307.py\u001b[0m in \u001b[0;36m<module>\u001b[0;34m\u001b[0m\n\u001b[1;32m      1\u001b[0m \u001b[0mname\u001b[0m \u001b[0;34m=\u001b[0m \u001b[0;34m\"Thor Odinson\"\u001b[0m\u001b[0;34m\u001b[0m\u001b[0;34m\u001b[0m\u001b[0m\n\u001b[0;32m----> 2\u001b[0;31m \u001b[0mprint\u001b[0m\u001b[0;34m(\u001b[0m\u001b[0mName\u001b[0m\u001b[0;34m)\u001b[0m\u001b[0;34m\u001b[0m\u001b[0;34m\u001b[0m\u001b[0m\n\u001b[0m",
            "\u001b[0;31mNameError\u001b[0m: name 'Name' is not defined"
          ]
        }
      ],
      "source": [
        "name = \"Thor Odinson\"\n",
        "print(Name)"
      ]
    },
    {
      "cell_type": "code",
      "execution_count": null,
      "id": "b2735c77",
      "metadata": {
        "id": "b2735c77"
      },
      "outputs": [],
      "source": [
        "a = 123"
      ]
    },
    {
      "cell_type": "code",
      "execution_count": null,
      "id": "321696c5",
      "metadata": {
        "id": "321696c5"
      },
      "outputs": [],
      "source": [
        "a = 45.67"
      ]
    },
    {
      "cell_type": "code",
      "execution_count": null,
      "id": "92685335",
      "metadata": {
        "id": "92685335"
      },
      "outputs": [],
      "source": [
        "a = True"
      ]
    },
    {
      "cell_type": "code",
      "execution_count": null,
      "id": "010415b1",
      "metadata": {
        "id": "010415b1"
      },
      "outputs": [],
      "source": [
        "a = \"string\""
      ]
    },
    {
      "cell_type": "code",
      "execution_count": null,
      "id": "853ca3b9",
      "metadata": {
        "id": "853ca3b9"
      },
      "outputs": [],
      "source": [
        "# This is a comment"
      ]
    },
    {
      "cell_type": "code",
      "execution_count": null,
      "id": "2a836f81",
      "metadata": {
        "id": "2a836f81"
      },
      "outputs": [],
      "source": [
        "# Identifiers\n",
        "# 1. The name can start with alphabets or _ (a-z, A-Z, _)\n",
        "# 2. The name can have alphabets, numbers and _ in the middle or end (a-z, A-Z, _, 0-9)"
      ]
    },
    {
      "cell_type": "code",
      "execution_count": null,
      "id": "67b30f8b",
      "metadata": {
        "id": "67b30f8b"
      },
      "outputs": [],
      "source": [
        "HeLLo = \"random\""
      ]
    },
    {
      "cell_type": "code",
      "execution_count": null,
      "id": "cccd255c",
      "metadata": {
        "id": "cccd255c",
        "outputId": "01fceb4d-4d8a-4316-816c-e89bef140a32"
      },
      "outputs": [
        {
          "data": {
            "text/plain": [
              "'random'"
            ]
          },
          "execution_count": 49,
          "metadata": {},
          "output_type": "execute_result"
        }
      ],
      "source": [
        "HeLLo"
      ]
    },
    {
      "cell_type": "code",
      "execution_count": null,
      "id": "39cd5514",
      "metadata": {
        "id": "39cd5514",
        "outputId": "ac34272b-f316-49a8-9b90-cf71138f1f1c"
      },
      "outputs": [
        {
          "ename": "SyntaxError",
          "evalue": "invalid decimal literal (2906384845.py, line 1)",
          "output_type": "error",
          "traceback": [
            "\u001b[0;36m  File \u001b[0;32m\"/var/folders/nn/c52y0d3j0gq59dpsswchkt2r0000gn/T/ipykernel_91146/2906384845.py\"\u001b[0;36m, line \u001b[0;32m1\u001b[0m\n\u001b[0;31m    1_random = 4\u001b[0m\n\u001b[0m     ^\u001b[0m\n\u001b[0;31mSyntaxError\u001b[0m\u001b[0;31m:\u001b[0m invalid decimal literal\n"
          ]
        }
      ],
      "source": [
        "1_random = 4"
      ]
    },
    {
      "cell_type": "code",
      "execution_count": null,
      "id": "a1a3e2dc",
      "metadata": {
        "id": "a1a3e2dc",
        "outputId": "72c3a132-6cb2-4c91-af99-20fc8ae362be"
      },
      "outputs": [
        {
          "ename": "SyntaxError",
          "evalue": "cannot assign to operator (3051227195.py, line 1)",
          "output_type": "error",
          "traceback": [
            "\u001b[0;36m  File \u001b[0;32m\"/var/folders/nn/c52y0d3j0gq59dpsswchkt2r0000gn/T/ipykernel_91146/3051227195.py\"\u001b[0;36m, line \u001b[0;32m1\u001b[0m\n\u001b[0;31m    a*b*v = 4\u001b[0m\n\u001b[0m    ^\u001b[0m\n\u001b[0;31mSyntaxError\u001b[0m\u001b[0;31m:\u001b[0m cannot assign to operator\n"
          ]
        }
      ],
      "source": [
        "a*b*c = 4"
      ]
    },
    {
      "cell_type": "code",
      "execution_count": null,
      "id": "1e1c17f6",
      "metadata": {
        "id": "1e1c17f6",
        "outputId": "bee85a4b-767a-4afc-e967-427afaa1fd76"
      },
      "outputs": [
        {
          "ename": "SyntaxError",
          "evalue": "invalid syntax (2902647758.py, line 1)",
          "output_type": "error",
          "traceback": [
            "\u001b[0;36m  File \u001b[0;32m\"/var/folders/nn/c52y0d3j0gq59dpsswchkt2r0000gn/T/ipykernel_91146/2902647758.py\"\u001b[0;36m, line \u001b[0;32m1\u001b[0m\n\u001b[0;31m    code^785914&%^ = 4\u001b[0m\n\u001b[0m                ^\u001b[0m\n\u001b[0;31mSyntaxError\u001b[0m\u001b[0;31m:\u001b[0m invalid syntax\n"
          ]
        }
      ],
      "source": [
        "code^785914&%^ = 4"
      ]
    },
    {
      "cell_type": "code",
      "execution_count": null,
      "id": "9e0051bf",
      "metadata": {
        "id": "9e0051bf"
      },
      "outputs": [],
      "source": [
        "x = \"MY VALUE\"\n",
        "y = x"
      ]
    },
    {
      "cell_type": "code",
      "execution_count": null,
      "id": "468418af",
      "metadata": {
        "id": "468418af",
        "outputId": "93925e05-a8d3-4f8e-8606-7c79d2f4dfcf"
      },
      "outputs": [
        {
          "name": "stdout",
          "output_type": "stream",
          "text": [
            "MY VALUE\n"
          ]
        }
      ],
      "source": [
        "print(y)"
      ]
    },
    {
      "cell_type": "code",
      "execution_count": null,
      "id": "2399cb8c",
      "metadata": {
        "id": "2399cb8c",
        "outputId": "d9aaa6a3-d217-432a-faef-e02b2d34adc8"
      },
      "outputs": [
        {
          "name": "stdout",
          "output_type": "stream",
          "text": [
            "MY VALUE\n"
          ]
        }
      ],
      "source": [
        "print(x)"
      ]
    },
    {
      "cell_type": "code",
      "execution_count": null,
      "id": "94e22708",
      "metadata": {
        "id": "94e22708",
        "outputId": "6d8935f9-dc21-4616-c78f-0d1c82d8e7e8"
      },
      "outputs": [
        {
          "name": "stdout",
          "output_type": "stream",
          "text": [
            "67\n"
          ]
        }
      ],
      "source": [
        "user_input = input()"
      ]
    },
    {
      "cell_type": "code",
      "execution_count": null,
      "id": "52904be7",
      "metadata": {
        "id": "52904be7",
        "outputId": "cd4d97c4-9ad7-49b1-f24a-e81c786408f7"
      },
      "outputs": [
        {
          "name": "stdout",
          "output_type": "stream",
          "text": [
            "67\n"
          ]
        }
      ],
      "source": [
        "print(user_input)"
      ]
    },
    {
      "cell_type": "code",
      "execution_count": null,
      "id": "554be5d3",
      "metadata": {
        "id": "554be5d3",
        "outputId": "06f401bb-3e5c-4ad3-a480-72b8d6ab503c"
      },
      "outputs": [
        {
          "name": "stdout",
          "output_type": "stream",
          "text": [
            "67 55 this is a string\n"
          ]
        }
      ],
      "source": [
        "print(67, 55, \"this is a string\")"
      ]
    },
    {
      "cell_type": "code",
      "execution_count": null,
      "id": "bb8d8031",
      "metadata": {
        "id": "bb8d8031",
        "outputId": "2ec382cf-d413-40ef-a2ab-d426eeb66123"
      },
      "outputs": [
        {
          "name": "stdout",
          "output_type": "stream",
          "text": [
            "56\n"
          ]
        }
      ],
      "source": [
        "user_input = input()"
      ]
    },
    {
      "cell_type": "code",
      "execution_count": null,
      "id": "024ffeee",
      "metadata": {
        "id": "024ffeee",
        "outputId": "66335be0-203b-49e8-85e8-6e9acf165e6a"
      },
      "outputs": [
        {
          "name": "stdout",
          "output_type": "stream",
          "text": [
            "56\n"
          ]
        }
      ],
      "source": [
        "print(user_input)"
      ]
    },
    {
      "cell_type": "code",
      "execution_count": null,
      "id": "f3a6c451",
      "metadata": {
        "id": "f3a6c451",
        "outputId": "6b4ff8b7-d6c6-4997-b7b3-f8b344a65577"
      },
      "outputs": [
        {
          "name": "stdout",
          "output_type": "stream",
          "text": [
            "Sheema\n",
            "Hello Sheema\n"
          ]
        }
      ],
      "source": [
        "# Greeting Code\n",
        "name = input()\n",
        "print(\"Hello\", name)"
      ]
    },
    {
      "cell_type": "code",
      "execution_count": null,
      "id": "56daee40",
      "metadata": {
        "id": "56daee40",
        "outputId": "f5e26b8e-d27e-40b5-9e1b-b6cf14c7a08c"
      },
      "outputs": [
        {
          "name": "stdout",
          "output_type": "stream",
          "text": [
            "56789\n"
          ]
        }
      ],
      "source": [
        "x = input()"
      ]
    },
    {
      "cell_type": "code",
      "execution_count": null,
      "id": "b701e76f",
      "metadata": {
        "id": "b701e76f",
        "outputId": "d8291727-b2ab-4f46-d88c-2e4f0bdbf2b2"
      },
      "outputs": [
        {
          "name": "stdout",
          "output_type": "stream",
          "text": [
            "<class 'str'>\n"
          ]
        }
      ],
      "source": [
        "print(type(x))"
      ]
    },
    {
      "cell_type": "code",
      "execution_count": null,
      "id": "7e74176c",
      "metadata": {
        "id": "7e74176c"
      },
      "outputs": [],
      "source": [
        "# \"x\""
      ]
    },
    {
      "cell_type": "code",
      "execution_count": null,
      "id": "2ddc1d10",
      "metadata": {
        "id": "2ddc1d10"
      },
      "outputs": [],
      "source": [
        "x = \"567\""
      ]
    },
    {
      "cell_type": "code",
      "execution_count": null,
      "id": "2615fa6a",
      "metadata": {
        "id": "2615fa6a"
      },
      "outputs": [],
      "source": [
        "# Typecasting -> Changing the type of a variable"
      ]
    },
    {
      "cell_type": "code",
      "execution_count": null,
      "id": "4153bd19",
      "metadata": {
        "id": "4153bd19",
        "outputId": "058ac288-817d-40d1-f705-4176cfc35aa9"
      },
      "outputs": [
        {
          "name": "stdout",
          "output_type": "stream",
          "text": [
            "5\n",
            "6\n"
          ]
        }
      ],
      "source": [
        "num1 = int(input())\n",
        "num2 = int(input())"
      ]
    },
    {
      "cell_type": "code",
      "execution_count": null,
      "id": "d390ff24",
      "metadata": {
        "id": "d390ff24",
        "outputId": "0f8cd477-9817-4cbe-f513-dfa5a7ad73b8"
      },
      "outputs": [
        {
          "name": "stdout",
          "output_type": "stream",
          "text": [
            "string1string2\n"
          ]
        }
      ],
      "source": [
        "print(\"string1\" + \"string2\")"
      ]
    },
    {
      "cell_type": "code",
      "execution_count": null,
      "id": "88d339df",
      "metadata": {
        "id": "88d339df",
        "outputId": "32ba8be7-7c7b-46b0-d40a-f5feec1ac50f"
      },
      "outputs": [
        {
          "data": {
            "text/plain": [
              "int"
            ]
          },
          "execution_count": 79,
          "metadata": {},
          "output_type": "execute_result"
        }
      ],
      "source": [
        "type(num1)"
      ]
    },
    {
      "cell_type": "code",
      "execution_count": null,
      "id": "a0a86d34",
      "metadata": {
        "id": "a0a86d34",
        "outputId": "85bd8f92-90e6-43f7-e303-a135c1a81732"
      },
      "outputs": [
        {
          "data": {
            "text/plain": [
              "int"
            ]
          },
          "execution_count": 80,
          "metadata": {},
          "output_type": "execute_result"
        }
      ],
      "source": [
        "type(num1)"
      ]
    },
    {
      "cell_type": "code",
      "execution_count": null,
      "id": "e6d06c91",
      "metadata": {
        "id": "e6d06c91",
        "outputId": "0c1bafc4-5a64-4e76-a752-10d0c15a67d5"
      },
      "outputs": [
        {
          "name": "stdout",
          "output_type": "stream",
          "text": [
            "11\n"
          ]
        }
      ],
      "source": [
        "print(num1 + num2)"
      ]
    },
    {
      "cell_type": "code",
      "execution_count": null,
      "id": "a184a3bb",
      "metadata": {
        "id": "a184a3bb",
        "outputId": "88a9d797-58df-4098-d36f-9b371b5e3f74"
      },
      "outputs": [
        {
          "name": "stdout",
          "output_type": "stream",
          "text": [
            "Bipin\n"
          ]
        },
        {
          "ename": "ValueError",
          "evalue": "invalid literal for int() with base 10: 'Bipin'",
          "output_type": "error",
          "traceback": [
            "\u001b[0;31m---------------------------------------------------------------------------\u001b[0m",
            "\u001b[0;31mValueError\u001b[0m                                Traceback (most recent call last)",
            "\u001b[0;32m/var/folders/nn/c52y0d3j0gq59dpsswchkt2r0000gn/T/ipykernel_91146/817791833.py\u001b[0m in \u001b[0;36m<module>\u001b[0;34m\u001b[0m\n\u001b[0;32m----> 1\u001b[0;31m \u001b[0mrandom\u001b[0m \u001b[0;34m=\u001b[0m \u001b[0mint\u001b[0m\u001b[0;34m(\u001b[0m\u001b[0minput\u001b[0m\u001b[0;34m(\u001b[0m\u001b[0;34m)\u001b[0m\u001b[0;34m)\u001b[0m\u001b[0;34m\u001b[0m\u001b[0;34m\u001b[0m\u001b[0m\n\u001b[0m",
            "\u001b[0;31mValueError\u001b[0m: invalid literal for int() with base 10: 'Bipin'"
          ]
        }
      ],
      "source": [
        "random = int(input())"
      ]
    },
    {
      "cell_type": "code",
      "execution_count": null,
      "id": "218cc605",
      "metadata": {
        "id": "218cc605",
        "outputId": "7866d6f9-41fc-436a-c2ec-27a31e2cd592"
      },
      "outputs": [
        {
          "name": "stdout",
          "output_type": "stream",
          "text": [
            "5\n",
            "6\n"
          ]
        }
      ],
      "source": [
        "n1 = input()\n",
        "n2 = input()"
      ]
    },
    {
      "cell_type": "code",
      "execution_count": null,
      "id": "aa30e6a0",
      "metadata": {
        "id": "aa30e6a0",
        "outputId": "c04d3489-755d-4549-9b08-b42dd8607913"
      },
      "outputs": [
        {
          "name": "stdout",
          "output_type": "stream",
          "text": [
            "11\n"
          ]
        }
      ],
      "source": [
        "print(int(n1) + int(n2))"
      ]
    },
    {
      "cell_type": "code",
      "execution_count": null,
      "id": "900f6248",
      "metadata": {
        "id": "900f6248",
        "outputId": "853778de-608d-469d-ce2a-c4ebc7fe3bc2"
      },
      "outputs": [
        {
          "data": {
            "text/plain": [
              "'56'"
            ]
          },
          "execution_count": 85,
          "metadata": {},
          "output_type": "execute_result"
        }
      ],
      "source": [
        "str(56)"
      ]
    },
    {
      "cell_type": "code",
      "execution_count": null,
      "id": "d1f13797",
      "metadata": {
        "id": "d1f13797",
        "outputId": "8b096bcb-a7e0-4a13-dd4c-f9ccbe15a108"
      },
      "outputs": [
        {
          "name": "stdout",
          "output_type": "stream",
          "text": [
            "6\n"
          ]
        },
        {
          "data": {
            "text/plain": [
              "'6'"
            ]
          },
          "execution_count": 86,
          "metadata": {},
          "output_type": "execute_result"
        }
      ],
      "source": [
        "input()"
      ]
    },
    {
      "cell_type": "code",
      "execution_count": null,
      "id": "61ec3011",
      "metadata": {
        "id": "61ec3011",
        "outputId": "7dfa5e1c-7595-426d-c170-4b2035985b8a"
      },
      "outputs": [
        {
          "name": "stdout",
          "output_type": "stream",
          "text": [
            "Please provide input here - 67\n"
          ]
        }
      ],
      "source": [
        "random = input(\"Please provide input here - \")"
      ]
    },
    {
      "cell_type": "code",
      "execution_count": null,
      "id": "165fe82d",
      "metadata": {
        "id": "165fe82d",
        "outputId": "d0b2de93-d860-4129-a63d-bedee7abade0"
      },
      "outputs": [
        {
          "data": {
            "text/plain": [
              "'67'"
            ]
          },
          "execution_count": 88,
          "metadata": {},
          "output_type": "execute_result"
        }
      ],
      "source": [
        "random"
      ]
    },
    {
      "cell_type": "code",
      "execution_count": null,
      "id": "80ea4968",
      "metadata": {
        "id": "80ea4968"
      },
      "outputs": [],
      "source": []
    }
  ],
  "metadata": {
    "kernelspec": {
      "display_name": "Python 3 (ipykernel)",
      "language": "python",
      "name": "python3"
    },
    "language_info": {
      "codemirror_mode": {
        "name": "ipython",
        "version": 3
      },
      "file_extension": ".py",
      "mimetype": "text/x-python",
      "name": "python",
      "nbconvert_exporter": "python",
      "pygments_lexer": "ipython3",
      "version": "3.9.5"
    },
    "colab": {
      "provenance": [],
      "include_colab_link": true
    }
  },
  "nbformat": 4,
  "nbformat_minor": 5
}