{
  "nbformat": 4,
  "nbformat_minor": 0,
  "metadata": {
    "colab": {
      "provenance": [],
      "collapsed_sections": [],
      "authorship_tag": "ABX9TyO+ZPvzIWn/XcgR8NuW4D7a",
      "include_colab_link": true
    },
    "kernelspec": {
      "name": "python3",
      "display_name": "Python 3"
    },
    "language_info": {
      "name": "python"
    }
  },
  "cells": [
    {
      "cell_type": "markdown",
      "metadata": {
        "id": "view-in-github",
        "colab_type": "text"
      },
      "source": [
        "<a href=\"https://colab.research.google.com/github/dmish10/HW/blob/master/Controls.ipynb\" target=\"_parent\"><img src=\"https://colab.research.google.com/assets/colab-badge.svg\" alt=\"Open In Colab\"/></a>"
      ]
    },
    {
      "cell_type": "code",
      "execution_count": null,
      "metadata": {
        "colab": {
          "base_uri": "https://localhost:8080/"
        },
        "id": "E_cLx1ML7Ljs",
        "outputId": "eb07c521-2677-411a-eb9f-fc9a8fafe440"
      },
      "outputs": [
        {
          "output_type": "execute_result",
          "data": {
            "text/plain": [
              "False"
            ]
          },
          "metadata": {},
          "execution_count": 1
        }
      ],
      "source": [
        "bool(0)"
      ]
    },
    {
      "cell_type": "code",
      "source": [
        "bool(0.0)"
      ],
      "metadata": {
        "colab": {
          "base_uri": "https://localhost:8080/"
        },
        "id": "F7GStjfZ7No7",
        "outputId": "fdadade6-4257-4f7b-a98d-18721ca71374"
      },
      "execution_count": null,
      "outputs": [
        {
          "output_type": "execute_result",
          "data": {
            "text/plain": [
              "False"
            ]
          },
          "metadata": {},
          "execution_count": 2
        }
      ]
    },
    {
      "cell_type": "code",
      "source": [
        "bool(-0.000)"
      ],
      "metadata": {
        "colab": {
          "base_uri": "https://localhost:8080/"
        },
        "id": "otN6Kq_f7UgQ",
        "outputId": "b6aad301-9a06-4341-a0b4-a3299002fc66"
      },
      "execution_count": null,
      "outputs": [
        {
          "output_type": "execute_result",
          "data": {
            "text/plain": [
              "False"
            ]
          },
          "metadata": {},
          "execution_count": 3
        }
      ]
    },
    {
      "cell_type": "code",
      "source": [
        "bool(\"this is you!\")"
      ],
      "metadata": {
        "colab": {
          "base_uri": "https://localhost:8080/"
        },
        "id": "vRQVvE5R7Xl6",
        "outputId": "406c3031-0059-454d-f477-0858fd457503"
      },
      "execution_count": null,
      "outputs": [
        {
          "output_type": "execute_result",
          "data": {
            "text/plain": [
              "True"
            ]
          },
          "metadata": {},
          "execution_count": 4
        }
      ]
    },
    {
      "cell_type": "code",
      "source": [
        "bool(\"\")"
      ],
      "metadata": {
        "colab": {
          "base_uri": "https://localhost:8080/"
        },
        "id": "7Dad2Xi47iTi",
        "outputId": "4e62ada7-0fc3-47d9-a69a-745a8a911e0d"
      },
      "execution_count": null,
      "outputs": [
        {
          "output_type": "execute_result",
          "data": {
            "text/plain": [
              "False"
            ]
          },
          "metadata": {},
          "execution_count": 5
        }
      ]
    },
    {
      "cell_type": "code",
      "source": [
        "actual_pass= \"harami123\""
      ],
      "metadata": {
        "id": "Xx1fbQ_M7kMY"
      },
      "execution_count": null,
      "outputs": []
    },
    {
      "cell_type": "code",
      "source": [
        "my_input= input()\n",
        "print(my_input== actual_pass)\n"
      ],
      "metadata": {
        "colab": {
          "base_uri": "https://localhost:8080/"
        },
        "id": "gcoX0UUV-Lfq",
        "outputId": "8ac63dae-03e6-4d67-d2e7-411092680324"
      },
      "execution_count": null,
      "outputs": [
        {
          "output_type": "stream",
          "name": "stdout",
          "text": [
            "harami123\n",
            "True\n"
          ]
        }
      ]
    },
    {
      "cell_type": "code",
      "source": [
        "print(4.0==4)"
      ],
      "metadata": {
        "colab": {
          "base_uri": "https://localhost:8080/"
        },
        "id": "ruCQK7DF-etg",
        "outputId": "d1cb4433-db00-4a31-e3a7-0bb503b971e2"
      },
      "execution_count": null,
      "outputs": [
        {
          "output_type": "stream",
          "name": "stdout",
          "text": [
            "True\n"
          ]
        }
      ]
    },
    {
      "cell_type": "code",
      "source": [
        "print(type(4.0)==type(4))"
      ],
      "metadata": {
        "colab": {
          "base_uri": "https://localhost:8080/"
        },
        "id": "VfjMc-RY_BHd",
        "outputId": "23b7fbc1-68a5-45e2-fca0-a4261bb8174f"
      },
      "execution_count": null,
      "outputs": [
        {
          "output_type": "stream",
          "name": "stdout",
          "text": [
            "False\n"
          ]
        }
      ]
    },
    {
      "cell_type": "code",
      "source": [
        "(False or \"\")"
      ],
      "metadata": {
        "colab": {
          "base_uri": "https://localhost:8080/",
          "height": 35
        },
        "id": "Yz8l2iRn_Fuc",
        "outputId": "e4e3d90b-c289-4848-bc76-8fefb1eb2921"
      },
      "execution_count": null,
      "outputs": [
        {
          "output_type": "execute_result",
          "data": {
            "text/plain": [
              "''"
            ],
            "application/vnd.google.colaboratory.intrinsic+json": {
              "type": "string"
            }
          },
          "metadata": {},
          "execution_count": 16
        }
      ]
    },
    {
      "cell_type": "code",
      "source": [
        "print(\"tring tring\\t spe\")"
      ],
      "metadata": {
        "colab": {
          "base_uri": "https://localhost:8080/"
        },
        "id": "owMpr-jVCZkL",
        "outputId": "d5afdd76-9926-4ba8-875c-bbdf00d3d8d0"
      },
      "execution_count": null,
      "outputs": [
        {
          "output_type": "stream",
          "name": "stdout",
          "text": [
            "tring tring\t spe\n"
          ]
        }
      ]
    },
    {
      "cell_type": "code",
      "source": [
        "print(\"A\",\"B\", sep=\"\\t\")"
      ],
      "metadata": {
        "colab": {
          "base_uri": "https://localhost:8080/"
        },
        "id": "w2Ojj9onhP7E",
        "outputId": "0d59fc9b-0628-4aaf-ab6a-b027d6783b1b"
      },
      "execution_count": null,
      "outputs": [
        {
          "output_type": "stream",
          "name": "stdout",
          "text": [
            "A\tB\n"
          ]
        }
      ]
    },
    {
      "cell_type": "code",
      "source": [
        "print(\"0\")\n",
        "if 56<60:\n",
        "  print(\"1\")\n",
        "  print(\"2\")\n",
        "print('4')"
      ],
      "metadata": {
        "colab": {
          "base_uri": "https://localhost:8080/"
        },
        "id": "OfeGLpoHibQ8",
        "outputId": "d26e8c21-ff83-4f77-80d0-0f13e015d2ca"
      },
      "execution_count": null,
      "outputs": [
        {
          "output_type": "stream",
          "name": "stdout",
          "text": [
            "0\n",
            "1\n",
            "2\n",
            "4\n"
          ]
        }
      ]
    },
    {
      "cell_type": "code",
      "source": [
        "C= 50\n",
        "A= int(input())\n",
        "B= A**3\n",
        "if B>C:\n",
        "  print(\"Maasive number\")\n",
        "else:\n",
        "  print(\"small\")\n",
        "print (\"done\")\n"
      ],
      "metadata": {
        "colab": {
          "base_uri": "https://localhost:8080/"
        },
        "id": "s_aEwnuxi0X6",
        "outputId": "b9fe08bc-e36b-41d8-a227-a45dc0a35c06"
      },
      "execution_count": null,
      "outputs": [
        {
          "output_type": "stream",
          "name": "stdout",
          "text": [
            "3\n",
            "small\n",
            "done\n"
          ]
        }
      ]
    },
    {
      "cell_type": "code",
      "source": [
        "Password= input()\n",
        "Verify_user= input()\n",
        "if Password==Verify_user:\n",
        "  print(\"matched\")\n",
        "else:\n",
        "  print(\"Missmatch\")\n",
        "  print(\"check again\")\n",
        "\n"
      ],
      "metadata": {
        "colab": {
          "base_uri": "https://localhost:8080/"
        },
        "id": "wN4Z8yKxlWla",
        "outputId": "1c45fd7c-a05e-4a0c-a4b7-52e614ef7bbd"
      },
      "execution_count": null,
      "outputs": [
        {
          "output_type": "stream",
          "name": "stdout",
          "text": [
            "drop\n",
            "drop\n",
            "matched\n"
          ]
        }
      ]
    },
    {
      "cell_type": "code",
      "source": [
        "user_amt= int(input())\n",
        "if user_amt%200==0 or user_amt%500==0:\n",
        "  print(\"Dispatch Cash\")\n",
        "else:\n",
        "  print(\"not dispatchable\")\n"
      ],
      "metadata": {
        "colab": {
          "base_uri": "https://localhost:8080/"
        },
        "id": "Z3gZnddkmlQH",
        "outputId": "4983e500-e06e-49ec-fea5-79838c150169"
      },
      "execution_count": null,
      "outputs": [
        {
          "output_type": "stream",
          "name": "stdout",
          "text": [
            "1200\n",
            "Dispatch Cash\n"
          ]
        }
      ]
    },
    {
      "cell_type": "code",
      "source": [
        "time=int(input())\n",
        "\n",
        "if time>9 and time<12:\n",
        "  print(\"gm\")\n",
        "elif time>12 and time<17:\n",
        "  print (\"noon\")\n",
        "elif time>17 and time<24:\n",
        "  print (\"night\")\n",
        "else:\n",
        "  print(\"gth\")\n"
      ],
      "metadata": {
        "colab": {
          "base_uri": "https://localhost:8080/"
        },
        "id": "t2llXPSiq0z-",
        "outputId": "e552c185-73ff-4c4f-f813-5ca672244210"
      },
      "execution_count": null,
      "outputs": [
        {
          "output_type": "stream",
          "name": "stdout",
          "text": [
            "25\n",
            "gth\n"
          ]
        }
      ]
    },
    {
      "cell_type": "code",
      "source": [
        "N= int(input())\n",
        "if N>=0:\n",
        "  print(N+\" is Positive no.\")\n",
        "elif N==0:\n",
        "  print(\"zeroo\")\n",
        "else:\n",
        "  print(\"negative\")"
      ],
      "metadata": {
        "colab": {
          "base_uri": "https://localhost:8080/"
        },
        "id": "hhJPoOKOt9JB",
        "outputId": "6c53af44-7e08-4535-e37e-0c2a9b871aa5"
      },
      "execution_count": null,
      "outputs": [
        {
          "output_type": "stream",
          "name": "stdout",
          "text": [
            "-4\n",
            "negative\n"
          ]
        }
      ]
    },
    {
      "cell_type": "code",
      "source": [
        "N= int(input()) \n",
        "if N >0 and N<=9:\n",
        "  if N ** 5 % 50 + 20 - 6 >15:\n",
        "    print(\"Black\")\n",
        "  else:\n",
        "    print(\"white\")\n",
        "else:\n",
        "  print(\"invalid no\")\n"
      ],
      "metadata": {
        "colab": {
          "base_uri": "https://localhost:8080/"
        },
        "id": "7d4uXzxTveod",
        "outputId": "5ea6fb11-7dfd-4871-c638-b22420dcb3d2"
      },
      "execution_count": null,
      "outputs": [
        {
          "output_type": "stream",
          "name": "stdout",
          "text": [
            "-9\n",
            "invalid no\n"
          ]
        }
      ]
    },
    {
      "cell_type": "code",
      "source": [
        "S= input()\n",
        "if S.lower()==\"python\":\n",
        "  print(\"great\")\n",
        "else:\n",
        "  print(\"Bad\")"
      ],
      "metadata": {
        "colab": {
          "base_uri": "https://localhost:8080/"
        },
        "id": "lt3Z9esQxYZU",
        "outputId": "9a41db4a-fc74-4a07-8211-18b1d2026ca6"
      },
      "execution_count": null,
      "outputs": [
        {
          "output_type": "stream",
          "name": "stdout",
          "text": [
            "pythoN\n",
            "great\n"
          ]
        }
      ]
    },
    {
      "cell_type": "code",
      "source": [
        "Feedback= input()\n",
        "if not Feedback:\n",
        "  print(\"please provide feedback\")\n",
        "else:\n",
        "  print(\"thanks for feedback\")\n",
        "  \n",
        "  if Feedback.lower() == \"super\" or Feedback.lower() == \"great\":\n",
        "    print(\"thanks so much\")\n",
        "  \n",
        "    \n",
        "  \n",
        " \n",
        "\n",
        "\n",
        "\n"
      ],
      "metadata": {
        "colab": {
          "base_uri": "https://localhost:8080/"
        },
        "id": "LKIlBinRyXpK",
        "outputId": "b091ee12-e9dc-4a76-9c8c-a7c97b3a4e65"
      },
      "execution_count": 24,
      "outputs": [
        {
          "output_type": "stream",
          "name": "stdout",
          "text": [
            "SuPeR\n",
            "thanks for feedback\n",
            "thanks so much\n"
          ]
        }
      ]
    },
    {
      "cell_type": "code",
      "source": [
        "feedback= input()\n",
        "\n",
        "if feedback:\n",
        "  print(\"thanks\")\n",
        "else:\n",
        "  print(\"please share\")"
      ],
      "metadata": {
        "colab": {
          "base_uri": "https://localhost:8080/"
        },
        "id": "fDIFyiCP4Nv6",
        "outputId": "15de1302-26c8-4aed-e1dd-4f1b8453125d"
      },
      "execution_count": 12,
      "outputs": [
        {
          "output_type": "stream",
          "name": "stdout",
          "text": [
            "dhggf\n",
            "thanks\n"
          ]
        }
      ]
    },
    {
      "cell_type": "code",
      "source": [
        "x=2\n",
        "if x > 2:\n",
        "    x = x*2\n",
        "if x > 4:\n",
        "    x = 0\n",
        "print(x)"
      ],
      "metadata": {
        "colab": {
          "base_uri": "https://localhost:8080/"
        },
        "id": "7urQwAx00u7S",
        "outputId": "5fc1c6b9-fe7e-4e72-e1e3-ffab678c365c"
      },
      "execution_count": 11,
      "outputs": [
        {
          "output_type": "stream",
          "name": "stdout",
          "text": [
            "2\n"
          ]
        }
      ]
    },
    {
      "cell_type": "code",
      "source": [
        "print(1==\"1\")"
      ],
      "metadata": {
        "id": "aXCDcVOnp7pL",
        "colab": {
          "base_uri": "https://localhost:8080/"
        },
        "outputId": "f270ec60-43a4-4cc2-a216-101431c850a1"
      },
      "execution_count": 5,
      "outputs": [
        {
          "output_type": "stream",
          "name": "stdout",
          "text": [
            "False\n"
          ]
        }
      ]
    },
    {
      "cell_type": "code",
      "source": [
        "from numpy import linalg\n",
        "a = np.array([2,3,4,1,5]) \n",
        "linalg.norm(a, 1)"
      ],
      "metadata": {
        "colab": {
          "base_uri": "https://localhost:8080/",
          "height": 201
        },
        "id": "uYlwvFb-MpoS",
        "outputId": "4faa7681-c9da-494c-c7ac-331611a2f770"
      },
      "execution_count": 1,
      "outputs": [
        {
          "output_type": "error",
          "ename": "NameError",
          "evalue": "ignored",
          "traceback": [
            "\u001b[0;31m---------------------------------------------------------------------------\u001b[0m",
            "\u001b[0;31mNameError\u001b[0m                                 Traceback (most recent call last)",
            "\u001b[0;32m<ipython-input-1-9efdb9817c02>\u001b[0m in \u001b[0;36m<module>\u001b[0;34m\u001b[0m\n\u001b[1;32m      1\u001b[0m \u001b[0;32mfrom\u001b[0m \u001b[0mnumpy\u001b[0m \u001b[0;32mimport\u001b[0m \u001b[0mlinalg\u001b[0m\u001b[0;34m\u001b[0m\u001b[0;34m\u001b[0m\u001b[0m\n\u001b[0;32m----> 2\u001b[0;31m \u001b[0ma\u001b[0m \u001b[0;34m=\u001b[0m \u001b[0mnp\u001b[0m\u001b[0;34m.\u001b[0m\u001b[0marray\u001b[0m\u001b[0;34m(\u001b[0m\u001b[0;34m[\u001b[0m\u001b[0;36m2\u001b[0m\u001b[0;34m,\u001b[0m\u001b[0;36m3\u001b[0m\u001b[0;34m,\u001b[0m\u001b[0;36m4\u001b[0m\u001b[0;34m,\u001b[0m\u001b[0;36m1\u001b[0m\u001b[0;34m,\u001b[0m\u001b[0;36m5\u001b[0m\u001b[0;34m]\u001b[0m\u001b[0;34m)\u001b[0m\u001b[0;34m\u001b[0m\u001b[0;34m\u001b[0m\u001b[0m\n\u001b[0m\u001b[1;32m      3\u001b[0m \u001b[0mlinalg\u001b[0m\u001b[0;34m.\u001b[0m\u001b[0mnorm\u001b[0m\u001b[0;34m(\u001b[0m\u001b[0ma\u001b[0m\u001b[0;34m,\u001b[0m \u001b[0;36m1\u001b[0m\u001b[0;34m)\u001b[0m\u001b[0;34m\u001b[0m\u001b[0;34m\u001b[0m\u001b[0m\n",
            "\u001b[0;31mNameError\u001b[0m: name 'np' is not defined"
          ]
        }
      ]
    },
    {
      "cell_type": "code",
      "source": [
        "from numpy import array\n",
        "from numpy.linalg import norm\n",
        "arr = array([2, 3, 4, 1, 5])\n",
        "print(arr)\n",
        "norm_l2 = norm(arr)\n",
        "print(norm_l2)"
      ],
      "metadata": {
        "colab": {
          "base_uri": "https://localhost:8080/"
        },
        "id": "nz1Kv6sn7UcW",
        "outputId": "3cc5a820-3e37-4e26-e6de-9e1b0dd4de1e"
      },
      "execution_count": 2,
      "outputs": [
        {
          "output_type": "stream",
          "name": "stdout",
          "text": [
            "[2 3 4 1 5]\n",
            "7.416198487095663\n"
          ]
        }
      ]
    },
    {
      "cell_type": "code",
      "source": [
        "a= 5\n",
        "b= 10\n",
        "\n",
        "def func():\n",
        "  b= 15\n",
        "  print(a)\n",
        "  print(b)\n",
        "print(a)\n",
        "func()\n",
        "print(b)"
      ],
      "metadata": {
        "colab": {
          "base_uri": "https://localhost:8080/"
        },
        "id": "uvw8_zqS7--L",
        "outputId": "b51ce1d1-6531-464b-c41f-5059a8463b7e"
      },
      "execution_count": 3,
      "outputs": [
        {
          "output_type": "stream",
          "name": "stdout",
          "text": [
            "5\n",
            "5\n",
            "15\n",
            "10\n"
          ]
        }
      ]
    },
    {
      "cell_type": "code",
      "source": [
        "data =\"learning data science\"\n",
        "st =\"\"\n",
        "for i in range(len(data)):\n",
        "  st= data[i]+st\n",
        "print(st)"
      ],
      "metadata": {
        "colab": {
          "base_uri": "https://localhost:8080/"
        },
        "id": "uzgr5hOu_Iaz",
        "outputId": "7a14067b-d475-4f44-b714-3736a3eb85da"
      },
      "execution_count": 5,
      "outputs": [
        {
          "output_type": "stream",
          "name": "stdout",
          "text": [
            "ecneics atad gninrael\n"
          ]
        }
      ]
    },
    {
      "cell_type": "code",
      "source": [
        "arr = [2,4,6,8,10]\n",
        "for i in range(len(arr)):\n",
        "  for j in arr:\n",
        "    if arr[i]== j:\n",
        "      print (i,j)"
      ],
      "metadata": {
        "colab": {
          "base_uri": "https://localhost:8080/"
        },
        "id": "GJmOxG10_d4a",
        "outputId": "95fbd814-336d-499f-defb-cb9d2bc9df6b"
      },
      "execution_count": 6,
      "outputs": [
        {
          "output_type": "stream",
          "name": "stdout",
          "text": [
            "0 2\n",
            "1 4\n",
            "2 6\n",
            "3 8\n",
            "4 10\n"
          ]
        }
      ]
    },
    {
      "cell_type": "code",
      "source": [
        "name= input()\n",
        "if name:\n",
        "  print('thank you for submission')\n",
        "else:\n",
        "  print('no submission')"
      ],
      "metadata": {
        "colab": {
          "base_uri": "https://localhost:8080/"
        },
        "id": "2yfyPstjADgq",
        "outputId": "af6cfe2f-ec15-4993-9282-96882ff0fa9d"
      },
      "execution_count": 2,
      "outputs": [
        {
          "output_type": "stream",
          "name": "stdout",
          "text": [
            "\n",
            "no submission\n"
          ]
        }
      ]
    },
    {
      "cell_type": "code",
      "source": [
        "name= input()\n",
        "if name!= '':\n",
        "  print('thank you for submission')\n",
        "else:\n",
        "  print('no submission')\n"
      ],
      "metadata": {
        "colab": {
          "base_uri": "https://localhost:8080/"
        },
        "id": "tZQ6FAwQCtSO",
        "outputId": "903f8eba-2dfa-4476-f847-8b4ee5b5f198"
      },
      "execution_count": 4,
      "outputs": [
        {
          "output_type": "stream",
          "name": "stdout",
          "text": [
            "nom\n",
            "thank you for submission\n"
          ]
        }
      ]
    },
    {
      "cell_type": "code",
      "source": [
        "name= ''\n",
        "while name!= 'eliza':\n",
        "  print ('your name is = ')\n",
        "  name= input()\n",
        "print('thanks!')"
      ],
      "metadata": {
        "colab": {
          "base_uri": "https://localhost:8080/"
        },
        "id": "v9vZvX9XDX36",
        "outputId": "bafe4c4d-ebed-41ca-9313-f9b48be883a4"
      },
      "execution_count": 13,
      "outputs": [
        {
          "output_type": "stream",
          "name": "stdout",
          "text": [
            "your name is = \n",
            "eli\n",
            "your name is = \n",
            "elu\n",
            "your name is = \n",
            "eliza\n",
            "thanks!\n"
          ]
        }
      ]
    },
    {
      "cell_type": "code",
      "source": [
        "name= ''\n",
        "while True:\n",
        "  print('you name is = ')\n",
        "  name= input()\n",
        "  if name=='eliza':\n",
        "    break\n",
        "print('thanks!')\n",
        "  \n"
      ],
      "metadata": {
        "colab": {
          "base_uri": "https://localhost:8080/"
        },
        "id": "FbsiM0JRHnWn",
        "outputId": "a1b89d07-2094-451a-d6dc-d6efa532b08d"
      },
      "execution_count": 17,
      "outputs": [
        {
          "output_type": "stream",
          "name": "stdout",
          "text": [
            "you name is = \n",
            "el\n",
            "you name is = \n",
            "elisa\n",
            "you name is = \n",
            "eliza\n",
            "thanks!\n"
          ]
        }
      ]
    },
    {
      "cell_type": "code",
      "source": [
        "print(\"you should know that \")\n",
        "for i in range(5):\n",
        "  print(\"my name is jimmy \"+str(i))\n"
      ],
      "metadata": {
        "colab": {
          "base_uri": "https://localhost:8080/"
        },
        "id": "L3X6C6GXKuJG",
        "outputId": "b3970b99-4421-4fc7-a10f-d6ca7269d1ce"
      },
      "execution_count": 19,
      "outputs": [
        {
          "output_type": "stream",
          "name": "stdout",
          "text": [
            "you should know that \n",
            "my name is jimmy 0\n",
            "my name is jimmy 1\n",
            "my name is jimmy 2\n",
            "my name is jimmy 3\n",
            "my name is jimmy 4\n"
          ]
        }
      ]
    },
    {
      "cell_type": "code",
      "source": [
        "c=0\n",
        "for i in range(101):\n",
        "  c+= i\n",
        "print(c)"
      ],
      "metadata": {
        "colab": {
          "base_uri": "https://localhost:8080/"
        },
        "id": "RF7ClmwlRTB9",
        "outputId": "b91a83c5-70af-434b-d76f-32be32b8ac9c"
      },
      "execution_count": 21,
      "outputs": [
        {
          "output_type": "stream",
          "name": "stdout",
          "text": [
            "5050\n"
          ]
        }
      ]
    },
    {
      "cell_type": "code",
      "source": [
        "print(\"new function that needs to be known\")\n",
        "for i in range(12,-3,-2):\n",
        "  print('my name is = '+str(i))"
      ],
      "metadata": {
        "colab": {
          "base_uri": "https://localhost:8080/"
        },
        "id": "08EStgjKR_kH",
        "outputId": "5d54bd8f-d25b-4cb2-8dac-226aaf436506"
      },
      "execution_count": 25,
      "outputs": [
        {
          "output_type": "stream",
          "name": "stdout",
          "text": [
            "new function that needs to be known\n",
            "my name is = 12\n",
            "my name is = 10\n",
            "my name is = 8\n",
            "my name is = 6\n",
            "my name is = 4\n",
            "my name is = 2\n",
            "my name is = 0\n",
            "my name is = -2\n"
          ]
        }
      ]
    },
    {
      "cell_type": "code",
      "source": [
        "N= int(input())\n",
        "if N%3==0 and N%5==0:\n",
        "  print('fizzbuzz')\n",
        "elif N%3==0:\n",
        "  print('fizz')\n",
        "elif N%5==0:\n",
        "  print('buzz')\n",
        "else:\n",
        "  print('')"
      ],
      "metadata": {
        "colab": {
          "base_uri": "https://localhost:8080/"
        },
        "id": "sqyJpqMGTRB1",
        "outputId": "d5896ba8-da48-4214-afe1-349b23799cb3"
      },
      "execution_count": 5,
      "outputs": [
        {
          "output_type": "stream",
          "name": "stdout",
          "text": [
            "15\n",
            "fizzbuzz\n"
          ]
        }
      ]
    },
    {
      "cell_type": "code",
      "source": [
        "eng= int(input())\n",
        "mat= int(input())\n",
        "sci =int(input())\n",
        "\n",
        "\n",
        "if((sci >90) or (eng>75 and sci >75 and mat>75)):\n",
        "  print('science')\n",
        "elif((eng>=60 and sci >=60 and mat>=60) ):\n",
        "  print ('commerce')\n",
        "else:\n",
        "  print('humanities')\n",
        "\n",
        "\n"
      ],
      "metadata": {
        "colab": {
          "base_uri": "https://localhost:8080/"
        },
        "id": "yMBl2qZBzCng",
        "outputId": "1c28ae33-cbbf-4695-aa88-ac318b77c0f3"
      },
      "execution_count": 14,
      "outputs": [
        {
          "output_type": "stream",
          "name": "stdout",
          "text": [
            "90\n",
            "56\n",
            "98\n",
            "science\n"
          ]
        }
      ]
    },
    {
      "cell_type": "code",
      "source": [
        "\n",
        "# Build a meter system for an auto. Take into two inputs. \n",
        "# Kilometers Travelled and Stall Time (in minutes). Rate List -\n",
        "# - First 10 kms - Rs 10 per Km\n",
        "# - Next 40 kms - Rs 9 per Km\n",
        "# - Next 100 kms - Rs 8 per Km\n",
        "# - Any leftover km count - Rs. 6 per Km\n",
        "\n",
        "# - Rs 5 extra for every minute of Stall Time.\n"
      ],
      "metadata": {
        "id": "QefOpn1e3EOC"
      },
      "execution_count": 16,
      "outputs": []
    },
    {
      "cell_type": "code",
      "source": [
        "dist =int(input())\n",
        "stall=int(input())\n",
        "\n",
        "if(dist<=10 and stall>0):\n",
        "  print(\"Rate is = \"+str((dist*10)+(stall*5)))\n",
        "elif ((dist<=40 and dist>10) and stall>0):\n",
        "  print(\"Rate is = \"+str((dist*9)+(stall*5)))\n",
        "elif ((dist<=100 and dist>40) and stall>0):\n",
        "  print(\"Rate is = \"+str((dist*8)+(stall*5)))\n",
        "else:\n",
        "  print(\"Rate is = \"+str((dist*6)+(stall*5)))"
      ],
      "metadata": {
        "colab": {
          "base_uri": "https://localhost:8080/"
        },
        "id": "BVA-YqlF9LG7",
        "outputId": "2de82d79-ea15-4e59-c95c-5cccfc678562"
      },
      "execution_count": 19,
      "outputs": [
        {
          "output_type": "stream",
          "name": "stdout",
          "text": [
            "40\n",
            "2\n",
            "Rate is = 370\n"
          ]
        }
      ]
    },
    {
      "cell_type": "code",
      "source": [
        "# 2. Generate electricity bill using the following rate card.\n",
        "# Take units consumed as input -\n",
        "# - If < 100 units -> Free\n",
        "# - If >= 100 units and < 200 units -> Rs 2 per unit\n",
        "# - If >= 200 units -> Rs 5 per unit"
      ],
      "metadata": {
        "id": "k-8mFAqJARvs"
      },
      "execution_count": null,
      "outputs": []
    },
    {
      "cell_type": "code",
      "source": [],
      "metadata": {
        "id": "qxDsZDaBBUhF"
      },
      "execution_count": null,
      "outputs": []
    }
  ]
}