{
  "nbformat": 4,
  "nbformat_minor": 0,
  "metadata": {
    "colab": {
      "provenance": [],
      "authorship_tag": "ABX9TyMDjlF+GofphZcLTjdPnl/W",
      "include_colab_link": true
    },
    "kernelspec": {
      "name": "python3",
      "display_name": "Python 3"
    },
    "language_info": {
      "name": "python"
    }
  },
  "cells": [
    {
      "cell_type": "markdown",
      "metadata": {
        "id": "view-in-github",
        "colab_type": "text"
      },
      "source": [
        "<a href=\"https://colab.research.google.com/github/dmish10/Scaler_Homework/blob/master/pattern_printing_17thoct.ipynb\" target=\"_parent\"><img src=\"https://colab.research.google.com/assets/colab-badge.svg\" alt=\"Open In Colab\"/></a>"
      ]
    },
    {
      "cell_type": "code",
      "execution_count": null,
      "metadata": {
        "colab": {
          "base_uri": "https://localhost:8080/",
          "height": 35
        },
        "id": "USSwoM7Cnr2d",
        "outputId": "40be12ba-81fc-400b-a36c-52a216c4c950"
      },
      "outputs": [
        {
          "output_type": "execute_result",
          "data": {
            "text/plain": [
              "'Print the following pattern \\n5\\n*\\n**\\n***\\n****\\n*****\\n\\n'"
            ],
            "application/vnd.google.colaboratory.intrinsic+json": {
              "type": "string"
            }
          },
          "metadata": {},
          "execution_count": 1
        }
      ],
      "source": [
        "\"\"\"Print the following pattern \n",
        "5\n",
        "*\n",
        "**\n",
        "***\n",
        "****\n",
        "*****\n",
        "\n",
        "\"\"\""
      ]
    },
    {
      "cell_type": "code",
      "source": [
        "n= int(input())\n",
        "\n",
        "for i in range(1,n+1):\n",
        "  print(\"*\"*i)"
      ],
      "metadata": {
        "colab": {
          "base_uri": "https://localhost:8080/"
        },
        "id": "jDn2XjgJn9fH",
        "outputId": "63bb1b30-a46b-45ec-dc31-553c4fc63c9e"
      },
      "execution_count": null,
      "outputs": [
        {
          "output_type": "stream",
          "name": "stdout",
          "text": [
            "5\n",
            "*\n",
            "**\n",
            "***\n",
            "****\n",
            "*****\n"
          ]
        }
      ]
    },
    {
      "cell_type": "code",
      "source": [
        "\"\"\"\" Ques 2- \n",
        "\n",
        "print the following pattern\n",
        "input(5)\n",
        "1\n",
        "12\n",
        "123\n",
        "1234\n",
        "12345 \"\"\"\n"
      ],
      "metadata": {
        "colab": {
          "base_uri": "https://localhost:8080/",
          "height": 35
        },
        "id": "yE8eXayfoINS",
        "outputId": "a3b88cff-5eeb-41bd-de30-35f5021e8620"
      },
      "execution_count": null,
      "outputs": [
        {
          "output_type": "execute_result",
          "data": {
            "text/plain": [
              "'\" Ques 2- \\n\\nprint the following pattern\\ninput(5)\\n1\\n12\\n123\\n1234\\n12345 '"
            ],
            "application/vnd.google.colaboratory.intrinsic+json": {
              "type": "string"
            }
          },
          "metadata": {},
          "execution_count": 19
        }
      ]
    },
    {
      "cell_type": "code",
      "source": [
        "n= int(input())\n",
        "\n",
        "for i in range(1,n+1):\n",
        "  for j in range(1,i+1):\n",
        "    print(j, end=\"\")\n",
        "\n",
        "  print()\n"
      ],
      "metadata": {
        "colab": {
          "base_uri": "https://localhost:8080/"
        },
        "id": "NoayeVZWoSL5",
        "outputId": "2be978cc-e1e3-4fae-bb7b-56c83ba18ac1"
      },
      "execution_count": null,
      "outputs": [
        {
          "output_type": "stream",
          "name": "stdout",
          "text": [
            "5\n",
            "1\n",
            "12\n",
            "123\n",
            "1234\n",
            "12345\n"
          ]
        }
      ]
    },
    {
      "cell_type": "code",
      "source": [
        "\"\"\"\" Ques 3- \n",
        "print the following pattern\n",
        "*\n",
        "*2\n",
        "*2*\n",
        "*2*4\n",
        "*2*4*\n",
        "*2*4*6\n",
        "*2*4*6*\n",
        "*2*4*6*8\n",
        "*2*4*6*8*\n",
        "*2*4*6*8*10\n",
        "\n",
        "\"\"\""
      ],
      "metadata": {
        "colab": {
          "base_uri": "https://localhost:8080/",
          "height": 35
        },
        "id": "zuhWkyUwo_dF",
        "outputId": "de161d20-07f2-490b-cc05-f10fd9a765ea"
      },
      "execution_count": null,
      "outputs": [
        {
          "output_type": "execute_result",
          "data": {
            "text/plain": [
              "'\" Ques 3- \\nprint the following pattern\\n*\\n*2\\n*2*\\n*2*4\\n*2*4*\\n*2*4*6\\n*2*4*6*\\n*2*4*6*8\\n*2*4*6*8*\\n*2*4*6*8*10\\n\\n'"
            ],
            "application/vnd.google.colaboratory.intrinsic+json": {
              "type": "string"
            }
          },
          "metadata": {},
          "execution_count": 22
        }
      ]
    },
    {
      "cell_type": "code",
      "source": [
        "n= int(input())\n",
        "\n",
        "for i in range(1,n+1):\n",
        "  for j in range(1,i+1):\n",
        "    if j%2==1:\n",
        "      print(\"*\", end=\"\")\n",
        "    else:\n",
        "      print(j, end=\"\")\n",
        "\n",
        "  print()"
      ],
      "metadata": {
        "colab": {
          "base_uri": "https://localhost:8080/"
        },
        "id": "o06mary9qmwQ",
        "outputId": "cf0c2c79-07cd-4b46-ee9c-4c51f916862d"
      },
      "execution_count": null,
      "outputs": [
        {
          "output_type": "stream",
          "name": "stdout",
          "text": [
            "10\n",
            "*\n",
            "*2\n",
            "*2*\n",
            "*2*4\n",
            "*2*4*\n",
            "*2*4*6\n",
            "*2*4*6*\n",
            "*2*4*6*8\n",
            "*2*4*6*8*\n",
            "*2*4*6*8*10\n"
          ]
        }
      ]
    },
    {
      "cell_type": "code",
      "source": [
        "n= int(input())\n",
        "\n",
        "for i in range(n):\n",
        "  for j in range(n-i):\n",
        "    print(\"*\",end=\"\")\n",
        "  print()\n"
      ],
      "metadata": {
        "colab": {
          "base_uri": "https://localhost:8080/"
        },
        "id": "7vnGl_gNqmBK",
        "outputId": "d460b021-7d4f-4579-8f66-fc15fb777bc3"
      },
      "execution_count": null,
      "outputs": [
        {
          "output_type": "stream",
          "name": "stdout",
          "text": [
            "5\n",
            "*****\n",
            "****\n",
            "***\n",
            "**\n",
            "*\n"
          ]
        }
      ]
    },
    {
      "cell_type": "code",
      "source": [
        "n= int(input())\n",
        "\n",
        "for i in range(n):\n",
        "  print(\"*\"*(n-i))\n",
        "print()"
      ],
      "metadata": {
        "colab": {
          "base_uri": "https://localhost:8080/"
        },
        "id": "QyLrIM35r7v8",
        "outputId": "2fe9bf41-cad8-41a6-a67c-177eb8ae3ecc"
      },
      "execution_count": null,
      "outputs": [
        {
          "output_type": "stream",
          "name": "stdout",
          "text": [
            "5\n",
            "*****\n",
            "****\n",
            "***\n",
            "**\n",
            "*\n",
            "\n"
          ]
        }
      ]
    },
    {
      "cell_type": "code",
      "source": [
        "\"\"\" print below pattern\"\"\"\n",
        "\n",
        "n= int(input())\n",
        "\n",
        "for i in range(n):\n",
        "  for j in range(n-i-1):\n",
        "    print(\" \", end=\"\")\n",
        "  for k in range(i+1):\n",
        "    print(\"*\",end=\"\")\n",
        "  print()"
      ],
      "metadata": {
        "colab": {
          "base_uri": "https://localhost:8080/"
        },
        "id": "yZUODcsUs4Xd",
        "outputId": "0419a4df-f3db-4f2a-a962-bc865e1822be"
      },
      "execution_count": null,
      "outputs": [
        {
          "output_type": "stream",
          "name": "stdout",
          "text": [
            "7\n",
            "      *\n",
            "     **\n",
            "    ***\n",
            "   ****\n",
            "  *****\n",
            " ******\n",
            "*******\n"
          ]
        }
      ]
    },
    {
      "cell_type": "code",
      "source": [
        "\"\"\" print above question using string mulitplication\"\"\""
      ],
      "metadata": {
        "colab": {
          "base_uri": "https://localhost:8080/",
          "height": 35
        },
        "id": "2-anlR_Lt8Qr",
        "outputId": "44b18593-c6c2-4429-d886-b7f85fb462fc"
      },
      "execution_count": null,
      "outputs": [
        {
          "output_type": "execute_result",
          "data": {
            "text/plain": [
              "' print above question using string mulitplication'"
            ],
            "application/vnd.google.colaboratory.intrinsic+json": {
              "type": "string"
            }
          },
          "metadata": {},
          "execution_count": 46
        }
      ]
    },
    {
      "cell_type": "code",
      "source": [
        "\n",
        "\"\"\" take name as input from user and print the following pattern using that name\n",
        "input= shikha\n",
        "output= \n",
        "S*****\n",
        "*H****\n",
        "**I***\n",
        "***K**\n",
        "****H*\n",
        "*****A\"\"\""
      ],
      "metadata": {
        "colab": {
          "base_uri": "https://localhost:8080/",
          "height": 35
        },
        "id": "dY4PYlwkvazZ",
        "outputId": "c26f0d21-9826-4abe-9527-ca75a4dbcf3e"
      },
      "execution_count": null,
      "outputs": [
        {
          "output_type": "execute_result",
          "data": {
            "text/plain": [
              "' take name as input from user and print the following pattern using that name\\ninput= shikha\\noutput= \\nS*****\\n*H****\\n**I***\\n***K**\\n****H*\\n*****A'"
            ],
            "application/vnd.google.colaboratory.intrinsic+json": {
              "type": "string"
            }
          },
          "metadata": {},
          "execution_count": 49
        }
      ]
    },
    {
      "cell_type": "code",
      "source": [
        "name= input()\n",
        "n=len(name)\n",
        "\n",
        "\n",
        "for i in range(n):\n",
        "  for j in range(n):\n",
        "    if i==j:\n",
        "      print(name[i], end=\"\")\n",
        "    else:\n",
        "      print(\"*\", end=\"\")\n",
        "  print()"
      ],
      "metadata": {
        "colab": {
          "base_uri": "https://localhost:8080/"
        },
        "id": "eDo38vSqwZdh",
        "outputId": "74627696-ab67-40fd-ec07-86a0f0f439fe"
      },
      "execution_count": null,
      "outputs": [
        {
          "output_type": "stream",
          "name": "stdout",
          "text": [
            "UNDERTHETREE\n",
            "U***********\n",
            "*N**********\n",
            "**D*********\n",
            "***E********\n",
            "****R*******\n",
            "*****T******\n",
            "******H*****\n",
            "*******E****\n",
            "********T***\n",
            "*********R**\n",
            "**********E*\n",
            "***********E\n"
          ]
        }
      ]
    },
    {
      "cell_type": "code",
      "source": [
        "a= 5\n",
        "b=10.0\n",
        "c=a+b\n",
        "print(type(c))\n",
        "  "
      ],
      "metadata": {
        "id": "7qab0T3IxS8t",
        "colab": {
          "base_uri": "https://localhost:8080/"
        },
        "outputId": "87ff9817-29ce-4eef-efb7-84fdfb17709f"
      },
      "execution_count": null,
      "outputs": [
        {
          "output_type": "stream",
          "name": "stdout",
          "text": [
            "<class 'float'>\n"
          ]
        }
      ]
    },
    {
      "cell_type": "code",
      "source": [
        "N= int(input())\n",
        "\n",
        "for i in range(N):\n",
        "  for j in range(1):\n",
        "    print(\"*    \", end=\"\")\n",
        "  print(\"*\")"
      ],
      "metadata": {
        "colab": {
          "base_uri": "https://localhost:8080/"
        },
        "id": "IClY31BtnWaU",
        "outputId": "aa264f5e-24b8-4a9e-8079-1d7730c99f54"
      },
      "execution_count": null,
      "outputs": [
        {
          "output_type": "stream",
          "name": "stdout",
          "text": [
            "5\n",
            "*    *\n",
            "*    *\n",
            "*    *\n",
            "*    *\n",
            "*    *\n"
          ]
        }
      ]
    },
    {
      "cell_type": "code",
      "source": [
        "N= int(input())\n",
        "\n",
        "for i in range(N):\n",
        "  for j in range(1):\n",
        "    print(\"*\",\" \"*(N-2), end=\"\")\n",
        "  print(\"*\")"
      ],
      "metadata": {
        "colab": {
          "base_uri": "https://localhost:8080/"
        },
        "id": "ZhpOI2mqoz6R",
        "outputId": "7f5e0773-096a-4b85-f2d2-502559cdc78d"
      },
      "execution_count": null,
      "outputs": [
        {
          "output_type": "stream",
          "name": "stdout",
          "text": [
            "5\n",
            "*    *\n",
            "*    *\n",
            "*    *\n",
            "*    *\n",
            "*    *\n"
          ]
        }
      ]
    },
    {
      "cell_type": "code",
      "source": [
        "n= int(input())\n",
        "\n",
        "for i in range(n):\n",
        "  for j in range(n-i):\n",
        "    print(\"*\",end=\"\")\n",
        "  print()"
      ],
      "metadata": {
        "colab": {
          "base_uri": "https://localhost:8080/"
        },
        "id": "QMGLQBy9rubE",
        "outputId": "23fae62c-5370-4292-eb15-e72c6f51d3f9"
      },
      "execution_count": null,
      "outputs": [
        {
          "output_type": "stream",
          "name": "stdout",
          "text": [
            "5\n",
            "*****\n",
            "****\n",
            "***\n",
            "**\n",
            "*\n"
          ]
        }
      ]
    },
    {
      "cell_type": "code",
      "source": [
        "n=4\n",
        "m=3\n",
        "\n",
        "for i in range(1):\n",
        "  for j in range(m):\n",
        "    print(\"*\"*n)\n",
        "  print()\n",
        "    "
      ],
      "metadata": {
        "colab": {
          "base_uri": "https://localhost:8080/"
        },
        "id": "5JPwbbHwterg",
        "outputId": "7f591d73-15bf-4790-9ff0-ccdf0584a3c7"
      },
      "execution_count": null,
      "outputs": [
        {
          "output_type": "stream",
          "name": "stdout",
          "text": [
            "****\n",
            "****\n",
            "****\n",
            "\n"
          ]
        }
      ]
    },
    {
      "cell_type": "code",
      "source": [
        "n=5\n",
        "\n",
        "for i in range(n):\n",
        "  for j in range(i,n):\n",
        "    print(\"*\", end=\"\")\n",
        "  print()"
      ],
      "metadata": {
        "colab": {
          "base_uri": "https://localhost:8080/"
        },
        "id": "ty2XR9hCy8bc",
        "outputId": "9300fa9d-2981-4742-ea3d-21234a69a4db"
      },
      "execution_count": null,
      "outputs": [
        {
          "output_type": "stream",
          "name": "stdout",
          "text": [
            "*****\n",
            "****\n",
            "***\n",
            "**\n",
            "*\n"
          ]
        }
      ]
    },
    {
      "cell_type": "code",
      "source": [
        "N= int(input())\n",
        "\n",
        "for i in range(N):\n",
        "  for j in range(1,2):\n",
        "    print(\"*\",\" \"*(N-i), end=\"\")\n",
        "  print(\"*\")\n"
      ],
      "metadata": {
        "colab": {
          "base_uri": "https://localhost:8080/"
        },
        "id": "rifM_DI_zKmv",
        "outputId": "e3970cad-2ec3-4e37-e39f-fce14746b27a"
      },
      "execution_count": null,
      "outputs": [
        {
          "output_type": "stream",
          "name": "stdout",
          "text": [
            "5\n",
            "*      *\n",
            "*     *\n",
            "*    *\n",
            "*   *\n",
            "*  *\n"
          ]
        }
      ]
    },
    {
      "cell_type": "code",
      "source": [
        "N= int(input())\n",
        "\n",
        "for i in range(N):\n",
        "  for j in range(1,2):\n",
        "    print(\"*\",\" \"*(N-1-i), end=\"\")\n",
        "  print(\"*\")"
      ],
      "metadata": {
        "colab": {
          "base_uri": "https://localhost:8080/"
        },
        "id": "EZKXZmmIBihj",
        "outputId": "d380cd23-f11d-4993-fa2b-70b5d617cafb"
      },
      "execution_count": null,
      "outputs": [
        {
          "output_type": "stream",
          "name": "stdout",
          "text": [
            "5\n",
            "*     *\n",
            "*    *\n",
            "*   *\n",
            "*  *\n",
            "* *\n"
          ]
        }
      ]
    },
    {
      "cell_type": "code",
      "source": [
        "n=int(input())\n",
        "\n",
        "for i in range(n):\n",
        "  for j in range(n-i-1):\n",
        "    print(\" \", end=\"\")\n",
        "  for k in range(i+1):\n",
        "    print(\"* \",end=\"\")\n",
        "  print( )"
      ],
      "metadata": {
        "colab": {
          "base_uri": "https://localhost:8080/"
        },
        "id": "UB8wcOwACPaM",
        "outputId": "be5c047f-8330-40da-8879-cd56c2b9f49b"
      },
      "execution_count": null,
      "outputs": [
        {
          "output_type": "stream",
          "name": "stdout",
          "text": [
            "5\n",
            "    * \n",
            "   * * \n",
            "  * * * \n",
            " * * * * \n",
            "* * * * * \n"
          ]
        }
      ]
    },
    {
      "cell_type": "code",
      "source": [
        "n=int(input())\n",
        "\n",
        "for i in range(n):\n",
        "  for j in range(n-i-1):\n",
        "    print(\" \", end=\"\")\n",
        "  for k in range(i+1):\n",
        "    print(\"*\",end=\"\")\n",
        "  print( )"
      ],
      "metadata": {
        "colab": {
          "base_uri": "https://localhost:8080/"
        },
        "id": "YbhthZymFYDI",
        "outputId": "c7b8927c-2850-484f-feee-7872bb1bc4b9"
      },
      "execution_count": null,
      "outputs": [
        {
          "output_type": "stream",
          "name": "stdout",
          "text": [
            "5\n",
            "    *\n",
            "   **\n",
            "  ***\n",
            " ****\n",
            "*****\n"
          ]
        }
      ]
    },
    {
      "cell_type": "code",
      "source": [
        "N= int(input())\n",
        "\n",
        "for i in range(N):\n",
        "  for j in range(0,1):\n",
        "    print(\"*\",\" \"*(N-2), end=\"\")\n",
        "    # print(\"*\", end=\"   \")\n",
        "  print(\"*\")"
      ],
      "metadata": {
        "colab": {
          "base_uri": "https://localhost:8080/"
        },
        "id": "ColbGKLQGmjs",
        "outputId": "8bbeae4c-b5ad-4831-9b12-d155126fe790"
      },
      "execution_count": null,
      "outputs": [
        {
          "output_type": "stream",
          "name": "stdout",
          "text": [
            "3\n",
            "*  *\n",
            "*  *\n",
            "*  *\n"
          ]
        }
      ]
    },
    {
      "cell_type": "code",
      "source": [
        " N = int(input())\n",
        "S = N-2\n",
        "for i in range(1,N+1):\n",
        "  print('*',end='')\n",
        "  print(' '*S,end='')\n",
        "  print('*',end='')\n",
        "  print()"
      ],
      "metadata": {
        "colab": {
          "base_uri": "https://localhost:8080/"
        },
        "id": "YIKvDC3BGr9P",
        "outputId": "bc964999-d6b8-4ab6-d425-3a56b12bdd59"
      },
      "execution_count": null,
      "outputs": [
        {
          "output_type": "stream",
          "name": "stdout",
          "text": [
            "5\n",
            "*   *\n",
            "*   *\n",
            "*   *\n",
            "*   *\n",
            "*   *\n"
          ]
        }
      ]
    },
    {
      "cell_type": "code",
      "source": [
        "n=5\n",
        "\n",
        "for i in range(n):\n",
        "  for k in range(i+1):\n",
        "    print(\" \", end=\"\")\n",
        "  for j in range(n-i):\n",
        "    print(\"*\", end=\"\")\n",
        "    \n",
        "  print()"
      ],
      "metadata": {
        "colab": {
          "base_uri": "https://localhost:8080/"
        },
        "id": "UILdMGsvHeeZ",
        "outputId": "46c95afd-ed30-4b02-9cb6-a2b21b6a636f"
      },
      "execution_count": null,
      "outputs": [
        {
          "output_type": "stream",
          "name": "stdout",
          "text": [
            " *****\n",
            "  ****\n",
            "   ***\n",
            "    **\n",
            "     *\n"
          ]
        }
      ]
    },
    {
      "cell_type": "code",
      "source": [
        "n=5\n",
        "\n",
        "for i in range(n):\n",
        "  for j in range(n-i):\n",
        "    print(\"-\",end=\"\")\n",
        "  for k in range(i+1):\n",
        "    print(\"*\", end=\"\")\n",
        "  print()"
      ],
      "metadata": {
        "colab": {
          "base_uri": "https://localhost:8080/"
        },
        "id": "TBH5jArwZP6J",
        "outputId": "48d5456f-e9fc-45df-e512-313bf63c5dc0"
      },
      "execution_count": null,
      "outputs": [
        {
          "output_type": "stream",
          "name": "stdout",
          "text": [
            "-----*\n",
            "----**\n",
            "---***\n",
            "--****\n",
            "-*****\n"
          ]
        }
      ]
    },
    {
      "cell_type": "code",
      "source": [
        "n=5\n",
        "\n",
        "for i in range(n):\n",
        "  for j in range(i):\n",
        "    print(\"-\",end=\"\")\n",
        "  for k in range(n-i):\n",
        "    print(\"*\", end=\"\")\n",
        "  print()"
      ],
      "metadata": {
        "colab": {
          "base_uri": "https://localhost:8080/"
        },
        "id": "JMLGGk-9l6Rc",
        "outputId": "73c99052-8fbe-462a-c442-912ef603fe20"
      },
      "execution_count": null,
      "outputs": [
        {
          "output_type": "stream",
          "name": "stdout",
          "text": [
            "*****\n",
            "-****\n",
            "--***\n",
            "---**\n",
            "----*\n"
          ]
        }
      ]
    },
    {
      "cell_type": "code",
      "source": [
        "n=5\n",
        "for i in range(n+1):\n",
        "  for j in range(i):\n",
        "    print(\" \", end=\"\")\n",
        "  for k in range(n-i):\n",
        "    print(\"* \",end=\"\")\n",
        "  print( )"
      ],
      "metadata": {
        "colab": {
          "base_uri": "https://localhost:8080/"
        },
        "id": "fZXj6ajgmdwj",
        "outputId": "5880a7a7-a9d6-4663-da17-0044b13bc402"
      },
      "execution_count": null,
      "outputs": [
        {
          "output_type": "stream",
          "name": "stdout",
          "text": [
            "* * * * * \n",
            " * * * * \n",
            "  * * * \n",
            "   * * \n",
            "    * \n",
            "     \n"
          ]
        }
      ]
    },
    {
      "cell_type": "code",
      "source": [
        "n=5\n",
        "for i in range(n+1):\n",
        "  for j in range(i):\n",
        "    print(\"*\", end=\"\")\n",
        "  print()\n",
        "for s in range(n+1):\n",
        "  for l in range(n-s):\n",
        "    print(\"*\", end=\"\")\n",
        "  print()\n"
      ],
      "metadata": {
        "colab": {
          "base_uri": "https://localhost:8080/"
        },
        "id": "10PWFYhqtAzP",
        "outputId": "fdb56311-c700-432a-f68d-19e1febea241"
      },
      "execution_count": null,
      "outputs": [
        {
          "output_type": "stream",
          "name": "stdout",
          "text": [
            "\n",
            "*\n",
            "**\n",
            "***\n",
            "****\n",
            "*****\n",
            "*****\n",
            "****\n",
            "***\n",
            "**\n",
            "*\n",
            "\n"
          ]
        }
      ]
    },
    {
      "cell_type": "code",
      "source": [
        "n=int(input())\n",
        "for i in range(n+1):\n",
        "  for j in range(i):\n",
        "    print(\"*\", end=\"\")\n",
        "  print()\n",
        "for s in range(n-1):\n",
        "  for l in range(n-s-1):\n",
        "    print(\"*\", end=\"\")\n",
        "  print()"
      ],
      "metadata": {
        "colab": {
          "base_uri": "https://localhost:8080/"
        },
        "id": "Qj5FBQPFzUqp",
        "outputId": "5c9500ee-6c42-4337-89ef-f5727ec406bf"
      },
      "execution_count": null,
      "outputs": [
        {
          "output_type": "stream",
          "name": "stdout",
          "text": [
            "5\n",
            "\n",
            "*\n",
            "**\n",
            "***\n",
            "****\n",
            "*****\n",
            "****\n",
            "***\n",
            "**\n",
            "*\n"
          ]
        }
      ]
    },
    {
      "cell_type": "code",
      "source": [
        "n=int(input())\n",
        "for i in range(2*n):\n",
        "  for j in range(i):\n",
        "    print(\"*\", end=\"\")\n",
        "  print()\n",
        "for s in range(2*n-1):\n",
        "  for l in range((2*n-1)-s-1):\n",
        "    print(\"*\", end=\"\")\n",
        "  print()"
      ],
      "metadata": {
        "colab": {
          "base_uri": "https://localhost:8080/"
        },
        "id": "ZgniXPWx1_f4",
        "outputId": "fbff09c8-5623-4f3e-c381-888537a6d4d3"
      },
      "execution_count": null,
      "outputs": [
        {
          "output_type": "stream",
          "name": "stdout",
          "text": [
            "5\n",
            "\n",
            "*\n",
            "**\n",
            "***\n",
            "****\n",
            "*****\n",
            "******\n",
            "*******\n",
            "********\n",
            "*********\n",
            "********\n",
            "*******\n",
            "******\n",
            "*****\n",
            "****\n",
            "***\n",
            "**\n",
            "*\n",
            "\n"
          ]
        }
      ]
    },
    {
      "cell_type": "code",
      "source": [
        "# n=int(input())\n",
        "n=5\n",
        "for i in range(n+1):\n",
        "  for j in range(n-i):\n",
        "    print(\"*\", end=\"\")\n",
        "  \n",
        "  for k in range(i):\n",
        "    print(\" \", end=\"\") \n",
        "    \n",
        "  for l in range(i):\n",
        "    print(\" \", end=\"\")\n",
        "\n",
        "  for m in range(n-i):\n",
        "    print(\"*\", end=\"\") \n",
        "  print()\n",
        " "
      ],
      "metadata": {
        "colab": {
          "base_uri": "https://localhost:8080/"
        },
        "id": "lXgezdpJ3HH5",
        "outputId": "b0597e6a-19e2-4630-a264-4ba8dcb3efe6"
      },
      "execution_count": null,
      "outputs": [
        {
          "output_type": "stream",
          "name": "stdout",
          "text": [
            "**********\n",
            "****  ****\n",
            "***    ***\n",
            "**      **\n",
            "*        *\n",
            "          \n"
          ]
        }
      ]
    },
    {
      "cell_type": "code",
      "source": [
        "n=5\n",
        "for i in range(n):\n",
        "  for j in range(n-i):\n",
        "    print(\"0\", end=\"\")\n",
        "  \n",
        "  for k in range(i+1):\n",
        "    print((n-i), end=\"\") \n",
        "  \n",
        "  for l in range(i):\n",
        "    print(i*2, end=\"\")\n",
        "\n",
        "  for m in range(n-i):\n",
        "    print(\"0\", end=\"\") \n",
        "  print()"
      ],
      "metadata": {
        "colab": {
          "base_uri": "https://localhost:8080/"
        },
        "id": "9k8SmGL6_ss_",
        "outputId": "00895f43-15e6-4cf6-af93-28a1bcbf4fb6"
      },
      "execution_count": null,
      "outputs": [
        {
          "output_type": "stream",
          "name": "stdout",
          "text": [
            "00000500000\n",
            "00004420000\n",
            "00033344000\n",
            "00222266600\n",
            "01111188880\n"
          ]
        }
      ]
    },
    {
      "cell_type": "code",
      "source": [
        "N= int (input())\n",
        "\n",
        "for i in range(1,N+1) :\n",
        "\n",
        "  for j in range (N-i):\n",
        "\n",
        "    print(\"0\", end=\" \")\n",
        "\n",
        "  for k in range(1,2*i):\n",
        "\n",
        "    if k<=i:\n",
        "\n",
        "      print(k+i-1, end=\" \")\n",
        "\n",
        "    elif k>i:\n",
        "\n",
        "      print (3*i-k-1, end=\" \")\n",
        "\n",
        "  for r in range(N-i):\n",
        "\n",
        "    print(\"0\", end=\" \")\n",
        "\n",
        "  print()"
      ],
      "metadata": {
        "colab": {
          "base_uri": "https://localhost:8080/"
        },
        "id": "2d-0W5s1GAu7",
        "outputId": "a9dfe93b-9e0f-45f2-9e6e-002d4bd459d9"
      },
      "execution_count": null,
      "outputs": [
        {
          "output_type": "stream",
          "name": "stdout",
          "text": [
            "5\n",
            "0 0 0 0 1 0 0 0 0 \n",
            "0 0 0 2 3 2 0 0 0 \n",
            "0 0 3 4 5 4 3 0 0 \n",
            "0 4 5 6 7 6 5 4 0 \n",
            "5 6 7 8 9 8 7 6 5 \n"
          ]
        }
      ]
    },
    {
      "cell_type": "code",
      "source": [
        "n=5\n",
        "\n",
        "for i in range(1,n+1):\n",
        "  for j in range(n-i):\n",
        "    print(\"0\", end=\" \")\n",
        "  \n",
        "  # for k in range(1,2*i):\n",
        "  #   if k<=i:\n",
        "  #     print(k+i-1,end=\" \")\n",
        "  #   else:\n",
        "  #     print(3*i-k-1, end=\" \")\n",
        "\n",
        "  # for l in range(n-i):\n",
        "  #   print(\"0\", end=\" \")\n",
        "  # print()\n"
      ],
      "metadata": {
        "colab": {
          "base_uri": "https://localhost:8080/"
        },
        "id": "4HKH29DtK9BM",
        "outputId": "8da66ea0-cc09-4deb-aa02-210486a9d955"
      },
      "execution_count": null,
      "outputs": [
        {
          "output_type": "stream",
          "name": "stdout",
          "text": [
            "0 0 0 0 0 0 0 0 0 0 "
          ]
        }
      ]
    },
    {
      "cell_type": "code",
      "source": [
        "n=5\n",
        "\n",
        "for i in range(1,n+1):\n",
        "  for j in range(1,i+1):\n",
        "    if j%2!=0:\n",
        "      print(j, end=\"\")\n",
        "    else:\n",
        "      print(\"_\", end=\"\")\n",
        "\n",
        "  print()"
      ],
      "metadata": {
        "colab": {
          "base_uri": "https://localhost:8080/"
        },
        "id": "jKl-hLif8jFu",
        "outputId": "7b61a53a-b658-4bbb-eb97-d926da2ef0d4"
      },
      "execution_count": null,
      "outputs": [
        {
          "output_type": "stream",
          "name": "stdout",
          "text": [
            "1\n",
            "1_\n",
            "1_3\n",
            "1_3_\n",
            "1_3_5\n"
          ]
        }
      ]
    },
    {
      "cell_type": "code",
      "source": [
        "n=6\n",
        "\n",
        "for i in range(1,n+1):\n",
        "  if i==1:\n",
        "    for j in range(n):\n",
        "      print(\"*\", end=\"\")\n",
        "  elif i==n:\n",
        "    print(\"*\", end=\"\")\n",
        "  else:\n",
        "    print(\"*\", end=\"\")\n",
        "    for k in range(n-i-1):\n",
        "      print(\" \", end=\"\")\n",
        "    print(\"*\", end=\"\")\n",
        "  print()\n",
        "\n",
        "   "
      ],
      "metadata": {
        "colab": {
          "base_uri": "https://localhost:8080/"
        },
        "id": "y_fd5PCXnVO4",
        "outputId": "2e286b47-21c0-4da7-8f8c-e16939360720"
      },
      "execution_count": null,
      "outputs": [
        {
          "output_type": "stream",
          "name": "stdout",
          "text": [
            "******\n",
            "*   *\n",
            "*  *\n",
            "* *\n",
            "**\n",
            "*\n"
          ]
        }
      ]
    },
    {
      "cell_type": "code",
      "source": [
        "n=5\n",
        "\n",
        "\n",
        "\n",
        "for i in range (1,n+1):\n",
        "    print(\"*\", end=\"\")\n",
        "    for j in range (1,n-1):\n",
        "        if (i==1 or i==n):\n",
        "            print(\"*\",end=\"\")\n",
        "        else: \n",
        "            print (\" \",end=\"\")\n",
        "    print(\"*\")\n",
        "\n",
        "\n"
      ],
      "metadata": {
        "colab": {
          "base_uri": "https://localhost:8080/"
        },
        "id": "htseTV8LMEvp",
        "outputId": "993ad1d7-8de5-4105-f9c6-1eb851dcb580"
      },
      "execution_count": null,
      "outputs": [
        {
          "output_type": "stream",
          "name": "stdout",
          "text": [
            "*****\n",
            "*   *\n",
            "*   *\n",
            "*   *\n",
            "*****\n"
          ]
        }
      ]
    },
    {
      "cell_type": "code",
      "source": [
        "n=5\n",
        "\n",
        "for j in range (2,n-1):\n",
        "    if (i==1 or i==n):\n",
        "        print(\"*\",end=\"\")\n",
        "    else: \n",
        "      print (\" \",end=\"\")\n",
        "    print(\"*\")"
      ],
      "metadata": {
        "colab": {
          "base_uri": "https://localhost:8080/"
        },
        "id": "QtX2nlBHQ9_R",
        "outputId": "0531e1ca-c797-4a74-8167-9ede9cb2d169"
      },
      "execution_count": null,
      "outputs": [
        {
          "output_type": "stream",
          "name": "stdout",
          "text": [
            "**\n",
            "**\n"
          ]
        }
      ]
    },
    {
      "cell_type": "code",
      "source": [
        "N=5\n",
        "for i in range(1,N+1):\n",
        "  for j in range(i):\n",
        "    print(\"*\",end=\"\")\n",
        "  print()\n",
        "for i in range(N):\n",
        "  for k in range(n-i-1):\n",
        "    print(\"*\",end=\"\")\n",
        "  print()\n",
        "\n"
      ],
      "metadata": {
        "colab": {
          "base_uri": "https://localhost:8080/"
        },
        "id": "WQIfS47EUqW0",
        "outputId": "6992f713-2a95-41b7-e662-0572f941606d"
      },
      "execution_count": null,
      "outputs": [
        {
          "output_type": "stream",
          "name": "stdout",
          "text": [
            "*\n",
            "**\n",
            "***\n",
            "****\n",
            "*****\n",
            "****\n",
            "***\n",
            "**\n",
            "*\n",
            "\n"
          ]
        }
      ]
    },
    {
      "cell_type": "code",
      "source": [
        "\"\"\"0 0 0 0 5 0 0 0 0 \n",
        "   0 0 0 4 8 12 0 0 0 \n",
        "   0 0 3 6 9 12 15 0 0\n",
        "   0 2 4 6 8 10 12 14 0\n",
        "   1 2 3 4 5 6 7 8 9 \"\"\""
      ],
      "metadata": {
        "colab": {
          "base_uri": "https://localhost:8080/",
          "height": 35
        },
        "id": "pQe0FuQhVfXF",
        "outputId": "b6f47d94-865e-4a86-89b0-79b68b2265ac"
      },
      "execution_count": null,
      "outputs": [
        {
          "output_type": "execute_result",
          "data": {
            "text/plain": [
              "'0 0 0 0 5 0 0 0 0 \\n   0 0 0 4 8 12 0 0 0 \\n   0 0 3 6 9 12 15 0 0\\n   0 2 4 6 8 10 12 14 0\\n   1 2 3 4 5 6 7 8 9 '"
            ],
            "application/vnd.google.colaboratory.intrinsic+json": {
              "type": "string"
            }
          },
          "metadata": {},
          "execution_count": 71
        }
      ]
    },
    {
      "cell_type": "code",
      "source": [
        "# n=int(input())\n",
        "\n",
        "n=5\n",
        "\n",
        "for i in range(n):\n",
        "  print(\"0\\t\"*(n-i-1), end=\"\")\n",
        "  for j in range(1,2*i+2):\n",
        "    print((n-i)*j, end=\"\\t\")\n",
        "  print(\"0\\t\"*(n-i-1), end=\" \")\n",
        "  print()    \n",
        "\n",
        "\n",
        "\n",
        "  \n",
        "  \n",
        "    \n"
      ],
      "metadata": {
        "colab": {
          "base_uri": "https://localhost:8080/"
        },
        "id": "Rkr-rAuAW4MR",
        "outputId": "66f29999-64e4-4254-84d5-d4946901bc0f"
      },
      "execution_count": null,
      "outputs": [
        {
          "output_type": "stream",
          "name": "stdout",
          "text": [
            "0\t0\t0\t0\t5\t0\t0\t0\t0\t \n",
            "0\t0\t0\t4\t8\t12\t0\t0\t0\t \n",
            "0\t0\t3\t6\t9\t12\t15\t0\t0\t \n",
            "0\t2\t4\t6\t8\t10\t12\t14\t0\t \n",
            "1\t2\t3\t4\t5\t6\t7\t8\t9\t \n"
          ]
        }
      ]
    },
    {
      "cell_type": "code",
      "source": [
        "n=5\n",
        "for i in range(n):\n",
        "  for j in range(n):\n",
        "    if i==0 or j==n-1 or i==j:\n",
        "      print(\"*\", end=\"\")\n",
        "    else:\n",
        "      print(\" \", end=\"\")\n",
        "  print()"
      ],
      "metadata": {
        "colab": {
          "base_uri": "https://localhost:8080/"
        },
        "id": "iT_9FbJYXL5E",
        "outputId": "2b2c6d51-2445-4437-817e-59e9ec27b4b8"
      },
      "execution_count": null,
      "outputs": [
        {
          "output_type": "stream",
          "name": "stdout",
          "text": [
            "*****\n",
            " *  *\n",
            "  * *\n",
            "   **\n",
            "    *\n"
          ]
        }
      ]
    },
    {
      "cell_type": "code",
      "source": [
        "n=5\n",
        "for i in range(n):\n",
        "  for j in range(n):\n",
        "    if i==n-1 or j==0 or i==j:\n",
        "      print(\"*\", end=\"\")\n",
        "    else:\n",
        "      print(\" \", end=\"\")\n",
        "  print()"
      ],
      "metadata": {
        "colab": {
          "base_uri": "https://localhost:8080/"
        },
        "id": "HuAAbw_3hnzE",
        "outputId": "d5482e9f-af43-4173-9b10-0e0d9eaa2e62"
      },
      "execution_count": null,
      "outputs": [
        {
          "output_type": "stream",
          "name": "stdout",
          "text": [
            "*    \n",
            "**   \n",
            "* *  \n",
            "*  * \n",
            "*****\n"
          ]
        }
      ]
    },
    {
      "cell_type": "code",
      "source": [
        "#    0 0 0 0 1 0 0 0 0\n",
        "#    0 0 0 2 3 2 0 0 0\n",
        "#    0 0 3 4 5 4 3 0 0\n",
        "#    0 4 5 6 7 6 5 4 0\n",
        "#    5 6 7 8 9 8 7 6 5"
      ],
      "metadata": {
        "id": "laINA3B8h51o"
      },
      "execution_count": null,
      "outputs": []
    },
    {
      "cell_type": "code",
      "source": [
        "n=5\n",
        "for i in range(n):\n",
        "    print(\"0 \"*(n-i-1), end=\"\")\n",
        "    for j in range(1, 2*i+2):\n",
        "        print((n-i)*j, end=\"\")\n",
        "    print(\"0 \"*(n-i-1), end=\" \")\n",
        "    print()"
      ],
      "metadata": {
        "colab": {
          "base_uri": "https://localhost:8080/"
        },
        "id": "uaa7sCBD-6o0",
        "outputId": "2f8b90da-4106-4b50-d142-61b401114d3d"
      },
      "execution_count": null,
      "outputs": [
        {
          "output_type": "stream",
          "name": "stdout",
          "text": [
            "0 0 0 0 50 0 0 0  \n",
            "0 0 0 48120 0 0  \n",
            "0 0 36912150 0  \n",
            "0 24681012140  \n",
            "123456789 \n"
          ]
        }
      ]
    },
    {
      "cell_type": "code",
      "source": [
        "n=5\n",
        "\n",
        "for i in range(n):\n",
        "  print(\"0 \"*(n-i-1), end=\"\")\n",
        "  for j in range(1,2*i+2):\n",
        "    print((n-i)*j, end=\"\")\n",
        "  print(\"0 \"*(n-i-1), end=\"\")\n",
        "  print()"
      ],
      "metadata": {
        "colab": {
          "base_uri": "https://localhost:8080/"
        },
        "id": "95kiYOnCLlDY",
        "outputId": "b2a4e0c3-0042-4668-91de-7cd0bd3034a0"
      },
      "execution_count": null,
      "outputs": [
        {
          "output_type": "stream",
          "name": "stdout",
          "text": [
            "000050000\n",
            "0004812000\n",
            "00369121500\n",
            "024681012140\n",
            "123456789\n"
          ]
        }
      ]
    },
    {
      "cell_type": "code",
      "source": [
        "\n",
        "n=int(input())\n",
        "for i in range(1,n+1):\n",
        "  spaces = n-i # Print the zeros before the non-zeros start\n",
        "  for j in range(1,spaces+1): # Print the non-zero pattern\n",
        "    print(\"0 \",end=\"\")\n",
        "    lim=2*i - 1\n",
        "    cnt = 1\n",
        "  for j in range(1,lim+1):\n",
        "    print((n-i+1) * cnt,end=\"\")\n",
        "    cnt+=1\n",
        "    print(\" \",end=\"\")\n",
        "  for j in range(1,spaces+1):\n",
        "    print(\"0 \",end=\"\")\n",
        "  print()\n",
        "    "
      ],
      "metadata": {
        "colab": {
          "base_uri": "https://localhost:8080/"
        },
        "id": "wK1YvV5XMgJE",
        "outputId": "83237698-0002-44ba-f19b-5ad546547ed6"
      },
      "execution_count": null,
      "outputs": [
        {
          "output_type": "stream",
          "name": "stdout",
          "text": [
            "5\n",
            "0 0 0 0 5 0 0 0 0 \n",
            "0 0 0 4 8 12 0 0 0 \n",
            "0 0 3 6 9 12 15 0 0 \n",
            "0 2 4 6 8 10 12 14 0 \n",
            "8 9 10 11 12 13 14 \n"
          ]
        }
      ]
    },
    {
      "cell_type": "code",
      "source": [],
      "metadata": {
        "colab": {
          "base_uri": "https://localhost:8080/",
          "height": 166
        },
        "id": "-QnlfHW6NSL7",
        "outputId": "87ccdce6-45e2-44f3-84f6-9aedcade4f7a"
      },
      "execution_count": null,
      "outputs": [
        {
          "output_type": "error",
          "ename": "TypeError",
          "evalue": "ignored",
          "traceback": [
            "\u001b[0;31m---------------------------------------------------------------------------\u001b[0m",
            "\u001b[0;31mTypeError\u001b[0m                                 Traceback (most recent call last)",
            "\u001b[0;32m<ipython-input-32-f1b906b51090>\u001b[0m in \u001b[0;36m<module>\u001b[0;34m\u001b[0m\n\u001b[0;32m----> 1\u001b[0;31m \u001b[0mmain\u001b[0m\u001b[0;34m(\u001b[0m\u001b[0;36m5\u001b[0m\u001b[0;34m)\u001b[0m\u001b[0;34m\u001b[0m\u001b[0;34m\u001b[0m\u001b[0m\n\u001b[0m",
            "\u001b[0;31mTypeError\u001b[0m: main() takes 0 positional arguments but 1 was given"
          ]
        }
      ]
    },
    {
      "cell_type": "code",
      "source": [],
      "metadata": {
        "id": "Z8Xv8sRgNVb5"
      },
      "execution_count": null,
      "outputs": []
    }
  ]
}