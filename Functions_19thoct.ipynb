{
  "nbformat": 4,
  "nbformat_minor": 0,
  "metadata": {
    "colab": {
      "provenance": [],
      "authorship_tag": "ABX9TyPXUfzgWahQglPU94CSUQ9L",
      "include_colab_link": true
    },
    "kernelspec": {
      "name": "python3",
      "display_name": "Python 3"
    },
    "language_info": {
      "name": "python"
    }
  },
  "cells": [
    {
      "cell_type": "markdown",
      "metadata": {
        "id": "view-in-github",
        "colab_type": "text"
      },
      "source": [
        "<a href=\"https://colab.research.google.com/github/dmish10/Scaler_Homework/blob/master/Functions_19thoct.ipynb\" target=\"_parent\"><img src=\"https://colab.research.google.com/assets/colab-badge.svg\" alt=\"Open In Colab\"/></a>"
      ]
    },
    {
      "cell_type": "code",
      "execution_count": null,
      "metadata": {
        "id": "dOLT3fP1129v"
      },
      "outputs": [],
      "source": [
        "#functions are a set of instructions which are modular and reusable"
      ]
    },
    {
      "cell_type": "code",
      "source": [
        "\"\"\"Ques 1- write program to print instructions to make tea\"\"\"\n"
      ],
      "metadata": {
        "colab": {
          "base_uri": "https://localhost:8080/",
          "height": 35
        },
        "id": "zazRYv8s2DPP",
        "outputId": "012cb061-57a5-4838-8f55-0871b4fbe5bb"
      },
      "execution_count": null,
      "outputs": [
        {
          "output_type": "execute_result",
          "data": {
            "text/plain": [
              "'Ques 1- write program to print instructions to make tea'"
            ],
            "application/vnd.google.colaboratory.intrinsic+json": {
              "type": "string"
            }
          },
          "metadata": {},
          "execution_count": 2
        }
      ]
    },
    {
      "cell_type": "code",
      "source": [
        "\n",
        "def tea():\n",
        "    print(\"make tea\")\n",
        "\n",
        "for i in range(3):\n",
        "  tea()"
      ],
      "metadata": {
        "colab": {
          "base_uri": "https://localhost:8080/"
        },
        "id": "TUyWCq6l2lvx",
        "outputId": "cbad4b18-c67a-4cf1-b3fe-bd28e629a596"
      },
      "execution_count": null,
      "outputs": [
        {
          "output_type": "stream",
          "name": "stdout",
          "text": [
            "make tea\n",
            "make tea\n",
            "make tea\n"
          ]
        }
      ]
    },
    {
      "cell_type": "code",
      "source": [
        "def convert(t):\n",
        "    print(t*9/5 + 32)\n",
        "\n",
        "convert(20)\n"
      ],
      "metadata": {
        "colab": {
          "base_uri": "https://localhost:8080/"
        },
        "id": "tLOVdnPK3Rak",
        "outputId": "9347bec3-1e3f-4879-c434-d1aeb2e861d4"
      },
      "execution_count": null,
      "outputs": [
        {
          "output_type": "stream",
          "name": "stdout",
          "text": [
            "68.0\n"
          ]
        }
      ]
    },
    {
      "cell_type": "code",
      "source": [
        "T= int(input())\n",
        "t=0\n",
        "while t<T:\n",
        "  def celsius_farhen(Celsius):\n",
        "    ans = (Celsius*9/5 + 32)\n",
        "    print(round(ans,2))\n",
        "  \n",
        "  Celsius= float(input())\n",
        "  celsius_farhen(Celsius)    \n",
        "\n",
        "  t+=1 \n",
        "    \n",
        "    "
      ],
      "metadata": {
        "colab": {
          "base_uri": "https://localhost:8080/"
        },
        "id": "_osEiEER4uGP",
        "outputId": "f4275187-4151-4f12-dc38-44b170e55712"
      },
      "execution_count": null,
      "outputs": [
        {
          "output_type": "stream",
          "name": "stdout",
          "text": [
            "1\n",
            "36.8\n",
            "98.24\n"
          ]
        }
      ]
    },
    {
      "cell_type": "code",
      "source": [
        "def celsius_farhen(Celsius):\n",
        "    ans = 0\n",
        "    \n",
        "    convert = (Celsius * 9 /5) + 32\n",
        "    ans = convert\n",
        "   \n",
        "    return round(ans,2)\n",
        "Celsius= float(input())\n",
        "celsius_farhen(Celsius)"
      ],
      "metadata": {
        "colab": {
          "base_uri": "https://localhost:8080/"
        },
        "id": "QaeE7_Au48ln",
        "outputId": "5edac253-fdff-4361-f50a-ff3c993ac2ec"
      },
      "execution_count": null,
      "outputs": [
        {
          "name": "stdout",
          "output_type": "stream",
          "text": [
            "36.8\n"
          ]
        },
        {
          "output_type": "execute_result",
          "data": {
            "text/plain": [
              "98.24"
            ]
          },
          "metadata": {},
          "execution_count": 8
        }
      ]
    },
    {
      "cell_type": "code",
      "source": [
        "def circle_area(r):\n",
        "    ans=0\n",
        "    '''input: r = A numerical value as radius\n",
        "       output: Return the area of circle as ans upto 2 decimal places'''\n",
        "    area = 3.14* r*r\n",
        "    ans = area\n",
        "\n",
        "    return round(ans,2)\n",
        "r=int(input())\n",
        "circle_area(r)"
      ],
      "metadata": {
        "colab": {
          "base_uri": "https://localhost:8080/"
        },
        "id": "KED51igAkQTb",
        "outputId": "40926430-c973-40d4-9b2e-13864a6d2058"
      },
      "execution_count": null,
      "outputs": [
        {
          "name": "stdout",
          "output_type": "stream",
          "text": [
            "6\n"
          ]
        },
        {
          "output_type": "execute_result",
          "data": {
            "text/plain": [
              "113.04"
            ]
          },
          "metadata": {},
          "execution_count": 13
        }
      ]
    },
    {
      "cell_type": "code",
      "source": [
        "def sum_squares(n):\n",
        "    ans = None\n",
        "    ''' input:Given Integer n\n",
        "         output: Return ans as sum of squares in integer format.'''\n",
        "    square = (n*(n+1)*(2*n+1))/6\n",
        "    ans = square\n",
        "\n",
        "    return ans\n",
        "# n=int(input())\n",
        "sum_squares(6)"
      ],
      "metadata": {
        "colab": {
          "base_uri": "https://localhost:8080/"
        },
        "id": "mMc2yLFYpmEy",
        "outputId": "a79d8356-5fef-46fe-a6c8-7a6acfce23bf"
      },
      "execution_count": null,
      "outputs": [
        {
          "output_type": "execute_result",
          "data": {
            "text/plain": [
              "91.0"
            ]
          },
          "metadata": {},
          "execution_count": 20
        }
      ]
    },
    {
      "cell_type": "code",
      "source": [
        "def isvowel(C):\n",
        "    ans = None\n",
        "    # YOUR CODE GOES HERE\n",
        "    if C=='a' or C=='e' or C=='i' or C=='o' or C=='u':\n",
        "        print(1)\n",
        "    else:\n",
        "        print(0)\n",
        "\n",
        "C= input()\n",
        "isvowel(C)\n"
      ],
      "metadata": {
        "colab": {
          "base_uri": "https://localhost:8080/"
        },
        "id": "_MXF_SOBuKCO",
        "outputId": "e7334289-88d8-4521-a676-4c7e7a635db3"
      },
      "execution_count": null,
      "outputs": [
        {
          "output_type": "stream",
          "name": "stdout",
          "text": [
            "i\n",
            "1\n"
          ]
        }
      ]
    },
    {
      "cell_type": "code",
      "source": [
        "def sequence(n):\n",
        "    '''input: n = A single integer for the range where n is inclusive\n",
        "       output: First Print from 1 to N and new line Print from N to 1'''\n",
        "    \n",
        "    for i in range(1,n+1):\n",
        "        print(i, end=\" \")\n",
        "    print('\\n')\n",
        "    for i in range(1,n+1):\n",
        "        print(n+1-i, end=\" \")\n",
        "sequence(5)"
      ],
      "metadata": {
        "colab": {
          "base_uri": "https://localhost:8080/"
        },
        "id": "k04HjHKNyn_x",
        "outputId": "08e15cbf-0656-4d4d-961a-f614214f398c"
      },
      "execution_count": null,
      "outputs": [
        {
          "output_type": "stream",
          "name": "stdout",
          "text": [
            "1 2 3 4 5 \n",
            "\n",
            "5 4 3 2 1 "
          ]
        }
      ]
    },
    {
      "cell_type": "code",
      "source": [
        "def simple_int(time,pa,ir):\n",
        "  ans=None\n",
        "  SI=  pa  + pa * ir/100 * time/365\n",
        "  ans=SI\n",
        "  return round(ans,2)\n",
        "simple_int(789,10000,1.3)\n"
      ],
      "metadata": {
        "colab": {
          "base_uri": "https://localhost:8080/"
        },
        "id": "2EE9qlwUz20D",
        "outputId": "031a195d-091f-4f63-f5ea-b4218cf38ec5"
      },
      "execution_count": null,
      "outputs": [
        {
          "output_type": "execute_result",
          "data": {
            "text/plain": [
              "10281.01"
            ]
          },
          "metadata": {},
          "execution_count": 3
        }
      ]
    },
    {
      "cell_type": "code",
      "source": [
        "def road_tax(price):\n",
        "    tax = 0\n",
        "    if price<=50000:\n",
        "      tax= .05*float(price) + tax\n",
        "    elif price>50000 and price <=75000:\n",
        "      tax=.10*float(price)+ tax\n",
        "    elif price>75000 and price<=100000:\n",
        "      tax= .15*float(price) + tax\n",
        "    else:\n",
        "      tax= .20*float(price) + tax\n",
        "\n",
        "    return round(tax,2)\n",
        "\n",
        "\n",
        "road_tax(25000)"
      ],
      "metadata": {
        "colab": {
          "base_uri": "https://localhost:8080/"
        },
        "id": "D3Fs9TiO05PJ",
        "outputId": "00f7bd3f-6ba6-47b1-c4b7-6d6daf08bbbc"
      },
      "execution_count": null,
      "outputs": [
        {
          "output_type": "execute_result",
          "data": {
            "text/plain": [
              "1250.0"
            ]
          },
          "metadata": {},
          "execution_count": 9
        }
      ]
    },
    {
      "cell_type": "code",
      "source": [
        "x = 55\n",
        "def hi():\n",
        "  return x\n",
        "x +=10\n",
        "print(hi())"
      ],
      "metadata": {
        "colab": {
          "base_uri": "https://localhost:8080/"
        },
        "id": "xgu5bEsX4Etd",
        "outputId": "801aff09-94f5-4513-a882-9112794158e1"
      },
      "execution_count": null,
      "outputs": [
        {
          "output_type": "stream",
          "name": "stdout",
          "text": [
            "65\n"
          ]
        }
      ]
    },
    {
      "cell_type": "code",
      "source": [
        "# def star(n):\n",
        "\n",
        "def star(n):\n",
        "    for i in range(1,n+1):\n",
        "      if i==1:\n",
        "        for j in range(n):\n",
        "          print(\"*\", end=\"\")\n",
        "      elif i==n:\n",
        "        print(\"*\", end=\"\")\n",
        "      else:\n",
        "        print(\"*\", end=\"\")\n",
        "        \n",
        "        for k in range(n-i-1):\n",
        "          print(\" \", end=\"\")\n",
        "        print(\"*\", end=\"\")\n",
        "      print()\n",
        "star(8)"
      ],
      "metadata": {
        "colab": {
          "base_uri": "https://localhost:8080/"
        },
        "id": "LpjR4kyS5Jcb",
        "outputId": "8b4ac253-6066-4a58-ba9d-8ff760421e1c"
      },
      "execution_count": null,
      "outputs": [
        {
          "output_type": "stream",
          "name": "stdout",
          "text": [
            "********\n",
            "*     *\n",
            "*    *\n",
            "*   *\n",
            "*  *\n",
            "* *\n",
            "**\n",
            "*\n"
          ]
        }
      ]
    },
    {
      "cell_type": "code",
      "source": [
        "n=6\n",
        "for i in range(1,n+1):\n",
        "  if i==1:\n",
        "    for j in range(n):\n",
        "      print(\"*\", end=\"\")\n",
        "  elif i==n:\n",
        "    print(\"*\", end=\"\")\n",
        "  else:\n",
        "    print(\"*\", end=\"\")\n",
        "    for k in range(n-i-1):\n",
        "      print(\"#\", end=\"\")\n",
        "    print(\"*\", end=\"\")\n",
        "  print()\n"
      ],
      "metadata": {
        "colab": {
          "base_uri": "https://localhost:8080/"
        },
        "id": "SRWK5qCJ6yac",
        "outputId": "28c8869d-ae06-4440-83a3-9ea18baff683"
      },
      "execution_count": null,
      "outputs": [
        {
          "output_type": "stream",
          "name": "stdout",
          "text": [
            "******\n",
            "*###*\n",
            "*##*\n",
            "*#*\n",
            "**\n",
            "*\n"
          ]
        }
      ]
    },
    {
      "cell_type": "code",
      "source": [
        "n=6\n",
        "s=0\n",
        "for i in range(1,n):\n",
        "  if n % i==0:\n",
        "    s = s + i\n",
        "if s == n:\n",
        "  print(n,\"is a perfect no.\")\n",
        "else:\n",
        "  print(n, \"isn't perfect\")"
      ],
      "metadata": {
        "colab": {
          "base_uri": "https://localhost:8080/"
        },
        "id": "X3tLsyYSAp5K",
        "outputId": "1f98d794-49b3-499e-c515-1365296b5df7"
      },
      "execution_count": null,
      "outputs": [
        {
          "output_type": "stream",
          "name": "stdout",
          "text": [
            "6 is a perfect no.\n"
          ]
        }
      ]
    },
    {
      "cell_type": "code",
      "source": [
        "n = int(input(\"Enter any number: \"))\n",
        "sum1 = 0\n",
        "for i in range(1, n):\n",
        "    if(n % i == 0):\n",
        "        sum1 = sum1 + i\n",
        "if (sum1 == n):\n",
        "    print(\"The number is a Perfect number!\")\n",
        "else:\n",
        "    print(\"The number is not a Perfect number!\")"
      ],
      "metadata": {
        "colab": {
          "base_uri": "https://localhost:8080/"
        },
        "id": "Hn-F0aUEF18N",
        "outputId": "49073351-387d-4dbb-973e-be0ec319ac9d"
      },
      "execution_count": null,
      "outputs": [
        {
          "output_type": "stream",
          "name": "stdout",
          "text": [
            "Enter any number: 6\n",
            "The number is a Perfect number!\n"
          ]
        }
      ]
    },
    {
      "cell_type": "code",
      "source": [
        "def nanes(name):\n",
        "  print(\"Hello\",name,\"!\")\n",
        "\n",
        "nanes(\"shikha\")"
      ],
      "metadata": {
        "colab": {
          "base_uri": "https://localhost:8080/"
        },
        "id": "UXeBxXm6G2MZ",
        "outputId": "3002aa96-fe94-4d4f-ae07-32846f2d73cf"
      },
      "execution_count": null,
      "outputs": [
        {
          "output_type": "stream",
          "name": "stdout",
          "text": [
            "Hello shikha !\n"
          ]
        }
      ]
    },
    {
      "cell_type": "code",
      "source": [
        "def sol(A,B,C):\n",
        "    count = 0\n",
        "    while C > 0:\n",
        "        C=C+B;\n",
        "        # current cases=activecases+newcases\n",
        "        C=C-A; \n",
        "        # current cases=activecases-recovercases\n",
        "        count += 1\n",
        "    return count\n",
        "sol(4,3,2)\n",
        "\n",
        "# math.ceil(C/(A-B))"
      ],
      "metadata": {
        "colab": {
          "base_uri": "https://localhost:8080/"
        },
        "id": "0WjDHSLN0jZv",
        "outputId": "3ce1f117-3642-4363-89bb-1b16a4586ed6"
      },
      "execution_count": null,
      "outputs": [
        {
          "output_type": "execute_result",
          "data": {
            "text/plain": [
              "2"
            ]
          },
          "metadata": {},
          "execution_count": 9
        }
      ]
    },
    {
      "cell_type": "code",
      "source": [
        "def perfect(A):\n",
        "    s=0\n",
        "    for i in range(1,A):\n",
        "        if A%i==0:\n",
        "            s=s+i\n",
        "    if s==A:\n",
        "        return 1\n",
        "    else:\n",
        "        return 0\n",
        "perfect(6)"
      ],
      "metadata": {
        "colab": {
          "base_uri": "https://localhost:8080/"
        },
        "id": "klhn2HUntUt5",
        "outputId": "90d97e0f-0754-4d1d-d95f-cc3eb69e481b"
      },
      "execution_count": null,
      "outputs": [
        {
          "output_type": "execute_result",
          "data": {
            "text/plain": [
              "1"
            ]
          },
          "metadata": {},
          "execution_count": 10
        }
      ]
    },
    {
      "cell_type": "code",
      "source": [
        "def perfect(A):\n",
        "    s=0\n",
        "    for i in range(1,A):\n",
        "        if A % (A**0.5) == 0:\n",
        "            return 1\n",
        "        else:\n",
        "            return 0\n",
        "perfect(4)"
      ],
      "metadata": {
        "colab": {
          "base_uri": "https://localhost:8080/"
        },
        "id": "zY_7L-4dyV0V",
        "outputId": "d99540ec-8b79-4c2d-d0dd-29afb2be3399"
      },
      "execution_count": null,
      "outputs": [
        {
          "output_type": "execute_result",
          "data": {
            "text/plain": [
              "1"
            ]
          },
          "metadata": {},
          "execution_count": 11
        }
      ]
    },
    {
      "cell_type": "code",
      "source": [
        "def perfect(A):\n",
        "    s=0\n",
        "    if A % (A**0.5) == 0:\n",
        "        return 1\n",
        "    else:\n",
        "        return 0\n",
        "\n",
        "perfect(4)"
      ],
      "metadata": {
        "colab": {
          "base_uri": "https://localhost:8080/"
        },
        "id": "MZij190jy57s",
        "outputId": "e6e44156-914e-4e87-c419-9f17d025904f"
      },
      "execution_count": null,
      "outputs": [
        {
          "output_type": "execute_result",
          "data": {
            "text/plain": [
              "1"
            ]
          },
          "metadata": {},
          "execution_count": 12
        }
      ]
    },
    {
      "cell_type": "code",
      "source": [
        "x = int(input(\"Enter num :\"))\n",
        "\n",
        "def square(x):\n",
        "\n",
        "  for i in range(1,x):\n",
        "\n",
        "    if i*i == x:\n",
        "\n",
        "      return int(x**.5)\n",
        "\n",
        "      break\n",
        "\n",
        "  else:\n",
        "\n",
        "    return 0\n",
        "\n",
        "y = square(x)\n",
        "\n",
        "print(y)\n"
      ],
      "metadata": {
        "colab": {
          "base_uri": "https://localhost:8080/"
        },
        "id": "mMYlWIwNzYB8",
        "outputId": "57a8f8e6-c12a-4855-ddbf-61f9d5274356"
      },
      "execution_count": null,
      "outputs": [
        {
          "output_type": "stream",
          "name": "stdout",
          "text": [
            "Enter num :4\n",
            "2\n"
          ]
        }
      ]
    },
    {
      "cell_type": "code",
      "source": [
        "import math\n",
        "def issquare(num):\n",
        "    ans  = None\n",
        "    # YOUR CODE GOES HERE\n",
        "    \n",
        "    y = int(math.sqrt(num))\n",
        "\n",
        "    if y**2 == num:\n",
        "        ans = 1\n",
        "    else:\n",
        "        ans = 0\n",
        "    return ans\n",
        "issquare(4)"
      ],
      "metadata": {
        "colab": {
          "base_uri": "https://localhost:8080/"
        },
        "id": "KDcIF2G9z0n2",
        "outputId": "e7821f8b-50d7-4a20-c2b8-468cf157b2b5"
      },
      "execution_count": null,
      "outputs": [
        {
          "output_type": "execute_result",
          "data": {
            "text/plain": [
              "1"
            ]
          },
          "metadata": {},
          "execution_count": 20
        }
      ]
    },
    {
      "cell_type": "code",
      "source": [
        "def sqrt(A):\n",
        "  sq=int(A**0.5)\n",
        "  if (sq*sq)==A:\n",
        "    return sq\n",
        "  else:\n",
        "    return -1\n",
        "sqrt(4) \n",
        "   \n",
        "# sqrt(5)\n",
        "\n",
        "           # define square root variable as integer of num^0.5\n",
        "        "
      ],
      "metadata": {
        "colab": {
          "base_uri": "https://localhost:8080/"
        },
        "id": "-QDpcsyr1gvC",
        "outputId": "c123795c-3544-4e92-91c5-35d877bef31d"
      },
      "execution_count": null,
      "outputs": [
        {
          "output_type": "execute_result",
          "data": {
            "text/plain": [
              "2"
            ]
          },
          "metadata": {},
          "execution_count": 26
        }
      ]
    },
    {
      "cell_type": "code",
      "source": [
        "def isPerfectSquare(A) :\n",
        "  i = 1\n",
        "  while(i * i<= A):\n",
        "    if ((A % i == 0) and (A / i == i)):\n",
        "      return int(A**.5)\n",
        "    \n",
        "    i = i + 1\n",
        "  return -1"
      ],
      "metadata": {
        "id": "PQJQNngY4vu2"
      },
      "execution_count": null,
      "outputs": []
    },
    {
      "cell_type": "code",
      "source": [
        "isPerfectSquare(4)"
      ],
      "metadata": {
        "colab": {
          "base_uri": "https://localhost:8080/"
        },
        "id": "0GyBml187QkC",
        "outputId": "b64fc672-fc98-4264-c6e6-2e48289c73e8"
      },
      "execution_count": null,
      "outputs": [
        {
          "output_type": "execute_result",
          "data": {
            "text/plain": [
              "2"
            ]
          },
          "metadata": {},
          "execution_count": 36
        }
      ]
    },
    {
      "cell_type": "code",
      "source": [
        "def solve(self, A):\n",
        "  sqrt = int(A**0.5)\n",
        "  if (sqrt * sqrt) == A:\n",
        "    return sqrt\n",
        "  return -1"
      ],
      "metadata": {
        "id": "Q6zpcwb87Szf"
      },
      "execution_count": null,
      "outputs": []
    },
    {
      "cell_type": "code",
      "source": [
        "import math\n",
        "def real(A):\n",
        "  A = A / 200\n",
        "  if A >= 0:\n",
        "    if A % 1 < 0.5:\n",
        "      return(math.floor(A))\n",
        "    else:\n",
        "      return(math.ceil(A))\n",
        "  else:\n",
        "    if A % 1 > 0.5:\n",
        "      return(math.ceil(A))\n",
        "    else:\n",
        "      return(math.floor(A))\n",
        "\n",
        "real(2113)"
      ],
      "metadata": {
        "colab": {
          "base_uri": "https://localhost:8080/"
        },
        "id": "SI8IPQTM8i3Y",
        "outputId": "81a8065f-b0ff-4540-daa7-3d7b63ee959b"
      },
      "execution_count": null,
      "outputs": [
        {
          "output_type": "execute_result",
          "data": {
            "text/plain": [
              "11"
            ]
          },
          "metadata": {},
          "execution_count": 41
        }
      ]
    },
    {
      "cell_type": "code",
      "source": [
        "def fun1(name, age):\n",
        "  print(name,age)"
      ],
      "metadata": {
        "id": "iewsnwLi-Ln4"
      },
      "execution_count": null,
      "outputs": []
    },
    {
      "cell_type": "code",
      "source": [
        "def multiple_print(s, n = 1):\n",
        "    print(s * n, end='')\n",
        "    print() # this prints new line i.e. \\n\n",
        "\n",
        "multiple_print('Hello', 2)\n",
        "multiple_print('Hello')"
      ],
      "metadata": {
        "colab": {
          "base_uri": "https://localhost:8080/"
        },
        "id": "1L631pUcBOyA",
        "outputId": "25dc0a9e-a721-4fbd-c6cb-ecbf4d3e8819"
      },
      "execution_count": null,
      "outputs": [
        {
          "output_type": "stream",
          "name": "stdout",
          "text": [
            "HelloHello\n",
            "Hello\n"
          ]
        }
      ]
    },
    {
      "cell_type": "code",
      "source": [
        "def Interest(p=1000,c=2,t=2,r=0.09):\n",
        "  return p*t*r\n",
        "Interest()"
      ],
      "metadata": {
        "colab": {
          "base_uri": "https://localhost:8080/"
        },
        "id": "l0pGKnElBZ7t",
        "outputId": "b55e8282-0cee-4234-9580-de026ec61bfe"
      },
      "execution_count": null,
      "outputs": [
        {
          "output_type": "execute_result",
          "data": {
            "text/plain": [
              "180.0"
            ]
          },
          "metadata": {},
          "execution_count": 45
        }
      ]
    },
    {
      "cell_type": "code",
      "source": [
        "\"\"\"Problem Description\n",
        "Given three integers, A, B and C. You have to find the number of days it will take to reach zero cases of Corona in a city.\n",
        "\n",
        "A - Average cases recovered in a day of the corona.\n",
        "B - Number of new cases of corona daily.\n",
        "C - Current active cases of the corona.\n",
        "\n",
        "Return the minimum number of days it will take to reach 0 active cases of Covid.\"\"\""
      ],
      "metadata": {
        "colab": {
          "base_uri": "https://localhost:8080/",
          "height": 70
        },
        "id": "atsgELLOBsWa",
        "outputId": "816c7830-3943-41c8-a94e-be7e4873baa2"
      },
      "execution_count": null,
      "outputs": [
        {
          "output_type": "execute_result",
          "data": {
            "text/plain": [
              "'Problem Description\\nGiven three integers, A, B and C. You have to find the number of days it will take to reach zero cases of Corona in a city.\\n\\nA - Average cases recovered in a day of the corona.\\nB - Number of new cases of corona daily.\\nC - Current active cases of the corona.\\n\\nReturn the minimum number of days it will take to reach 0 active cases of Covid.'"
            ],
            "application/vnd.google.colaboratory.intrinsic+json": {
              "type": "string"
            }
          },
          "metadata": {},
          "execution_count": 46
        }
      ]
    },
    {
      "cell_type": "code",
      "source": [
        "def covid(A,B,C):\n",
        "  count=0\n",
        "  while C>0:\n",
        "    C=C+B\n",
        "    C=C-A\n",
        "    count+=1\n",
        "  return count\n",
        "\n"
      ],
      "metadata": {
        "id": "IBt0aDGCFPDU"
      },
      "execution_count": null,
      "outputs": []
    },
    {
      "cell_type": "code",
      "source": [
        "covid(5,3,1)"
      ],
      "metadata": {
        "colab": {
          "base_uri": "https://localhost:8080/"
        },
        "id": "OZ5A3BAlGEWQ",
        "outputId": "648f81e3-1acf-47c8-f2de-ae71c755ad46"
      },
      "execution_count": null,
      "outputs": [
        {
          "output_type": "execute_result",
          "data": {
            "text/plain": [
              "1"
            ]
          },
          "metadata": {},
          "execution_count": 50
        }
      ]
    },
    {
      "cell_type": "code",
      "source": [
        "\"\"\"You are given a function that takes an integer argument A. Return 1 if A is a perfect square otherwise return 0.\"\"\""
      ],
      "metadata": {
        "colab": {
          "base_uri": "https://localhost:8080/",
          "height": 35
        },
        "id": "zb0yplN5GLOd",
        "outputId": "7cf6ed8e-1e56-4a8c-ca2f-d098b32191f7"
      },
      "execution_count": null,
      "outputs": [
        {
          "output_type": "execute_result",
          "data": {
            "text/plain": [
              "'You are given a function that takes an integer argument A. Return 1 if A is a perfect square otherwise return 0.'"
            ],
            "application/vnd.google.colaboratory.intrinsic+json": {
              "type": "string"
            }
          },
          "metadata": {},
          "execution_count": 51
        }
      ]
    },
    {
      "cell_type": "code",
      "source": [
        "def sqr(A):\n",
        "  for i in range(1,A+1):\n",
        "    if A%i==0 and A/i==i:\n",
        "      return int(A**.5)\n",
        "  else:\n",
        "    return 0\n",
        "sqr(41)"
      ],
      "metadata": {
        "colab": {
          "base_uri": "https://localhost:8080/"
        },
        "id": "Jizx5LzRLlGP",
        "outputId": "756a4365-850c-4254-89da-878232aa0340"
      },
      "execution_count": null,
      "outputs": [
        {
          "output_type": "execute_result",
          "data": {
            "text/plain": [
              "0"
            ]
          },
          "metadata": {},
          "execution_count": 15
        }
      ]
    },
    {
      "cell_type": "code",
      "source": [
        "\"\"\"Given an integer A, find the rounded value of real number A / 200\"\"\""
      ],
      "metadata": {
        "colab": {
          "base_uri": "https://localhost:8080/",
          "height": 35
        },
        "id": "7lQc0IRs4Fo-",
        "outputId": "ac964e9d-575d-4522-9367-9f6eae5e1d57"
      },
      "execution_count": null,
      "outputs": [
        {
          "output_type": "execute_result",
          "data": {
            "text/plain": [
              "'Given an integer A, find the rounded value of real number A / 200'"
            ],
            "application/vnd.google.colaboratory.intrinsic+json": {
              "type": "string"
            }
          },
          "metadata": {},
          "execution_count": 16
        }
      ]
    },
    {
      "cell_type": "code",
      "source": [
        "import math\n",
        "# class Solution:\n",
        "def any(A):\n",
        "  A=A/200\n",
        "  if A>=0:\n",
        "    if A%1<0.5:\n",
        "      return math.floor(A)\n",
        "    else:\n",
        "      return math.ceil(A)\n",
        "  else:\n",
        "    if A%1>0.5:\n",
        "      return math.ceil(A)\n",
        "    else:\n",
        "      return math.floor(A)\n",
        "any(-2113)"
      ],
      "metadata": {
        "colab": {
          "base_uri": "https://localhost:8080/"
        },
        "id": "quWZLi8f4ICh",
        "outputId": "09efd231-2bf7-4d01-adb2-b0af421fb749"
      },
      "execution_count": null,
      "outputs": [
        {
          "output_type": "execute_result",
          "data": {
            "text/plain": [
              "-11"
            ]
          },
          "metadata": {},
          "execution_count": 55
        }
      ]
    },
    {
      "cell_type": "code",
      "source": [
        "            if(BMI<=18.5){\n",
        "                System.out.println(\"Underweight\");\n",
        "               \n",
        "            }\n",
        "            else if(BMI>18.5 && BMI<=24.9){\n",
        "                 System.out.println(\"Normal weight\");\n",
        "                 \n",
        "            }\n",
        "            else if (BMI>24.9 && BMI <=29.9){\n",
        "                 System.out.println(\"Overweight\");\n",
        "               \n",
        "            }\n",
        "            else if (BMI >29.9){\n",
        "                 System.out.println(\"Obese\");\n",
        "               \n",
        "            }\n",
        "             System.out.println((int)(BMI*10+0.5)/10d);"
      ],
      "metadata": {
        "id": "S1c4Yb0SC2bv"
      },
      "execution_count": null,
      "outputs": []
    },
    {
      "cell_type": "code",
      "source": [
        "def BMI(A,B):\n",
        "  x=B\n",
        "  y=A/100\n",
        "  BMI =x/(y**2)\n",
        "  \n",
        "  if(BMI<=18.5):\n",
        "    print(\"Underweight\")\n",
        "  elif(BMI>18.5 and BMI<=24.9):\n",
        "    print(\"Normal\")\n",
        "  elif (BMI>24.9 and BMI <=29.9):\n",
        "    print(\"Overweight\")\n",
        "  else:\n",
        "    print(\"Obese\")\n",
        "  return int(BMI*10+0.5)/10\n",
        "BMI(129, 31)"
      ],
      "metadata": {
        "colab": {
          "base_uri": "https://localhost:8080/"
        },
        "id": "aln-Cdjv3E4R",
        "outputId": "41529fd4-2c33-4693-c2d9-481c3cfc0d55"
      },
      "execution_count": null,
      "outputs": [
        {
          "output_type": "stream",
          "name": "stdout",
          "text": [
            "Normal weight\n"
          ]
        },
        {
          "output_type": "execute_result",
          "data": {
            "text/plain": [
              "18.6"
            ]
          },
          "metadata": {},
          "execution_count": 20
        }
      ]
    },
    {
      "cell_type": "code",
      "source": [
        "class Solution:\n",
        "    def BMI(A,B):\n",
        "        x=B\n",
        "        y=A/100\n",
        "        BMI = x/(y*y)\n",
        "        if(BMI<=18.5):\n",
        "            print(\"Underweight\")\n",
        "        elif(BMI>18.5 and BMI<=24.9):\n",
        "            print(\"Normal weight\")\n",
        "        elif (BMI>24.9 and BMI <=29.9):\n",
        "            print(\"Overweight\")\n",
        "        else:\n",
        "            print(\"Obese\")\n",
        "        return int(BMI*10+0.5)/10"
      ],
      "metadata": {
        "id": "GttCcxjN3VEx"
      },
      "execution_count": null,
      "outputs": []
    },
    {
      "cell_type": "code",
      "source": [
        "BMI(171,51)"
      ],
      "metadata": {
        "colab": {
          "base_uri": "https://localhost:8080/"
        },
        "id": "q7CFOb0U8yjV",
        "outputId": "933d3d21-4393-49e0-97d4-ea6e11cc03a9"
      },
      "execution_count": null,
      "outputs": [
        {
          "output_type": "stream",
          "name": "stdout",
          "text": [
            "Underweight\n"
          ]
        },
        {
          "output_type": "execute_result",
          "data": {
            "text/plain": [
              "17.4"
            ]
          },
          "metadata": {},
          "execution_count": 54
        }
      ]
    },
    {
      "cell_type": "code",
      "source": [
        "BMIS(129,31)"
      ],
      "metadata": {
        "colab": {
          "base_uri": "https://localhost:8080/"
        },
        "id": "INSHwGlz83VS",
        "outputId": "481699cd-9e9b-4aa6-9d4e-e62baf11d08f"
      },
      "execution_count": null,
      "outputs": [
        {
          "output_type": "stream",
          "name": "stdout",
          "text": [
            "Normal weight\n"
          ]
        },
        {
          "output_type": "execute_result",
          "data": {
            "text/plain": [
              "18.6"
            ]
          },
          "metadata": {},
          "execution_count": 30
        }
      ]
    },
    {
      "cell_type": "code",
      "source": [
        "def BMIS(A,B):\n",
        "  x=B\n",
        "  y=A/100\n",
        "  BMI = x/(y*y)\n",
        "  # BMI = (B/((A/100)**2)*10+0.5)/10\n",
        "  if(BMI<18.5):\n",
        "    print(\"Underweight\")\n",
        "  elif(BMI>=18.5 and BMI<=24.9):\n",
        "    print(\"Normal weight\")\n",
        "  elif (BMI>24.9 and BMI <=29.9):\n",
        "    print(\"Overweight\")\n",
        "  else:\n",
        "    print(\"Obese\")\n",
        "  return int(BMI*10+0.5)/10\n",
        "  # return round(BMI,1)"
      ],
      "metadata": {
        "id": "Iftsxi7Z-MYJ"
      },
      "execution_count": null,
      "outputs": []
    },
    {
      "cell_type": "code",
      "source": [
        "BMIS(171,51)"
      ],
      "metadata": {
        "colab": {
          "base_uri": "https://localhost:8080/"
        },
        "id": "VgSkabCk-kjz",
        "outputId": "e25cd750-50f1-49f2-d0c6-74cc6a97fd97"
      },
      "execution_count": null,
      "outputs": [
        {
          "output_type": "stream",
          "name": "stdout",
          "text": [
            "Underweight\n"
          ]
        },
        {
          "output_type": "execute_result",
          "data": {
            "text/plain": [
              "17.4"
            ]
          },
          "metadata": {},
          "execution_count": 82
        }
      ]
    },
    {
      "cell_type": "code",
      "source": [
        "def divide( A, B):\n",
        "  if A % B == 0:\n",
        "    print( A // B)\n",
        "        \n",
        "  else:\n",
        "    print(\"\")"
      ],
      "metadata": {
        "id": "r0e_4ekJ-mu8"
      },
      "execution_count": null,
      "outputs": []
    },
    {
      "cell_type": "code",
      "source": [
        "divide(-9,3)"
      ],
      "metadata": {
        "colab": {
          "base_uri": "https://localhost:8080/"
        },
        "id": "wntK4r9vCLAB",
        "outputId": "51c7b08c-f571-4dfb-fc28-0178cd0a6586"
      },
      "execution_count": null,
      "outputs": [
        {
          "output_type": "stream",
          "name": "stdout",
          "text": [
            "-3\n"
          ]
        }
      ]
    },
    {
      "cell_type": "code",
      "source": [
        "x = 5\n",
        "\n",
        "def foo(x):\n",
        "    x = 4\n",
        "\n",
        "foo(x)\n",
        "print(x)"
      ],
      "metadata": {
        "colab": {
          "base_uri": "https://localhost:8080/"
        },
        "id": "Jhqq5gnnCQiu",
        "outputId": "c89888b4-c163-4644-b982-2e337f3391d5"
      },
      "execution_count": null,
      "outputs": [
        {
          "output_type": "stream",
          "name": "stdout",
          "text": [
            "5\n"
          ]
        }
      ]
    },
    {
      "cell_type": "code",
      "source": [
        "x = \"global\"\n",
        "\n",
        "def foo():\n",
        "    global x\n",
        "    print(x, end=\",\")\n",
        "    x = \"local\"\n",
        "    print(x, end=\",\")\n",
        "\n",
        "foo()\n",
        "print(x, end=\"\")"
      ],
      "metadata": {
        "colab": {
          "base_uri": "https://localhost:8080/"
        },
        "id": "bP5OqTaoDoxp",
        "outputId": "2f3ba4cd-4e87-4fa5-8390-aa628831f100"
      },
      "execution_count": null,
      "outputs": [
        {
          "output_type": "stream",
          "name": "stdout",
          "text": [
            "global,local,local"
          ]
        }
      ]
    },
    {
      "cell_type": "code",
      "source": [
        "def perfee(A):\n",
        "  for i in range(1,A):\n",
        "    if A%i==0 and A/i==i:\n",
        "      return int(A**.5)\n",
        "  else:\n",
        "    return 0\n",
        "# def perfect(A):\n",
        "#     s=0\n",
        "#     if A % (A**0.5) == 0:\n",
        "#         return int(A**0.5)\n",
        "#     else:\n",
        "#         return 0"
      ],
      "metadata": {
        "id": "9aaWrlvwDy4R"
      },
      "execution_count": null,
      "outputs": []
    },
    {
      "cell_type": "code",
      "source": [
        "perfee(41)"
      ],
      "metadata": {
        "colab": {
          "base_uri": "https://localhost:8080/"
        },
        "id": "QYfyDHDGpB7W",
        "outputId": "6e826415-e579-4e47-d643-f829d5c59992"
      },
      "execution_count": null,
      "outputs": [
        {
          "output_type": "execute_result",
          "data": {
            "text/plain": [
              "0"
            ]
          },
          "metadata": {},
          "execution_count": 17
        }
      ]
    },
    {
      "cell_type": "code",
      "source": [
        "import math\n",
        "def reality(A):\n",
        "  A= round(A/200,2)\n",
        "  return math.floor(A)"
      ],
      "metadata": {
        "id": "AR97QDv7pG4c"
      },
      "execution_count": null,
      "outputs": []
    },
    {
      "cell_type": "code",
      "source": [
        "reality(2113)"
      ],
      "metadata": {
        "colab": {
          "base_uri": "https://localhost:8080/"
        },
        "id": "oYmlYCpGqn23",
        "outputId": "b34982e8-bec6-4162-b659-207f8dc9ea49"
      },
      "execution_count": null,
      "outputs": [
        {
          "output_type": "execute_result",
          "data": {
            "text/plain": [
              "10"
            ]
          },
          "metadata": {},
          "execution_count": 23
        }
      ]
    },
    {
      "cell_type": "code",
      "source": [
        "def calculator(num):\n",
        "  return num*400\n"
      ],
      "metadata": {
        "id": "PezX34zbqsfH"
      },
      "execution_count": null,
      "outputs": []
    },
    {
      "cell_type": "code",
      "source": [
        "a=40"
      ],
      "metadata": {
        "id": "eRyN549vstb2"
      },
      "execution_count": null,
      "outputs": []
    },
    {
      "cell_type": "code",
      "source": [
        "print(a)\n",
        "calculator(a)\n",
        "print(num)\n",
        "\n"
      ],
      "metadata": {
        "colab": {
          "base_uri": "https://localhost:8080/",
          "height": 236
        },
        "id": "PPMgka0fsyHs",
        "outputId": "0568260f-d947-492b-c5e2-801263c75e4a"
      },
      "execution_count": null,
      "outputs": [
        {
          "output_type": "stream",
          "name": "stdout",
          "text": [
            "40\n"
          ]
        },
        {
          "output_type": "error",
          "ename": "NameError",
          "evalue": "ignored",
          "traceback": [
            "\u001b[0;31m---------------------------------------------------------------------------\u001b[0m",
            "\u001b[0;31mNameError\u001b[0m                                 Traceback (most recent call last)",
            "\u001b[0;32m<ipython-input-3-f23ca076ef30>\u001b[0m in \u001b[0;36m<module>\u001b[0;34m\u001b[0m\n\u001b[1;32m      1\u001b[0m \u001b[0mprint\u001b[0m\u001b[0;34m(\u001b[0m\u001b[0ma\u001b[0m\u001b[0;34m)\u001b[0m\u001b[0;34m\u001b[0m\u001b[0;34m\u001b[0m\u001b[0m\n\u001b[1;32m      2\u001b[0m \u001b[0mcalculator\u001b[0m\u001b[0;34m(\u001b[0m\u001b[0ma\u001b[0m\u001b[0;34m)\u001b[0m\u001b[0;34m\u001b[0m\u001b[0;34m\u001b[0m\u001b[0m\n\u001b[0;32m----> 3\u001b[0;31m \u001b[0mprint\u001b[0m\u001b[0;34m(\u001b[0m\u001b[0mnum\u001b[0m\u001b[0;34m)\u001b[0m\u001b[0;34m\u001b[0m\u001b[0;34m\u001b[0m\u001b[0m\n\u001b[0m\u001b[1;32m      4\u001b[0m \u001b[0;34m\u001b[0m\u001b[0m\n",
            "\u001b[0;31mNameError\u001b[0m: name 'num' is not defined"
          ]
        }
      ]
    },
    {
      "cell_type": "code",
      "source": [
        "def random(a,b,c,d):\n",
        "  print(\"a=\",a)\n",
        "  print(\"b=\",b)\n",
        "  print(\"c=\",c)\n",
        "  print(\"d=\",d)\n",
        "\n",
        "random(4, 5, b=6, d=int(input()))"
      ],
      "metadata": {
        "colab": {
          "base_uri": "https://localhost:8080/",
          "height": 218
        },
        "id": "T8V_7bFhs9m-",
        "outputId": "358e2913-5b2b-4f17-dc62-a8f7f9cf5d79"
      },
      "execution_count": null,
      "outputs": [
        {
          "name": "stdout",
          "output_type": "stream",
          "text": [
            "7\n"
          ]
        },
        {
          "output_type": "error",
          "ename": "TypeError",
          "evalue": "ignored",
          "traceback": [
            "\u001b[0;31m---------------------------------------------------------------------------\u001b[0m",
            "\u001b[0;31mTypeError\u001b[0m                                 Traceback (most recent call last)",
            "\u001b[0;32m<ipython-input-8-f703735a07d8>\u001b[0m in \u001b[0;36m<module>\u001b[0;34m\u001b[0m\n\u001b[1;32m      5\u001b[0m   \u001b[0mprint\u001b[0m\u001b[0;34m(\u001b[0m\u001b[0;34m\"d=\"\u001b[0m\u001b[0;34m,\u001b[0m\u001b[0md\u001b[0m\u001b[0;34m)\u001b[0m\u001b[0;34m\u001b[0m\u001b[0;34m\u001b[0m\u001b[0m\n\u001b[1;32m      6\u001b[0m \u001b[0;34m\u001b[0m\u001b[0m\n\u001b[0;32m----> 7\u001b[0;31m \u001b[0mrandom\u001b[0m\u001b[0;34m(\u001b[0m\u001b[0;36m4\u001b[0m\u001b[0;34m,\u001b[0m \u001b[0;36m5\u001b[0m\u001b[0;34m,\u001b[0m \u001b[0mb\u001b[0m\u001b[0;34m=\u001b[0m\u001b[0;36m6\u001b[0m\u001b[0;34m,\u001b[0m \u001b[0md\u001b[0m\u001b[0;34m=\u001b[0m\u001b[0mint\u001b[0m\u001b[0;34m(\u001b[0m\u001b[0minput\u001b[0m\u001b[0;34m(\u001b[0m\u001b[0;34m)\u001b[0m\u001b[0;34m)\u001b[0m\u001b[0;34m)\u001b[0m\u001b[0;34m\u001b[0m\u001b[0;34m\u001b[0m\u001b[0m\n\u001b[0m",
            "\u001b[0;31mTypeError\u001b[0m: random() got multiple values for argument 'b'"
          ]
        }
      ]
    },
    {
      "cell_type": "code",
      "source": [
        "\"ques- create a date print function with argumnets - day, month, year and style. style by default is 0\""
      ],
      "metadata": {
        "colab": {
          "base_uri": "https://localhost:8080/",
          "height": 35
        },
        "id": "MR8W8UNB4XMq",
        "outputId": "8e34c373-c6f4-4532-c737-d47c05ae7c50"
      },
      "execution_count": null,
      "outputs": [
        {
          "output_type": "execute_result",
          "data": {
            "text/plain": [
              "'ques- create a date print function with argumnets - day, month, year and style. style by default is 0'"
            ],
            "application/vnd.google.colaboratory.intrinsic+json": {
              "type": "string"
            }
          },
          "metadata": {},
          "execution_count": 20
        }
      ]
    },
    {
      "cell_type": "code",
      "source": [
        "def daten(day, month, year, style=0):\n",
        "  \n",
        "  if style ==0:\n",
        "    # print(day,\"/\",month,\"/\",year)\n",
        "    print(day,month,year,sep=\"/\")\n",
        "  elif style==1:\n",
        "    # print(month,\"/\",day,\"/\",year)\n",
        "    print(month,day,year,sep=\"/\")\n",
        "  else:\n",
        "    print(\"invalid style\")\n",
        "daten(14,10,1988)\n",
        "\n"
      ],
      "metadata": {
        "colab": {
          "base_uri": "https://localhost:8080/"
        },
        "id": "auU8mAG-9bUO",
        "outputId": "c0b64c42-4b25-40ac-b0a1-5e8b5e950ecd"
      },
      "execution_count": null,
      "outputs": [
        {
          "output_type": "stream",
          "name": "stdout",
          "text": [
            "14/10/1988\n"
          ]
        }
      ]
    },
    {
      "cell_type": "code",
      "source": [
        "daten(14,10,1988,1)"
      ],
      "metadata": {
        "colab": {
          "base_uri": "https://localhost:8080/"
        },
        "id": "2FaoFFgi_ajN",
        "outputId": "2f531586-76b6-410a-9940-8015d9634b47"
      },
      "execution_count": null,
      "outputs": [
        {
          "output_type": "stream",
          "name": "stdout",
          "text": [
            "10/14/1988\n"
          ]
        }
      ]
    },
    {
      "cell_type": "code",
      "source": [
        "\"\"\"  Rounded value of a real number X is the integer which is nearest to X, with halfway cases rounded away from zero. Some examples: Rounded value of 2.4 = 2\n",
        "Rounded value of 2.5 = 3\n",
        "Rounded value of 2.6 = 3\n",
        "Rounded value of 0.0 = 0\n",
        "Rounded value of -2.4 = -2\n",
        "Rounded value of -2.5 = -3\n",
        "Rounded value of -2.6 = -3\"\"\""
      ],
      "metadata": {
        "colab": {
          "base_uri": "https://localhost:8080/",
          "height": 70
        },
        "id": "_nEiX5LKAevS",
        "outputId": "8fbc94b4-c329-449f-eb88-0038bcad0463"
      },
      "execution_count": null,
      "outputs": [
        {
          "output_type": "execute_result",
          "data": {
            "text/plain": [
              "'  Rounded value of a real number X is the integer which is nearest to X, with halfway cases rounded away from zero. Some examples: Rounded value of 2.4 = 2\\nRounded value of 2.5 = 3\\nRounded value of 2.6 = 3\\nRounded value of 0.0 = 0\\nRounded value of -2.4 = -2\\nRounded value of -2.5 = -3\\nRounded value of -2.6 = -3'"
            ],
            "application/vnd.google.colaboratory.intrinsic+json": {
              "type": "string"
            }
          },
          "metadata": {},
          "execution_count": 1
        }
      ]
    },
    {
      "cell_type": "code",
      "source": [
        "#for positive real number\n",
        "a=5.6\n",
        "floor= a//1 #floor is the largest integer lower than the number\n",
        "ceil= a//1+1 #ceil is the smallest integer bigger than the number"
      ],
      "metadata": {
        "id": "iTEt1jE4Bjtw"
      },
      "execution_count": null,
      "outputs": []
    },
    {
      "cell_type": "code",
      "source": [
        "floor\n"
      ],
      "metadata": {
        "colab": {
          "base_uri": "https://localhost:8080/"
        },
        "id": "rk4smZ2-B1-B",
        "outputId": "b7a3c4c1-c323-481f-9819-3f40c6c5f4c1"
      },
      "execution_count": null,
      "outputs": [
        {
          "output_type": "execute_result",
          "data": {
            "text/plain": [
              "5.0"
            ]
          },
          "metadata": {},
          "execution_count": 4
        }
      ]
    },
    {
      "cell_type": "code",
      "source": [
        "ceil"
      ],
      "metadata": {
        "colab": {
          "base_uri": "https://localhost:8080/"
        },
        "id": "Z73_Dsa0B8yX",
        "outputId": "d5b1d528-d655-4340-d64f-06597c2b1f41"
      },
      "execution_count": null,
      "outputs": [
        {
          "output_type": "execute_result",
          "data": {
            "text/plain": [
              "6.0"
            ]
          },
          "metadata": {},
          "execution_count": 5
        }
      ]
    },
    {
      "cell_type": "code",
      "source": [
        "diff_from_floor= a-floor\n",
        "diff_from_floor"
      ],
      "metadata": {
        "colab": {
          "base_uri": "https://localhost:8080/"
        },
        "id": "zA1KilsSB_sF",
        "outputId": "6429922f-2069-4088-f641-14390b88eaae"
      },
      "execution_count": null,
      "outputs": [
        {
          "output_type": "execute_result",
          "data": {
            "text/plain": [
              "0.5999999999999996"
            ]
          },
          "metadata": {},
          "execution_count": 9
        }
      ]
    },
    {
      "cell_type": "code",
      "source": [
        "diff_from_ceil= ceil-a\n",
        "diff_from_ceil"
      ],
      "metadata": {
        "colab": {
          "base_uri": "https://localhost:8080/"
        },
        "id": "tFDRTcLQCFy6",
        "outputId": "ff8edd34-8f19-43c7-9c0b-8af6c0cfa043"
      },
      "execution_count": null,
      "outputs": [
        {
          "output_type": "execute_result",
          "data": {
            "text/plain": [
              "0.40000000000000036"
            ]
          },
          "metadata": {},
          "execution_count": 8
        }
      ]
    },
    {
      "cell_type": "code",
      "source": [
        "#wherever the difference is smaller, one can round off to that number \n",
        "if diff_from_ceil <= diff_from_floor:\n",
        "  result=ceil\n",
        "else:\n",
        "  result=floor\n",
        "\n"
      ],
      "metadata": {
        "id": "6M1FPgbcCI9U"
      },
      "execution_count": null,
      "outputs": []
    },
    {
      "cell_type": "code",
      "source": [
        "A = [1, 9, 9, 9, 10, 21]\n"
      ],
      "metadata": {
        "id": "QcZ7cgZtD0ok"
      },
      "execution_count": null,
      "outputs": []
    },
    {
      "cell_type": "code",
      "source": [
        "def solve(A):\n",
        "  B= int(input())\n",
        "\n",
        "  C=[]\n",
        "  for i in range(len(A)):\n",
        "    if A[i]==B:\n",
        "      if A[i]!= max(A):\n",
        "        C.append(i)\n",
        "  \n",
        "  return C"
      ],
      "metadata": {
        "id": "hb31fYZJSUTQ"
      },
      "execution_count": null,
      "outputs": []
    },
    {
      "cell_type": "code",
      "source": [
        "solve(A)"
      ],
      "metadata": {
        "colab": {
          "base_uri": "https://localhost:8080/"
        },
        "id": "54INaQfmWxxh",
        "outputId": "fd758723-5856-46c7-dc87-7497daa73d1d"
      },
      "execution_count": null,
      "outputs": [
        {
          "name": "stdout",
          "output_type": "stream",
          "text": [
            "9\n"
          ]
        },
        {
          "output_type": "execute_result",
          "data": {
            "text/plain": [
              "[1, 2, 3]"
            ]
          },
          "metadata": {},
          "execution_count": 7
        }
      ]
    },
    {
      "cell_type": "code",
      "source": [
        "def solve(self, A):\n",
        "  if len(A) == 1:\n",
        "    return -1\n",
        "  else:\n",
        "    max1 = max(A)\n",
        "    second_max = []\n",
        "    for i in A:\n",
        "      if i!= max1:\n",
        "        second_max.append(i)\n",
        "      return max(second_max)  \n",
        "\n"
      ],
      "metadata": {
        "id": "-p1ocaWCSX5D"
      },
      "execution_count": null,
      "outputs": []
    }
  ]
}