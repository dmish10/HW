{
  "nbformat": 4,
  "nbformat_minor": 0,
  "metadata": {
    "colab": {
      "provenance": [],
      "authorship_tag": "ABX9TyOsruzCqW6qoML0L8KB5QgY",
      "include_colab_link": true
    },
    "kernelspec": {
      "name": "python3",
      "display_name": "Python 3"
    },
    "language_info": {
      "name": "python"
    }
  },
  "cells": [
    {
      "cell_type": "markdown",
      "metadata": {
        "id": "view-in-github",
        "colab_type": "text"
      },
      "source": [
        "<a href=\"https://colab.research.google.com/github/dmish10/Scaler_Homework/blob/master/Practice_sessions_17th_oct.ipynb\" target=\"_parent\"><img src=\"https://colab.research.google.com/assets/colab-badge.svg\" alt=\"Open In Colab\"/></a>"
      ]
    },
    {
      "cell_type": "code",
      "execution_count": null,
      "metadata": {
        "id": "gBj4VLpsf0Lm"
      },
      "outputs": [],
      "source": [
        "# practice questions\n",
        "\"\"\"Question 1 = print multiplication table for teste cases inputs using for loop\"\"\""
      ]
    },
    {
      "cell_type": "code",
      "source": [
        "T= int(input())\n",
        "\n",
        "for c in range(T):\n",
        "  n=int(input())\n",
        "  print(\"multiplication table of\", n)\n",
        "  for i in range(1,11):\n",
        "    print(n*i, end=\" \")\n",
        "    i+=1"
      ],
      "metadata": {
        "colab": {
          "base_uri": "https://localhost:8080/"
        },
        "id": "oQjrADEMf-vf",
        "outputId": "8c0a342f-d082-426a-caf1-282f1cc4f6fd"
      },
      "execution_count": null,
      "outputs": [
        {
          "output_type": "stream",
          "name": "stdout",
          "text": [
            "2\n",
            "3\n",
            "multiplication table of 3\n",
            "3 6 9 12 15 18 21 24 27 30 4\n",
            "multiplication table of 4\n",
            "4 8 12 16 20 24 28 32 36 40 "
          ]
        }
      ]
    },
    {
      "cell_type": "code",
      "source": [
        "\n",
        "\"\"\"Question 2 = print multiplication table for teste cases inputs using while loop\"\"\"\n",
        "\n",
        "T= int(input())\n",
        "t=1\n",
        "while t<=T:\n",
        "  n=int(input())\n",
        "  print(\"multiplication table of\", n)\n",
        "  for i in range (1,11):\n",
        "    print(n*i, end=\" \")\n",
        "    i+=1\n",
        "  t+=1\n",
        "  print()"
      ],
      "metadata": {
        "colab": {
          "base_uri": "https://localhost:8080/"
        },
        "id": "jKbQtaSxgQiR",
        "outputId": "1ada0178-d298-412f-8634-9efe24428493"
      },
      "execution_count": null,
      "outputs": [
        {
          "output_type": "stream",
          "name": "stdout",
          "text": [
            "2\n",
            "3\n",
            "multiplication table of 3\n",
            "3 6 9 12 15 18 21 24 27 30 \n",
            "4\n",
            "multiplication table of 4\n",
            "4 8 12 16 20 24 28 32 36 40 \n"
          ]
        }
      ]
    },
    {
      "cell_type": "code",
      "source": [
        "\"\"\"Question 3 = print multiplication table for teste cases inputs but ask the user if he wants to continue with the testcases. \n",
        "if YES then continue or else STOP\"\"\"\n",
        "\n",
        "T= int(input())\n",
        "t=1\n",
        "while t<=T:\n",
        "  n=int(input())\n",
        "  print(\"multiplication table of\", n)\n",
        "  for i in range (1,11):\n",
        "    print(n*i, end=\" \")\n",
        "    i+=1\n",
        "  print()\n",
        "  I= input(\"Do you want to continue? \")\n",
        "  if I.lower()==\"yes\":\n",
        "    t+=1\n",
        "  else:\n",
        "    break\n",
        "  print()\n",
        "    \n"
      ],
      "metadata": {
        "colab": {
          "base_uri": "https://localhost:8080/"
        },
        "id": "ctXMsVczg4jt",
        "outputId": "afd95de1-0e56-4a5a-d696-c1f7835e6b87"
      },
      "execution_count": null,
      "outputs": [
        {
          "output_type": "stream",
          "name": "stdout",
          "text": [
            "2\n",
            "3\n",
            "multiplication table of 3\n",
            "3 6 9 12 15 18 21 24 27 30 \n",
            "Do you want to continue? yEs\n",
            "\n",
            "4\n",
            "multiplication table of 4\n",
            "4 8 12 16 20 24 28 32 36 40 \n",
            "Do you want to continue? Yes\n",
            "\n"
          ]
        }
      ]
    },
    {
      "cell_type": "code",
      "source": [
        "\"\"\"Question 4 = print multiplication table for teste cases inputs but ask the user if he wants to continue with the testcases. \n",
        "if YES then continue or else STOP\"\"\"\n",
        "\n",
        "Cont= True\n",
        "while Cont:\n",
        "  n= int(input())\n",
        "  print(\"Print multiplication table of \",n)\n",
        "  for i in range(1,11):\n",
        "    print(n*i, end=\",\")\n",
        "  print()\n",
        "  user_input=input(\"Do you wish to continue? \")\n",
        "  if user_input.lower()==\"yes\":\n",
        "    Cont= True\n",
        "  else:\n",
        "    Cont= False\n"
      ],
      "metadata": {
        "colab": {
          "base_uri": "https://localhost:8080/"
        },
        "id": "pN-4OoKakG2w",
        "outputId": "9775792c-fce1-4965-d428-5fbe248769e0"
      },
      "execution_count": null,
      "outputs": [
        {
          "name": "stdout",
          "output_type": "stream",
          "text": [
            "2\n",
            "Print multiplication table of  2\n",
            "2,4,6,8,10,12,14,16,18,20,\n",
            "Do you wish to continue? yes\n",
            "4\n",
            "Print multiplication table of  4\n",
            "4,8,12,16,20,24,28,32,36,40,\n",
            "Do you wish to continue? yes\n",
            "5\n",
            "Print multiplication table of  5\n",
            "5,10,15,20,25,30,35,40,45,50,\n",
            "Do you wish to continue? tyon\n"
          ]
        }
      ]
    },
    {
      "cell_type": "code",
      "source": [
        "from IPython.core.interactiveshell import import_item\n",
        "\"\"\"Question 5- Mr. Q has a diary with different numbers. Calcultae the sum of all these numbers separately\"\"\"\n",
        "\n",
        "T= int(input())\n",
        "t=1\n",
        "while t<=T:\n",
        "  \n",
        "  n=int(input())\n",
        "  dig=0\n",
        "  s=0\n",
        "  \n",
        "  while n!=0:\n",
        "    dig=n%i\n",
        "    s+=dig\n",
        "    n=n//10\n",
        "  print(s)\n",
        "  t+=1\n",
        "  \n",
        "  \n",
        "\n"
      ],
      "metadata": {
        "colab": {
          "base_uri": "https://localhost:8080/"
        },
        "id": "QgpxCrXeqF4x",
        "outputId": "b10104a3-ce38-4950-9d99-cdd64071987d"
      },
      "execution_count": null,
      "outputs": [
        {
          "output_type": "stream",
          "name": "stdout",
          "text": [
            "2\n",
            "2345\n",
            "14\n",
            "3456\n",
            "18\n"
          ]
        }
      ]
    },
    {
      "cell_type": "code",
      "source": [
        "cont= True\n",
        "\n",
        "while cont:\n",
        "  n=int(input())\n",
        "  s=0\n",
        "  \n",
        "  while n>0:\n",
        "    dig=n%10\n",
        "    s=s+dig\n",
        "    n=n//10\n",
        "  print(s)\n",
        "  print()\n",
        "  user_input=input(\"Do you wish to continue? \")\n",
        "  if user_input.lower()==\"yes\":\n",
        "    cont= True\n",
        "  else:  \n",
        "    cont= False \n",
        "  \n",
        "\n",
        "  "
      ],
      "metadata": {
        "colab": {
          "base_uri": "https://localhost:8080/"
        },
        "id": "s3Y3hpHfs0mC",
        "outputId": "2d9b00b0-5383-456e-99c0-58e484b9d53f"
      },
      "execution_count": null,
      "outputs": [
        {
          "name": "stdout",
          "output_type": "stream",
          "text": [
            "12345\n",
            "15\n",
            "\n",
            "Do you wish to continue? yes\n",
            "3456\n",
            "18\n",
            "\n",
            "Do you wish to continue? no\n"
          ]
        }
      ]
    },
    {
      "cell_type": "code",
      "source": [
        "\"\"\" Understanding Netsted Loops, Jump Statements\"\"\"\n",
        "\"\"\" Pass and Continue \"\"\"\n",
        "\n",
        "for i in range (4): \n",
        "  if i==3:\n",
        "    pass# empty statemnet in python, does nothing\n",
        "  print(i)\n"
      ],
      "metadata": {
        "colab": {
          "base_uri": "https://localhost:8080/"
        },
        "id": "KgVH0XqjxZ4w",
        "outputId": "2af33b5e-bd6f-41bf-a278-9f39f40e75b4"
      },
      "execution_count": null,
      "outputs": [
        {
          "output_type": "stream",
          "name": "stdout",
          "text": [
            "0\n",
            "1\n",
            "2\n",
            "3\n"
          ]
        }
      ]
    },
    {
      "cell_type": "code",
      "source": [
        "\n",
        "for i in range (5):\n",
        "  if i==3:\n",
        "    continue# it skips the particular iteration in the if statement and runs the rest.\n",
        "  print(i)"
      ],
      "metadata": {
        "colab": {
          "base_uri": "https://localhost:8080/"
        },
        "id": "3Y6mNZmLa8UY",
        "outputId": "88ba99be-cfaa-46d0-dc0c-1100cf5d641b"
      },
      "execution_count": null,
      "outputs": [
        {
          "output_type": "stream",
          "name": "stdout",
          "text": [
            "0\n",
            "1\n",
            "2\n",
            "4\n"
          ]
        }
      ]
    },
    {
      "cell_type": "code",
      "source": [
        "for i in range (5):\n",
        "  if i==3:\n",
        "    break# it break at the particular iteration in the if statement and ends the loop.\n",
        "  print(i)"
      ],
      "metadata": {
        "colab": {
          "base_uri": "https://localhost:8080/"
        },
        "id": "mxHJULEDbSHZ",
        "outputId": "cd9d90e0-bcfc-44ef-dd81-10597acc43d4"
      },
      "execution_count": null,
      "outputs": [
        {
          "output_type": "stream",
          "name": "stdout",
          "text": [
            "0\n",
            "1\n",
            "2\n"
          ]
        }
      ]
    },
    {
      "cell_type": "code",
      "source": [
        "\"\"\"Question 1- Write a loop to print 1,4,7,10,13,16\"\"\"\n",
        "\n"
      ],
      "metadata": {
        "colab": {
          "base_uri": "https://localhost:8080/",
          "height": 35
        },
        "id": "00K4tWT8b7uJ",
        "outputId": "2033e657-5390-4fa0-ca38-7fea9c809b22"
      },
      "execution_count": null,
      "outputs": [
        {
          "output_type": "execute_result",
          "data": {
            "text/plain": [
              "'Question 1- Write a loop to print 1,4,7,10,13,16'"
            ],
            "application/vnd.google.colaboratory.intrinsic+json": {
              "type": "string"
            }
          },
          "metadata": {},
          "execution_count": 7
        }
      ]
    },
    {
      "cell_type": "code",
      "source": [
        "\n",
        "for i in range(1, 17,3):\n",
        "  if i==16:\n",
        "    print(i,end=\"\")\n",
        "  else: \n",
        "    print(i,end=\",\")\n",
        "  \n"
      ],
      "metadata": {
        "colab": {
          "base_uri": "https://localhost:8080/"
        },
        "id": "Z02e27I4ciVJ",
        "outputId": "7267ebb5-4cbc-472d-c52b-33c8d5b7439b"
      },
      "execution_count": null,
      "outputs": [
        {
          "output_type": "stream",
          "name": "stdout",
          "text": [
            "1,4,7,10,13,16"
          ]
        }
      ]
    },
    {
      "cell_type": "code",
      "source": [
        "\n",
        "\"\"\"Question 2- Write a loop to print the following numbers 1,3,7,13,21,31,43\"\"\""
      ],
      "metadata": {
        "colab": {
          "base_uri": "https://localhost:8080/",
          "height": 35
        },
        "id": "WqwWKDRUc3qu",
        "outputId": "42c15b01-8683-40f7-dfbf-bc0186ab4775"
      },
      "execution_count": null,
      "outputs": [
        {
          "output_type": "execute_result",
          "data": {
            "text/plain": [
              "'Question 2- Write a loop to print the following numbers 1,3,7,13,21,31,43'"
            ],
            "application/vnd.google.colaboratory.intrinsic+json": {
              "type": "string"
            }
          },
          "metadata": {},
          "execution_count": 29
        }
      ]
    },
    {
      "cell_type": "code",
      "source": [
        "s=1\n",
        "print(s, end=\",\")\n",
        "for i in range(0,7):\n",
        "  i*=2\n",
        "  s=s+i\n",
        "  \n",
        "  if s==43 :\n",
        "    print(s, end=\"\")\n",
        "  else:\n",
        "    print(s, end=\",\")\n"
      ],
      "metadata": {
        "colab": {
          "base_uri": "https://localhost:8080/"
        },
        "id": "5LsQ_lkrfrxz",
        "outputId": "bd27d8f7-79a1-437d-e0a2-f2c5d1b5a46d"
      },
      "execution_count": null,
      "outputs": [
        {
          "output_type": "stream",
          "name": "stdout",
          "text": [
            "1,1,3,7,13,21,31,43"
          ]
        }
      ]
    },
    {
      "cell_type": "code",
      "source": [
        "\n",
        "\"\"\"Question 2- Write a loop to print the following numbers 1,1,3,7,13,21,31,43 using while loop\"\"\""
      ],
      "metadata": {
        "colab": {
          "base_uri": "https://localhost:8080/",
          "height": 35
        },
        "id": "Yx0x2Vmuqav_",
        "outputId": "afb94c1f-78d4-4ce3-fbfd-80461bbb5d86"
      },
      "execution_count": null,
      "outputs": [
        {
          "output_type": "execute_result",
          "data": {
            "text/plain": [
              "'Question 2- Write a loop to print the following numbers 1,1,3,7,13,21,31,43 using while loop'"
            ],
            "application/vnd.google.colaboratory.intrinsic+json": {
              "type": "string"
            }
          },
          "metadata": {},
          "execution_count": 38
        }
      ]
    },
    {
      "cell_type": "code",
      "source": [
        "num=1\n",
        "i=0\n",
        "while num<=43:\n",
        "  print(num, end=\",\")\n",
        "  num=num+i*2\n",
        "  i+=1"
      ],
      "metadata": {
        "colab": {
          "base_uri": "https://localhost:8080/"
        },
        "id": "3Lmi031vsfjq",
        "outputId": "a3d6946d-c305-40a4-8ff0-34bbbcdbd455"
      },
      "execution_count": null,
      "outputs": [
        {
          "output_type": "stream",
          "name": "stdout",
          "text": [
            "1,1,3,7,13,21,31,43,"
          ]
        }
      ]
    },
    {
      "cell_type": "code",
      "source": [
        "\"\"\" question 3- write a program that continuously asks the user to input number. the program should stop only when the user keys in 5.\n",
        " the program should print the number everytime the input is provided. when input provided is 5, the program should print the total no. of inputs provided.\n",
        " Assume the user always provides an input\"\"\""
      ],
      "metadata": {
        "colab": {
          "base_uri": "https://localhost:8080/",
          "height": 70
        },
        "id": "qsQsunOGsv1Y",
        "outputId": "55ce71f8-aba4-479e-dc17-1eb21c6a08ce"
      },
      "execution_count": null,
      "outputs": [
        {
          "output_type": "execute_result",
          "data": {
            "text/plain": [
              "' question 3- write a program that continuously asks the user to input number. the program should stop only when the user keys in 5.\\n the program should print the number everytime the input is provided. when input provided is 5, the program should print the total no. of inputs provided.\\n Assume the user always provides an input'"
            ],
            "application/vnd.google.colaboratory.intrinsic+json": {
              "type": "string"
            }
          },
          "metadata": {},
          "execution_count": 71
        }
      ]
    },
    {
      "cell_type": "code",
      "source": [
        "\n",
        "i=0\n",
        "\n",
        "while True:\n",
        "  N= int(input(\"enter the number= \"))\n",
        "  i=i+1\n",
        "  if N==5:\n",
        "    print(\"total inputs so far= \", i)\n",
        "    break\n",
        "print(\"you provided\",i, \"inputs\")\n",
        "\n"
      ],
      "metadata": {
        "colab": {
          "base_uri": "https://localhost:8080/"
        },
        "id": "I9Z-PbfSwfp7",
        "outputId": "b427f2ee-2e35-4225-d61d-124f81372089"
      },
      "execution_count": null,
      "outputs": [
        {
          "output_type": "stream",
          "name": "stdout",
          "text": [
            "enter the number= 2\n",
            "enter the number= 4\n",
            "enter the number= 6\n",
            "enter the number= 7\n",
            "enter the number= 9\n",
            "enter the number= 5\n",
            "total inputs so far=  6\n",
            "you provided 6 inputs\n"
          ]
        }
      ]
    },
    {
      "cell_type": "code",
      "source": [
        "\"\"\"Question 4- print corresponding value using nested loops\"\"\"\n",
        "\n",
        "for i in range(3):\n",
        "  for j in range(3):\n",
        "    print(\"i-->\",i,\",j-->\",j)\n"
      ],
      "metadata": {
        "colab": {
          "base_uri": "https://localhost:8080/"
        },
        "id": "2dAC754Gz_CI",
        "outputId": "db6e861e-2be8-4692-baae-f478628afc08"
      },
      "execution_count": null,
      "outputs": [
        {
          "output_type": "stream",
          "name": "stdout",
          "text": [
            "i--> 0 ,j--> 0\n",
            "i--> 0 ,j--> 1\n",
            "i--> 0 ,j--> 2\n",
            "i--> 1 ,j--> 0\n",
            "i--> 1 ,j--> 1\n",
            "i--> 1 ,j--> 2\n",
            "i--> 2 ,j--> 0\n",
            "i--> 2 ,j--> 1\n",
            "i--> 2 ,j--> 2\n"
          ]
        }
      ]
    },
    {
      "cell_type": "code",
      "source": [
        "\"\"\"Question 5- write a program to print NXN matrix of \"*\"\n",
        "input=3 \n",
        "output = ***\n",
        "         ***\n",
        "         ***\n",
        "         \"\"\""
      ],
      "metadata": {
        "colab": {
          "base_uri": "https://localhost:8080/",
          "height": 35
        },
        "id": "Zq0Eu3K62qI8",
        "outputId": "1e12f8d6-7e8a-4dce-dcdb-8554c873a782"
      },
      "execution_count": null,
      "outputs": [
        {
          "output_type": "execute_result",
          "data": {
            "text/plain": [
              "'Question 5- write a program to print NXN matrix of \"*\"\\ninput=3 \\noutput = ***\\n         ***\\n         ***\\n         '"
            ],
            "application/vnd.google.colaboratory.intrinsic+json": {
              "type": "string"
            }
          },
          "metadata": {},
          "execution_count": 73
        }
      ]
    },
    {
      "cell_type": "code",
      "source": [
        "n= int(input())\n",
        "\n",
        "for i in range(1,n+1):\n",
        "  print(n*\"*\")\n",
        "    "
      ],
      "metadata": {
        "colab": {
          "base_uri": "https://localhost:8080/"
        },
        "id": "ujsf3G_y4Qz6",
        "outputId": "4b3b79fb-2b5d-4f2e-f5c9-3cd1d5044fcb"
      },
      "execution_count": null,
      "outputs": [
        {
          "output_type": "stream",
          "name": "stdout",
          "text": [
            "3\n",
            "***\n",
            "***\n",
            "***\n"
          ]
        }
      ]
    },
    {
      "cell_type": "code",
      "source": [
        "\"\"\"same question using nested loops\"\"\"\n",
        "\n",
        "n= int(input())\n",
        "for i in range(n):\n",
        "  for j in range(n-1):\n",
        "    print(\"*\", end=\"\")\n",
        "  print(\"*\")"
      ],
      "metadata": {
        "colab": {
          "base_uri": "https://localhost:8080/"
        },
        "id": "3GlIZ6VL4bH9",
        "outputId": "44f2b40a-5dea-47d8-9875-83c66a1f5554"
      },
      "execution_count": null,
      "outputs": [
        {
          "output_type": "stream",
          "name": "stdout",
          "text": [
            "3\n",
            "***\n",
            "***\n",
            "***\n"
          ]
        }
      ]
    },
    {
      "cell_type": "code",
      "source": [
        "\"\"\"Question 6- Write the multiplication table till the input N\"\"\"\n",
        "\n",
        "N= int(input())\n",
        "for i in range (1, N+1):\n",
        "  for j in range(1, 11):\n",
        "    print(i,\"*\",j,\"=\",i*j, end=\" \")\n",
        "  print()"
      ],
      "metadata": {
        "colab": {
          "base_uri": "https://localhost:8080/"
        },
        "id": "dxGVXwma588K",
        "outputId": "68167ce9-c1d3-4b59-8073-a5173da46647"
      },
      "execution_count": null,
      "outputs": [
        {
          "output_type": "stream",
          "name": "stdout",
          "text": [
            "3\n",
            "1 * 1 = 1 1 * 2 = 2 1 * 3 = 3 1 * 4 = 4 1 * 5 = 5 1 * 6 = 6 1 * 7 = 7 1 * 8 = 8 1 * 9 = 9 1 * 10 = 10 \n",
            "2 * 1 = 2 2 * 2 = 4 2 * 3 = 6 2 * 4 = 8 2 * 5 = 10 2 * 6 = 12 2 * 7 = 14 2 * 8 = 16 2 * 9 = 18 2 * 10 = 20 \n",
            "3 * 1 = 3 3 * 2 = 6 3 * 3 = 9 3 * 4 = 12 3 * 5 = 15 3 * 6 = 18 3 * 7 = 21 3 * 8 = 24 3 * 9 = 27 3 * 10 = 30 \n"
          ]
        }
      ]
    },
    {
      "cell_type": "code",
      "source": [
        "\"\"\" Question 7- Given two integers inputs, write a program to calculate GCD\"\"\"\n",
        "\n",
        "\n",
        "\n",
        "\n",
        "\n",
        "n1= int(input())\n",
        "n2= int(input())\n",
        "Min= min(n1,n2)\n",
        "\n",
        "for x in range(Min,0,-1):\n",
        "  if n1%x==0 and n2%x==0:\n",
        "    print(x)\n",
        "    break"
      ],
      "metadata": {
        "colab": {
          "base_uri": "https://localhost:8080/"
        },
        "id": "EH126wnk7pmW",
        "outputId": "7c65de2b-edf3-4b10-d36b-47f3f2a6f4c1"
      },
      "execution_count": null,
      "outputs": [
        {
          "output_type": "stream",
          "name": "stdout",
          "text": [
            "24\n",
            "32\n",
            "8\n"
          ]
        }
      ]
    },
    {
      "cell_type": "code",
      "source": [
        "\"\"\" Question 8- Given two numbers, find the LCM\"\"\"\n",
        "\n",
        "n1= int(input())\n",
        "n2= int(input())\n",
        "Max= max(n1,n2)\n",
        "\n",
        "for x in range(Max,(n1*n2)+1):\n",
        "  if x%n1==0 and x%n2==0:\n",
        "    print(x)\n",
        "    break\n",
        "\n"
      ],
      "metadata": {
        "colab": {
          "base_uri": "https://localhost:8080/"
        },
        "id": "8bJf84Le-J9N",
        "outputId": "5303f2a7-4452-4460-c18f-2b426b9b12f7"
      },
      "execution_count": null,
      "outputs": [
        {
          "output_type": "stream",
          "name": "stdout",
          "text": [
            "5\n",
            "16\n",
            "80\n"
          ]
        }
      ]
    },
    {
      "cell_type": "code",
      "source": [
        "\"\"\" Question 8- Given two numbers, find the LCM using while loop\"\"\"\n",
        "n1= int(input())\n",
        "n2= int(input())\n",
        "Max= max(n1,n2)\n",
        "\n",
        "while True:\n",
        "  if (Max%n1==0 and Max%n2==0):\n",
        "    print(Max)\n",
        "    break\n",
        "  Max+=1\n",
        "\n",
        "#this code took 135 steps to execute\n"
      ],
      "metadata": {
        "colab": {
          "base_uri": "https://localhost:8080/"
        },
        "id": "u8GvAhBd_GhR",
        "outputId": "d87158e8-8c37-4c64-9c5c-7aa2bbe585c5"
      },
      "execution_count": null,
      "outputs": [
        {
          "output_type": "stream",
          "name": "stdout",
          "text": [
            "5\n",
            "16\n",
            "80\n"
          ]
        }
      ]
    },
    {
      "cell_type": "code",
      "source": [
        "# this code is more effcient since takes only 16 steps while above takes 135 steps to execute. \n",
        "#here we add the max of the two numbers to X instead of increenting it by 1 each time. \n",
        "n1= int(input())\n",
        "n2= int(input())\n",
        "Max= max(n1,n2)\n",
        "X=Max\n",
        "\n",
        "while True:\n",
        "  if (X%n1==0 and X%n2==0):\n",
        "    print(X)\n",
        "    break\n",
        "  X+=Max"
      ],
      "metadata": {
        "colab": {
          "base_uri": "https://localhost:8080/"
        },
        "id": "hUtzkTrbJONX",
        "outputId": "12df8bfd-d5fd-4ece-af57-3157492efe98"
      },
      "execution_count": null,
      "outputs": [
        {
          "output_type": "stream",
          "name": "stdout",
          "text": [
            "5\n",
            "16\n",
            "80\n"
          ]
        }
      ]
    },
    {
      "cell_type": "code",
      "source": [
        "\"\"\" Question 9- print the following pattern provided input is the number of rows to be printed\n",
        "*\n",
        "**\n",
        "***\n",
        "****\n",
        "*****\n",
        "\"\"\""
      ],
      "metadata": {
        "colab": {
          "base_uri": "https://localhost:8080/",
          "height": 35
        },
        "id": "m1Q7e4yrKTFn",
        "outputId": "eaf1a60d-9893-46ca-8f33-280ffb635da4"
      },
      "execution_count": null,
      "outputs": [
        {
          "output_type": "execute_result",
          "data": {
            "text/plain": [
              "' Question 9- print the following pattern provided input is the number of rows to be printed\\n*\\n**\\n***\\n****\\n*****\\n'"
            ],
            "application/vnd.google.colaboratory.intrinsic+json": {
              "type": "string"
            }
          },
          "metadata": {},
          "execution_count": 115
        }
      ]
    },
    {
      "cell_type": "code",
      "source": [
        "n= int(input())\n",
        "\n",
        "for i in range(1,n+1):\n",
        "  print(\"*\" * i)\n"
      ],
      "metadata": {
        "colab": {
          "base_uri": "https://localhost:8080/"
        },
        "id": "egeX1dHlMJq_",
        "outputId": "17292f5f-4aeb-4492-d0f7-ee2336d63151"
      },
      "execution_count": null,
      "outputs": [
        {
          "output_type": "stream",
          "name": "stdout",
          "text": [
            "5\n",
            "*\n",
            "**\n",
            "***\n",
            "****\n",
            "*****\n"
          ]
        }
      ]
    },
    {
      "cell_type": "code",
      "source": [
        "n= int(input())\n",
        "\n",
        "for i in range(n):\n",
        "  for j in range(i+1):\n",
        "    print(\"*\",end=\"\")\n",
        "  print()"
      ],
      "metadata": {
        "colab": {
          "base_uri": "https://localhost:8080/"
        },
        "id": "cAnnHHOmm2Jt",
        "outputId": "a7164de9-6d13-46bb-cb43-d4b7ffd5734e"
      },
      "execution_count": null,
      "outputs": [
        {
          "output_type": "stream",
          "name": "stdout",
          "text": [
            "5\n",
            "*\n",
            "**\n",
            "***\n",
            "****\n",
            "*****\n"
          ]
        }
      ]
    },
    {
      "cell_type": "code",
      "source": [
        "# another way to solve abpve wuestion through nested loop \n",
        "\n",
        "n= int(input())\n",
        "\n",
        "for i in range(n):\n",
        "  for j in range(i+1):\n",
        "    print(\"*\", end=\"\")\n",
        "  print()"
      ],
      "metadata": {
        "colab": {
          "base_uri": "https://localhost:8080/"
        },
        "id": "1rx61NH-Ms8k",
        "outputId": "ecf31653-10ef-420d-d945-71463a77e191"
      },
      "execution_count": null,
      "outputs": [
        {
          "output_type": "stream",
          "name": "stdout",
          "text": [
            "5\n",
            "*\n",
            "**\n",
            "***\n",
            "****\n",
            "*****\n"
          ]
        }
      ]
    },
    {
      "cell_type": "code",
      "source": [
        "#Question 10- print no. of divisors for number n \n",
        "\n",
        "n= int(input())\n",
        "divisor=1\n",
        "\n",
        "for i in range(1,n+1//2):\n",
        "  #divisor of a number can't be greater than the number/2.\n",
        "  if n%i==0:\n",
        "    divisor+=1\n",
        "    print(i,end=\",\")\n",
        "print()\n",
        "print(\"total divisors=\",divisor)   \n",
        "\n",
        "\n"
      ],
      "metadata": {
        "colab": {
          "base_uri": "https://localhost:8080/"
        },
        "id": "kBfsxCpjPMsk",
        "outputId": "17a3b11f-6632-4827-bd7a-c492bbf3bb3f"
      },
      "execution_count": null,
      "outputs": [
        {
          "output_type": "stream",
          "name": "stdout",
          "text": [
            "16\n",
            "1,2,4,8,\n",
            "total divisors= 5\n"
          ]
        }
      ]
    },
    {
      "cell_type": "code",
      "source": [
        "\"\"\"Below are serveral questions from assignment practice \"\"\""
      ],
      "metadata": {
        "colab": {
          "base_uri": "https://localhost:8080/",
          "height": 35
        },
        "id": "S0bQ0s2L2IrT",
        "outputId": "3daf161e-124a-476c-cfdd-f75f29454093"
      },
      "execution_count": null,
      "outputs": [
        {
          "output_type": "execute_result",
          "data": {
            "text/plain": [
              "'Below are serveral questions from assignment practice '"
            ],
            "application/vnd.google.colaboratory.intrinsic+json": {
              "type": "string"
            }
          },
          "metadata": {},
          "execution_count": 1
        }
      ]
    },
    {
      "cell_type": "code",
      "source": [
        "\n",
        "T= int(input())\n",
        "\n",
        "t=1\n",
        "while t<=T:\n",
        "  s=1\n",
        "  n= int(input())\n",
        "  # while s<=len(str(n)):\n",
        "  dig=0\n",
        "  while n!=0:\n",
        "    dig=n%10\n",
        "    print(dig, end=\"\")\n",
        "    n=n//10\n",
        "      \n",
        "    # s+=1\n",
        "  print()\n",
        "  t+=1"
      ],
      "metadata": {
        "colab": {
          "base_uri": "https://localhost:8080/"
        },
        "id": "clEFWqPXTKrD",
        "outputId": "0b8b9406-284c-42ce-e916-4033d1898e1b"
      },
      "execution_count": null,
      "outputs": [
        {
          "output_type": "stream",
          "name": "stdout",
          "text": [
            "2\n",
            "105\n",
            "501\n",
            "102\n",
            "201\n"
          ]
        }
      ]
    },
    {
      "cell_type": "code",
      "source": [
        "T=int(input())\n",
        "t=1\n",
        "while t<=T:\n",
        "  N= int(input())\n",
        "  rev=0\n",
        "  while(N!=0):\n",
        "    dig=N%10\n",
        "    rev=rev*10+dig\n",
        "    N=N//10\n",
        "  print(\"Reverse of the number:\",rev)\n",
        "  print()\n",
        "  t+=1\n"
      ],
      "metadata": {
        "colab": {
          "base_uri": "https://localhost:8080/"
        },
        "id": "kte-N4jIXj0y",
        "outputId": "df9c43be-823b-4462-a7e9-36bf26f2d399"
      },
      "execution_count": null,
      "outputs": [
        {
          "output_type": "stream",
          "name": "stdout",
          "text": [
            "2\n",
            "105\n",
            "Reverse of the number: 501\n",
            "\n",
            "100\n",
            "Reverse of the number: 1\n",
            "\n"
          ]
        }
      ]
    },
    {
      "cell_type": "code",
      "source": [
        "n=int(input())\n",
        "temp=n\n",
        "rev=0\n",
        "while(n>0):\n",
        "    dig=n%10\n",
        "    rev=rev*10+dig\n",
        "    n=n//10\n",
        "if(temp==rev):\n",
        "  print(temp)"
      ],
      "metadata": {
        "colab": {
          "base_uri": "https://localhost:8080/"
        },
        "id": "jg_g8vhDYzi2",
        "outputId": "44746b0a-c12b-4d06-df3f-21925c947b09"
      },
      "execution_count": null,
      "outputs": [
        {
          "output_type": "stream",
          "name": "stdout",
          "text": [
            "101\n",
            "101\n"
          ]
        }
      ]
    },
    {
      "cell_type": "code",
      "source": [
        "n=int(input(\"Enter number: \"))\n",
        "rev=0\n",
        "while(n>0):\n",
        "    dig=n%10\n",
        "    rev=rev*10+dig\n",
        "    n=n//10\n",
        "print(\"Reverse of the number:\",rev)"
      ],
      "metadata": {
        "colab": {
          "base_uri": "https://localhost:8080/"
        },
        "id": "O7d3ML4yhpcC",
        "outputId": "d4e9b992-b9a1-4490-8ebe-c02adba99e86"
      },
      "execution_count": null,
      "outputs": [
        {
          "output_type": "stream",
          "name": "stdout",
          "text": [
            "Enter number: 105\n",
            "Reverse of the number: 501\n"
          ]
        }
      ]
    },
    {
      "cell_type": "code",
      "source": [
        "T=int(input())\n",
        "t=1\n",
        "while t<=T:\n",
        "  N= int(input())\n",
        "  rev=0\n",
        "  while(N!=0):\n",
        "    dig=N%10\n",
        "    rev=rev*10+dig\n",
        "    N=N//10\n",
        "  print(rev,end=\"\")\n",
        "  print()\n",
        "  t+=1"
      ],
      "metadata": {
        "colab": {
          "base_uri": "https://localhost:8080/"
        },
        "id": "LpqfjZLGjII3",
        "outputId": "f64ee4ef-57b6-40cb-d1d0-526ffb35b91e"
      },
      "execution_count": null,
      "outputs": [
        {
          "output_type": "stream",
          "name": "stdout",
          "text": [
            "2\n",
            "105\n",
            "501\n",
            "100\n",
            "1\n"
          ]
        }
      ]
    },
    {
      "cell_type": "code",
      "source": [
        "A = int(input())\n",
        "count = 0\n",
        "Asub = A\n",
        "tens =1\n",
        "while A!=0:\n",
        "  A//=10\n",
        "  count+=1\n",
        "power = 1\n",
        "while (power<count):\n",
        "  tens*=10\n",
        "  power+=1\n",
        "T=0\n",
        "while T<count:\n",
        "  select = Asub//tens\n",
        "  tens= tens/10\n",
        "  rem = select%10\n",
        "  if rem == 0:\n",
        "    print('zero', end = \" \")\n",
        "  elif rem == 1:     \n",
        "    print('one', end = \" \")\n",
        "  elif rem == 2:\n",
        "    print('two', end = \" \")\n",
        "  elif rem == 3:\n",
        "    print('three', end = \" \")\n",
        "  elif rem == 4:\n",
        "    print('four', end = \" \")\n",
        "  elif rem == 5:\n",
        "    print('five', end = \" \")\n",
        "  elif rem == 6:\n",
        "    print('six', end = \" \")\n",
        "  elif rem == 7:\n",
        "    print('seven', end = \" \")\n",
        "  elif rem == 8:\n",
        "    print('eight', end = \" \")\n",
        "  elif rem == 9:\n",
        "    print('nine', end = \" \")\n",
        "  T+=1"
      ],
      "metadata": {
        "colab": {
          "base_uri": "https://localhost:8080/"
        },
        "id": "qpoJN1npj7t0",
        "outputId": "5c0d5e7b-04f4-451e-f219-24c89baadadc"
      },
      "execution_count": null,
      "outputs": [
        {
          "output_type": "stream",
          "name": "stdout",
          "text": [
            "1234\n",
            "one two three four "
          ]
        }
      ]
    },
    {
      "cell_type": "code",
      "source": [
        "for i in range(1):\n",
        "    for j in range(2):\n",
        "        for k in range(1):\n",
        "            print(\"a\", end=\" \")\n",
        "        print(end=\" \")\n",
        "    print(\"c\")"
      ],
      "metadata": {
        "colab": {
          "base_uri": "https://localhost:8080/"
        },
        "id": "yi2HDg5gkjZj",
        "outputId": "b07edb70-ca3c-4aaa-b550-236058a48c46"
      },
      "execution_count": null,
      "outputs": [
        {
          "output_type": "stream",
          "name": "stdout",
          "text": [
            "a  a  c\n"
          ]
        }
      ]
    },
    {
      "cell_type": "code",
      "source": [
        "for i in range(1,5):\n",
        "  for j in range(6-i,1,-1):\n",
        "    print(i,end=' ')\n",
        "    i+=1\n",
        "  print()\n"
      ],
      "metadata": {
        "colab": {
          "base_uri": "https://localhost:8080/"
        },
        "id": "kioFf3sIBOaY",
        "outputId": "5965bc76-07e2-4cb0-ff89-ea4b878f9c0e"
      },
      "execution_count": null,
      "outputs": [
        {
          "output_type": "stream",
          "name": "stdout",
          "text": [
            "1 2 3 4 \n",
            "2 3 4 \n",
            "3 4 \n",
            "4 \n"
          ]
        }
      ]
    },
    {
      "cell_type": "code",
      "source": [
        "\n",
        "  for j in range(6,1,-1):\n",
        "    for i in range(1,j-1):\n",
        "      print(i, end=\" \")\n",
        "    print()"
      ],
      "metadata": {
        "colab": {
          "base_uri": "https://localhost:8080/"
        },
        "id": "VIt13MugCtrF",
        "outputId": "b3449c62-ece4-4496-ea79-2191ac1c922a"
      },
      "execution_count": null,
      "outputs": [
        {
          "output_type": "stream",
          "name": "stdout",
          "text": [
            "1 2 3 4 \n",
            "1 2 3 \n",
            "1 2 \n",
            "1 \n",
            "\n"
          ]
        }
      ]
    },
    {
      "cell_type": "code",
      "source": [
        "\n",
        "N=int(input())\n",
        "for j in range(N+2,1,-1):\n",
        "    for i in range(1,j-1):\n",
        "        print(i, end=\" \")\n",
        "    print()"
      ],
      "metadata": {
        "colab": {
          "base_uri": "https://localhost:8080/"
        },
        "id": "aEmit36OISiP",
        "outputId": "163e085b-cd1e-4612-e5ba-02b8ec622513"
      },
      "execution_count": null,
      "outputs": [
        {
          "output_type": "stream",
          "name": "stdout",
          "text": [
            "4\n",
            "1 2 3 4 \n",
            "1 2 3 \n",
            "1 2 \n",
            "1 \n",
            "\n"
          ]
        }
      ]
    },
    {
      "cell_type": "code",
      "source": [
        "N=int(input())\n",
        "for j in range(N+2,1,-1):\n",
        "    for i in range(1,j-1):\n",
        "        print(i, end=\" \")\n",
        "    print()\n",
        "    if j==N:\n",
        "      print(N-j+1, end=\"\")\n",
        "      break\n",
        "    "
      ],
      "metadata": {
        "colab": {
          "base_uri": "https://localhost:8080/"
        },
        "id": "HH_AcHCePuw0",
        "outputId": "ec2e1ccf-b6fb-4c6b-b3a5-4f555b75fa36"
      },
      "execution_count": null,
      "outputs": [
        {
          "output_type": "stream",
          "name": "stdout",
          "text": [
            "4\n",
            "1 2 3 4 \n",
            "1 2 3 \n",
            "1 2 \n",
            "1"
          ]
        }
      ]
    },
    {
      "cell_type": "code",
      "source": [
        "N = int(input())\n",
        "\n",
        "for i in range(1,N+2):\n",
        "    for j in range(1, i+1):\n",
        "        print(j, end=\"\")\n",
        "    print()"
      ],
      "metadata": {
        "colab": {
          "base_uri": "https://localhost:8080/"
        },
        "id": "KB_iR4QmQUN2",
        "outputId": "6924099f-2d4b-4e65-c76f-a33ad524e02a"
      },
      "execution_count": null,
      "outputs": [
        {
          "output_type": "stream",
          "name": "stdout",
          "text": [
            "4\n",
            "1\n",
            "12\n",
            "123\n",
            "1234\n",
            "12345\n"
          ]
        }
      ]
    },
    {
      "cell_type": "code",
      "source": [
        "rows = int(input(\"Enter number of rows: \"))\n",
        "\n",
        "for i in range(rows+1,0,-1):\n",
        "    for j in range(1,i):\n",
        "        print(j,end=\"\")\n",
        "        if j<i-1:\n",
        "            print(\" \",end=\"\")\n",
        "    print()"
      ],
      "metadata": {
        "colab": {
          "base_uri": "https://localhost:8080/"
        },
        "id": "mAb48Hh-3YQ3",
        "outputId": "502abf04-aa40-458d-ecdb-7f2921d64c00"
      },
      "execution_count": null,
      "outputs": [
        {
          "output_type": "stream",
          "name": "stdout",
          "text": [
            "Enter number of rows: 4\n",
            "1 2 3 4\n",
            "1 2 3\n",
            "1 2\n",
            "1\n",
            "\n"
          ]
        }
      ]
    },
    {
      "cell_type": "code",
      "source": [
        "N = int(input())\n",
        "\n",
        "for i in range(1,N+1):\n",
        "    for j in range(1, i+1):\n",
        "        print(j, end=\"\")\n",
        "        if j<i:\n",
        "          print(\" \", end=\"\")\n",
        "    print()"
      ],
      "metadata": {
        "colab": {
          "base_uri": "https://localhost:8080/"
        },
        "id": "TJzaEI6KGy_3",
        "outputId": "2d1f0fe4-4976-472d-b41c-de67840165e8"
      },
      "execution_count": null,
      "outputs": [
        {
          "output_type": "stream",
          "name": "stdout",
          "text": [
            "4\n",
            "1\n",
            "1 2\n",
            "1 2 3\n",
            "1 2 3 4\n"
          ]
        }
      ]
    },
    {
      "cell_type": "code",
      "source": [
        "n = int(input())\n",
        "\n",
        "for i in range(1, n+1):\n",
        "\n",
        "    for j in range(1, n-i+2):\n",
        "\n",
        "        print(j, end=\"\")\n",
        "\n",
        "        if j<n-i+1:\n",
        "\n",
        "          print(\" \",end=\"\") \n",
        "\n",
        "    print()"
      ],
      "metadata": {
        "colab": {
          "base_uri": "https://localhost:8080/"
        },
        "id": "9BgKnFpp9Eiq",
        "outputId": "6e8cb984-478a-4b9a-9945-9b30f540625c"
      },
      "execution_count": null,
      "outputs": [
        {
          "output_type": "stream",
          "name": "stdout",
          "text": [
            "4\n",
            "1 2 3 4\n",
            "1 2 3\n",
            "1 2\n",
            "1\n"
          ]
        }
      ]
    },
    {
      "cell_type": "code",
      "source": [
        "N= int(input())\n",
        "\n",
        "for i in range(1,N+1):\n",
        "    for j in range(1,2):\n",
        "        print(\"*\")\n",
        "    print(\"*  *\"*j, end=\"\")"
      ],
      "metadata": {
        "colab": {
          "base_uri": "https://localhost:8080/"
        },
        "id": "OPP8iibSXh_a",
        "outputId": "dec8b48c-5aec-40fe-dd00-bdd4196f9e7e"
      },
      "execution_count": null,
      "outputs": [
        {
          "output_type": "stream",
          "name": "stdout",
          "text": [
            "5\n",
            "\n",
            "*  *\n",
            "*  *\n",
            "*  *\n",
            "*  *\n",
            "*  *"
          ]
        }
      ]
    },
    {
      "cell_type": "code",
      "source": [
        "    # for i in range(1,6):\n",
        "    #   for j in range(1,3):\n",
        "    #     print(\"* \", end=\" \" )\n",
        "    #     if j>i:\n",
        "    #       print(\" \",end=\"\")\n",
        "    #   print()\n",
        "\n",
        "\n",
        "n = int(input())\n",
        "for i in range(n):\n",
        "    print(\"*\" + \" \"*(n-2) + \"*\")\n",
        "\n",
        "      "
      ],
      "metadata": {
        "colab": {
          "base_uri": "https://localhost:8080/"
        },
        "id": "p-EvmKESZGSK",
        "outputId": "820af162-7c50-462c-b85b-c1c6dc44e277"
      },
      "execution_count": null,
      "outputs": [
        {
          "output_type": "stream",
          "name": "stdout",
          "text": [
            "*  *   \n",
            "*  *  \n",
            "*  *  \n",
            "*  *  \n",
            "*  *  \n"
          ]
        }
      ]
    },
    {
      "cell_type": "code",
      "source": [
        "\"\"\"Write a program to input two numbers(A & B) from user and print the maximum element among A & B in each line.\"\"\""
      ],
      "metadata": {
        "colab": {
          "base_uri": "https://localhost:8080/",
          "height": 35
        },
        "id": "XHBsj4pxJEmf",
        "outputId": "8fd9c70c-4953-4b92-ba69-cf8e07b45561"
      },
      "execution_count": null,
      "outputs": [
        {
          "output_type": "execute_result",
          "data": {
            "text/plain": [
              "'Write a program to input two numbers(A & B) from user and print the maximum element among A & B in each line.'"
            ],
            "application/vnd.google.colaboratory.intrinsic+json": {
              "type": "string"
            }
          },
          "metadata": {},
          "execution_count": 2
        }
      ]
    },
    {
      "cell_type": "code",
      "source": [
        "A= int(input())\n",
        "B= int(input())\n",
        "\n",
        "if A>B:\n",
        "  print(A)\n",
        "else:\n",
        "  print(B)\n"
      ],
      "metadata": {
        "colab": {
          "base_uri": "https://localhost:8080/"
        },
        "id": "HOy0ipJA2jdl",
        "outputId": "2f3a09f0-8e1c-4c6e-920e-abc1997d4791"
      },
      "execution_count": null,
      "outputs": [
        {
          "output_type": "stream",
          "name": "stdout",
          "text": [
            "50\n",
            "49\n",
            "50\n"
          ]
        }
      ]
    },
    {
      "cell_type": "code",
      "source": [
        "\"\"\"Write a program that asks the user to input their age and tells them if they're old enough to ride a roller coaster. \n",
        "The minimum age to ride the roller coaster in this question is 13.\"\"\"\n",
        "\n",
        "Age= int(input(\"What's your Age= \"))\n",
        "if Age<13:\n",
        "  print(\"You can't ride the roller coaster.\")\n",
        "else:\n",
        "  print(\"Yes you can\")"
      ],
      "metadata": {
        "colab": {
          "base_uri": "https://localhost:8080/"
        },
        "id": "JhilUIT62wmk",
        "outputId": "4f9cfba6-941e-4136-af07-0d3602974d69"
      },
      "execution_count": null,
      "outputs": [
        {
          "output_type": "stream",
          "name": "stdout",
          "text": [
            "What's your Age= 34\n",
            "Yes you can\n"
          ]
        }
      ]
    },
    {
      "cell_type": "code",
      "source": [
        "\"\"\"Write a program that takes in a number N as input and does the following:\n",
        "\n",
        "if N is a multiple of 3, print Fizz\n",
        "if N is a multiple of 5, print Buzz\n",
        "if N is a multiple of both 3 and 5, print FizzBuzz\"\"\""
      ],
      "metadata": {
        "colab": {
          "base_uri": "https://localhost:8080/",
          "height": 53
        },
        "id": "piX_n1mw3UgD",
        "outputId": "7aad7873-67e8-4e60-98a6-f59cd934c144"
      },
      "execution_count": null,
      "outputs": [
        {
          "output_type": "execute_result",
          "data": {
            "text/plain": [
              "'Write a program that takes in a number N as input and does the following:\\n\\nif N is a multiple of 3, print Fizz\\nif N is a multiple of 5, print Buzz\\nif N is a multiple of both 3 and 5, print FizzBuzz'"
            ],
            "application/vnd.google.colaboratory.intrinsic+json": {
              "type": "string"
            }
          },
          "metadata": {},
          "execution_count": 13
        }
      ]
    },
    {
      "cell_type": "code",
      "source": [
        "N= int(input())\n",
        "\n",
        "if N%3==0 and N%5==0:\n",
        "  print(\"FB\")\n",
        "elif N%3==0:\n",
        "  print(\"F\")\n",
        "else:\n",
        "  print(\"B\")"
      ],
      "metadata": {
        "colab": {
          "base_uri": "https://localhost:8080/"
        },
        "id": "R_XHTYVm3m_-",
        "outputId": "84ee5337-fbd1-4d19-cd80-3abe5dd21218"
      },
      "execution_count": null,
      "outputs": [
        {
          "output_type": "stream",
          "name": "stdout",
          "text": [
            "5\n",
            "B\n"
          ]
        }
      ]
    },
    {
      "cell_type": "code",
      "source": [
        "\"\"\"Write a program to input from user an integer(A) representing the rating of a person on a platform.\n",
        "\n",
        "You have to print the category of that person.\n",
        "\n",
        "If the rating is greater than or equal to 2100 then that person is \"grand master\".\n",
        "If the rating is greater than or equal to 1900 then that person is \"candidate master\".\n",
        "If the rating is greater than or equal to 1600 then that person is \"expert\".\n",
        "If the rating is greater than or equal to 1400 then that person is \"pupil\".\n",
        "If the rating is smaller than 1400 then that person is \"newbie\".\n",
        "NOTE: Print all the chars of the category of the person in lowercase if rating is odd otherwise print in UPPERCASE\"\"\""
      ],
      "metadata": {
        "colab": {
          "base_uri": "https://localhost:8080/",
          "height": 105
        },
        "id": "2_M5NFEh4aOp",
        "outputId": "d0b4a9b0-c06d-4fcc-a524-ee22ec2584e7"
      },
      "execution_count": null,
      "outputs": [
        {
          "output_type": "execute_result",
          "data": {
            "text/plain": [
              "'Write a program to input from user an integer(A) representing the rating of a person on a platform.\\n\\nYou have to print the category of that person.\\n\\nIf the rating is greater than or equal to 2100 then that person is \"grand master\".\\nIf the rating is greater than or equal to 1900 then that person is \"candidate master\".\\nIf the rating is greater than or equal to 1600 then that person is \"expert\".\\nIf the rating is greater than or equal to 1400 then that person is \"pupil\".\\nIf the rating is smaller than 1400 then that person is \"newbie\".\\nNOTE: Print all the chars of the category of the person in lowercase if rating is odd otherwise print in UPPERCASE'"
            ],
            "application/vnd.google.colaboratory.intrinsic+json": {
              "type": "string"
            }
          },
          "metadata": {},
          "execution_count": 16
        }
      ]
    },
    {
      "cell_type": "code",
      "source": [
        "A=int(input())\n",
        "rating=''\n",
        "if A%2==0:\n",
        "  if A<1400 :\n",
        "    rating='newbie'\n",
        "  elif A>=1400 and A<1600:\n",
        "    rating='pupil'\n",
        "  elif A>=1600 and A<1900:\n",
        "    rating='expert'\n",
        "  elif A>=1900 and A<2100:\n",
        "    rating='candidate master'\n",
        "  else:\n",
        "    rating='grand master'\n",
        "  print(rating.upper())\n",
        "else:\n",
        "  if A<1400 :\n",
        "    rating='newbie'\n",
        "  elif A>=1400 and A<1600:\n",
        "    rating='pupil'\n",
        "  elif A>=1600 and A<1900:\n",
        "    rating='expert'\n",
        "  elif A>=1900 and A<2100:\n",
        "    rating='candidate master'\n",
        "  else:\n",
        "    rating='grand master'\n",
        "  print(rating)\n"
      ],
      "metadata": {
        "colab": {
          "base_uri": "https://localhost:8080/"
        },
        "id": "TE7GDtTS8LTM",
        "outputId": "1f42415c-2a12-4e05-c4a6-12c1e38a7f65"
      },
      "execution_count": null,
      "outputs": [
        {
          "output_type": "stream",
          "name": "stdout",
          "text": [
            "2102\n",
            "GRAND MASTER\n"
          ]
        }
      ]
    },
    {
      "cell_type": "code",
      "source": [
        "\"\"\"Write a program to input an integer from user and print 1 if it is odd otherwise print 0.\"\"\""
      ],
      "metadata": {
        "colab": {
          "base_uri": "https://localhost:8080/",
          "height": 35
        },
        "id": "EmB7vqrp9CXs",
        "outputId": "8bb78251-37fa-4d66-eda0-bb0b6ad89e24"
      },
      "execution_count": null,
      "outputs": [
        {
          "output_type": "execute_result",
          "data": {
            "text/plain": [
              "'Write a program to input an integer from user and print 1 if it is odd otherwise print 0.'"
            ],
            "application/vnd.google.colaboratory.intrinsic+json": {
              "type": "string"
            }
          },
          "metadata": {},
          "execution_count": 25
        }
      ]
    },
    {
      "cell_type": "code",
      "source": [
        "A=int(input())\n",
        "\n",
        "\"\"\"For a given number A, print its multiplication table having the first 10 multiples\"\"\"\n",
        "i=1\n",
        "while i<=10:\n",
        "  print(A,\"*\",i, \"is\",i*A, end=\"\")\n",
        "  print()\n",
        "  i+=1\n",
        "\n"
      ],
      "metadata": {
        "colab": {
          "base_uri": "https://localhost:8080/"
        },
        "id": "FFJ-4Xwe_2Bf",
        "outputId": "b8b9fb77-0280-486f-f4ca-1a98c5c55264"
      },
      "execution_count": null,
      "outputs": [
        {
          "output_type": "stream",
          "name": "stdout",
          "text": [
            "17\n",
            "17 * 1 is 17\n",
            "17 * 2 is 34\n",
            "17 * 3 is 51\n",
            "17 * 4 is 68\n",
            "17 * 5 is 85\n",
            "17 * 6 is 102\n",
            "17 * 7 is 119\n",
            "17 * 8 is 136\n",
            "17 * 9 is 153\n",
            "17 * 10 is 170\n"
          ]
        }
      ]
    },
    {
      "cell_type": "code",
      "source": [
        "N=int(input())\n",
        "\n",
        "while i==N:\n",
        "  print(i**2, end=\" \")\n",
        "  i+=1\n",
        "\n",
        "  "
      ],
      "metadata": {
        "colab": {
          "base_uri": "https://localhost:8080/"
        },
        "id": "XWDyd4w9AHgD",
        "outputId": "6c129aea-fab5-49c2-990f-0f291f18d38b"
      },
      "execution_count": null,
      "outputs": [
        {
          "name": "stdout",
          "output_type": "stream",
          "text": [
            "4\n"
          ]
        }
      ]
    },
    {
      "cell_type": "code",
      "source": [
        "\"\"\"Complete the following code snippet in order to find the exponent, i.e. the number of times base should be multiplied by itself to get num\"\"\"\n",
        "num=16\n",
        "base=4\n",
        "cnt=0\n",
        "while(num>1):\n",
        "  num/=base\n",
        "  \n",
        "  cnt+=1\n",
        "print(cnt)"
      ],
      "metadata": {
        "colab": {
          "base_uri": "https://localhost:8080/"
        },
        "id": "rE8LV8fbAUZN",
        "outputId": "263d5750-9aeb-4f8a-c3cf-aa6d7b46cd97"
      },
      "execution_count": null,
      "outputs": [
        {
          "output_type": "stream",
          "name": "stdout",
          "text": [
            "4\n"
          ]
        }
      ]
    },
    {
      "cell_type": "code",
      "source": [
        "T=int(input())\n",
        "t=1\n",
        "while t<=T:\n",
        "  s=0\n",
        "  n=int(input())\n",
        "  while n!=0:\n",
        "    dig=n%10\n",
        "    s=s+dig\n",
        "    n=n//10\n",
        "  print(s)\n",
        "  t+=1\n"
      ],
      "metadata": {
        "colab": {
          "base_uri": "https://localhost:8080/"
        },
        "id": "GoyYYCkATJFE",
        "outputId": "f733cf9c-1ecc-4810-af86-337dca57708f"
      },
      "execution_count": null,
      "outputs": [
        {
          "output_type": "stream",
          "name": "stdout",
          "text": [
            "1\n",
            "234\n",
            "9\n"
          ]
        }
      ]
    },
    {
      "cell_type": "code",
      "source": [
        "x = 2\n",
        "for i in range(0, 4):\n",
        "    if x%2:\n",
        "       x = x*2\n",
        "       \n",
        "    else:\n",
        "       x = x+1\n",
        "    if i<3:\n",
        "      print(x, end=\",\")\n",
        "    else:\n",
        "      print(x, end=\"\")\n",
        "    \n",
        "\n"
      ],
      "metadata": {
        "colab": {
          "base_uri": "https://localhost:8080/"
        },
        "id": "RC-p_tb7anUF",
        "outputId": "9b7d6e02-f512-4ff6-fd8b-0b95ad546419"
      },
      "execution_count": null,
      "outputs": [
        {
          "output_type": "stream",
          "name": "stdout",
          "text": [
            "3,6,7,14"
          ]
        }
      ]
    },
    {
      "cell_type": "code",
      "source": [
        "c=0\n",
        "for i in range(0, 10):\n",
        "    if i%2:\n",
        "        c=c+1\n",
        "print(c)"
      ],
      "metadata": {
        "colab": {
          "base_uri": "https://localhost:8080/"
        },
        "id": "NYkPcLFDhPb9",
        "outputId": "ca62ff46-2805-4270-9f1c-854af070a8a4"
      },
      "execution_count": null,
      "outputs": [
        {
          "output_type": "stream",
          "name": "stdout",
          "text": [
            "1\n",
            "2\n",
            "3\n",
            "4\n",
            "5\n"
          ]
        }
      ]
    },
    {
      "cell_type": "code",
      "source": [
        "i=0\n",
        "while i<=5:\n",
        "     if i%2:\n",
        "        pass\n",
        "     else:\n",
        "        print(i, end=\" \")\n",
        "     i+=1"
      ],
      "metadata": {
        "colab": {
          "base_uri": "https://localhost:8080/"
        },
        "id": "gYjxG2rRiux8",
        "outputId": "9b2fb6d0-bac8-480a-84d9-2229fd62d0c5"
      },
      "execution_count": null,
      "outputs": [
        {
          "output_type": "stream",
          "name": "stdout",
          "text": [
            "0 2 4 "
          ]
        }
      ]
    },
    {
      "cell_type": "code",
      "source": [
        "q=0\n",
        "r=0\n",
        "\n",
        "x=int(input())\n",
        "y=int(input())\n",
        "\n",
        "while x>=y:\n",
        "    x-=y\n",
        "    q+=1\n",
        "print(q, x)"
      ],
      "metadata": {
        "colab": {
          "base_uri": "https://localhost:8080/"
        },
        "id": "usTXgJFii-Tt",
        "outputId": "317af7d6-5501-43b7-b6a8-4b252a910e7b"
      },
      "execution_count": null,
      "outputs": [
        {
          "output_type": "stream",
          "name": "stdout",
          "text": [
            "45\n",
            "15\n",
            "3 0\n"
          ]
        }
      ]
    },
    {
      "cell_type": "code",
      "source": [
        "A=int(input())\n",
        "s=0\n",
        "for i in range(3,A+1):\n",
        "  if i%2!=0:\n",
        "    print(i, end=\",\")\n",
        "    s=s+i\n",
        "print()\n",
        "print(s)\n",
        "\n"
      ],
      "metadata": {
        "colab": {
          "base_uri": "https://localhost:8080/"
        },
        "id": "VuVjxqQfqU0a",
        "outputId": "c8012391-eebe-4386-80d3-b428e27902a2"
      },
      "execution_count": null,
      "outputs": [
        {
          "output_type": "stream",
          "name": "stdout",
          "text": [
            "9\n",
            "3,5,7,9,\n",
            "24\n"
          ]
        }
      ]
    },
    {
      "cell_type": "code",
      "source": [
        "\"\"\"Using a loop, Print the squares of the following numbers: 1, 3, 6, 10, 15, 21. Print each of the number in a new line.\"\"\"\n",
        "s=0\n",
        "for i in range(1,22):\n",
        "  s=s+i\n",
        "  i+=1\n",
        "  if s<21:\n",
        "    print(s**2)\n",
        "  elif s==21:\n",
        "    print(s**2)\n",
        "  else:\n",
        "    break\n",
        "\n"
      ],
      "metadata": {
        "colab": {
          "base_uri": "https://localhost:8080/"
        },
        "id": "_wOWbIhZrUnS",
        "outputId": "cb96d20b-90e4-4f70-9bcc-31defe4c650c"
      },
      "execution_count": null,
      "outputs": [
        {
          "output_type": "stream",
          "name": "stdout",
          "text": [
            "1\n",
            "9\n",
            "36\n",
            "100\n",
            "225\n",
            "441\n"
          ]
        }
      ]
    },
    {
      "cell_type": "code",
      "source": [
        "\"\"\"Given an integer A as input, you have to tell whether it is a prime number or not.\"\"\"\n",
        "\n",
        "A= int(input())\n",
        "if A>1:\n",
        "  for i in range (2, A):\n",
        "    if A%i==0:\n",
        "      print(\"this is not a prime\")\n",
        "      break\n",
        "  else:\n",
        "    print(\"prime\")\n",
        "else:\n",
        "  print(\"not prime\")\n",
        "\n",
        "\n"
      ],
      "metadata": {
        "colab": {
          "base_uri": "https://localhost:8080/"
        },
        "id": "d0DVQj3GtAGA",
        "outputId": "87411038-4804-447e-8107-d85d9bd00b3a"
      },
      "execution_count": null,
      "outputs": [
        {
          "output_type": "stream",
          "name": "stdout",
          "text": [
            "1\n",
            "not prime\n"
          ]
        }
      ]
    },
    {
      "cell_type": "code",
      "source": [
        "A = int(input())\n",
        "count = 0\n",
        "Asub = A\n",
        "tens =1\n",
        "while A!=0:\n",
        "  A//=10\n",
        "  count+=1\n",
        "power = 1\n",
        "while (power<count):\n",
        "  tens*=10\n",
        "  power+=1\n",
        "T=0\n",
        "while T<count:\n",
        "  select = Asub//tens\n",
        "  tens= tens//10\n",
        "  rem = select%10\n",
        "  if rem == 0:\n",
        "    print('zero', end = \" \")\n",
        "  elif rem == 1:     \n",
        "    print('one', end = \" \")\n",
        "  elif rem == 2:\n",
        "    print('two', end = \" \")\n",
        "  elif rem == 3:\n",
        "    print('three', end = \" \")\n",
        "  elif rem == 4:\n",
        "    print('four', end = \" \")\n",
        "  elif rem == 5:\n",
        "    print('five', end = \" \")\n",
        "  elif rem == 6:\n",
        "    print('six', end = \" \")\n",
        "  elif rem == 7:\n",
        "    print('seven', end = \" \")\n",
        "  elif rem == 8:\n",
        "    print('eight', end = \" \")\n",
        "  elif rem == 9:\n",
        "    print('nine', end = \" \")\n",
        "  T+=1\n"
      ],
      "metadata": {
        "colab": {
          "base_uri": "https://localhost:8080/"
        },
        "id": "inRrvlEMvcmj",
        "outputId": "a61aa44a-82ec-4891-c2bc-d3ee2241113a"
      },
      "execution_count": null,
      "outputs": [
        {
          "output_type": "stream",
          "name": "stdout",
          "text": [
            "236\n",
            "two three six "
          ]
        }
      ]
    },
    {
      "cell_type": "code",
      "source": [
        "A = int(input())\n",
        "dig = 0\n",
        "Asub = A\n",
        "tens =1\n",
        "while A!=0:\n",
        "  dig = 0\n",
        "  c=0\n",
        "  dig=A%10\n",
        "  if dig ==1:\n",
        "    c=c+1\n",
        "    break\n",
        "print(c)\n",
        "  \n",
        "\n",
        "\n",
        "  "
      ],
      "metadata": {
        "colab": {
          "base_uri": "https://localhost:8080/",
          "height": 381
        },
        "id": "SYk67aVxjmU4",
        "outputId": "a0336413-dcdc-4d52-f6cb-d70830d2fce1"
      },
      "execution_count": null,
      "outputs": [
        {
          "output_type": "error",
          "ename": "KeyboardInterrupt",
          "evalue": "ignored",
          "traceback": [
            "\u001b[0;31m---------------------------------------------------------------------------\u001b[0m",
            "\u001b[0;31mKeyboardInterrupt\u001b[0m                         Traceback (most recent call last)",
            "\u001b[0;32m<ipython-input-13-d8d77b8b0b5e>\u001b[0m in \u001b[0;36m<module>\u001b[0;34m\u001b[0m\n\u001b[0;32m----> 1\u001b[0;31m \u001b[0mA\u001b[0m \u001b[0;34m=\u001b[0m \u001b[0mint\u001b[0m\u001b[0;34m(\u001b[0m\u001b[0minput\u001b[0m\u001b[0;34m(\u001b[0m\u001b[0;34m)\u001b[0m\u001b[0;34m)\u001b[0m\u001b[0;34m\u001b[0m\u001b[0;34m\u001b[0m\u001b[0m\n\u001b[0m\u001b[1;32m      2\u001b[0m \u001b[0mdig\u001b[0m \u001b[0;34m=\u001b[0m \u001b[0;36m0\u001b[0m\u001b[0;34m\u001b[0m\u001b[0;34m\u001b[0m\u001b[0m\n\u001b[1;32m      3\u001b[0m \u001b[0mAsub\u001b[0m \u001b[0;34m=\u001b[0m \u001b[0mA\u001b[0m\u001b[0;34m\u001b[0m\u001b[0;34m\u001b[0m\u001b[0m\n\u001b[1;32m      4\u001b[0m \u001b[0mtens\u001b[0m \u001b[0;34m=\u001b[0m\u001b[0;36m1\u001b[0m\u001b[0;34m\u001b[0m\u001b[0;34m\u001b[0m\u001b[0m\n\u001b[1;32m      5\u001b[0m \u001b[0;32mwhile\u001b[0m \u001b[0mA\u001b[0m\u001b[0;34m!=\u001b[0m\u001b[0;36m0\u001b[0m\u001b[0;34m:\u001b[0m\u001b[0;34m\u001b[0m\u001b[0;34m\u001b[0m\u001b[0m\n",
            "\u001b[0;32m/usr/local/lib/python3.7/dist-packages/ipykernel/kernelbase.py\u001b[0m in \u001b[0;36mraw_input\u001b[0;34m(self, prompt)\u001b[0m\n\u001b[1;32m    861\u001b[0m             \u001b[0mself\u001b[0m\u001b[0;34m.\u001b[0m\u001b[0m_parent_ident\u001b[0m\u001b[0;34m,\u001b[0m\u001b[0;34m\u001b[0m\u001b[0;34m\u001b[0m\u001b[0m\n\u001b[1;32m    862\u001b[0m             \u001b[0mself\u001b[0m\u001b[0;34m.\u001b[0m\u001b[0m_parent_header\u001b[0m\u001b[0;34m,\u001b[0m\u001b[0;34m\u001b[0m\u001b[0;34m\u001b[0m\u001b[0m\n\u001b[0;32m--> 863\u001b[0;31m             \u001b[0mpassword\u001b[0m\u001b[0;34m=\u001b[0m\u001b[0;32mFalse\u001b[0m\u001b[0;34m,\u001b[0m\u001b[0;34m\u001b[0m\u001b[0;34m\u001b[0m\u001b[0m\n\u001b[0m\u001b[1;32m    864\u001b[0m         )\n\u001b[1;32m    865\u001b[0m \u001b[0;34m\u001b[0m\u001b[0m\n",
            "\u001b[0;32m/usr/local/lib/python3.7/dist-packages/ipykernel/kernelbase.py\u001b[0m in \u001b[0;36m_input_request\u001b[0;34m(self, prompt, ident, parent, password)\u001b[0m\n\u001b[1;32m    902\u001b[0m             \u001b[0;32mexcept\u001b[0m \u001b[0mKeyboardInterrupt\u001b[0m\u001b[0;34m:\u001b[0m\u001b[0;34m\u001b[0m\u001b[0;34m\u001b[0m\u001b[0m\n\u001b[1;32m    903\u001b[0m                 \u001b[0;31m# re-raise KeyboardInterrupt, to truncate traceback\u001b[0m\u001b[0;34m\u001b[0m\u001b[0;34m\u001b[0m\u001b[0;34m\u001b[0m\u001b[0m\n\u001b[0;32m--> 904\u001b[0;31m                 \u001b[0;32mraise\u001b[0m \u001b[0mKeyboardInterrupt\u001b[0m\u001b[0;34m(\u001b[0m\u001b[0;34m\"Interrupted by user\"\u001b[0m\u001b[0;34m)\u001b[0m \u001b[0;32mfrom\u001b[0m \u001b[0;32mNone\u001b[0m\u001b[0;34m\u001b[0m\u001b[0;34m\u001b[0m\u001b[0m\n\u001b[0m\u001b[1;32m    905\u001b[0m             \u001b[0;32mexcept\u001b[0m \u001b[0mException\u001b[0m \u001b[0;32mas\u001b[0m \u001b[0me\u001b[0m\u001b[0;34m:\u001b[0m\u001b[0;34m\u001b[0m\u001b[0;34m\u001b[0m\u001b[0m\n\u001b[1;32m    906\u001b[0m                 \u001b[0mself\u001b[0m\u001b[0;34m.\u001b[0m\u001b[0mlog\u001b[0m\u001b[0;34m.\u001b[0m\u001b[0mwarning\u001b[0m\u001b[0;34m(\u001b[0m\u001b[0;34m\"Invalid Message:\"\u001b[0m\u001b[0;34m,\u001b[0m \u001b[0mexc_info\u001b[0m\u001b[0;34m=\u001b[0m\u001b[0;32mTrue\u001b[0m\u001b[0;34m)\u001b[0m\u001b[0;34m\u001b[0m\u001b[0;34m\u001b[0m\u001b[0m\n",
            "\u001b[0;31mKeyboardInterrupt\u001b[0m: Interrupted by user"
          ]
        }
      ]
    },
    {
      "cell_type": "code",
      "source": [
        "x=1\n",
        "ind1=True\n",
        "ind2= False\n",
        "if ind1:\n",
        "  ind1=ind2\n",
        "  ind2=ind1\n",
        "  if ind2:\n",
        "    x=x-1\n",
        "  else:\n",
        "    x=x/1\n",
        "print(x)"
      ],
      "metadata": {
        "colab": {
          "base_uri": "https://localhost:8080/"
        },
        "id": "cG6XpxnQlO0k",
        "outputId": "a342e48d-5e5b-4540-9f1d-f3cf06943767"
      },
      "execution_count": null,
      "outputs": [
        {
          "output_type": "stream",
          "name": "stdout",
          "text": [
            "1.0\n"
          ]
        }
      ]
    },
    {
      "cell_type": "code",
      "source": [
        "isTrue=0\n",
        "if bool(isTrue):\n",
        "  print(\"if\")\n",
        "else:\n",
        "  print(\"else\")"
      ],
      "metadata": {
        "colab": {
          "base_uri": "https://localhost:8080/"
        },
        "id": "1ACQncproG19",
        "outputId": "45e85b45-da29-44fc-883e-f116ee3a92d9"
      },
      "execution_count": null,
      "outputs": [
        {
          "output_type": "stream",
          "name": "stdout",
          "text": [
            "else\n"
          ]
        }
      ]
    },
    {
      "cell_type": "code",
      "source": [
        "x= int(input())\n",
        "y= int(input())\n",
        "\n",
        "flag= True\n",
        "for i in range(2,x):\n",
        "  if (x%y)==0:\n",
        "    if(y%x)==0:\n",
        "      flag=False\n",
        "print(flag)"
      ],
      "metadata": {
        "colab": {
          "base_uri": "https://localhost:8080/"
        },
        "id": "uBgHM6FPpR4b",
        "outputId": "32a22e1d-2bcc-4603-ce77-ef9fcea7ec47"
      },
      "execution_count": null,
      "outputs": [
        {
          "output_type": "stream",
          "name": "stdout",
          "text": [
            "1\n",
            "11\n",
            "True\n"
          ]
        }
      ]
    },
    {
      "cell_type": "code",
      "source": [
        "N= int(input())\n",
        "i=1\n",
        "while(i<=N):\n",
        "  if N%i==0:\n",
        "    print(i)\n",
        "  i+=1"
      ],
      "metadata": {
        "colab": {
          "base_uri": "https://localhost:8080/"
        },
        "id": "yRcOtmaYsN1x",
        "outputId": "2c2f86fe-1d09-4449-e141-ed478eafe131"
      },
      "execution_count": null,
      "outputs": [
        {
          "output_type": "stream",
          "name": "stdout",
          "text": [
            "5\n",
            "1\n",
            "5\n"
          ]
        }
      ]
    },
    {
      "cell_type": "code",
      "source": [
        "N= int(input())\n",
        "if N>1:\n",
        "  for i in range(2,N):\n",
        "\n",
        "    while N%i!=0:\n",
        "      print()\n",
        "      break\n",
        "\n",
        "  \n",
        "\n",
        "    \n",
        "\n",
        "\n",
        "      \n",
        "\n"
      ],
      "metadata": {
        "colab": {
          "base_uri": "https://localhost:8080/"
        },
        "id": "MlIFj3d10Vft",
        "outputId": "5ba67df0-308a-4119-e826-94e188d49fee"
      },
      "execution_count": null,
      "outputs": [
        {
          "output_type": "stream",
          "name": "stdout",
          "text": [
            "7\n",
            "5\n",
            "4\n",
            "3\n",
            "2\n",
            "1\n"
          ]
        }
      ]
    },
    {
      "cell_type": "code",
      "source": [
        "N= int(input())\n",
        "n=1\n",
        "\n",
        "while n<=N:\n",
        "    A= int(input())\n",
        "    sum=0\n",
        "    for i in range(1,A):\n",
        "        if A%i==0:\n",
        "            sum+=i\n",
        "            \n",
        "    if sum==A:\n",
        "        print(\"YES\")\n",
        "    else:\n",
        "        print(\"NO\")\n",
        "    n+=1"
      ],
      "metadata": {
        "id": "9JXznHB31RGO"
      },
      "execution_count": null,
      "outputs": []
    },
    {
      "cell_type": "code",
      "source": [
        "def perfect(A):\n",
        "\n",
        "    sum=0\n",
        "    for i in range(1,A):\n",
        "        if A%i==0:\n",
        "          sum+=i\n",
        "    if sum==A:\n",
        "      return True\n",
        "A= int(input()) \n",
        "for i in range(1,A):\n",
        "  if perfect(i):\n",
        "    print(i)"
      ],
      "metadata": {
        "id": "85kN9MhGdb1_"
      },
      "execution_count": null,
      "outputs": []
    },
    {
      "cell_type": "code",
      "source": [
        "n=int(input())\n",
        "temp=n\n",
        "rev=0\n",
        "while(n>0):\n",
        "    dig=n%10\n",
        "    rev=rev*10+dig\n",
        "    n=n//10\n",
        "print(rev)\n",
        "if(temp==rev):\n",
        "    print(\"yes\")\n",
        "else:\n",
        "    print(\"No\")"
      ],
      "metadata": {
        "colab": {
          "base_uri": "https://localhost:8080/"
        },
        "id": "oaB4VoeafCnQ",
        "outputId": "0acd6120-1a9c-49af-8a16-ed667d833d16"
      },
      "execution_count": null,
      "outputs": [
        {
          "output_type": "stream",
          "name": "stdout",
          "text": [
            "1234\n",
            "4321\n",
            "No\n"
          ]
        }
      ]
    },
    {
      "cell_type": "code",
      "source": [
        "T=int(input())\n",
        "t=1\n",
        "while t<=T:\n",
        "  rev=0\n",
        "  n= int(input())\n",
        "  while n>0:\n",
        "    dig=n%10\n",
        "    rev=rev*10+dig\n",
        "    n=n//10\n",
        "  print(rev)\n",
        "  t+=1\n"
      ],
      "metadata": {
        "colab": {
          "base_uri": "https://localhost:8080/"
        },
        "id": "y1eJOGKbfGeW",
        "outputId": "db249b5d-9e87-42ff-f98f-437e06479e3e"
      },
      "execution_count": null,
      "outputs": [
        {
          "output_type": "stream",
          "name": "stdout",
          "text": [
            "2\n",
            "1234\n",
            "4321\n",
            "2345\n",
            "5432\n"
          ]
        }
      ]
    },
    {
      "cell_type": "code",
      "source": [
        "T= int(input())\n",
        "\n",
        "t=1\n",
        "while t<=T:\n",
        "    A= int(input())\n",
        "    B= int(input())\n",
        "    Max=max(A,B)\n",
        "    X=Max\n",
        "    while True:\n",
        "        if(X%A==0 and X%B==0):\n",
        "            print(X)\n",
        "            break\n",
        "        X+=Max\n",
        "    t+=1"
      ],
      "metadata": {
        "colab": {
          "base_uri": "https://localhost:8080/"
        },
        "id": "90bHrmojgfMr",
        "outputId": "1fef2f4e-6798-4926-d8fc-bcfc00fb43d9"
      },
      "execution_count": null,
      "outputs": [
        {
          "output_type": "stream",
          "name": "stdout",
          "text": [
            "1\n",
            "23\n",
            "34\n",
            "782\n"
          ]
        }
      ]
    },
    {
      "cell_type": "code",
      "source": [
        "T=int(input())\n",
        "   \n",
        "t=1    \n",
        "while t<=T :\n",
        "    A=int(input())\n",
        "    B=int(input())\n",
        "    x=min(A,B)\n",
        "    for i in range(x,0,-1):\n",
        "        if A%i==0 and B%i==0:\n",
        "            print(i)\n",
        "            break\n",
        "    t+=1"
      ],
      "metadata": {
        "colab": {
          "base_uri": "https://localhost:8080/"
        },
        "id": "-dIBgrf1hWlD",
        "outputId": "0e1ab47a-5d37-4175-8fc1-8c93a50e7197"
      },
      "execution_count": null,
      "outputs": [
        {
          "output_type": "stream",
          "name": "stdout",
          "text": [
            "1\n",
            "23\n",
            "32\n",
            "1\n"
          ]
        }
      ]
    },
    {
      "cell_type": "code",
      "source": [
        "T=int(input())\n",
        "t=1\n",
        "while t<=T:\n",
        "  rev=0\n",
        "  n= int(input())\n",
        "  while n>0:\n",
        "    dig=n%10"
      ],
      "metadata": {
        "id": "o_-OOIUZhkYN"
      },
      "execution_count": null,
      "outputs": []
    }
  ]
}