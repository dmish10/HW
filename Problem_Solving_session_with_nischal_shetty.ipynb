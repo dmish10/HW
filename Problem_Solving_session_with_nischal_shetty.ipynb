{
  "nbformat": 4,
  "nbformat_minor": 0,
  "metadata": {
    "colab": {
      "provenance": [],
      "authorship_tag": "ABX9TyOI6tvupy8JywXPlHGY/s0m",
      "include_colab_link": true
    },
    "kernelspec": {
      "name": "python3",
      "display_name": "Python 3"
    },
    "language_info": {
      "name": "python"
    }
  },
  "cells": [
    {
      "cell_type": "markdown",
      "metadata": {
        "id": "view-in-github",
        "colab_type": "text"
      },
      "source": [
        "<a href=\"https://colab.research.google.com/github/dmish10/Scaler_Homework/blob/master/Problem_Solving_session_with_nischal_shetty.ipynb\" target=\"_parent\"><img src=\"https://colab.research.google.com/assets/colab-badge.svg\" alt=\"Open In Colab\"/></a>"
      ]
    },
    {
      "cell_type": "code",
      "source": [
        "'''Question 1'''"
      ],
      "metadata": {
        "colab": {
          "base_uri": "https://localhost:8080/",
          "height": 35
        },
        "id": "YZPEyDcoF14Y",
        "outputId": "372aeaf4-16a4-411a-bda6-4e914c6dc6d4"
      },
      "execution_count": null,
      "outputs": [
        {
          "output_type": "execute_result",
          "data": {
            "text/plain": [
              "'Question 1'"
            ],
            "application/vnd.google.colaboratory.intrinsic+json": {
              "type": "string"
            }
          },
          "metadata": {},
          "execution_count": 7
        }
      ]
    },
    {
      "cell_type": "code",
      "execution_count": null,
      "metadata": {
        "colab": {
          "base_uri": "https://localhost:8080/"
        },
        "id": "2CybJnWmCa0F",
        "outputId": "2ead06ef-df90-4704-d114-c99c88def5cb"
      },
      "outputs": [
        {
          "output_type": "stream",
          "name": "stdout",
          "text": [
            "[1, 2, 3, 4] [1, 2, 3, 4]\n"
          ]
        }
      ],
      "source": [
        "A=[1,2,3]\n",
        "B=A       #B  is going to point to the list A instead of creating a new list so whatever changes happen in B get applied to A\n",
        "B.append(4)\n",
        "print(B,A)"
      ]
    },
    {
      "cell_type": "code",
      "source": [
        "#varaiables are used to point to a memory location where values/lists are stored so when changes applied then it updates the value but the varaible\n",
        "#continues to point to the same location with updated values."
      ],
      "metadata": {
        "id": "Hv6o_fNVCkzE"
      },
      "execution_count": null,
      "outputs": []
    },
    {
      "cell_type": "code",
      "source": [
        "# for the question above, lets copy the list A to variable B instead pf pointing to the same memory location \n",
        "\n",
        "A=[1,2,3]\n",
        "B=list(A)  #    This creates a copy of list A and assign it to a new list B and that's why value of list A doesn't get updated.\n",
        "B.append(4)\n",
        "print(B,A)"
      ],
      "metadata": {
        "colab": {
          "base_uri": "https://localhost:8080/"
        },
        "id": "QAAy2FwcEeyI",
        "outputId": "a2f54d51-ba28-4cc2-c61d-6b1bd622d4f8"
      },
      "execution_count": null,
      "outputs": [
        {
          "output_type": "stream",
          "name": "stdout",
          "text": [
            "[1, 2, 3, 4] [1, 2, 3]\n"
          ]
        }
      ]
    },
    {
      "cell_type": "code",
      "source": [
        "A=[1,2,3]\n",
        "B=A[:]  #    another way to copy. This creates a copy of list A and assign it to a new list B and that's why value of list A doesn't get updated.\n",
        "B.append(4)\n",
        "print(B,A)"
      ],
      "metadata": {
        "colab": {
          "base_uri": "https://localhost:8080/"
        },
        "id": "SnywWPjJE1FT",
        "outputId": "ea338574-5d04-434b-8da2-d32b1ab9d310"
      },
      "execution_count": null,
      "outputs": [
        {
          "output_type": "stream",
          "name": "stdout",
          "text": [
            "[1, 2, 3, 4] [1, 2, 3]\n"
          ]
        }
      ]
    },
    {
      "cell_type": "code",
      "source": [
        "'''Question 2- '''"
      ],
      "metadata": {
        "colab": {
          "base_uri": "https://localhost:8080/",
          "height": 35
        },
        "id": "RfUGjrswFXB2",
        "outputId": "23677b5d-094f-41bc-e354-17b96325738c"
      },
      "execution_count": null,
      "outputs": [
        {
          "output_type": "execute_result",
          "data": {
            "text/plain": [
              "'Question 2- '"
            ],
            "application/vnd.google.colaboratory.intrinsic+json": {
              "type": "string"
            }
          },
          "metadata": {},
          "execution_count": 6
        }
      ]
    },
    {
      "cell_type": "code",
      "source": [
        "A=[1,2,3,4]\n",
        "A[1]=2\n",
        "A[2]=1\n",
        "print(A)"
      ],
      "metadata": {
        "colab": {
          "base_uri": "https://localhost:8080/"
        },
        "id": "6BXIZiOxF1EE",
        "outputId": "87ddec01-3b75-4159-84cd-bd851dbb328e"
      },
      "execution_count": null,
      "outputs": [
        {
          "output_type": "stream",
          "name": "stdout",
          "text": [
            "[1, 2, 1, 4]\n"
          ]
        }
      ]
    },
    {
      "cell_type": "code",
      "source": [
        "'''Question 3-'''"
      ],
      "metadata": {
        "colab": {
          "base_uri": "https://localhost:8080/",
          "height": 35
        },
        "id": "H2h1vxPOGC1X",
        "outputId": "4b120511-f808-48b1-ab74-470b9b14fd58"
      },
      "execution_count": null,
      "outputs": [
        {
          "output_type": "execute_result",
          "data": {
            "text/plain": [
              "'Question 3-'"
            ],
            "application/vnd.google.colaboratory.intrinsic+json": {
              "type": "string"
            }
          },
          "metadata": {},
          "execution_count": 9
        }
      ]
    },
    {
      "cell_type": "code",
      "source": [
        "while False:\n",
        "  print(\"*\", end=\"\")\n",
        "else:\n",
        "  print(\"5 Star\")\n"
      ],
      "metadata": {
        "colab": {
          "base_uri": "https://localhost:8080/"
        },
        "id": "Al1hl1nwGdyh",
        "outputId": "8275a0c0-0015-4972-aca7-686cf9639bac"
      },
      "execution_count": null,
      "outputs": [
        {
          "output_type": "stream",
          "name": "stdout",
          "text": [
            "5 Star\n"
          ]
        }
      ]
    },
    {
      "cell_type": "code",
      "source": [
        "# if False:\n",
        "# if True:\n",
        "while True:\n",
        "    print(\"*\", end=\"\")\n",
        "    break\n",
        "else:\n",
        "  print(\"5 Star\")\n"
      ],
      "metadata": {
        "colab": {
          "base_uri": "https://localhost:8080/"
        },
        "id": "9kMOcIaCGpCk",
        "outputId": "4a2c3b45-5cdc-4dfb-e25e-0af1300c091a"
      },
      "execution_count": null,
      "outputs": [
        {
          "output_type": "stream",
          "name": "stdout",
          "text": [
            "*"
          ]
        }
      ]
    },
    {
      "cell_type": "code",
      "source": [
        "'''Question 4-'''"
      ],
      "metadata": {
        "colab": {
          "base_uri": "https://localhost:8080/",
          "height": 35
        },
        "id": "aR3D-VolG8vS",
        "outputId": "23078e91-f8cb-478a-f2f8-683380e93632"
      },
      "execution_count": null,
      "outputs": [
        {
          "output_type": "execute_result",
          "data": {
            "text/plain": [
              "'Question 4-'"
            ],
            "application/vnd.google.colaboratory.intrinsic+json": {
              "type": "string"
            }
          },
          "metadata": {},
          "execution_count": 14
        }
      ]
    },
    {
      "cell_type": "code",
      "source": [
        "#given a user input N to check whether the number os a perfect square or not.\n",
        "N= int(input())\n",
        "for i in range(2,N+1):\n",
        "  if i== N**0.5:\n",
        "    print(True)\n",
        "    break\n",
        "else:\n",
        "  print(False)\n",
        "    "
      ],
      "metadata": {
        "colab": {
          "base_uri": "https://localhost:8080/"
        },
        "id": "irwXyvAYH0W3",
        "outputId": "3ab9ae1b-c4bf-4a1b-f454-266816725973"
      },
      "execution_count": null,
      "outputs": [
        {
          "output_type": "stream",
          "name": "stdout",
          "text": [
            "16\n",
            "True\n"
          ]
        }
      ]
    },
    {
      "cell_type": "code",
      "source": [
        "#solve the above question using while \n",
        "n= int(input())\n",
        "i=1\n",
        "count=0\n",
        "while (i*i <=n):\n",
        "  count+=1\n",
        "  if i*i==n:\n",
        "    print(n,\"is a perfect square\")\n",
        "    break\n",
        "  i+=1\n",
        "else:\n",
        "  print(n,\"is not a perfect square\")\n",
        "print(\"the loop ran\",count,\"times\")"
      ],
      "metadata": {
        "colab": {
          "base_uri": "https://localhost:8080/"
        },
        "id": "bbQ0_1trIqRQ",
        "outputId": "178b06a0-991c-4db5-8532-2275903471fd"
      },
      "execution_count": null,
      "outputs": [
        {
          "output_type": "stream",
          "name": "stdout",
          "text": [
            "36\n",
            "36 is a perfect square\n",
            "the loop ran 6 times\n"
          ]
        }
      ]
    },
    {
      "cell_type": "code",
      "source": [
        "# Rolling two dices at the same time- combinations in Python"
      ],
      "metadata": {
        "id": "2lIL3XnOiJz-"
      },
      "execution_count": null,
      "outputs": []
    },
    {
      "cell_type": "code",
      "source": [
        "L=[] #append tuples to an empty list\n",
        "for i in range(1,6+1):\n",
        "  for j in range(1,6+1):\n",
        "    L.append((i,j))\n",
        "print(L)\n",
        "print(len(L))"
      ],
      "metadata": {
        "colab": {
          "base_uri": "https://localhost:8080/"
        },
        "id": "wCpK_MSPr8lf",
        "outputId": "0113e37a-a0aa-4a57-8909-e354b23b9b40"
      },
      "execution_count": null,
      "outputs": [
        {
          "output_type": "stream",
          "name": "stdout",
          "text": [
            "[(1, 1), (1, 2), (1, 3), (1, 4), (1, 5), (1, 6), (2, 1), (2, 2), (2, 3), (2, 4), (2, 5), (2, 6), (3, 1), (3, 2), (3, 3), (3, 4), (3, 5), (3, 6), (4, 1), (4, 2), (4, 3), (4, 4), (4, 5), (4, 6), (5, 1), (5, 2), (5, 3), (5, 4), (5, 5), (5, 6), (6, 1), (6, 2), (6, 3), (6, 4), (6, 5), (6, 6)]\n",
            "36\n"
          ]
        }
      ]
    },
    {
      "cell_type": "code",
      "source": [
        "#find probability of the sum of evry tuple in the list being even : sum of elements in list is even / total elements in the list"
      ],
      "metadata": {
        "id": "BH3mZ1resOK5"
      },
      "execution_count": null,
      "outputs": []
    },
    {
      "cell_type": "code",
      "source": [
        "denominator = len(L)\n",
        "num_L=[]\n",
        "\n",
        "for element in L:\n",
        "  if (element[0] + element[1])%2 ==0:\n",
        "    num_L.append(element)\n",
        "\n",
        "print(num_L)\n",
        "print(len(num_L)/len(L))"
      ],
      "metadata": {
        "colab": {
          "base_uri": "https://localhost:8080/",
          "height": 236
        },
        "id": "dPBwdmbgwK5W",
        "outputId": "e27f5c88-ee7a-45a7-a295-aeb44a448094"
      },
      "execution_count": null,
      "outputs": [
        {
          "output_type": "error",
          "ename": "NameError",
          "evalue": "ignored",
          "traceback": [
            "\u001b[0;31m---------------------------------------------------------------------------\u001b[0m",
            "\u001b[0;31mNameError\u001b[0m                                 Traceback (most recent call last)",
            "\u001b[0;32m<ipython-input-3-dca47d3c3bbb>\u001b[0m in \u001b[0;36m<module>\u001b[0;34m\u001b[0m\n\u001b[0;32m----> 1\u001b[0;31m \u001b[0mdenominator\u001b[0m \u001b[0;34m=\u001b[0m \u001b[0mlen\u001b[0m\u001b[0;34m(\u001b[0m\u001b[0mL\u001b[0m\u001b[0;34m)\u001b[0m\u001b[0;34m\u001b[0m\u001b[0;34m\u001b[0m\u001b[0m\n\u001b[0m\u001b[1;32m      2\u001b[0m \u001b[0mnum_L\u001b[0m\u001b[0;34m=\u001b[0m\u001b[0;34m[\u001b[0m\u001b[0;34m]\u001b[0m\u001b[0;34m\u001b[0m\u001b[0;34m\u001b[0m\u001b[0m\n\u001b[1;32m      3\u001b[0m \u001b[0;34m\u001b[0m\u001b[0m\n\u001b[1;32m      4\u001b[0m \u001b[0;32mfor\u001b[0m \u001b[0melement\u001b[0m \u001b[0;32min\u001b[0m \u001b[0mL\u001b[0m\u001b[0;34m:\u001b[0m\u001b[0;34m\u001b[0m\u001b[0;34m\u001b[0m\u001b[0m\n\u001b[1;32m      5\u001b[0m   \u001b[0;32mif\u001b[0m \u001b[0;34m(\u001b[0m\u001b[0melement\u001b[0m\u001b[0;34m[\u001b[0m\u001b[0;36m0\u001b[0m\u001b[0;34m]\u001b[0m \u001b[0;34m+\u001b[0m \u001b[0melement\u001b[0m\u001b[0;34m[\u001b[0m\u001b[0;36m1\u001b[0m\u001b[0;34m]\u001b[0m\u001b[0;34m)\u001b[0m\u001b[0;34m%\u001b[0m\u001b[0;36m2\u001b[0m \u001b[0;34m==\u001b[0m\u001b[0;36m0\u001b[0m\u001b[0;34m:\u001b[0m\u001b[0;34m\u001b[0m\u001b[0;34m\u001b[0m\u001b[0m\n",
            "\u001b[0;31mNameError\u001b[0m: name 'L' is not defined"
          ]
        }
      ]
    },
    {
      "cell_type": "code",
      "source": [
        "#find probability of the elenets in evry tuple where i<j"
      ],
      "metadata": {
        "id": "sPwahnwcw8We"
      },
      "execution_count": null,
      "outputs": []
    },
    {
      "cell_type": "code",
      "source": [
        "L2=[]\n",
        "for element in L:\n",
        "  if (element[0]<element[1]):\n",
        "    L2.append(element)\n",
        "print(L2)\n",
        "print(len(L2))\n",
        "print(len(L2)/len(L))"
      ],
      "metadata": {
        "colab": {
          "base_uri": "https://localhost:8080/"
        },
        "id": "9EGV8OXgyAuU",
        "outputId": "a0799d91-2e2c-456a-a17c-e2ec6875a0db"
      },
      "execution_count": null,
      "outputs": [
        {
          "output_type": "stream",
          "name": "stdout",
          "text": [
            "[(1, 2), (1, 3), (1, 4), (1, 5), (1, 6), (2, 3), (2, 4), (2, 5), (2, 6), (3, 4), (3, 5), (3, 6), (4, 5), (4, 6), (5, 6)]\n",
            "15\n",
            "0.4166666666666667\n"
          ]
        }
      ]
    },
    {
      "cell_type": "code",
      "source": [
        "#Assume the sum of elements in each tuple (i+j) is even , find the probability where the element i >=4"
      ],
      "metadata": {
        "id": "3BweBnFsyneK"
      },
      "execution_count": null,
      "outputs": []
    },
    {
      "cell_type": "code",
      "source": [
        "#denominator= (i+j)%2==0\n",
        "#numerator = (i+j)%2==0 & i>=4\n",
        "denominator= []\n",
        "num_L=[]\n",
        "for element in L:\n",
        "  if (element[0] + element[1])%2==0:\n",
        "    denominator.append(element)\n",
        "print(denominator)\n",
        "print(len(denominator))\n",
        "# for element in L:\n",
        "#   if (element[0] + element[1])%2==0:\n",
        "#     if (element[0]) >=4:\n",
        "#       num_L.append(element)\n",
        "for element in denominator:\n",
        "  if element[0]>=4:\n",
        "      num_L.append(element)\n",
        "\n",
        "print(num_L)\n",
        "print(len(num_L))\n",
        "print(len(num_L)/len(denominator))"
      ],
      "metadata": {
        "colab": {
          "base_uri": "https://localhost:8080/"
        },
        "id": "Bk1nrweRqeZq",
        "outputId": "0b347583-886a-4343-a27e-650d7319a9c7"
      },
      "execution_count": null,
      "outputs": [
        {
          "output_type": "stream",
          "name": "stdout",
          "text": [
            "[(1, 1), (1, 3), (1, 5), (2, 2), (2, 4), (2, 6), (3, 1), (3, 3), (3, 5), (4, 2), (4, 4), (4, 6), (5, 1), (5, 3), (5, 5), (6, 2), (6, 4), (6, 6)]\n",
            "18\n",
            "[(4, 2), (4, 4), (4, 6), (5, 1), (5, 3), (5, 5), (6, 2), (6, 4), (6, 6)]\n",
            "9\n",
            "0.5\n"
          ]
        }
      ]
    },
    {
      "cell_type": "code",
      "source": [
        "#FREQUENCY DISTRIBUTION"
      ],
      "metadata": {
        "id": "z5Hf_eJ3tMGx"
      },
      "execution_count": null,
      "outputs": []
    },
    {
      "cell_type": "code",
      "source": [
        "a=input()\n",
        "#to count the frequency of every letter\n",
        "D={} #empty dictionary\n",
        "\n",
        "for ch in a:\n",
        "  if ch not in D:\n",
        "    D.update({ch:1})\n",
        "  else:\n",
        "    D[ch]+=1   #incrementing the ch -the key of dictonary\n",
        "print(D)\n",
        "print(len(D))\n",
        "    "
      ],
      "metadata": {
        "colab": {
          "base_uri": "https://localhost:8080/"
        },
        "id": "KLFD1EHRCh52",
        "outputId": "7d1d074b-bc90-46fa-88f9-0107c575a96f"
      },
      "execution_count": null,
      "outputs": [
        {
          "output_type": "stream",
          "name": "stdout",
          "text": [
            "the quick brown fox jumped over lazy dog\n",
            "{'t': 1, 'h': 1, 'e': 3, ' ': 7, 'q': 1, 'u': 2, 'i': 1, 'c': 1, 'k': 1, 'b': 1, 'r': 2, 'o': 4, 'w': 1, 'n': 1, 'f': 1, 'x': 1, 'j': 1, 'm': 1, 'p': 1, 'd': 2, 'v': 1, 'l': 1, 'a': 1, 'z': 1, 'y': 1, 'g': 1}\n",
            "26\n"
          ]
        }
      ]
    },
    {
      "cell_type": "code",
      "source": [
        "a=input()\n",
        "#to count the frequency of all vowels\n",
        "D={} #empty dictionary\n",
        "V=['a','e','i','o','u','A','E','I','O','U']\n",
        "V_D={} #empty vowel dictionary\n",
        "for ch in a:\n",
        "  if ch not in D:\n",
        "    D.update({ch:1})\n",
        "  else:\n",
        "    D[ch]+=1   #incrementing the ch -the key of dictonary\n",
        "print(D)\n",
        "print(len(D))\n",
        "\n",
        "for key in D:\n",
        "  if key in V:\n",
        "    V_D.update({key:D[key]})\n",
        "\n",
        "print(V_D)\n",
        "\n"
      ],
      "metadata": {
        "colab": {
          "base_uri": "https://localhost:8080/"
        },
        "id": "Uw_Fn3R7FfaY",
        "outputId": "ba58c6ae-3724-4f15-a427-f76f94e7c4c6"
      },
      "execution_count": null,
      "outputs": [
        {
          "output_type": "stream",
          "name": "stdout",
          "text": [
            "assassins\n",
            "{'a': 2, 's': 5, 'i': 1, 'n': 1}\n",
            "4\n",
            "{'a': 2, 'i': 1}\n"
          ]
        }
      ]
    },
    {
      "cell_type": "code",
      "source": [
        "#how to input all the elements in same line and then turn it into a list as in a list of 5 elements - 3 4 5 6 4"
      ],
      "metadata": {
        "id": "BBsDZqARH1Xi"
      },
      "execution_count": null,
      "outputs": []
    },
    {
      "cell_type": "code",
      "source": [
        "s= input() #input numbers as string \n",
        "print(s)"
      ],
      "metadata": {
        "colab": {
          "base_uri": "https://localhost:8080/"
        },
        "id": "V716tu-gtWLE",
        "outputId": "e77e5bef-2568-4a84-800e-e0e525a0c2a6"
      },
      "execution_count": null,
      "outputs": [
        {
          "output_type": "stream",
          "name": "stdout",
          "text": [
            "3 4 5 6 4\n",
            "3 4 5 6 4\n"
          ]
        }
      ]
    },
    {
      "cell_type": "code",
      "source": [
        "s= input()  #input numbers as string\n",
        "L= []\n",
        "for element in s:\n",
        "  if element!=\" \":\n",
        "    L.append(int(element))\n",
        "print(L) #this approach won't work on double digits or triple digits numbers"
      ],
      "metadata": {
        "colab": {
          "base_uri": "https://localhost:8080/"
        },
        "id": "eqCkc3kA2RhK",
        "outputId": "bf1ea978-0bfe-482c-f191-312b0aa17f43"
      },
      "execution_count": null,
      "outputs": [
        {
          "output_type": "stream",
          "name": "stdout",
          "text": [
            " 1 2 3 4 5\n",
            "[1, 2, 3, 4, 5]\n"
          ]
        }
      ]
    },
    {
      "cell_type": "code",
      "source": [
        "#thats why use the split approach\n",
        "\n",
        "L2=[]\n",
        "L1= s.split()\n",
        "for i in L1:\n",
        "  L2.append(int(i))\n",
        "print(L2)"
      ],
      "metadata": {
        "colab": {
          "base_uri": "https://localhost:8080/"
        },
        "id": "JmlQumi-2h2b",
        "outputId": "d9f3c398-f642-4faa-8eb9-e509a0cfa07e"
      },
      "execution_count": null,
      "outputs": [
        {
          "output_type": "stream",
          "name": "stdout",
          "text": [
            "[1, 2, 3, 4, 500]\n"
          ]
        }
      ]
    },
    {
      "cell_type": "code",
      "source": [
        "# approach 3-\n",
        "\n",
        "l3= s.split() #l3 is a list of strings using split function\n",
        "\n",
        "L_int= list(map(int,l3))\n",
        "print(L_int)"
      ],
      "metadata": {
        "colab": {
          "base_uri": "https://localhost:8080/"
        },
        "id": "YIvuNDRm3c3C",
        "outputId": "a2a5583b-14c9-47ff-ade1-82a6c2a52e1c"
      },
      "execution_count": null,
      "outputs": [
        {
          "output_type": "stream",
          "name": "stdout",
          "text": [
            "[1, 2, 3, 4, 5]\n"
          ]
        }
      ]
    },
    {
      "cell_type": "code",
      "source": [
        "#Approach 4-\n",
        "\n",
        "L4= list(map(int,input().split()))\n",
        "print(L4)"
      ],
      "metadata": {
        "colab": {
          "base_uri": "https://localhost:8080/"
        },
        "id": "WqmV2sej5Z2B",
        "outputId": "74076338-eb09-4cce-a916-2f6063636ffe"
      },
      "execution_count": null,
      "outputs": [
        {
          "output_type": "stream",
          "name": "stdout",
          "text": [
            "1 2 3 4 5 9\n",
            "[1, 2, 3, 4, 5, 9]\n"
          ]
        }
      ]
    },
    {
      "cell_type": "code",
      "source": [
        "# write a function to print out the frequency of the elements in a tuple"
      ],
      "metadata": {
        "id": "dYNS9GSP53f_"
      },
      "execution_count": null,
      "outputs": []
    },
    {
      "cell_type": "code",
      "source": [
        "t = (10, 8, 5, 2, 10, 15, 10, 8, 5, 8, 8, 2)\n",
        "\n",
        "L= []\n",
        "\n",
        "#create a list of unique elements\n",
        "for element in t:\n",
        "  if element not in L:\n",
        "    L.append(element)\n",
        "print(L)"
      ],
      "metadata": {
        "colab": {
          "base_uri": "https://localhost:8080/"
        },
        "id": "MVYbaAEw7F7N",
        "outputId": "0cf5a59f-a1d1-4de0-d52c-ee10169b5e3d"
      },
      "execution_count": null,
      "outputs": [
        {
          "output_type": "stream",
          "name": "stdout",
          "text": [
            "[10, 8, 5, 2, 15]\n"
          ]
        }
      ]
    },
    {
      "cell_type": "code",
      "source": [],
      "metadata": {
        "id": "-CbhH7ch7esN"
      },
      "execution_count": null,
      "outputs": []
    }
  ]
}