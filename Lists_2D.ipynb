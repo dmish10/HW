{
  "nbformat": 4,
  "nbformat_minor": 0,
  "metadata": {
    "colab": {
      "provenance": [],
      "authorship_tag": "ABX9TyP/FOncm17SAjLn9Z8uG7V1",
      "include_colab_link": true
    },
    "kernelspec": {
      "name": "python3",
      "display_name": "Python 3"
    },
    "language_info": {
      "name": "python"
    }
  },
  "cells": [
    {
      "cell_type": "markdown",
      "metadata": {
        "id": "view-in-github",
        "colab_type": "text"
      },
      "source": [
        "<a href=\"https://colab.research.google.com/github/dmish10/Scaler_Homework/blob/master/Lists_2D.ipynb\" target=\"_parent\"><img src=\"https://colab.research.google.com/assets/colab-badge.svg\" alt=\"Open In Colab\"/></a>"
      ]
    },
    {
      "cell_type": "code",
      "execution_count": null,
      "metadata": {
        "id": "Nfd-kwsBb0us"
      },
      "outputs": [],
      "source": [
        "# lists can be of mixed datatypes - hetergenous\n"
      ]
    },
    {
      "cell_type": "code",
      "source": [
        "#Nested lists "
      ],
      "metadata": {
        "id": "qmhMOY9fcZY9"
      },
      "execution_count": null,
      "outputs": []
    },
    {
      "cell_type": "code",
      "source": [
        "[[1,2,3],[4,5,6],[7,8,9]]\n",
        " #<--- 2D Lists / 3x3 Matrix ..there can be 2D list that are not matrices since every single column and row are of same length in the sub matrices are same\n",
        " [[1,2,3],[1,2,3,4,5],[3,4,5,6]] #<---  this is a 2D list but not a matrix"
      ],
      "metadata": {
        "colab": {
          "base_uri": "https://localhost:8080/"
        },
        "id": "zta-AYLpcbIZ",
        "outputId": "739054a9-addf-468e-fb33-bdf068de7f36"
      },
      "execution_count": null,
      "outputs": [
        {
          "output_type": "execute_result",
          "data": {
            "text/plain": [
              "[[1, 2, 3], [4, 5, 6], [7, 8, 9]]"
            ]
          },
          "metadata": {},
          "execution_count": 3
        }
      ]
    },
    {
      "cell_type": "code",
      "source": [
        "a=[]\n",
        "a= a + [13,14,15,16]\n",
        "a"
      ],
      "metadata": {
        "colab": {
          "base_uri": "https://localhost:8080/"
        },
        "id": "cJ3741eCcjNQ",
        "outputId": "1029a890-d681-4bdd-9414-1740dc35c8cc"
      },
      "execution_count": null,
      "outputs": [
        {
          "output_type": "execute_result",
          "data": {
            "text/plain": [
              "[13, 14, 15, 16]"
            ]
          },
          "metadata": {},
          "execution_count": 6
        }
      ]
    },
    {
      "cell_type": "code",
      "source": [
        "b= [[1, 2, 3], [4, 5, 6], [7, 8, 9]]"
      ],
      "metadata": {
        "id": "7omYihkPewNB"
      },
      "execution_count": null,
      "outputs": []
    },
    {
      "cell_type": "code",
      "source": [
        "# access rows of 2Dlist b\n",
        "b[0]"
      ],
      "metadata": {
        "colab": {
          "base_uri": "https://localhost:8080/"
        },
        "id": "r4p6Owi0e5db",
        "outputId": "91650fff-dfd6-432f-ff95-84909030432e"
      },
      "execution_count": null,
      "outputs": [
        {
          "output_type": "execute_result",
          "data": {
            "text/plain": [
              "[1, 2, 3]"
            ]
          },
          "metadata": {},
          "execution_count": 8
        }
      ]
    },
    {
      "cell_type": "code",
      "source": [
        "#access row of the first list in the 2Dlist\n",
        "b[0][0]"
      ],
      "metadata": {
        "colab": {
          "base_uri": "https://localhost:8080/"
        },
        "id": "iJzMhTyjfKVY",
        "outputId": "808cc99a-7dad-4385-ce6f-d98707d31bd1"
      },
      "execution_count": null,
      "outputs": [
        {
          "output_type": "execute_result",
          "data": {
            "text/plain": [
              "1"
            ]
          },
          "metadata": {},
          "execution_count": 9
        }
      ]
    },
    {
      "cell_type": "code",
      "source": [
        "#access third row of third list- cell(2,2)\n",
        "b[2][2] #indexing in a 2D list"
      ],
      "metadata": {
        "colab": {
          "base_uri": "https://localhost:8080/"
        },
        "id": "MVpqssVjfUni",
        "outputId": "b9c79757-2b2b-4da9-f9e6-496e155356bd"
      },
      "execution_count": null,
      "outputs": [
        {
          "output_type": "execute_result",
          "data": {
            "text/plain": [
              "9"
            ]
          },
          "metadata": {},
          "execution_count": 11
        }
      ]
    },
    {
      "cell_type": "code",
      "source": [
        "#to determine the rows and columns in a matrix\n",
        "b= [[1, 2, 3], [4, 5, 6], [7, 8, 9]]\n",
        "rows =len(b)\n",
        "columns= len(b[0]) # length of ny internal sublist would give us the column of the matrix"
      ],
      "metadata": {
        "id": "n_0ZNcNBfmyh"
      },
      "execution_count": null,
      "outputs": []
    },
    {
      "cell_type": "code",
      "source": [
        "rows"
      ],
      "metadata": {
        "colab": {
          "base_uri": "https://localhost:8080/"
        },
        "id": "U3G6HZ0jgD2v",
        "outputId": "63b9df8c-ca56-4bf4-af46-b633f5d61298"
      },
      "execution_count": null,
      "outputs": [
        {
          "output_type": "execute_result",
          "data": {
            "text/plain": [
              "3"
            ]
          },
          "metadata": {},
          "execution_count": 3
        }
      ]
    },
    {
      "cell_type": "code",
      "source": [
        "columns"
      ],
      "metadata": {
        "colab": {
          "base_uri": "https://localhost:8080/"
        },
        "id": "d1wpNGnagVZH",
        "outputId": "99434faa-5fa1-4514-c9c0-a2ba0a823b7d"
      },
      "execution_count": null,
      "outputs": [
        {
          "output_type": "execute_result",
          "data": {
            "text/plain": [
              "3"
            ]
          },
          "metadata": {},
          "execution_count": 4
        }
      ]
    },
    {
      "cell_type": "code",
      "source": [
        "#to iterate over any matrix \n",
        "for i in range(rows):\n",
        "  for j in range(columns):\n",
        "    print(b[i][j], end=\" \")\n",
        "  print()\n"
      ],
      "metadata": {
        "colab": {
          "base_uri": "https://localhost:8080/"
        },
        "id": "7Zzw5g7IgWiy",
        "outputId": "a0c921a3-c075-4acd-c0fd-2d0b7822adfd"
      },
      "execution_count": null,
      "outputs": [
        {
          "output_type": "stream",
          "name": "stdout",
          "text": [
            "1 2 3 \n",
            "4 5 6 \n",
            "7 8 9 \n"
          ]
        }
      ]
    },
    {
      "cell_type": "code",
      "source": [
        "# to traverse a 2D list that is not a matrix\n",
        "\n",
        "S= [[1,2,3],[1,2,3,4,5],[3,4,5,6]]\n",
        "\n",
        "for i in S:\n",
        "  for j in i:\n",
        "    print(j, end=\" \")\n",
        "  print()"
      ],
      "metadata": {
        "colab": {
          "base_uri": "https://localhost:8080/"
        },
        "id": "qTZMPzSaiOcN",
        "outputId": "70bf6d20-4d4d-442e-f337-12141f81f140"
      },
      "execution_count": null,
      "outputs": [
        {
          "output_type": "stream",
          "name": "stdout",
          "text": [
            "1 2 3 \n",
            "1 2 3 4 5 \n",
            "3 4 5 6 \n"
          ]
        }
      ]
    },
    {
      "cell_type": "code",
      "source": [
        "#2D lists are superset of matrices"
      ],
      "metadata": {
        "id": "tdzHnirPjZSq"
      },
      "execution_count": null,
      "outputs": []
    },
    {
      "cell_type": "code",
      "source": [
        "#Ques -- take a 3x3 matrix as an input from the user. calculate the sum of all elements in the matrix. calculate the sum of each row and each column.\n",
        "\n",
        "matrix= []\n",
        "\n",
        "for i in range(3):\n",
        "  row=[]\n",
        "  for j in range(3):\n",
        "    row.append(int(input())) \n",
        "    #the above loop of j will input 3 elements through append\n",
        "  matrix.append(row)\n",
        "  #by the end of i loop it will ask for inputs of 9 elements\n",
        "matrix\n",
        "#in the end it will print the matrix with 3 sublists "
      ],
      "metadata": {
        "colab": {
          "base_uri": "https://localhost:8080/"
        },
        "id": "JECJ2fkIkF1x",
        "outputId": "1b01343b-0d29-4d29-e9e0-4e4b508a0713"
      },
      "execution_count": null,
      "outputs": [
        {
          "name": "stdout",
          "output_type": "stream",
          "text": [
            "1\n",
            "2\n",
            "3\n",
            "4\n",
            "5\n",
            "6\n",
            "7\n",
            "8\n",
            "9\n"
          ]
        },
        {
          "output_type": "execute_result",
          "data": {
            "text/plain": [
              "[[1, 2, 3], [4, 5, 6], [7, 8, 9]]"
            ]
          },
          "metadata": {},
          "execution_count": 7
        }
      ]
    },
    {
      "cell_type": "code",
      "source": [
        "#the above problem solved by a function\n",
        "\n",
        "def generate_matrix(rows,cols):\n",
        "  matrix= []\n",
        "  for i in range(rows):\n",
        "    row=[]\n",
        "    for j in range(cols):\n",
        "      row.append(int(input()))\n",
        "    matrix.append(row)\n",
        "  return matrix\n",
        "\n",
        "generate_matrix(3,3)\n",
        "\n",
        "\n"
      ],
      "metadata": {
        "colab": {
          "base_uri": "https://localhost:8080/"
        },
        "id": "uXJYbch9uZyO",
        "outputId": "636046ac-bb4b-4203-d26f-2c251153b76f"
      },
      "execution_count": null,
      "outputs": [
        {
          "name": "stdout",
          "output_type": "stream",
          "text": [
            "1\n",
            "2\n",
            "3\n",
            "4\n",
            "5\n",
            "6\n",
            "7\n",
            "8\n",
            "9\n"
          ]
        },
        {
          "output_type": "execute_result",
          "data": {
            "text/plain": [
              "[[1, 2, 3], [4, 5, 6], [7, 8, 9]]"
            ]
          },
          "metadata": {},
          "execution_count": 2
        }
      ]
    },
    {
      "cell_type": "code",
      "source": [
        "generate_matrix(2,3)"
      ],
      "metadata": {
        "colab": {
          "base_uri": "https://localhost:8080/"
        },
        "id": "zs241FrZvtsd",
        "outputId": "4c77ecaf-13f9-40a1-e835-b83900947bfc"
      },
      "execution_count": null,
      "outputs": [
        {
          "name": "stdout",
          "output_type": "stream",
          "text": [
            "1\n",
            "2\n",
            "3\n",
            "4\n",
            "5\n",
            "6\n"
          ]
        },
        {
          "output_type": "execute_result",
          "data": {
            "text/plain": [
              "[[1, 2, 3], [4, 5, 6]]"
            ]
          },
          "metadata": {},
          "execution_count": 11
        }
      ]
    },
    {
      "cell_type": "code",
      "source": [
        "#calculate the sum of above matrix\n",
        "\n",
        "def sum_all_the_elements(matrix):\n",
        "  sum_all= 0\n",
        "  for i in matrix:\n",
        "    for j in i:\n",
        "      sum_all+= j\n",
        "\n",
        "  return sum_all\n",
        "\n",
        "sum_all_the_elements([[1, 2, 3], [4, 5, 6]]\n",
        ")\n",
        "  "
      ],
      "metadata": {
        "colab": {
          "base_uri": "https://localhost:8080/"
        },
        "id": "20JS1CxXv9l1",
        "outputId": "4245cee1-0ea1-468b-d361-e307aad17a10"
      },
      "execution_count": null,
      "outputs": [
        {
          "output_type": "execute_result",
          "data": {
            "text/plain": [
              "21"
            ]
          },
          "metadata": {},
          "execution_count": 5
        }
      ]
    },
    {
      "cell_type": "code",
      "source": [
        "#calculate sum of each row\n",
        "def sum_each_row(matrix):\n",
        "  row = len(matrix)\n",
        "  col = len(matrix[0])\n",
        "  for i in range(row):\n",
        "    sum_row= 0\n",
        "    for j in range(col):\n",
        "      sum_row+= matrix[i][j] \n",
        "    print(\"sum of each row\", sum_row)\n",
        "\n",
        "\n",
        "sum_each_row([[1, 2, 3], [4, 5, 6]]) "
      ],
      "metadata": {
        "colab": {
          "base_uri": "https://localhost:8080/"
        },
        "id": "hxwVz2Cxwz6K",
        "outputId": "f4d338a4-e18f-4c20-a51f-39a0383fad40"
      },
      "execution_count": null,
      "outputs": [
        {
          "output_type": "stream",
          "name": "stdout",
          "text": [
            "sum of each row 6\n",
            "sum of each row 15\n"
          ]
        }
      ]
    },
    {
      "cell_type": "code",
      "source": [
        "def sum_each_col(matrix):\n",
        "  row = len(matrix)\n",
        "  col = len(matrix[0])\n",
        "  for i in range(row):\n",
        "    sum_col= 0\n",
        "    for j in range(col):\n",
        "      sum_col+= matrix[j][i] \n",
        "    print(\"sum of each col\", sum_col)\n",
        "\n",
        "sum_each_col(matrix)"
      ],
      "metadata": {
        "colab": {
          "base_uri": "https://localhost:8080/"
        },
        "id": "Xn25BqQD1axv",
        "outputId": "5317cf89-26a4-4182-ece5-a448eb86c894"
      },
      "execution_count": null,
      "outputs": [
        {
          "output_type": "stream",
          "name": "stdout",
          "text": [
            "sum of each col 12\n",
            "sum of each col 15\n",
            "sum of each col 18\n"
          ]
        }
      ]
    },
    {
      "cell_type": "code",
      "source": [
        "#  ques- take two matrices as input and calculate sum\n",
        " #        take one matrix & input & transpose"
      ],
      "metadata": {
        "id": "kKhe51qr2Y1N"
      },
      "execution_count": null,
      "outputs": []
    },
    {
      "cell_type": "code",
      "source": [
        "E=generate_matrix(2,2)"
      ],
      "metadata": {
        "colab": {
          "base_uri": "https://localhost:8080/"
        },
        "id": "w6n8uflW3fAm",
        "outputId": "8da93750-dae7-4ffa-8a43-0478808df796"
      },
      "execution_count": null,
      "outputs": [
        {
          "name": "stdout",
          "output_type": "stream",
          "text": [
            "12\n",
            "14\n",
            "15\n",
            "23\n"
          ]
        }
      ]
    },
    {
      "cell_type": "code",
      "source": [
        "E"
      ],
      "metadata": {
        "colab": {
          "base_uri": "https://localhost:8080/"
        },
        "id": "9ytoBBjy3tRN",
        "outputId": "10944d91-40df-4af5-99e2-251fd847d3c7"
      },
      "execution_count": null,
      "outputs": [
        {
          "output_type": "execute_result",
          "data": {
            "text/plain": [
              "[[12, 14], [15, 23]]"
            ]
          },
          "metadata": {},
          "execution_count": 31
        }
      ]
    },
    {
      "cell_type": "code",
      "source": [
        "R= generate_matrix(2,2)"
      ],
      "metadata": {
        "colab": {
          "base_uri": "https://localhost:8080/"
        },
        "id": "Vel8QgMB4AXe",
        "outputId": "b9c7a19b-994e-4fa6-a818-670d122de424"
      },
      "execution_count": null,
      "outputs": [
        {
          "name": "stdout",
          "output_type": "stream",
          "text": [
            "21\n",
            "12\n",
            "32\n",
            "23\n"
          ]
        }
      ]
    },
    {
      "cell_type": "code",
      "source": [
        "R"
      ],
      "metadata": {
        "colab": {
          "base_uri": "https://localhost:8080/"
        },
        "id": "TGHo5bGF4ERl",
        "outputId": "d792d63f-f896-417c-d83a-8de71f2949c8"
      },
      "execution_count": null,
      "outputs": [
        {
          "output_type": "execute_result",
          "data": {
            "text/plain": [
              "[[21, 12], [32, 23]]"
            ]
          },
          "metadata": {},
          "execution_count": 33
        }
      ]
    },
    {
      "cell_type": "code",
      "source": [
        "#calculating sum of rows for matrix E\n",
        "def cal_sum(E):\n",
        "  rows = len(E)\n",
        "  cols = len(E[0])\n",
        "  for i in range(rows):\n",
        "    sum_row=0\n",
        "    for j in range(cols):\n",
        "      sum_row+= E[i][j]\n",
        "    print('sum of each row',sum_row)\n",
        "\n",
        "cal_sum(E)\n"
      ],
      "metadata": {
        "colab": {
          "base_uri": "https://localhost:8080/"
        },
        "id": "i8yEQN4y4ICc",
        "outputId": "1cc208f1-9da2-4e76-e3cf-8a4641e258b8"
      },
      "execution_count": null,
      "outputs": [
        {
          "output_type": "stream",
          "name": "stdout",
          "text": [
            "sum of each row 26\n",
            "sum of each row 38\n"
          ]
        }
      ]
    },
    {
      "cell_type": "code",
      "source": [
        "def cal_sum_col(E):\n",
        "  rows = len(E)\n",
        "  cols = len(E[0])\n",
        "  for i in range(rows):\n",
        "    sum_col=0\n",
        "    for j in range(cols):\n",
        "      sum_col+= E[j][i]\n",
        "    print('sum of each column', sum_col)\n",
        "cal_sum_col(E)  "
      ],
      "metadata": {
        "colab": {
          "base_uri": "https://localhost:8080/"
        },
        "id": "W5eRy-ImBKdU",
        "outputId": "85be36f7-0c70-4779-b750-4f146dc3142d"
      },
      "execution_count": null,
      "outputs": [
        {
          "output_type": "stream",
          "name": "stdout",
          "text": [
            "sum of each column 27\n",
            "sum of each column 37\n"
          ]
        }
      ]
    },
    {
      "cell_type": "code",
      "source": [
        "  \n",
        "def solve(A):\n",
        "  C=[]\n",
        "  row= len(A)\n",
        "  col= len(A[0])\n",
        "  for i in range(row):\n",
        "      sum_row=0\n",
        "      for j in range(col):\n",
        "          sum_row+= A[i][j]\n",
        "      C.append(sum_row)\n",
        "  print(C)\n"
      ],
      "metadata": {
        "id": "41oj7NR-DbRZ"
      },
      "execution_count": null,
      "outputs": []
    },
    {
      "cell_type": "code",
      "source": [
        "A=[[1,2,3,4],[5,6,7,8],[9,2,3,4]]\n",
        "solve(A)"
      ],
      "metadata": {
        "colab": {
          "base_uri": "https://localhost:8080/"
        },
        "id": "3zfOqGwrKnSD",
        "outputId": "016a9df8-ddbd-4d91-e198-295b63158d95"
      },
      "execution_count": null,
      "outputs": [
        {
          "output_type": "stream",
          "name": "stdout",
          "text": [
            "[10, 26, 18]\n"
          ]
        }
      ]
    },
    {
      "cell_type": "code",
      "source": [
        "#A = [[1, 2, 3],[4, 5, 6],[7, 8, 9]]\n",
        "#B = [[1, 2, 3],[4, 5, 6],[7, 8, 9]]\n",
        "#check if above two matrices equal or not\n"
      ],
      "metadata": {
        "id": "nwGJnaiHLAHY"
      },
      "execution_count": null,
      "outputs": []
    },
    {
      "cell_type": "code",
      "source": [
        "# A = [[1, 2, 3],[4, 5, 6],[7, 8, 9]]\n",
        "# B = [[1, 2, 3],[4, 5, 6],[7, 8, 9]]\n",
        "A = [[1, 2, 3],[4, 5, 6],[7, 8, 9]]\n",
        "B = [[1, 2, 3],[7, 8, 9],[4, 5, 6]]\n",
        "def equal(A,B):\n",
        "  row= len(A)\n",
        "  col= len(A[0])\n",
        "  for i in range(row):\n",
        "    for j in range(col):\n",
        "      if A[i][j]!=B[i][j]:\n",
        "        return 0\n",
        "    return 1\n",
        "\n",
        "equal(A,B)"
      ],
      "metadata": {
        "colab": {
          "base_uri": "https://localhost:8080/"
        },
        "id": "6RUXw6P7N10Q",
        "outputId": "ebb763dc-e6ed-49e4-831b-010f47385123"
      },
      "execution_count": null,
      "outputs": [
        {
          "output_type": "execute_result",
          "data": {
            "text/plain": [
              "1"
            ]
          },
          "metadata": {},
          "execution_count": 59
        }
      ]
    },
    {
      "cell_type": "code",
      "source": [
        "#You are given a matrix A and and an integer B, you have to perform scalar multiplication of matrix A with an integer B.\n",
        "\n",
        "A = [[1, 2, 3],[4, 5, 6],[7, 8, 9]]\n",
        "B = 2\n",
        "def solve(A, B):\n",
        "  C=[]\n",
        "\n",
        "  for i in range(len(A)):\n",
        "    result=[]\n",
        "    for j in range(len(A[0])):\n",
        "      result.append(A[i][j] * B)\n",
        "    C.append(result)\n",
        "  return C\n",
        "solve(A, B)"
      ],
      "metadata": {
        "colab": {
          "base_uri": "https://localhost:8080/"
        },
        "id": "-hRyCBoFQf5Y",
        "outputId": "69af2662-3359-4cbf-974e-af66515a162b"
      },
      "execution_count": null,
      "outputs": [
        {
          "output_type": "execute_result",
          "data": {
            "text/plain": [
              "[[2, 4, 6], [8, 10, 12], [14, 16, 18]]"
            ]
          },
          "metadata": {},
          "execution_count": 62
        }
      ]
    },
    {
      "cell_type": "code",
      "source": [],
      "metadata": {
        "id": "VvIP4HwLUsuj"
      },
      "execution_count": null,
      "outputs": []
    }
  ]
}